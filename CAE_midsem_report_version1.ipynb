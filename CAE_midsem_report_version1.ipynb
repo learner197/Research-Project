{
  "cells": [
    {
      "cell_type": "markdown",
      "metadata": {
        "id": "view-in-github",
        "colab_type": "text"
      },
      "source": [
        "<a href=\"https://colab.research.google.com/github/learner197/Research-Project/blob/RP-CAE/CAE_midsem_report_version1.ipynb\" target=\"_parent\"><img src=\"https://colab.research.google.com/assets/colab-badge.svg\" alt=\"Open In Colab\"/></a>"
      ]
    },
    {
      "cell_type": "code",
      "execution_count": 3,
      "metadata": {
        "id": "-86GpYBjPw_v"
      },
      "outputs": [],
      "source": [
        "import numpy as np\n",
        "import pandas as pd\n",
        "from pathlib import Path\n",
        "import os.path\n",
        "import os\n",
        "\n",
        "import matplotlib.pyplot as plt\n",
        "import seaborn as sns\n",
        "import matplotlib.image as mpimg\n",
        "from PIL import Image as im\n",
        "#import cv2\n",
        "import plotly.express as px\n",
        "\n",
        "from sklearn.model_selection import train_test_split\n",
        "\n",
        "import tensorflow as tf\n",
        "from tensorflow import keras\n",
        "from tensorflow.keras import layers\n",
        "from tensorflow.keras.models import Sequential\n",
        "\n",
        "from sklearn.metrics import confusion_matrix, classification_report"
      ]
    },
    {
      "cell_type": "code",
      "execution_count": 4,
      "metadata": {
        "id": "WV8GOgsQYi4c"
      },
      "outputs": [],
      "source": [
        "tf.config.run_functions_eagerly(True)\n"
      ]
    },
    {
      "cell_type": "code",
      "execution_count": 5,
      "metadata": {
        "id": "jL1I02tjP-Xo"
      },
      "outputs": [],
      "source": [
        "import cv2"
      ]
    },
    {
      "cell_type": "code",
      "execution_count": 6,
      "metadata": {
        "id": "XzpL3SiMQCjj"
      },
      "outputs": [],
      "source": [
        "image_dir_1 = Path('/content/drive/MyDrive/RP_DATA/Spectograms_77_24_Xethrue_dataset/activity_spectogram_77GHz')\n",
        "image_dir_2 = Path('/content/drive/MyDrive/RP_DATA/Spectograms_77_24_Xethrue_dataset/spectogram_Xethru')\n",
        "image_dir_3 = Path('/content/drive/MyDrive/RP_DATA/Spectograms_77_24_Xethrue_dataset/Spectrograms_24GHz')\n"
      ]
    },
    {
      "cell_type": "code",
      "execution_count": 7,
      "metadata": {
        "colab": {
          "base_uri": "https://localhost:8080/"
        },
        "id": "i_F2lFjDQCr2",
        "outputId": "c8bbae50-228b-4e51-ec8f-4a14aa5a1f8a"
      },
      "outputs": [
        {
          "output_type": "stream",
          "name": "stdout",
          "text": [
            "Mounted at /content/drive\n"
          ]
        }
      ],
      "source": [
        "from google.colab import drive\n",
        "drive.mount('/content/drive')"
      ]
    },
    {
      "cell_type": "markdown",
      "metadata": {
        "id": "73SPEpvkU2rE"
      },
      "source": [
        "# TEMPLATE to take images as input"
      ]
    },
    {
      "cell_type": "code",
      "execution_count": null,
      "metadata": {
        "id": "3p_Ki6BzQqtN"
      },
      "outputs": [],
      "source": [
        "'''\n",
        "# TEMPLATE to take images as input\n",
        "\n",
        "# Set the path to your image folder\n",
        "folder_path = '/path/to/your/folder'\n",
        "\n",
        "# Initialize empty lists to store the images and labels\n",
        "images = []\n",
        "labels = []\n",
        "\n",
        "# Loop through all the files in the folder\n",
        "for filename in os.listdir(folder_path):\n",
        "    # Check if the file is an image\n",
        "    if filename.endswith('.jpg') or filename.endswith('.jpeg') or filename.endswith('.png'):\n",
        "        # Read the image using OpenCV and convert to grayscale\n",
        "        img = cv2.imread(os.path.join(folder_path, filename), cv2.IMREAD_GRAYSCALE)\n",
        "        # Resize the image to a fixed size\n",
        "        img = cv2.resize(img, (28, 28))\n",
        "        # Convert the image to a numpy array\n",
        "        img = np.array(img)\n",
        "        # Add the image and label to the lists\n",
        "        images.append(img)\n",
        "        labels.append(0) # Replace with your own label\n",
        "        \n",
        "# Convert the image and label lists to numpy arrays\n",
        "images = np.array(images)\n",
        "labels = np.array(labels)\n",
        "'''"
      ]
    },
    {
      "cell_type": "markdown",
      "metadata": {
        "id": "TvLLK49iU_w9"
      },
      "source": [
        "# Taking images as input"
      ]
    },
    {
      "cell_type": "code",
      "execution_count": 8,
      "metadata": {
        "id": "9Bx1TtTuSHVS"
      },
      "outputs": [],
      "source": [
        "m={\n",
        "    \"05_Walking_towards_radar\":1,\n",
        "   \"06_walking_away_from_Radar\":2,\n",
        "   \"07_picking_up_an_object\":3,\n",
        "   \"08_bending\":4,\n",
        "   \"09_sitting\":5,\n",
        "   \"10_kneeling\":6,\n",
        "    \"11_crawling\":7,\n",
        "   \"16_Walking_on_both_toes\":8,\n",
        "   \"17_limping_with_right_leg_stiff\":9,\n",
        "   \"18_short_steps\":10,\n",
        "   \"19_scissors_gait\":11\n",
        "}"
      ]
    },
    {
      "cell_type": "code",
      "execution_count": 12,
      "metadata": {
        "id": "0zWqoYQ0fZux"
      },
      "outputs": [],
      "source": [
        "#images_1.shape,np.max(images_1)"
      ]
    },
    {
      "cell_type": "code",
      "execution_count": 58,
      "metadata": {
        "id": "3_N_OGYgQCtg"
      },
      "outputs": [],
      "source": [
        "images_1=[]\n",
        "labels_1=[]\n",
        "\n",
        "for file in os.listdir(image_dir_1):\n",
        "    file_dir = r\"/content/drive/MyDrive/RP_DATA/Spectograms_77_24_Xethrue_dataset/activity_spectogram_77GHz/{}\".format(file)\n",
        "    for file_name in os.listdir(file_dir):\n",
        "        #path = r\"/content/drive/MyDrive/RP_DATA/Spectograms_77_24_Xethrue_dataset/activity_spectogram_77GHz/{}/{}\".format(file,file_name)\n",
        "        # Read the image using OpenCV and convert to grayscale\n",
        "        img = cv2.imread(os.path.join(file_dir, file_name), cv2.IMREAD_GRAYSCALE)\n",
        "        #print(img)\n",
        "        try:\n",
        "          # Resize the image to a fixed size\n",
        "          img = cv2.resize(img, (64, 64))\n",
        "          #print(img.shape)\n",
        "        except:\n",
        "          break\n",
        "        # Convert the image to a numpy array\n",
        "        img = np.array(img)\n",
        "        # Add the image and label to the lists\n",
        "        images_1.append(img)\n",
        "        labels_1.append(m[file])\n",
        "labels_1=np.array(labels_1)\n",
        "labels_1=np.float32(labels_1)\n",
        "images_1=np.array(images_1)\n",
        "images_1=np.float32(images_1)"
      ]
    },
    {
      "cell_type": "code",
      "execution_count": 59,
      "metadata": {
        "colab": {
          "base_uri": "https://localhost:8080/"
        },
        "id": "-81KQ-oZTNgG",
        "outputId": "f078a0d5-49d1-4172-bd5a-0c451e3a743d"
      },
      "outputs": [
        {
          "output_type": "execute_result",
          "data": {
            "text/plain": [
              "8.0"
            ]
          },
          "metadata": {},
          "execution_count": 59
        }
      ],
      "source": [
        "labels_1[0]"
      ]
    },
    {
      "cell_type": "code",
      "execution_count": 60,
      "metadata": {
        "id": "lPXjqX4p8QBQ"
      },
      "outputs": [],
      "source": [
        "images_2=[]\n",
        "labels_2=[]\n",
        "\n",
        "for file in os.listdir(image_dir_1):\n",
        "    file_dir = r\"/content/drive/MyDrive/RP_DATA/Spectograms_77_24_Xethrue_dataset/spectogram_Xethru/{}\".format(file)\n",
        "    for file_name in os.listdir(file_dir):\n",
        "        #path = r\"/content/drive/MyDrive/RP_DATA/Spectograms_77_24_Xethrue_dataset/activity_spectogram_77GHz/{}/{}\".format(file,file_name)\n",
        "        # Read the image using OpenCV and convert to grayscale\n",
        "        img = cv2.imread(os.path.join(file_dir, file_name), cv2.IMREAD_GRAYSCALE)\n",
        "        #print(img)\n",
        "        try:\n",
        "          # Resize the image to a fixed size\n",
        "          img = cv2.resize(img, (64, 64))\n",
        "          #print(img.shape)\n",
        "        except:\n",
        "          break\n",
        "        # Convert the image to a numpy array\n",
        "        img = np.array(img)\n",
        "        # Add the image and label to the lists\n",
        "        images_2.append(img)\n",
        "        labels_2.append(m[file])\n",
        "labels_2=np.array(labels_2)\n",
        "labels_2=np.float32(labels_2)\n",
        "images_2=np.array(images_2)\n",
        "images_2=np.float32(images_2)"
      ]
    },
    {
      "cell_type": "code",
      "execution_count": 61,
      "metadata": {
        "id": "1Bj1fF-Y8QM7"
      },
      "outputs": [],
      "source": [
        "images_3=[]\n",
        "labels_3=[]\n",
        "\n",
        "for file in os.listdir(image_dir_1):\n",
        "    file_dir = r\"/content/drive/MyDrive/RP_DATA/Spectograms_77_24_Xethrue_dataset/Spectrograms_24GHz/{}\".format(file)\n",
        "    for file_name in os.listdir(file_dir):\n",
        "        #path = r\"/content/drive/MyDrive/RP_DATA/Spectograms_77_24_Xethrue_dataset/activity_spectogram_77GHz/{}/{}\".format(file,file_name)\n",
        "        # Read the image using OpenCV and convert to grayscale\n",
        "        img = cv2.imread(os.path.join(file_dir, file_name), cv2.IMREAD_GRAYSCALE)\n",
        "        #print(img)\n",
        "        try:\n",
        "          # Resize the image to a fixed size\n",
        "          img = cv2.resize(img, (64, 64))\n",
        "          #print(img.shape)\n",
        "        except:\n",
        "          break\n",
        "        # Convert the image to a numpy array\n",
        "        img = np.array(img)\n",
        "        # Add the image and label to the lists\n",
        "        images_3.append(img)\n",
        "        labels_3.append(m[file])\n",
        "labels_3=np.array(labels_3)\n",
        "labels_3=np.float32(labels_3)\n",
        "images_3=np.array(images_3)\n",
        "images_3=np.float32(images_3)"
      ]
    },
    {
      "cell_type": "code",
      "execution_count": 62,
      "metadata": {
        "colab": {
          "base_uri": "https://localhost:8080/"
        },
        "id": "vEc7bpF5gLtY",
        "outputId": "c9cd28ef-2f5f-40a7-f157-9882744a9a31"
      },
      "outputs": [
        {
          "output_type": "execute_result",
          "data": {
            "text/plain": [
              "(1.0, 1.0, 1.0)"
            ]
          },
          "metadata": {},
          "execution_count": 62
        }
      ],
      "source": [
        "images_1=images_1/np.max(images_1)\n",
        "images_2=images_2/np.max(images_2)\n",
        "images_3=images_3/np.max(images_3)\n",
        "np.max(images_1),np.max(images_2),np.max(images_3)"
      ]
    },
    {
      "cell_type": "markdown",
      "metadata": {
        "id": "aaW8YMnSJ3Vb"
      },
      "source": [
        "# Padding version-1"
      ]
    },
    {
      "cell_type": "code",
      "execution_count": null,
      "metadata": {
        "id": "-hIxTe7fJ2lQ"
      },
      "outputs": [],
      "source": [
        "''''max_size = np.max([image.shape for image in images_1], axis=0)\n",
        "\n",
        "# Resize and pad each image to the maximum size\n",
        "resized_images_1 = tf.image.resize_with_pad(images_1, max_size[0], max_size[1], method='bilinear')''''"
      ]
    },
    {
      "cell_type": "code",
      "execution_count": null,
      "metadata": {
        "id": "Z28mYC9LKnrX"
      },
      "outputs": [],
      "source": [
        "'''resized_images_1.shape,images_1.shape\n",
        "type(resized_images_1)'''"
      ]
    },
    {
      "cell_type": "markdown",
      "metadata": {
        "id": "gqOypPRuQjk_"
      },
      "source": [
        "# Padding version-2"
      ]
    },
    {
      "cell_type": "code",
      "execution_count": null,
      "metadata": {
        "id": "UJbgHofRQl5t"
      },
      "outputs": [],
      "source": [
        "'''import numpy as np\n",
        "\n",
        "# Assuming dataset is a numpy array of shape (648, 64, 64)\n",
        "#dataset = np.random.rand(648, 64, 64)\n",
        "\n",
        "# Desired output shape after padding\n",
        "output_shape = (648, 64, 64)\n",
        "\n",
        "# Calculate the pad amounts for each dimension\n",
        "pad_amounts = [(output_shape[i] - images_1.shape[i]) // 2 for i in range(3)]\n",
        "\n",
        "# Apply the padding using the desired padding strategy (e.g. reflect)\n",
        "padded_dataset_1 = np.pad(images_1, [(0, 0), (pad_amounts[1], pad_amounts[1]), (pad_amounts[2], pad_amounts[2])], mode='reflect')\n",
        "padded_dataset_2 = np.pad(images_2, [(0, 0), (pad_amounts[1], pad_amounts[1]), (pad_amounts[2], pad_amounts[2])], mode='reflect')\n",
        "padded_dataset_3 = np.pad(images_3, [(0, 0), (pad_amounts[1], pad_amounts[1]), (pad_amounts[2], pad_amounts[2])], mode='reflect')\n",
        "\n",
        "\n",
        "# Verify that the number of images remain the same\n",
        "print(padded_dataset_1.shape[0])  # Output: 648\n",
        "'''"
      ]
    },
    {
      "cell_type": "code",
      "execution_count": null,
      "metadata": {
        "id": "a80uAAFaQmJr"
      },
      "outputs": [],
      "source": [
        "#padded_dataset_1.shape, images_1.shape"
      ]
    },
    {
      "cell_type": "code",
      "execution_count": null,
      "metadata": {
        "id": "2EjOPcVeRG3N"
      },
      "outputs": [],
      "source": [
        "'''images_1=padded_dataset_1\n",
        "images_2=padded_dataset_2\n",
        "images_3=padded_dataset_3'''"
      ]
    },
    {
      "cell_type": "code",
      "execution_count": null,
      "metadata": {
        "id": "cISVXoxxRIGs"
      },
      "outputs": [],
      "source": []
    },
    {
      "cell_type": "markdown",
      "metadata": {
        "id": "w93MF5zBL5Q1"
      },
      "source": [
        "# Convert data from int datatype to float datatype"
      ]
    },
    {
      "cell_type": "code",
      "execution_count": null,
      "metadata": {
        "id": "YpfNIv1rLRhO"
      },
      "outputs": [],
      "source": [
        "'''resized_images_1=np.float32(resized_images_1)\n",
        "type(resized_images_1[0][0][0]),type(images_1[0][0][0])'''"
      ]
    },
    {
      "cell_type": "code",
      "execution_count": null,
      "metadata": {
        "id": "nnBAP0kxOG9r"
      },
      "outputs": [],
      "source": [
        "#resized_images_1.shape"
      ]
    },
    {
      "cell_type": "code",
      "execution_count": null,
      "metadata": {
        "id": "PjjRTZ7cMB6J"
      },
      "outputs": [],
      "source": [
        "#images_1=np.float32(images_1)"
      ]
    },
    {
      "cell_type": "code",
      "execution_count": null,
      "metadata": {
        "id": "N-K0lhi18kFo"
      },
      "outputs": [],
      "source": [
        "#labels_1[0]"
      ]
    },
    {
      "cell_type": "code",
      "execution_count": null,
      "metadata": {
        "id": "vxkM3qJ68oPf"
      },
      "outputs": [],
      "source": [
        "#len(labels_1)"
      ]
    },
    {
      "cell_type": "code",
      "execution_count": null,
      "metadata": {
        "id": "VNjPsEiNQCyI"
      },
      "outputs": [],
      "source": [
        "#images_1.shape# total 648 images"
      ]
    },
    {
      "cell_type": "code",
      "execution_count": null,
      "metadata": {
        "id": "7B7e2IK36u1S"
      },
      "outputs": [],
      "source": [
        "#len(images_1[0])# 28 rows* 28 columns"
      ]
    },
    {
      "cell_type": "code",
      "execution_count": null,
      "metadata": {
        "id": "Z8tei1_c6vKZ"
      },
      "outputs": [],
      "source": [
        "#images_1[0][0]# 1st row of 1st image"
      ]
    },
    {
      "cell_type": "code",
      "execution_count": null,
      "metadata": {
        "id": "H_GVGJbW6vMA"
      },
      "outputs": [],
      "source": [
        "#images_1[0]"
      ]
    },
    {
      "cell_type": "markdown",
      "metadata": {
        "id": "vaoZTHQkvqcD"
      },
      "source": [
        "#Rough"
      ]
    },
    {
      "cell_type": "code",
      "execution_count": null,
      "metadata": {
        "colab": {
          "base_uri": "https://localhost:8080/"
        },
        "id": "EwBwSWxCwJ-I",
        "outputId": "ef063bd7-d99a-47c0-9d81-f60070aa9314"
      },
      "outputs": [
        {
          "data": {
            "text/plain": [
              "(numpy.ndarray, numpy.ndarray)"
            ]
          },
          "execution_count": 135,
          "metadata": {},
          "output_type": "execute_result"
        }
      ],
      "source": [
        "type(images_1),type(labels_1)"
      ]
    },
    {
      "cell_type": "code",
      "execution_count": null,
      "metadata": {
        "colab": {
          "base_uri": "https://localhost:8080/"
        },
        "id": "tWwLnUYky561",
        "outputId": "2e620fce-62be-42f2-854f-965b83911f20"
      },
      "outputs": [
        {
          "data": {
            "text/plain": [
              "((648, 64, 64), (735, 64, 64), (94, 64, 64))"
            ]
          },
          "execution_count": 96,
          "metadata": {},
          "output_type": "execute_result"
        }
      ],
      "source": [
        "images_1.shape,images_2.shape,images_3.shape"
      ]
    },
    {
      "cell_type": "code",
      "execution_count": null,
      "metadata": {
        "colab": {
          "base_uri": "https://localhost:8080/"
        },
        "id": "FPPG_ZCDztNp",
        "outputId": "678cc992-487b-4389-ba67-b0b8bfec3905"
      },
      "outputs": [
        {
          "data": {
            "text/plain": [
              "array([[[14., 14., 14., ..., 14., 14., 14.],\n",
              "        [14., 14., 14., ..., 14., 14., 14.],\n",
              "        [14., 14., 14., ..., 14., 14., 14.],\n",
              "        ...,\n",
              "        [14., 14., 14., ..., 14., 14., 14.],\n",
              "        [14., 14., 14., ..., 14., 14., 14.],\n",
              "        [14., 14., 14., ..., 14., 14., 14.]],\n",
              "\n",
              "       [[14., 14., 14., ..., 14., 14., 14.],\n",
              "        [14., 14., 14., ..., 14., 14., 14.],\n",
              "        [14., 14., 14., ..., 14., 14., 14.],\n",
              "        ...,\n",
              "        [14., 14., 14., ..., 14., 14., 14.],\n",
              "        [14., 14., 14., ..., 14., 14., 14.],\n",
              "        [14., 14., 14., ..., 14., 14., 14.]],\n",
              "\n",
              "       [[14., 14., 14., ..., 14., 14., 14.],\n",
              "        [14., 14., 14., ..., 14., 14., 14.],\n",
              "        [14., 14., 14., ..., 14., 14., 14.],\n",
              "        ...,\n",
              "        [14., 14., 14., ..., 14., 14., 14.],\n",
              "        [14., 14., 14., ..., 14., 14., 14.],\n",
              "        [14., 14., 14., ..., 14., 14., 14.]],\n",
              "\n",
              "       ...,\n",
              "\n",
              "       [[14., 14., 14., ..., 14., 14., 14.],\n",
              "        [14., 14., 14., ..., 14., 14., 14.],\n",
              "        [14., 14., 14., ..., 14., 14., 14.],\n",
              "        ...,\n",
              "        [14., 14., 14., ..., 14., 14., 14.],\n",
              "        [14., 14., 14., ..., 14., 14., 14.],\n",
              "        [14., 14., 14., ..., 14., 14., 14.]],\n",
              "\n",
              "       [[14., 14., 14., ..., 14., 14., 14.],\n",
              "        [14., 14., 14., ..., 14., 14., 14.],\n",
              "        [14., 14., 14., ..., 14., 14., 14.],\n",
              "        ...,\n",
              "        [14., 14., 14., ..., 14., 14., 14.],\n",
              "        [14., 14., 14., ..., 14., 14., 14.],\n",
              "        [14., 14., 14., ..., 14., 14., 14.]],\n",
              "\n",
              "       [[14., 14., 14., ..., 14., 14., 14.],\n",
              "        [14., 14., 14., ..., 14., 14., 14.],\n",
              "        [14., 14., 14., ..., 14., 14., 14.],\n",
              "        ...,\n",
              "        [14., 14., 14., ..., 14., 14., 14.],\n",
              "        [14., 14., 14., ..., 14., 14., 14.],\n",
              "        [14., 14., 14., ..., 14., 14., 14.]]], dtype=float32)"
            ]
          },
          "execution_count": 97,
          "metadata": {},
          "output_type": "execute_result"
        }
      ],
      "source": [
        "images_1# set of all datapoints"
      ]
    },
    {
      "cell_type": "code",
      "execution_count": null,
      "metadata": {
        "colab": {
          "base_uri": "https://localhost:8080/"
        },
        "id": "uJyxv27mzZVT",
        "outputId": "be4955ce-17c6-40a2-ac4e-2290f8c73300"
      },
      "outputs": [
        {
          "data": {
            "text/plain": [
              "array([[14., 14., 14., ..., 14., 14., 14.],\n",
              "       [14., 14., 14., ..., 14., 14., 14.],\n",
              "       [14., 14., 14., ..., 14., 14., 14.],\n",
              "       ...,\n",
              "       [14., 14., 14., ..., 14., 14., 14.],\n",
              "       [14., 14., 14., ..., 14., 14., 14.],\n",
              "       [14., 14., 14., ..., 14., 14., 14.]], dtype=float32)"
            ]
          },
          "execution_count": 98,
          "metadata": {},
          "output_type": "execute_result"
        }
      ],
      "source": [
        "images_1[647]# 647th datapoint is of size 64*64"
      ]
    },
    {
      "cell_type": "code",
      "execution_count": null,
      "metadata": {
        "colab": {
          "base_uri": "https://localhost:8080/"
        },
        "id": "qjHEmBSizlK4",
        "outputId": "ea8d43cc-3ecb-4cec-cf00-7e6826ec1629"
      },
      "outputs": [
        {
          "data": {
            "text/plain": [
              "array([14., 14., 14., 14., 14., 14., 14., 14., 14., 14., 14., 14., 14.,\n",
              "       14., 14., 14., 14., 14., 14., 14., 14., 14., 14., 14., 14., 14.,\n",
              "       14., 14., 14., 14., 14., 14., 14., 14., 14., 14., 14., 14., 14.,\n",
              "       14., 14., 14., 14., 14., 14., 14., 14., 14., 14., 14., 14., 14.,\n",
              "       14., 14., 14., 14., 14., 14., 14., 14., 14., 14., 14., 14.],\n",
              "      dtype=float32)"
            ]
          },
          "execution_count": 31,
          "metadata": {},
          "output_type": "execute_result"
        }
      ],
      "source": [
        "images_1[0][0] # 1 row of 0th datapoint"
      ]
    },
    {
      "cell_type": "code",
      "execution_count": null,
      "metadata": {
        "colab": {
          "base_uri": "https://localhost:8080/"
        },
        "id": "KIFqXd4-z4GM",
        "outputId": "60ba8e4b-6d24-4552-b9c7-5eb314bb13c3"
      },
      "outputs": [
        {
          "data": {
            "text/plain": [
              "64"
            ]
          },
          "execution_count": 35,
          "metadata": {},
          "output_type": "execute_result"
        }
      ],
      "source": [
        "len(images_1[0])"
      ]
    },
    {
      "cell_type": "code",
      "execution_count": null,
      "metadata": {
        "colab": {
          "base_uri": "https://localhost:8080/"
        },
        "id": "rfgKYzFewVzZ",
        "outputId": "9cc8e0fe-e2ff-4069-e35c-6552ccb5a461"
      },
      "outputs": [
        {
          "data": {
            "text/plain": [
              "64"
            ]
          },
          "execution_count": 36,
          "metadata": {},
          "output_type": "execute_result"
        }
      ],
      "source": [
        "len(images_1[0][0])"
      ]
    },
    {
      "cell_type": "code",
      "execution_count": null,
      "metadata": {
        "id": "QydJz3jBwSJ8"
      },
      "outputs": [],
      "source": []
    },
    {
      "cell_type": "code",
      "execution_count": null,
      "metadata": {
        "colab": {
          "base_uri": "https://localhost:8080/"
        },
        "id": "tSdnBj7Fv2JZ",
        "outputId": "74d1f291-995a-4a6e-e192-3dd8ebc45596"
      },
      "outputs": [
        {
          "data": {
            "text/plain": [
              "array([[14, 14, 14, ..., 14, 14, 14],\n",
              "       [14, 14, 14, ..., 14, 14, 14],\n",
              "       [14, 14, 14, ..., 14, 14, 14],\n",
              "       ...,\n",
              "       [14, 14, 14, ..., 14, 14, 14],\n",
              "       [14, 14, 14, ..., 14, 14, 14],\n",
              "       [14, 14, 14, ..., 14, 14, 14]], dtype=uint8)"
            ]
          },
          "execution_count": 7,
          "metadata": {},
          "output_type": "execute_result"
        }
      ],
      "source": [
        "images_1[0]"
      ]
    },
    {
      "cell_type": "code",
      "execution_count": null,
      "metadata": {
        "colab": {
          "base_uri": "https://localhost:8080/"
        },
        "id": "IQNpVPyD3Nai",
        "outputId": "5d66ce0c-565c-4fb7-9d5a-b45ff0ebf1e3"
      },
      "outputs": [
        {
          "data": {
            "text/plain": [
              "[]"
            ]
          },
          "execution_count": 8,
          "metadata": {},
          "output_type": "execute_result"
        }
      ],
      "source": [
        "labels_1"
      ]
    },
    {
      "cell_type": "markdown",
      "metadata": {
        "id": "5eLB7PzUdRed"
      },
      "source": [
        "# Plots"
      ]
    },
    {
      "cell_type": "code",
      "execution_count": 18,
      "metadata": {
        "colab": {
          "base_uri": "https://localhost:8080/",
          "height": 752
        },
        "id": "5_O8tYW6v2X0",
        "outputId": "c23ba29e-5996-47df-dd22-0910bf3539cd"
      },
      "outputs": [
        {
          "output_type": "execute_result",
          "data": {
            "text/plain": [
              "'# Display the first image in testing data\\nplt.subplot(122)\\ncurr_img = np.reshape(test_data[10], (28,28))\\ncurr_lbl = test_labels[10]\\nplt.imshow(curr_img, cmap=\\'gray\\')\\nplt.title(\"(Label: \" + str(label_dict[curr_lbl]) + \")\")'"
            ],
            "application/vnd.google.colaboratory.intrinsic+json": {
              "type": "string"
            }
          },
          "metadata": {},
          "execution_count": 18
        },
        {
          "output_type": "display_data",
          "data": {
            "text/plain": [
              "<Figure size 864x864 with 9 Axes>"
            ],
            "image/png": "[encoded data removed]"
          },
          "metadata": {
            "needs_background": "light"
          }
        }
      ],
      "source": [
        "plt.figure(figsize=[12,12])\n",
        "\n",
        "# Display the first image in training data\n",
        "\n",
        "for i in range(1,10):\n",
        "  plt.subplot(3,3,i)\n",
        "  curr_img = np.reshape(images_1[i], (64,64))\n",
        "  curr_lbl = labels_1[i]\n",
        "  plt.imshow(curr_img, cmap='gray')\n",
        "  plt.title(\"Label: \" + str(curr_lbl))\n",
        "\n",
        "'''# Display the first image in testing data\n",
        "plt.subplot(122)\n",
        "curr_img = np.reshape(test_data[10], (28,28))\n",
        "curr_lbl = test_labels[10]\n",
        "plt.imshow(curr_img, cmap='gray')\n",
        "plt.title(\"(Label: \" + str(label_dict[curr_lbl]) + \")\")'''\n"
      ]
    },
    {
      "cell_type": "code",
      "execution_count": 19,
      "metadata": {
        "colab": {
          "base_uri": "https://localhost:8080/",
          "height": 752
        },
        "id": "peo4AqUT3zyH",
        "outputId": "0ccfbab8-5fda-443f-a348-317ae02de2ee"
      },
      "outputs": [
        {
          "output_type": "execute_result",
          "data": {
            "text/plain": [
              "'# Display the first image in testing data\\nplt.subplot(122)\\ncurr_img = np.reshape(test_data[10], (28,28))\\ncurr_lbl = test_labels[10]\\nplt.imshow(curr_img, cmap=\\'gray\\')\\nplt.title(\"(Label: \" + str(label_dict[curr_lbl]) + \")\")'"
            ],
            "application/vnd.google.colaboratory.intrinsic+json": {
              "type": "string"
            }
          },
          "metadata": {},
          "execution_count": 19
        },
        {
          "output_type": "display_data",
          "data": {
            "text/plain": [
              "<Figure size 864x864 with 9 Axes>"
            ],
            "image/png": "[encoded data removed]"
          },
          "metadata": {
            "needs_background": "light"
          }
        }
      ],
      "source": [
        "plt.figure(figsize=[12,12])\n",
        "\n",
        "# Display the first image in training data\n",
        "\n",
        "for i in range(1,10):\n",
        "  plt.subplot(3,3,i)\n",
        "  curr_img = np.reshape(images_1[i], (64,64))\n",
        "  curr_lbl = labels_1[i]\n",
        "  plt.imshow(curr_img)\n",
        "  plt.title(\"Label: \" + str(curr_lbl))\n",
        "\n",
        "'''# Display the first image in testing data\n",
        "plt.subplot(122)\n",
        "curr_img = np.reshape(test_data[10], (28,28))\n",
        "curr_lbl = test_labels[10]\n",
        "plt.imshow(curr_img, cmap='gray')\n",
        "plt.title(\"(Label: \" + str(label_dict[curr_lbl]) + \")\")'''\n"
      ]
    },
    {
      "cell_type": "code",
      "source": [],
      "metadata": {
        "id": "kjM9cRpbtfw2"
      },
      "execution_count": null,
      "outputs": []
    },
    {
      "cell_type": "code",
      "execution_count": 20,
      "metadata": {
        "colab": {
          "base_uri": "https://localhost:8080/"
        },
        "id": "30lBK2dk5XT7",
        "outputId": "328f6287-9696-417a-f39e-9924ca0f68d6"
      },
      "outputs": [
        {
          "output_type": "execute_result",
          "data": {
            "text/plain": [
              "numpy.float32"
            ]
          },
          "metadata": {},
          "execution_count": 20
        }
      ],
      "source": [
        "type(images_1[0][0][0])"
      ]
    },
    {
      "cell_type": "code",
      "execution_count": 21,
      "metadata": {
        "colab": {
          "base_uri": "https://localhost:8080/"
        },
        "id": "oHVCW5FJ5c8S",
        "outputId": "8f55586b-912e-45a4-899a-427f6b2ed592"
      },
      "outputs": [
        {
          "output_type": "execute_result",
          "data": {
            "text/plain": [
              "1.0"
            ]
          },
          "metadata": {},
          "execution_count": 21
        }
      ],
      "source": [
        "np.max(images_1)"
      ]
    },
    {
      "cell_type": "code",
      "execution_count": 22,
      "metadata": {
        "id": "S7yVCgZR5dEd"
      },
      "outputs": [],
      "source": [
        "images_1=images_1/np.max(images_1)"
      ]
    },
    {
      "cell_type": "code",
      "execution_count": 23,
      "metadata": {
        "colab": {
          "base_uri": "https://localhost:8080/"
        },
        "id": "a-s3IblQ5nrc",
        "outputId": "6db574cf-2adc-4789-c225-76045c707c1b"
      },
      "outputs": [
        {
          "output_type": "execute_result",
          "data": {
            "text/plain": [
              "1.0"
            ]
          },
          "metadata": {},
          "execution_count": 23
        }
      ],
      "source": [
        "np.max(images_1)"
      ]
    },
    {
      "cell_type": "code",
      "execution_count": null,
      "metadata": {
        "id": "eLrgVmmw5nwr"
      },
      "outputs": [],
      "source": []
    },
    {
      "cell_type": "markdown",
      "metadata": {
        "id": "ENG14uLXTb6H"
      },
      "source": [
        "# Training the model"
      ]
    },
    {
      "cell_type": "code",
      "execution_count": 63,
      "metadata": {
        "id": "Nz_d9QuQQCzo"
      },
      "outputs": [],
      "source": [
        "from sklearn.model_selection import train_test_split\n",
        "\n",
        "# Split the data into training and testing sets\n",
        "x_train_1, x_test_1, y_train_1, y_test_1 = train_test_split(images_1, labels_1, test_size=0.2, random_state=42)\n",
        "x_train_2, x_test_2, y_train_2, y_test_2 = train_test_split(images_2, labels_2, test_size=0.2, random_state=42)\n",
        "x_train_3, x_test_3, y_train_3, y_test_3 = train_test_split(images_3, labels_3, test_size=0.2, random_state=42)"
      ]
    },
    {
      "cell_type": "code",
      "execution_count": 64,
      "metadata": {
        "id": "Q3G2nPJsAkEf"
      },
      "outputs": [],
      "source": [
        "x_train_1, x_val_1, y_train_1, y_val_1 = train_test_split(x_train_1, y_train_1, test_size=0.2, random_state=42)\n",
        "x_train_2, x_val_2, y_train_2, y_val_2 = train_test_split(x_train_2, y_train_2, test_size=0.2, random_state=42)\n",
        "x_train_3, x_val_3, y_train_3, y_val_3 = train_test_split(x_train_3, y_train_3, test_size=0.2, random_state=42)"
      ]
    },
    {
      "cell_type": "code",
      "source": [
        "'''x_train_1=x_train_1.reshape(-1,64,64,1)\n",
        "x_train_2=x_train_2.reshape(-1,64,64,1)\n",
        "x_train_3=x_train_3.reshape(-1,64,64,1)\n",
        "x_val_1=x_val_1.reshape(-1,64,64,1)\n",
        "x_val_2=x_val_2.reshape(-1,64,64,1)\n",
        "x_val_3=x_val_3.reshape(-1,64,64,1)\n",
        "x_test_1=x_test_1.reshape(-1,64,64,1)\n",
        "x_test_2=x_test_2.reshape(-1,64,64,1)\n",
        "x_test_3=x_test_3.reshape(-1,64,64,1)'''"
      ],
      "metadata": {
        "id": "Pt9ouXMbtlpZ"
      },
      "execution_count": 26,
      "outputs": []
    },
    {
      "cell_type": "code",
      "execution_count": 27,
      "metadata": {
        "colab": {
          "base_uri": "https://localhost:8080/"
        },
        "id": "sswfIq3j6OaR",
        "outputId": "2712dd6f-0ae6-48fe-9108-d436459af143"
      },
      "outputs": [
        {
          "output_type": "execute_result",
          "data": {
            "text/plain": [
              "array([[[0.06222222],\n",
              "        [0.06222222],\n",
              "        [0.06222222],\n",
              "        ...,\n",
              "        [0.06222222],\n",
              "        [0.06222222],\n",
              "        [0.06222222]],\n",
              "\n",
              "       [[0.06222222],\n",
              "        [0.06222222],\n",
              "        [0.06222222],\n",
              "        ...,\n",
              "        [0.06222222],\n",
              "        [0.06222222],\n",
              "        [0.06222222]],\n",
              "\n",
              "       [[0.06222222],\n",
              "        [0.06222222],\n",
              "        [0.06222222],\n",
              "        ...,\n",
              "        [0.06222222],\n",
              "        [0.06222222],\n",
              "        [0.06222222]],\n",
              "\n",
              "       ...,\n",
              "\n",
              "       [[0.06222222],\n",
              "        [0.06222222],\n",
              "        [0.06222222],\n",
              "        ...,\n",
              "        [0.06222222],\n",
              "        [0.06222222],\n",
              "        [0.06222222]],\n",
              "\n",
              "       [[0.06222222],\n",
              "        [0.06222222],\n",
              "        [0.06222222],\n",
              "        ...,\n",
              "        [0.06222222],\n",
              "        [0.06222222],\n",
              "        [0.06222222]],\n",
              "\n",
              "       [[0.06222222],\n",
              "        [0.06222222],\n",
              "        [0.06222222],\n",
              "        ...,\n",
              "        [0.06222222],\n",
              "        [0.06222222],\n",
              "        [0.06222222]]], dtype=float32)"
            ]
          },
          "metadata": {},
          "execution_count": 27
        }
      ],
      "source": [
        "x_train_1[0]"
      ]
    },
    {
      "cell_type": "code",
      "execution_count": 28,
      "metadata": {
        "colab": {
          "base_uri": "https://localhost:8080/"
        },
        "id": "3VUZh2cyAMuk",
        "outputId": "ff40f1ae-15df-480e-9125-3ee9c1e1a96f"
      },
      "outputs": [
        {
          "output_type": "execute_result",
          "data": {
            "text/plain": [
              "6.0"
            ]
          },
          "metadata": {},
          "execution_count": 28
        }
      ],
      "source": [
        "y_train_1[0]"
      ]
    },
    {
      "cell_type": "markdown",
      "metadata": {
        "id": "sxEX81Oa6PQ6"
      },
      "source": [
        "# Converting output variable into an array"
      ]
    },
    {
      "cell_type": "code",
      "execution_count": null,
      "metadata": {
        "id": "CKq1JFFHEqec"
      },
      "outputs": [],
      "source": [
        "y_train_1=np.array(y_train_1)\n",
        "y_train_2=np.array(y_train_2)\n",
        "y_train_3=np.array(y_train_3)\n",
        "\n",
        "y_val_1=np.array(y_val_1)\n",
        "y_val_2=np.array(y_val_2)\n",
        "y_val_3=np.array(y_val_3)\n",
        "\n",
        "y_test_1=np.array(y_test_1)\n",
        "y_test_2=np.array(y_test_2)\n",
        "y_test_3=np.array(y_test_3)"
      ]
    },
    {
      "cell_type": "markdown",
      "metadata": {
        "id": "9BLEd02m6a3W"
      },
      "source": [
        "# Shapes of training, testing, validation data"
      ]
    },
    {
      "cell_type": "code",
      "execution_count": 29,
      "metadata": {
        "colab": {
          "base_uri": "https://localhost:8080/"
        },
        "id": "x3bx7KVwQC4X",
        "outputId": "aebe9159-d613-4c56-e61a-f9ea6ec679c1"
      },
      "outputs": [
        {
          "output_type": "stream",
          "name": "stdout",
          "text": [
            "(414, 64, 64, 1)\n",
            "(104, 64, 64, 1)\n",
            "(130, 64, 64, 1)\n",
            "648\n"
          ]
        },
        {
          "output_type": "execute_result",
          "data": {
            "text/plain": [
              "numpy.ndarray"
            ]
          },
          "metadata": {},
          "execution_count": 29
        }
      ],
      "source": [
        "print(x_train_1.shape)\n",
        "print(x_val_1.shape)\n",
        "print(x_test_1.shape)\n",
        "print(x_train_1.shape[0]+x_val_1.shape[0]+x_test_1.shape[0])\n",
        "type(x_train_1)"
      ]
    },
    {
      "cell_type": "code",
      "execution_count": 30,
      "metadata": {
        "colab": {
          "base_uri": "https://localhost:8080/"
        },
        "id": "eTq09kWu6ppz",
        "outputId": "ae425cec-df8d-4d17-c57c-f1edff35ea7c"
      },
      "outputs": [
        {
          "output_type": "stream",
          "name": "stdout",
          "text": [
            "(414,)\n",
            "(104,)\n",
            "(130,)\n",
            "648\n"
          ]
        },
        {
          "output_type": "execute_result",
          "data": {
            "text/plain": [
              "numpy.ndarray"
            ]
          },
          "metadata": {},
          "execution_count": 30
        }
      ],
      "source": [
        "print(y_train_1.shape)\n",
        "print(y_val_1.shape)\n",
        "print(y_test_1.shape)\n",
        "print(y_train_1.shape[0]+y_val_1.shape[0]+y_test_1.shape[0])\n",
        "type(y_train_1)"
      ]
    },
    {
      "cell_type": "code",
      "execution_count": 31,
      "metadata": {
        "colab": {
          "base_uri": "https://localhost:8080/"
        },
        "id": "x0tXmYkn2PBB",
        "outputId": "3abdaacb-5954-4d0e-90b6-cfb18b1128ff"
      },
      "outputs": [
        {
          "output_type": "execute_result",
          "data": {
            "text/plain": [
              "numpy.float32"
            ]
          },
          "metadata": {},
          "execution_count": 31
        }
      ],
      "source": [
        "type(y_train_1[0])"
      ]
    },
    {
      "cell_type": "code",
      "execution_count": 32,
      "metadata": {
        "colab": {
          "base_uri": "https://localhost:8080/",
          "height": 143
        },
        "id": "szs6WgpPQC5-",
        "outputId": "4876293e-b464-4109-f482-0f227921992c"
      },
      "outputs": [
        {
          "output_type": "execute_result",
          "data": {
            "text/plain": [
              "                   77GHZ  Xethru  24GHZ\n",
              "training_images      414     470     60\n",
              "validation_images    104     118     15\n",
              "testing_images       130     147     19"
            ],
            "text/html": [
              "\n",
              "  <div id=\"df-2303687d-b476-4c1a-9445-f5e18680ac77\">\n",
              "    <div class=\"colab-df-container\">\n",
              "      <div>\n",
              "<style scoped>\n",
              "    .dataframe tbody tr th:only-of-type {\n",
              "        vertical-align: middle;\n",
              "    }\n",
              "\n",
              "    .dataframe tbody tr th {\n",
              "        vertical-align: top;\n",
              "    }\n",
              "\n",
              "    .dataframe thead th {\n",
              "        text-align: right;\n",
              "    }\n",
              "</style>\n",
              "<table border=\"1\" class=\"dataframe\">\n",
              "  <thead>\n",
              "    <tr style=\"text-align: right;\">\n",
              "      <th></th>\n",
              "      <th>77GHZ</th>\n",
              "      <th>Xethru</th>\n",
              "      <th>24GHZ</th>\n",
              "    </tr>\n",
              "  </thead>\n",
              "  <tbody>\n",
              "    <tr>\n",
              "      <th>training_images</th>\n",
              "      <td>414</td>\n",
              "      <td>470</td>\n",
              "      <td>60</td>\n",
              "    </tr>\n",
              "    <tr>\n",
              "      <th>validation_images</th>\n",
              "      <td>104</td>\n",
              "      <td>118</td>\n",
              "      <td>15</td>\n",
              "    </tr>\n",
              "    <tr>\n",
              "      <th>testing_images</th>\n",
              "      <td>130</td>\n",
              "      <td>147</td>\n",
              "      <td>19</td>\n",
              "    </tr>\n",
              "  </tbody>\n",
              "</table>\n",
              "</div>\n",
              "      <button class=\"colab-df-convert\" onclick=\"convertToInteractive('df-2303687d-b476-4c1a-9445-f5e18680ac77')\"\n",
              "              title=\"Convert this dataframe to an interactive table.\"\n",
              "              style=\"display:none;\">\n",
              "        \n",
              "  <svg xmlns=\"http://www.w3.org/2000/svg\" height=\"24px\"viewBox=\"0 0 24 24\"\n",
              "       width=\"24px\">\n",
              "    <path d=\"M0 0h24v24H0V0z\" fill=\"none\"/>\n",
              "    <path d=\"M18.56 5.44l.94 2.06.94-2.06 2.06-.94-2.06-.94-.94-2.06-.94 2.06-2.06.94zm-11 1L8.5 8.5l.94-2.06 2.06-.94-2.06-.94L8.5 2.5l-.94 2.06-2.06.94zm10 10l.94 2.06.94-2.06 2.06-.94-2.06-.94-.94-2.06-.94 2.06-2.06.94z\"/><path d=\"M17.41 7.96l-1.37-1.37c-.4-.4-.92-.59-1.43-.59-.52 0-1.04.2-1.43.59L10.3 9.45l-7.72 7.72c-.78.78-.78 2.05 0 2.83L4 21.41c.39.39.9.59 1.41.59.51 0 1.02-.2 1.41-.59l7.78-7.78 2.81-2.81c.8-.78.8-2.07 0-2.86zM5.41 20L4 18.59l7.72-7.72 1.47 1.35L5.41 20z\"/>\n",
              "  </svg>\n",
              "      </button>\n",
              "      \n",
              "  <style>\n",
              "    .colab-df-container {\n",
              "      display:flex;\n",
              "      flex-wrap:wrap;\n",
              "      gap: 12px;\n",
              "    }\n",
              "\n",
              "    .colab-df-convert {\n",
              "      background-color: #E8F0FE;\n",
              "      border: none;\n",
              "      border-radius: 50%;\n",
              "      cursor: pointer;\n",
              "      display: none;\n",
              "      fill: #1967D2;\n",
              "      height: 32px;\n",
              "      padding: 0 0 0 0;\n",
              "      width: 32px;\n",
              "    }\n",
              "\n",
              "    .colab-df-convert:hover {\n",
              "      background-color: #E2EBFA;\n",
              "      box-shadow: 0px 1px 2px rgba(60, 64, 67, 0.3), 0px 1px 3px 1px rgba(60, 64, 67, 0.15);\n",
              "      fill: #174EA6;\n",
              "    }\n",
              "\n",
              "    [theme=dark] .colab-df-convert {\n",
              "      background-color: #3B4455;\n",
              "      fill: #D2E3FC;\n",
              "    }\n",
              "\n",
              "    [theme=dark] .colab-df-convert:hover {\n",
              "      background-color: #434B5C;\n",
              "      box-shadow: 0px 1px 3px 1px rgba(0, 0, 0, 0.15);\n",
              "      filter: drop-shadow(0px 1px 2px rgba(0, 0, 0, 0.3));\n",
              "      fill: #FFFFFF;\n",
              "    }\n",
              "  </style>\n",
              "\n",
              "      <script>\n",
              "        const buttonEl =\n",
              "          document.querySelector('#df-2303687d-b476-4c1a-9445-f5e18680ac77 button.colab-df-convert');\n",
              "        buttonEl.style.display =\n",
              "          google.colab.kernel.accessAllowed ? 'block' : 'none';\n",
              "\n",
              "        async function convertToInteractive(key) {\n",
              "          const element = document.querySelector('#df-2303687d-b476-4c1a-9445-f5e18680ac77');\n",
              "          const dataTable =\n",
              "            await google.colab.kernel.invokeFunction('convertToInteractive',\n",
              "                                                     [key], {});\n",
              "          if (!dataTable) return;\n",
              "\n",
              "          const docLinkHtml = 'Like what you see? Visit the ' +\n",
              "            '<a target=\"_blank\" href=https://colab.research.google.com/notebooks/data_table.ipynb>data table notebook</a>'\n",
              "            + ' to learn more about interactive tables.';\n",
              "          element.innerHTML = '';\n",
              "          dataTable['output_type'] = 'display_data';\n",
              "          await google.colab.output.renderOutput(dataTable, element);\n",
              "          const docLink = document.createElement('div');\n",
              "          docLink.innerHTML = docLinkHtml;\n",
              "          element.appendChild(docLink);\n",
              "        }\n",
              "      </script>\n",
              "    </div>\n",
              "  </div>\n",
              "  "
            ]
          },
          "metadata": {},
          "execution_count": 32
        }
      ],
      "source": [
        "col_names=['77GHZ','Xethru','24GHZ']\n",
        "#col_vals=[],[train_df_2.shape[0],test_df_2.shape[0]],[train_df_3.shape[0],test_df_3.shape[0]]]\n",
        "d={'77GHZ':[x_train_1.shape[0],x_val_1.shape[0],x_test_1.shape[0]],\n",
        "   'Xethru':[x_train_2.shape[0],x_val_2.shape[0],x_test_2.shape[0]],\n",
        "   '24GHZ':[x_train_3.shape[0],x_val_3.shape[0],x_test_3.shape[0]]\n",
        "}\n",
        "images_summary = pd.DataFrame(d)\n",
        "images_summary.index=['training_images','validation_images','testing_images']\n",
        "images_summary"
      ]
    },
    {
      "cell_type": "code",
      "execution_count": 33,
      "metadata": {
        "id": "lCng2NxeI_UY"
      },
      "outputs": [],
      "source": [
        "from tensorflow.keras.layers import Flatten"
      ]
    },
    {
      "cell_type": "markdown",
      "metadata": {
        "id": "lUGorQpx_BWu"
      },
      "source": [
        "# CAE-1"
      ]
    },
    {
      "cell_type": "code",
      "execution_count": 34,
      "metadata": {
        "colab": {
          "base_uri": "https://localhost:8080/",
          "height": 590
        },
        "id": "PD2EkbuzQC_N",
        "outputId": "45b1dffe-bf53-4723-be80-45f5fb71dce6"
      },
      "outputs": [
        {
          "output_type": "display_data",
          "data": {
            "text/plain": [
              "<IPython.core.display.Javascript object>"
            ],
            "application/javascript": [
              "google.colab.output.setIframeHeight(0, true, {maxHeight: 5000})"
            ]
          },
          "metadata": {}
        },
        {
          "output_type": "stream",
          "name": "stdout",
          "text": [
            "Model: \"model\"\n",
            "_________________________________________________________________\n",
            " Layer (type)                Output Shape              Param #   \n",
            "=================================================================\n",
            " input_1 (InputLayer)        [(None, 64, 64, 1)]       0         \n",
            "                                                                 \n",
            " conv2d (Conv2D)             (None, 64, 64, 32)        2624      \n",
            "                                                                 \n",
            " max_pooling2d (MaxPooling2D  (None, 32, 32, 32)       0         \n",
            " )                                                               \n",
            "                                                                 \n",
            " conv2d_1 (Conv2D)           (None, 32, 32, 64)        18496     \n",
            "                                                                 \n",
            " max_pooling2d_1 (MaxPooling  (None, 16, 16, 64)       0         \n",
            " 2D)                                                             \n",
            "                                                                 \n",
            " conv2d_2 (Conv2D)           (None, 16, 16, 64)        36928     \n",
            "                                                                 \n",
            " up_sampling2d (UpSampling2D  (None, 32, 32, 64)       0         \n",
            " )                                                               \n",
            "                                                                 \n",
            " conv2d_3 (Conv2D)           (None, 32, 32, 32)        165920    \n",
            "                                                                 \n",
            " up_sampling2d_1 (UpSampling  (None, 64, 64, 32)       0         \n",
            " 2D)                                                             \n",
            "                                                                 \n",
            " conv2d_4 (Conv2D)           (None, 64, 64, 1)         289       \n",
            "                                                                 \n",
            "=================================================================\n",
            "Total params: 224,257\n",
            "Trainable params: 224,257\n",
            "Non-trainable params: 0\n",
            "_________________________________________________________________\n"
          ]
        }
      ],
      "source": [
        "from IPython.display import Javascript\n",
        "display(Javascript('''google.colab.output.setIframeHeight(0, true, {maxHeight: 5000})'''))\n",
        "\n",
        "import keras\n",
        "\n",
        "from keras.layers import Input, Dense, Conv2D, MaxPooling2D, UpSampling2D\n",
        "from keras.models import Model\n",
        "\n",
        "# Define the input layer\n",
        "input_img = Input(shape=(64, 64, 1))\n",
        "\n",
        "# Encoder\n",
        "x = Conv2D(32, (9, 9), activation='relu', padding='same')(input_img)\n",
        "x = MaxPooling2D((2, 2),strides=(2,2), padding='same')(x)\n",
        "x = Conv2D(64, (3, 3), activation='relu', padding='same')(x)\n",
        "encoded = MaxPooling2D((2, 2),strides=(2,2), padding='same')(x)\n",
        "\n",
        "# Decoder\n",
        "x = Conv2D(64, (3, 3), activation='relu', padding='same')(encoded)\n",
        "x = UpSampling2D((2, 2))(x)\n",
        "x = Conv2D(32, (9, 9), activation='relu', padding='same')(x)\n",
        "x = UpSampling2D((2, 2))(x)\n",
        "decoded = Conv2D(1, (3, 3), activation='softmax', padding='same')(x)\n",
        "\n",
        "# Define the model\n",
        "autoencoder = Model(input_img, decoded)\n",
        "autoencoder.compile(optimizer=keras.optimizers.Adam(learning_rate=0.0001), loss='categorical_crossentropy')\n",
        "#autoencoder.compile(optimizer=keras.optimizers.Adam(learning_rate=0.0001), loss='sparse_categorical_crossentropy', metrics=['accuracy'])\n",
        "autoencoder.summary()"
      ]
    },
    {
      "cell_type": "markdown",
      "metadata": {
        "id": "TNldmFBm7jaF"
      },
      "source": [
        "# CAE-2 DATACAMP"
      ]
    },
    {
      "cell_type": "code",
      "execution_count": 65,
      "metadata": {
        "colab": {
          "base_uri": "https://localhost:8080/",
          "height": 676
        },
        "id": "BAJs9dM27mRj",
        "outputId": "d1b5c9b0-9a63-4094-a73c-558a81c8ebf5"
      },
      "outputs": [
        {
          "output_type": "display_data",
          "data": {
            "text/plain": [
              "<IPython.core.display.Javascript object>"
            ],
            "application/javascript": [
              "google.colab.output.setIframeHeight(0, true, {maxHeight: 5000})"
            ]
          },
          "metadata": {}
        },
        {
          "output_type": "stream",
          "name": "stdout",
          "text": [
            "Model: \"model_6\"\n",
            "_________________________________________________________________\n",
            " Layer (type)                Output Shape              Param #   \n",
            "=================================================================\n",
            " input_3 (InputLayer)        [(None, 64, 64, 1)]       0         \n",
            "                                                                 \n",
            " conv2d_14 (Conv2D)          (None, 64, 64, 32)        2624      \n",
            "                                                                 \n",
            " max_pooling2d_8 (MaxPooling  (None, 32, 32, 32)       0         \n",
            " 2D)                                                             \n",
            "                                                                 \n",
            " conv2d_15 (Conv2D)          (None, 32, 32, 64)        18496     \n",
            "                                                                 \n",
            " max_pooling2d_9 (MaxPooling  (None, 16, 16, 64)       0         \n",
            " 2D)                                                             \n",
            "                                                                 \n",
            " flatten_5 (Flatten)         (None, 16384)             0         \n",
            "                                                                 \n",
            " dense_10 (Dense)            (None, 512)               8389120   \n",
            "                                                                 \n",
            " dense_11 (Dense)            (None, 4096)              2101248   \n",
            "                                                                 \n",
            " reshape_1 (Reshape)         (None, 64, 64, 1)         0         \n",
            "                                                                 \n",
            " conv2d_16 (Conv2D)          (None, 64, 64, 64)        640       \n",
            "                                                                 \n",
            " up_sampling2d_3 (UpSampling  (None, 128, 128, 64)     0         \n",
            " 2D)                                                             \n",
            "                                                                 \n",
            " conv2d_17 (Conv2D)          (None, 128, 128, 32)      165920    \n",
            "                                                                 \n",
            " conv2d_18 (Conv2D)          (None, 64, 64, 1)         289       \n",
            "                                                                 \n",
            "=================================================================\n",
            "Total params: 10,678,337\n",
            "Trainable params: 10,678,337\n",
            "Non-trainable params: 0\n",
            "_________________________________________________________________\n"
          ]
        }
      ],
      "source": [
        "from IPython.display import Javascript\n",
        "display(Javascript('''google.colab.output.setIframeHeight(0, true, {maxHeight: 5000})'''))\n",
        "\n",
        "import keras\n",
        "\n",
        "from keras.layers import Input, Dense, Conv2D, MaxPooling2D, UpSampling2D\n",
        "from keras.models import Model\n",
        "\n",
        "# Define the input layer\n",
        "input_img = Input(shape=(64, 64, 1))\n",
        "\n",
        "# Encoder\n",
        "def encoder(input_img):\n",
        "  x = Conv2D(32, (9, 9), activation='relu', padding='same')(input_img)\n",
        "  x = MaxPooling2D((2, 2),strides=(2,2), padding='same')(x)\n",
        "  x = Conv2D(64, (3, 3), activation='relu', padding='same')(x)\n",
        "  encoded = MaxPooling2D((2, 2),strides=(2,2), padding='same')(x)\n",
        "  encoded=Flatten()(encoded)\n",
        "  encoded=Dense(512)(encoded)\n",
        "  return encoded\n",
        "\n",
        "# Decoder\n",
        "def decoder(encoded): \n",
        "  x=layers.Dense(64*64,activation='relu')(encoded)\n",
        "  x=tf.keras.layers.Reshape((64,64,1))(x)\n",
        "  x = Conv2D(64, (3, 3), activation='relu', padding='same')(x)\n",
        "  x = UpSampling2D((2, 2))(x)\n",
        "  x = Conv2D(32, (9, 9), activation='relu', padding='same')(x)\n",
        "  #x = UpSampling2D((2, 2))(x)\n",
        "  decoded = Conv2D(1, (3, 3),strides=(2,2), activation='softmax', padding='same')(x)\n",
        "  return decoded\n",
        "\n",
        "# Define the model\n",
        "autoencoder = Model(input_img, decoder(encoder(input_img)))\n",
        "autoencoder.compile(optimizer=keras.optimizers.Adam(learning_rate=0.0001), loss='categorical_crossentropy')\n",
        "#autoencoder.compile(optimizer=keras.optimizers.Adam(learning_rate=0.0001), loss='sparse_categorical_crossentropy', metrics=['accuracy'])\n",
        "autoencoder.summary()"
      ]
    },
    {
      "cell_type": "code",
      "execution_count": 36,
      "metadata": {
        "colab": {
          "base_uri": "https://localhost:8080/"
        },
        "id": "IJFx_65i7mWY",
        "outputId": "bc55c4e3-70bc-4f43-f068-0f4336b00ff9"
      },
      "outputs": [
        {
          "output_type": "execute_result",
          "data": {
            "text/plain": [
              "(648, 64, 64)"
            ]
          },
          "metadata": {},
          "execution_count": 36
        }
      ],
      "source": [
        "images_1.shape"
      ]
    },
    {
      "cell_type": "markdown",
      "metadata": {
        "id": "gLq-nPBr7nqp"
      },
      "source": [
        "# After CAE"
      ]
    },
    {
      "cell_type": "code",
      "execution_count": 37,
      "metadata": {
        "colab": {
          "base_uri": "https://localhost:8080/"
        },
        "id": "oX79XiiEEcH7",
        "outputId": "dd4b0a1f-5b55-4e6a-f044-796d159194a7"
      },
      "outputs": [
        {
          "output_type": "stream",
          "name": "stdout",
          "text": [
            "130\n",
            "130\n",
            "<class 'numpy.ndarray'>\n",
            "<class 'numpy.ndarray'>\n",
            "3.0\n",
            "<class 'numpy.float32'>\n"
          ]
        }
      ],
      "source": [
        "print(len(x_test_1))\n",
        "print(len(y_test_1))\n",
        "print(type(x_test_1))\n",
        "print(type(y_test_1))\n",
        "print(y_test_1[0])\n",
        "print(type(y_test_1[0]))"
      ]
    },
    {
      "cell_type": "markdown",
      "metadata": {
        "id": "z7Wph8QG1kla"
      },
      "source": [
        "# CAE Training"
      ]
    },
    {
      "cell_type": "code",
      "execution_count": null,
      "metadata": {
        "colab": {
          "base_uri": "https://localhost:8080/"
        },
        "id": "hC4kW9Ye1gI5",
        "outputId": "69608494-562b-462b-d323-2c62c4cdf512"
      },
      "outputs": [
        {
          "data": {
            "text/plain": [
              "((414, 64, 64), (414,))"
            ]
          },
          "execution_count": 95,
          "metadata": {},
          "output_type": "execute_result"
        }
      ],
      "source": [
        "x_train_1.shape,y_train_1.shape"
      ]
    },
    {
      "cell_type": "code",
      "execution_count": null,
      "metadata": {
        "id": "_f5iahTQAocB"
      },
      "outputs": [],
      "source": [
        "y_train_1=y_train_1.reshape(y_train_1.shape[0],1)"
      ]
    },
    {
      "cell_type": "code",
      "execution_count": null,
      "metadata": {
        "colab": {
          "base_uri": "https://localhost:8080/"
        },
        "id": "kmNQKI38A3Ec",
        "outputId": "7e7ab369-d429-4fac-af25-0d69577b96be"
      },
      "outputs": [
        {
          "data": {
            "text/plain": [
              "(414, 1)"
            ]
          },
          "execution_count": 130,
          "metadata": {},
          "output_type": "execute_result"
        }
      ],
      "source": [
        "y_train_1.shape"
      ]
    },
    {
      "cell_type": "code",
      "execution_count": 67,
      "metadata": {
        "colab": {
          "base_uri": "https://localhost:8080/"
        },
        "id": "ZDaBGASNAUfF",
        "outputId": "b2ac78ca-357e-476b-fbb3-18530476c075"
      },
      "outputs": [
        {
          "output_type": "stream",
          "name": "stdout",
          "text": [
            "26/26 [==============================] - 340s 13s/step - loss: 50.4085 - val_loss: 50.5288\n"
          ]
        },
        {
          "output_type": "execute_result",
          "data": {
            "text/plain": [
              "<keras.callbacks.History at 0x7f70fe2ea130>"
            ]
          },
          "metadata": {},
          "execution_count": 67
        }
      ],
      "source": [
        "autoencoder.fit(x_train_1,x_train_1,\n",
        "          epochs=1, \n",
        "          batch_size=16,\n",
        "          validation_data=(x_val_1,x_val_1))"
      ]
    },
    {
      "cell_type": "code",
      "execution_count": null,
      "metadata": {
        "id": "bSVV7zFa_DER"
      },
      "outputs": [],
      "source": [
        "'''autoencoder.fit(x_train_1,y_train_1,\n",
        "          epochs=10, \n",
        "          validation_data=(x_val_1,y_val_1))'''"
      ]
    },
    {
      "cell_type": "code",
      "execution_count": 68,
      "metadata": {
        "colab": {
          "base_uri": "https://localhost:8080/"
        },
        "id": "2M4T4oCpgMFq",
        "outputId": "517c6a52-2739-49d8-dcb3-683add9fb514"
      },
      "outputs": [
        {
          "output_type": "execute_result",
          "data": {
            "text/plain": [
              "{'loss': [50.40850067138672], 'val_loss': [50.52882385253906]}"
            ]
          },
          "metadata": {},
          "execution_count": 68
        }
      ],
      "source": [
        "autoencoder_train_his=autoencoder.history.history\n",
        "autoencoder_train_his"
      ]
    },
    {
      "cell_type": "code",
      "execution_count": 69,
      "metadata": {
        "colab": {
          "base_uri": "https://localhost:8080/",
          "height": 281
        },
        "id": "oYBr4ijZfhss",
        "outputId": "18f68241-d81f-44d5-d73e-88ebe79cdc9c"
      },
      "outputs": [
        {
          "output_type": "display_data",
          "data": {
            "text/plain": [
              "<Figure size 432x288 with 1 Axes>"
            ],
            "image/png": "[encoded data removed]"
          },
          "metadata": {
            "needs_background": "light"
          }
        }
      ],
      "source": [
        "loss = autoencoder.history.history['loss']\n",
        "val_loss = autoencoder.history.history['val_loss']\n",
        "epochs = range(1)\n",
        "plt.figure()\n",
        "plt.plot(epochs, loss, 'bo', label='Training loss')\n",
        "plt.plot(epochs, val_loss, 'b', label='Validation loss')\n",
        "plt.title('Training and validation loss')\n",
        "plt.legend()\n",
        "plt.show()\n"
      ]
    },
    {
      "cell_type": "code",
      "execution_count": null,
      "metadata": {
        "id": "tpxOTvh-gh3x"
      },
      "outputs": [],
      "source": [
        "autoencoder.save_weights('autoencoder.h5')\n"
      ]
    },
    {
      "cell_type": "code",
      "execution_count": 70,
      "metadata": {
        "colab": {
          "base_uri": "https://localhost:8080/"
        },
        "id": "cLVxawYN7GOu",
        "outputId": "bfe9b678-8871-4468-8d33-91979844c808"
      },
      "outputs": [
        {
          "output_type": "execute_result",
          "data": {
            "text/plain": [
              "[array([[[[-0.00191052,  0.02041163,  0.03407108, ...,  0.01670345,\n",
              "           -0.01002865, -0.00314396]],\n",
              " \n",
              "         [[ 0.04557183,  0.04423323,  0.04373368, ..., -0.0276958 ,\n",
              "            0.00561011,  0.0370502 ]],\n",
              " \n",
              "         [[-0.0143217 , -0.03864975, -0.0096361 , ..., -0.00790851,\n",
              "            0.03460288,  0.00461446]],\n",
              " \n",
              "         ...,\n",
              " \n",
              "         [[-0.04734712, -0.01744166,  0.02063084, ..., -0.00320978,\n",
              "            0.01858361, -0.02698267]],\n",
              " \n",
              "         [[-0.01394099, -0.03533397,  0.02922827, ...,  0.03422851,\n",
              "           -0.04648929, -0.02757645]],\n",
              " \n",
              "         [[ 0.02367779, -0.03023292,  0.00201897, ...,  0.03666458,\n",
              "           -0.04194263,  0.03023286]]],\n",
              " \n",
              " \n",
              "        [[[ 0.01526983, -0.01603132, -0.01516509, ...,  0.04327853,\n",
              "            0.01951865,  0.03992534]],\n",
              " \n",
              "         [[ 0.01081281, -0.04272213, -0.02648684, ...,  0.04231958,\n",
              "           -0.02962431,  0.03541277]],\n",
              " \n",
              "         [[ 0.01547838, -0.02455159,  0.04329434, ...,  0.00211556,\n",
              "            0.04016341,  0.03591601]],\n",
              " \n",
              "         ...,\n",
              " \n",
              "         [[-0.04719342, -0.01764573,  0.02951124, ..., -0.03810174,\n",
              "            0.04511159,  0.01799154]],\n",
              " \n",
              "         [[ 0.0400719 ,  0.03218012, -0.02472532, ..., -0.00080871,\n",
              "           -0.03017922, -0.02099235]],\n",
              " \n",
              "         [[ 0.04258268,  0.04045792,  0.03557808, ..., -0.00599181,\n",
              "           -0.02236976,  0.03237304]]],\n",
              " \n",
              " \n",
              "        [[[ 0.03691073, -0.00547144,  0.04051651, ..., -0.03785323,\n",
              "            0.03561081,  0.02920262]],\n",
              " \n",
              "         [[ 0.02422814,  0.02240244, -0.02990587, ..., -0.00315585,\n",
              "            0.00454944, -0.01980821]],\n",
              " \n",
              "         [[-0.04017749, -0.01159966,  0.04295966, ...,  0.01092539,\n",
              "            0.02173837,  0.03036053]],\n",
              " \n",
              "         ...,\n",
              " \n",
              "         [[-0.03452095, -0.02743527, -0.03891436, ..., -0.01726856,\n",
              "            0.0389465 , -0.02510474]],\n",
              " \n",
              "         [[ 0.03373042, -0.01356821,  0.03013037, ..., -0.01319278,\n",
              "            0.02717948, -0.02748384]],\n",
              " \n",
              "         [[ 0.02764975, -0.01689217, -0.00541987, ..., -0.03537043,\n",
              "           -0.04441519,  0.00809315]]],\n",
              " \n",
              " \n",
              "        ...,\n",
              " \n",
              " \n",
              "        [[[ 0.00917538, -0.00591854,  0.0389186 , ...,  0.02860027,\n",
              "           -0.04576253, -0.00330531]],\n",
              " \n",
              "         [[-0.01377425, -0.01882734,  0.00138695, ...,  0.01569257,\n",
              "            0.03257937, -0.03548033]],\n",
              " \n",
              "         [[-0.03491876,  0.02607972, -0.0182172 , ..., -0.00272641,\n",
              "            0.04564466, -0.01744901]],\n",
              " \n",
              "         ...,\n",
              " \n",
              "         [[ 0.01764253, -0.01807525, -0.03488474, ...,  0.01652314,\n",
              "           -0.02447356,  0.00019199]],\n",
              " \n",
              "         [[ 0.03767161, -0.0429277 , -0.0158366 , ..., -0.01942426,\n",
              "            0.01140929,  0.04346897]],\n",
              " \n",
              "         [[ 0.02576471, -0.03170356,  0.03439687, ...,  0.00825113,\n",
              "            0.04542447, -0.01871659]]],\n",
              " \n",
              " \n",
              "        [[[-0.03203018, -0.0243379 ,  0.00939345, ..., -0.01081908,\n",
              "           -0.01438107,  0.02572898]],\n",
              " \n",
              "         [[-0.03324558, -0.02709593, -0.02333995, ..., -0.03405358,\n",
              "           -0.02407265,  0.02326878]],\n",
              " \n",
              "         [[ 0.02161623, -0.04165253, -0.02103768, ...,  0.0122102 ,\n",
              "            0.03217702,  0.02916031]],\n",
              " \n",
              "         ...,\n",
              " \n",
              "         [[ 0.01561825,  0.01291362,  0.00170062, ..., -0.03892297,\n",
              "           -0.01148008, -0.01958013]],\n",
              " \n",
              "         [[-0.04229648, -0.04286805,  0.01593964, ..., -0.02880553,\n",
              "            0.02567177,  0.01081623]],\n",
              " \n",
              "         [[ 0.0404043 , -0.02700106,  0.0336702 , ...,  0.00673984,\n",
              "            0.03737242, -0.0439644 ]]],\n",
              " \n",
              " \n",
              "        [[[ 0.03811223, -0.02242708,  0.01996553, ..., -0.02792785,\n",
              "            0.02353801, -0.02935554]],\n",
              " \n",
              "         [[ 0.02713368,  0.03596952, -0.04073668, ..., -0.04362999,\n",
              "           -0.02410454,  0.03918925]],\n",
              " \n",
              "         [[ 0.01622982, -0.02667852, -0.04516959, ..., -0.00431946,\n",
              "            0.00799483,  0.03543739]],\n",
              " \n",
              "         ...,\n",
              " \n",
              "         [[-0.03928689,  0.01655938,  0.02812496, ...,  0.0413847 ,\n",
              "            0.01009142,  0.04325403]],\n",
              " \n",
              "         [[-0.03391278,  0.042997  ,  0.00023062, ...,  0.04644514,\n",
              "           -0.01680612, -0.00370352]],\n",
              " \n",
              "         [[-0.01535196, -0.01306487,  0.02779157, ..., -0.0196253 ,\n",
              "           -0.0107177 ,  0.00587417]]]], dtype=float32),\n",
              " array([-5.1745864e-08,  3.0566596e-08, -5.8383392e-08,  5.6126402e-07,\n",
              "        -8.3979990e-07, -7.2095071e-07, -5.6037560e-08,  1.9195886e-07,\n",
              "        -1.5344088e-07,  1.8824379e-07, -6.1643021e-08, -1.4100172e-07,\n",
              "         3.5169191e-07, -5.1047022e-07, -1.4036247e-07, -5.4370111e-07,\n",
              "         3.2074780e-07, -1.4388525e-08, -4.9989598e-07,  4.1630702e-07,\n",
              "         9.4038501e-07,  8.9848093e-08, -2.7640763e-07,  5.5428647e-08,\n",
              "        -4.3159634e-08, -3.0443957e-08, -2.5786414e-07,  5.0992690e-09,\n",
              "         3.0793661e-08, -2.3576285e-07, -6.2987147e-07, -2.1285164e-08],\n",
              "       dtype=float32),\n",
              " array([[[[-0.03874195, -0.07463205,  0.05504233, ...,  0.05492064,\n",
              "           -0.01762513, -0.07668597],\n",
              "          [-0.04579302, -0.08003128,  0.04238173, ..., -0.00149675,\n",
              "            0.01587137, -0.03784458],\n",
              "          [ 0.00585389, -0.02472558,  0.00686608, ...,  0.04850487,\n",
              "           -0.05468289, -0.07778081],\n",
              "          ...,\n",
              "          [-0.02651408,  0.021076  ,  0.06410951, ..., -0.03558775,\n",
              "           -0.01833099,  0.00679608],\n",
              "          [ 0.0015796 ,  0.08229924, -0.00866845, ..., -0.01811379,\n",
              "            0.08275462, -0.04505893],\n",
              "          [ 0.0652417 ,  0.06846277,  0.06063128, ...,  0.02409109,\n",
              "            0.07920959,  0.04993982]],\n",
              " \n",
              "         [[-0.06982696,  0.02974393,  0.04114781, ..., -0.03153443,\n",
              "           -0.07884165,  0.04557248],\n",
              "          [ 0.00595915, -0.04632076, -0.00158487, ...,  0.0395264 ,\n",
              "           -0.05118412,  0.06165989],\n",
              "          [-0.01286477,  0.02145527, -0.01734916, ...,  0.06972156,\n",
              "           -0.01780079, -0.05715974],\n",
              "          ...,\n",
              "          [-0.0613215 ,  0.06260582,  0.06218096, ...,  0.05482628,\n",
              "            0.00578322,  0.00837318],\n",
              "          [-0.02743791, -0.05630749, -0.07741346, ...,  0.01988695,\n",
              "            0.03098945, -0.07687449],\n",
              "          [ 0.04697374,  0.02789893, -0.061379  , ...,  0.03706503,\n",
              "           -0.07867861, -0.0108695 ]],\n",
              " \n",
              "         [[-0.06573993, -0.00225201, -0.02789768, ..., -0.07036044,\n",
              "            0.06808964, -0.00268266],\n",
              "          [ 0.03193569,  0.02424282, -0.06296786, ...,  0.03353083,\n",
              "            0.02403456, -0.06013888],\n",
              "          [ 0.06009551,  0.0718086 , -0.02547183, ..., -0.04833519,\n",
              "           -0.03667259, -0.01689265],\n",
              "          ...,\n",
              "          [ 0.03552574, -0.01722374,  0.01318314, ..., -0.03603359,\n",
              "            0.0764034 ,  0.07305559],\n",
              "          [ 0.00159585, -0.02905744,  0.0703593 , ...,  0.04866082,\n",
              "           -0.06312355,  0.06788657],\n",
              "          [ 0.05216647, -0.06940667, -0.05076844, ...,  0.06064501,\n",
              "           -0.0145545 ,  0.05110127]]],\n",
              " \n",
              " \n",
              "        [[[ 0.04367659,  0.07554907, -0.00524666, ...,  0.0735702 ,\n",
              "            0.05185927, -0.06164285],\n",
              "          [ 0.02131891,  0.0404223 , -0.00113726, ...,  0.00561555,\n",
              "            0.02346307, -0.01405516],\n",
              "          [ 0.04864002, -0.00497186,  0.03973486, ..., -0.05583853,\n",
              "           -0.01238557,  0.03502271],\n",
              "          ...,\n",
              "          [-0.04766176,  0.00811066,  0.00733119, ...,  0.0556647 ,\n",
              "           -0.05010607, -0.01501999],\n",
              "          [-0.07811372,  0.02826468, -0.00957599, ..., -0.01544285,\n",
              "            0.01240931,  0.02685124],\n",
              "          [-0.07343948,  0.0628014 ,  0.04138198, ...,  0.02551007,\n",
              "           -0.04499996,  0.01179769]],\n",
              " \n",
              "         [[-0.01005109,  0.03402684,  0.05072046, ...,  0.06420381,\n",
              "            0.03412982,  0.01169518],\n",
              "          [-0.07163924, -0.01262943, -0.05013971, ...,  0.04501548,\n",
              "           -0.06143131, -0.02031056],\n",
              "          [ 0.05484135, -0.07794999,  0.07169905, ..., -0.04835882,\n",
              "           -0.06543557, -0.04473096],\n",
              "          ...,\n",
              "          [-0.05140444,  0.04243919, -0.01872498, ...,  0.03768343,\n",
              "           -0.00409085,  0.05478925],\n",
              "          [-0.07230765,  0.00343748, -0.07868706, ...,  0.03605679,\n",
              "           -0.02205525, -0.03460789],\n",
              "          [ 0.01811397, -0.06971473, -0.0776214 , ..., -0.03065354,\n",
              "           -0.00155872,  0.01085603]],\n",
              " \n",
              "         [[ 0.00732151,  0.0013415 ,  0.04332759, ..., -0.05300274,\n",
              "            0.0211698 ,  0.01868776],\n",
              "          [ 0.03718976, -0.07379331,  0.07512143, ...,  0.02479068,\n",
              "            0.04233118,  0.06080761],\n",
              "          [ 0.07439096,  0.07404707, -0.05516865, ...,  0.03418145,\n",
              "           -0.06909166, -0.00185151],\n",
              "          ...,\n",
              "          [ 0.05259178,  0.01236039,  0.06170461, ..., -0.00551929,\n",
              "            0.06438889, -0.02340708],\n",
              "          [ 0.036955  ,  0.02200434, -0.05166092, ..., -0.078476  ,\n",
              "           -0.05730796,  0.0535688 ],\n",
              "          [-0.0644006 , -0.0345313 ,  0.07918192, ..., -0.05729932,\n",
              "            0.0519786 , -0.05381256]]],\n",
              " \n",
              " \n",
              "        [[[ 0.0338003 , -0.00682664,  0.05286575, ...,  0.07137454,\n",
              "            0.068087  , -0.001028  ],\n",
              "          [-0.06244564,  0.01111599, -0.0518828 , ..., -0.0040162 ,\n",
              "           -0.07841806, -0.00104109],\n",
              "          [-0.04330828, -0.08032036,  0.06893534, ...,  0.00318209,\n",
              "           -0.01708645, -0.0482261 ],\n",
              "          ...,\n",
              "          [ 0.01138313, -0.07509824, -0.05048001, ...,  0.05567912,\n",
              "           -0.02577438,  0.04390795],\n",
              "          [-0.00879588,  0.04277573,  0.01613933, ...,  0.0360662 ,\n",
              "            0.07953341,  0.01057317],\n",
              "          [ 0.07907834, -0.02862304,  0.04461361, ...,  0.04044429,\n",
              "            0.05468328, -0.07881421]],\n",
              " \n",
              "         [[-0.02794081,  0.03047935, -0.00877932, ...,  0.05825772,\n",
              "            0.03977225,  0.04359076],\n",
              "          [-0.04147683, -0.0635187 , -0.0621815 , ..., -0.06024498,\n",
              "           -0.0455965 , -0.07288395],\n",
              "          [-0.01510329,  0.0101372 , -0.01803229, ..., -0.0707016 ,\n",
              "           -0.0654965 , -0.0341331 ],\n",
              "          ...,\n",
              "          [-0.05702092, -0.06299478,  0.03946841, ...,  0.06294168,\n",
              "            0.0469856 ,  0.02916668],\n",
              "          [-0.06031283,  0.01046107,  0.03584012, ..., -0.01260319,\n",
              "           -0.07544397,  0.06094614],\n",
              "          [ 0.03765257, -0.05076188,  0.00605845, ...,  0.04342272,\n",
              "            0.07426409,  0.01775136]],\n",
              " \n",
              "         [[ 0.0778525 , -0.05164993, -0.02413539, ..., -0.07217845,\n",
              "            0.07845358,  0.08284315],\n",
              "          [-0.04896172,  0.04106116, -0.06156246, ..., -0.0401594 ,\n",
              "           -0.01076176, -0.07173288],\n",
              "          [ 0.00682775, -0.07992079,  0.05563468, ..., -0.03743744,\n",
              "            0.01403346,  0.05629119],\n",
              "          ...,\n",
              "          [ 0.0179956 , -0.03735962,  0.04840637, ...,  0.03722151,\n",
              "            0.0218992 , -0.01943312],\n",
              "          [ 0.00975291, -0.06016845, -0.02007989, ..., -0.04438784,\n",
              "            0.07251204,  0.04079813],\n",
              "          [-0.07709824,  0.03231267, -0.07327521, ...,  0.08088108,\n",
              "            0.00115132,  0.0286383 ]]]], dtype=float32),\n",
              " array([ 2.1229127e-07, -6.7271230e-08,  4.2126139e-08, -1.1062842e-06,\n",
              "         1.5660534e-07,  1.4264526e-06,  3.9246390e-07,  1.9560677e-07,\n",
              "        -2.8077281e-07, -6.3643526e-08,  3.5000926e-07, -7.3401743e-08,\n",
              "        -3.5721578e-07,  1.2188063e-09, -4.5986113e-07, -1.4597034e-09,\n",
              "         6.7560549e-08, -6.2993394e-08,  6.5222160e-08,  5.5508735e-07,\n",
              "        -8.5584327e-07,  1.2716195e-08, -7.0414097e-07,  2.5667421e-07,\n",
              "         1.2222563e-09,  4.4157136e-07, -3.0618872e-07,  3.8562382e-07,\n",
              "        -8.5063226e-07, -3.4327678e-07, -2.2437094e-08, -9.9341982e-08,\n",
              "         7.4023279e-07, -1.6622351e-06, -1.3132683e-06, -1.7864004e-07,\n",
              "        -4.3877000e-09,  1.5028647e-08,  4.4362324e-07, -2.2780064e-07,\n",
              "        -6.3755249e-07,  1.4500827e-07, -9.4432941e-08, -5.8404925e-07,\n",
              "        -8.5472459e-07,  5.7146675e-08,  9.3290043e-07,  3.0743081e-07,\n",
              "         1.8902637e-07,  4.0350923e-07,  3.8454139e-08,  4.1942950e-08,\n",
              "        -2.9121296e-07, -2.6469902e-08, -1.5216034e-07, -4.8203214e-07,\n",
              "         9.5331427e-07, -1.8507908e-06,  1.3574567e-07,  6.9182687e-07,\n",
              "         3.9435534e-08, -1.1021349e-07, -8.2163901e-08, -3.4943048e-07],\n",
              "       dtype=float32),\n",
              " array([[ 0.00305579,  0.01626336,  0.01197449, ...,  0.00373597,\n",
              "         -0.00382416, -0.00829813],\n",
              "        [ 0.0062809 , -0.00803141, -0.00874122, ..., -0.01021196,\n",
              "         -0.0030962 , -0.01866848],\n",
              "        [ 0.0171699 , -0.00282889,  0.00160803, ...,  0.00540213,\n",
              "          0.01451457, -0.01159625],\n",
              "        ...,\n",
              "        [ 0.00992534,  0.0013913 , -0.00543422, ..., -0.01656771,\n",
              "          0.00844988, -0.0095367 ],\n",
              "        [-0.01028975, -0.01802717, -0.00089351, ..., -0.01434265,\n",
              "          0.00855796, -0.018808  ],\n",
              "        [-0.01583548,  0.00459328,  0.00902879, ...,  0.00113519,\n",
              "         -0.01421973, -0.01859273]], dtype=float32),\n",
              " array([ 2.10998394e-07, -1.77858333e-08,  2.47192791e-08,  1.14864321e-07,\n",
              "         7.85150434e-08,  1.11847925e-07, -2.19978933e-08, -9.54731618e-08,\n",
              "         3.17287913e-07, -1.04556086e-07, -1.75286360e-07, -9.49526111e-08,\n",
              "         1.11214518e-07, -5.44867369e-08,  2.49583309e-07, -1.19334388e-07,\n",
              "        -9.09542575e-09, -2.44314116e-08, -9.49820418e-08, -1.31627417e-07,\n",
              "         1.05252866e-07,  8.52630748e-08,  4.61954315e-08, -1.70293433e-07,\n",
              "        -7.70300517e-08, -1.62355732e-07,  2.04069337e-07, -4.06932401e-07,\n",
              "        -7.09723196e-08, -2.53537678e-07,  1.19349480e-07, -3.42014914e-08,\n",
              "         1.07303642e-07,  1.93477931e-07, -4.91794623e-08, -3.67707713e-07,\n",
              "         5.14916216e-08, -2.88094895e-07,  1.15563424e-07, -6.86202739e-08,\n",
              "        -7.00085607e-08,  2.07326978e-09,  3.09201624e-07,  4.52615794e-08,\n",
              "         6.54322685e-09, -2.81702128e-09,  2.19355030e-07,  6.02740187e-08,\n",
              "         1.08293058e-07, -5.17812708e-08, -1.86936390e-07, -5.32411839e-08,\n",
              "        -1.10226360e-07, -4.91686194e-08,  1.79264418e-07,  1.60140470e-08,\n",
              "        -1.26347857e-07, -6.64290738e-08, -2.52603314e-07, -3.61231614e-08,\n",
              "        -9.38913018e-08,  1.14140818e-07, -1.12969069e-07, -2.19551978e-07,\n",
              "        -4.20925765e-08,  1.18465898e-07,  2.27231808e-07, -9.11073528e-09,\n",
              "        -5.70018912e-08,  8.58367528e-08, -2.96360213e-07, -2.92640507e-08,\n",
              "        -1.86304703e-07, -2.40458235e-07,  6.42979003e-08, -1.55799810e-07,\n",
              "         3.18270367e-07, -3.36743710e-07,  7.04861236e-08, -1.36638164e-07,\n",
              "        -5.80328496e-09,  1.60153817e-07, -1.21823234e-07, -1.24653937e-07,\n",
              "         2.65010094e-08, -2.51618189e-07,  1.12910598e-07,  4.57581166e-07,\n",
              "         6.15481781e-08,  2.62412271e-07, -2.51777010e-07, -1.35580080e-07,\n",
              "         3.30753892e-07, -2.88856690e-08,  1.74131756e-07, -1.62657692e-08,\n",
              "        -6.56354331e-08,  7.09049175e-08, -6.89778261e-08,  1.41847678e-07,\n",
              "        -5.41441949e-08,  5.85191735e-08, -9.31428890e-09, -5.32213242e-08,\n",
              "        -1.99666736e-08,  4.00029840e-08, -2.37418703e-07,  2.53876436e-07,\n",
              "         5.94346306e-09, -2.15598575e-07,  2.13577081e-07, -2.07115733e-07,\n",
              "         1.88012095e-07,  1.92077607e-07,  1.23008491e-07, -7.66386137e-08,\n",
              "        -9.47188425e-08,  5.85117483e-08, -2.46358695e-07,  6.52457075e-08,\n",
              "        -2.64640022e-07, -3.31232535e-08, -4.37687042e-08, -2.81124471e-07,\n",
              "         4.25009773e-07,  2.05871871e-08,  1.49358598e-07,  4.69381369e-08,\n",
              "        -4.20989075e-08, -1.12745781e-07, -6.77978775e-08,  4.95340231e-08,\n",
              "         3.58625520e-08, -4.38213160e-10, -1.14996066e-08,  6.43073932e-08,\n",
              "         2.88222935e-07, -1.36848442e-07,  1.21526384e-07, -3.93789406e-07,\n",
              "         1.25595108e-07, -9.30113089e-08,  2.37957707e-07, -2.73016155e-07,\n",
              "        -2.23249881e-08,  8.37724414e-08,  9.53894528e-08,  1.33528061e-07,\n",
              "         2.15449717e-07,  1.12465841e-07,  1.91689793e-07,  1.09006628e-07,\n",
              "         2.64552202e-08, -2.47190339e-08, -1.29373831e-07,  1.96137705e-07,\n",
              "         3.58653729e-08, -2.33319568e-08,  1.07846084e-07,  4.45123845e-07,\n",
              "        -1.90578191e-07,  2.66775942e-07,  2.16856776e-07,  3.05354689e-07,\n",
              "        -3.27292156e-07, -4.08777261e-08, -1.73700116e-07, -2.30065226e-07,\n",
              "        -1.78044772e-07,  2.75106675e-08, -3.14014187e-07, -1.35581004e-07,\n",
              "         3.74886298e-07, -2.49986698e-07,  1.00633052e-07, -1.57150509e-07,\n",
              "         2.00918763e-07, -2.36378114e-07, -1.96237533e-08, -1.18642323e-08,\n",
              "         1.00273581e-07, -1.16315441e-07,  1.12431152e-07,  3.80318056e-07,\n",
              "        -8.95895198e-08,  1.57266470e-07,  3.09690833e-08,  2.65446630e-07,\n",
              "        -2.46781923e-07,  1.07340883e-08,  1.28156401e-07,  1.93424512e-08,\n",
              "         1.43201888e-07, -2.45072762e-09, -1.01157298e-07,  1.93754659e-07,\n",
              "         1.28635193e-07, -2.16181490e-08, -5.48850210e-08,  2.21852801e-07,\n",
              "        -2.20495238e-07, -2.26489547e-07, -9.39867348e-08,  5.43146150e-09,\n",
              "        -8.35384171e-08, -9.63339488e-08,  1.46348951e-08, -1.40216741e-07,\n",
              "         3.01141711e-07,  1.87391827e-08,  6.88053206e-08, -4.78152096e-08,\n",
              "        -1.03603050e-07,  1.18867426e-07,  6.54382646e-08, -1.17768799e-07,\n",
              "        -4.82456244e-08,  1.03316804e-08,  1.88576394e-07,  1.71133181e-07,\n",
              "        -1.10957188e-07,  2.01010891e-07,  3.54375402e-07,  1.22767716e-07,\n",
              "        -4.45751986e-08, -2.52308952e-10, -1.88292958e-07,  1.67113228e-07,\n",
              "         2.87449666e-07,  3.21528866e-08, -2.09911136e-07,  3.87207422e-08,\n",
              "        -2.08506435e-07, -3.27659478e-07, -1.50123611e-07,  3.88717098e-07,\n",
              "        -1.67237815e-08, -3.04043255e-07,  7.37408286e-08, -1.58906630e-07,\n",
              "         3.38677125e-07, -1.93578771e-07,  2.00923949e-07, -2.80727761e-08,\n",
              "        -2.40374163e-07,  1.78813593e-07, -1.51105326e-07, -4.42387318e-08,\n",
              "         1.47850045e-07, -1.92487263e-07, -1.72493799e-07,  1.23796102e-08,\n",
              "        -2.72730688e-07, -4.59456487e-07, -4.59344704e-08, -9.03240647e-08,\n",
              "         4.76358764e-07, -2.27267790e-07, -4.12455478e-07, -7.11823489e-08,\n",
              "         2.58085436e-07, -7.50979865e-08,  1.06923807e-07,  1.23419980e-07,\n",
              "        -2.44136515e-07,  1.03958001e-07,  1.78809714e-07, -1.34446339e-07,\n",
              "         5.60183970e-08,  3.85662673e-07, -3.81431740e-08,  5.05111117e-08,\n",
              "         3.34576562e-08,  1.38026209e-07,  1.74436522e-07,  1.66808277e-07,\n",
              "        -5.08845410e-08, -4.09025631e-08, -5.69531210e-07, -2.96974747e-07,\n",
              "        -7.96458224e-08, -1.22194885e-08,  1.38248765e-07,  2.10843950e-07,\n",
              "        -1.19604051e-08,  4.12157058e-10, -9.88500162e-08,  8.95753161e-08,\n",
              "         7.37817771e-08, -2.35299581e-07, -3.86323961e-07,  4.57256242e-08,\n",
              "        -1.68850093e-07, -5.87783227e-08, -1.54857915e-07, -5.87602216e-08,\n",
              "        -5.45135359e-09, -4.42200339e-08,  1.86714203e-07,  4.85814056e-08,\n",
              "        -2.62517350e-08, -1.37263596e-08,  6.01466681e-08, -2.13659535e-09,\n",
              "         8.67117436e-08, -3.02039950e-07, -1.65353470e-07,  4.02764577e-08,\n",
              "         8.31777172e-08, -2.16611085e-08, -5.31203526e-08,  1.09066178e-07,\n",
              "        -1.85193002e-07, -2.20580830e-07, -3.44112427e-09, -8.20550312e-08,\n",
              "         1.41792469e-07,  1.30186805e-07,  1.19348471e-07,  1.32577441e-07,\n",
              "         3.11401863e-07,  5.53003403e-08,  9.45438288e-08,  1.62736143e-07,\n",
              "        -7.75034863e-08, -4.07493737e-08, -1.81704436e-07, -9.57416262e-08,\n",
              "         3.86360540e-07,  4.12897862e-07,  1.15877555e-07,  1.62647382e-07,\n",
              "         8.29253750e-08, -2.08566206e-07,  2.27305080e-07, -1.38321184e-07,\n",
              "        -1.77620976e-08,  1.62493503e-08, -1.68004703e-07, -1.53090966e-07,\n",
              "        -2.56355605e-07,  1.34266998e-07,  5.56332447e-09, -3.23273390e-08,\n",
              "         2.80289925e-07, -2.22078597e-07,  3.51004445e-07, -5.84068580e-08,\n",
              "        -1.40757479e-07,  6.46035332e-08,  5.18373682e-08,  1.06901972e-08,\n",
              "         1.80212201e-08, -2.95376668e-10, -1.43273525e-07,  9.28824164e-08,\n",
              "        -1.15247119e-07, -3.38149597e-08, -5.07081559e-08,  1.83064230e-08,\n",
              "        -2.40449765e-07,  1.18315761e-07, -1.06387063e-07, -1.19190062e-07,\n",
              "        -4.27085425e-08, -1.72553044e-07, -1.05571544e-07,  2.69313063e-07,\n",
              "         3.28405179e-08,  1.26263743e-07, -9.46902290e-08, -1.66635079e-08,\n",
              "         4.74122963e-09,  8.94174974e-08,  1.19904655e-07,  1.13775037e-07,\n",
              "         5.01768511e-08, -1.28905683e-07,  5.70559635e-08, -2.37527384e-08,\n",
              "         2.92839417e-07,  1.36091046e-07, -5.71850265e-08, -2.59689070e-08,\n",
              "        -2.06104204e-07, -1.54383386e-07, -1.39106533e-07,  7.07927086e-08,\n",
              "        -1.32486377e-07,  1.74764779e-07,  4.67765275e-08, -5.35552473e-08,\n",
              "        -4.24767332e-09, -1.80050037e-07,  1.45497991e-09, -5.54543149e-08,\n",
              "        -2.91664264e-07,  3.77974558e-08,  1.85525835e-07,  1.40449160e-07,\n",
              "        -2.00174227e-07,  8.01248348e-08, -2.21187122e-07, -3.78597100e-08,\n",
              "        -9.26198069e-08, -2.91341678e-07, -4.44296333e-08,  1.67932910e-07,\n",
              "        -2.19010701e-07, -2.87951963e-07,  6.73270861e-08, -1.33328456e-07,\n",
              "         1.33600508e-07, -2.71140728e-08, -1.98609229e-07, -1.64919967e-07,\n",
              "        -5.19374019e-08,  2.22578890e-07,  2.76789081e-07,  1.89817143e-07,\n",
              "        -2.43515700e-07,  2.63941303e-07, -7.40086437e-09,  4.43042802e-09,\n",
              "         2.53947775e-07, -5.50483996e-08, -2.67593322e-07,  2.49379212e-07,\n",
              "        -3.48400249e-07, -2.22929657e-07,  1.63340005e-07, -4.26500826e-08,\n",
              "         8.03749529e-08, -8.58021352e-08, -2.92395121e-08,  3.54092151e-07,\n",
              "         1.59397487e-07,  7.17582793e-08, -2.07830482e-07,  2.46485172e-07,\n",
              "        -1.63951754e-07, -3.91201496e-07, -3.74625131e-07,  1.34057117e-07,\n",
              "        -1.21875331e-07,  5.98353296e-08, -1.71492776e-08, -1.45426995e-07,\n",
              "         1.98600475e-07,  1.76739064e-07,  2.20234142e-08, -7.21847044e-08,\n",
              "        -7.74194362e-08, -1.62914535e-08, -3.93269062e-08, -3.48918263e-08,\n",
              "        -1.06897467e-07,  1.16873963e-07, -1.74722473e-07,  1.34385630e-07,\n",
              "         2.97236102e-08, -1.62722813e-07, -1.87245348e-07, -1.56910801e-07,\n",
              "         2.14719677e-07, -1.31718011e-07, -4.05580209e-08, -1.36677343e-07,\n",
              "        -8.79709532e-08, -9.26376416e-08, -1.44619506e-07, -2.65553865e-07,\n",
              "        -8.38135605e-08, -3.18620650e-08, -5.74284487e-09, -3.54675905e-07,\n",
              "         2.85137730e-07, -2.35059474e-07,  1.89348100e-07, -2.85467401e-08,\n",
              "        -1.84266735e-08, -1.02211807e-07,  1.62043434e-10, -1.52679061e-08,\n",
              "         1.24267970e-07,  3.27971250e-08, -1.53147042e-07,  1.44886513e-07,\n",
              "        -9.97204719e-09, -2.24884378e-08, -2.17678391e-07, -2.14352660e-08,\n",
              "         2.82234947e-08,  1.21007488e-07,  2.73714278e-07,  1.37780987e-07,\n",
              "        -9.82191395e-08, -2.12346265e-07, -2.20570243e-07,  3.60426107e-08,\n",
              "        -4.72408601e-08, -1.21469824e-07,  9.50590007e-08, -3.43140947e-08,\n",
              "        -1.79345392e-07,  1.46859890e-07,  2.20819530e-07,  1.76608438e-07,\n",
              "        -2.69670494e-07,  6.13813711e-08,  1.56992613e-07,  1.26533664e-07],\n",
              "       dtype=float32),\n",
              " array([[-0.00334131, -0.01712719, -0.00342076, ..., -0.01641931,\n",
              "          0.01807359,  0.02654082],\n",
              "        [ 0.02811771, -0.03057634, -0.02654728, ...,  0.016124  ,\n",
              "          0.02194517,  0.01886858],\n",
              "        [-0.03333028,  0.01916269,  0.01143403, ...,  0.00861505,\n",
              "         -0.01889172, -0.01100056],\n",
              "        ...,\n",
              "        [-0.01280667,  0.03501953, -0.01759307, ...,  0.01644669,\n",
              "         -0.00160053, -0.03444802],\n",
              "        [ 0.00376112, -0.0208178 ,  0.03322353, ..., -0.02308172,\n",
              "         -0.03166011, -0.00032638],\n",
              "        [ 0.03023597,  0.0195809 , -0.03366455, ...,  0.01858016,\n",
              "         -0.0266331 ,  0.00607545]], dtype=float32),\n",
              " array([ 2.6265632e-11, -3.9153139e-11,  3.7446522e-15, ...,\n",
              "         7.3494412e-11,  7.7391572e-11,  6.1537858e-11], dtype=float32),\n",
              " array([[[[-5.33459336e-02,  7.76956752e-02, -7.70450011e-02,\n",
              "           -5.31169735e-02, -3.12675722e-02,  4.22220826e-02,\n",
              "           -4.77704071e-02, -4.94203456e-02,  5.46712317e-02,\n",
              "            4.30128388e-02, -4.57834005e-02,  3.75863016e-02,\n",
              "            4.80749086e-02,  5.14643826e-02, -5.89732267e-02,\n",
              "           -8.51950515e-03, -3.40445759e-03, -1.00564852e-01,\n",
              "            7.94794559e-02, -7.09420592e-02,  9.17287171e-02,\n",
              "           -4.55644652e-02, -2.93998607e-02, -8.98231119e-02,\n",
              "           -1.58085730e-02, -9.48877484e-02, -2.72738412e-02,\n",
              "            4.54118066e-02,  2.17668116e-02, -1.77343562e-02,\n",
              "           -6.79642335e-02,  1.16222044e-02, -8.19567218e-02,\n",
              "           -7.19487071e-02,  1.52748255e-02, -2.11619749e-03,\n",
              "           -1.65932234e-02,  1.00417018e-01, -2.57338630e-03,\n",
              "            1.00659385e-01,  4.55180444e-02,  8.75749588e-02,\n",
              "            4.60824370e-03, -6.43697530e-02,  1.23662511e-02,\n",
              "           -6.91413283e-02, -1.05225947e-02,  2.48562321e-02,\n",
              "            3.34816799e-02, -3.97918485e-02, -7.60838855e-03,\n",
              "            6.74701389e-03,  8.55913907e-02,  7.74601102e-02,\n",
              "            7.75332749e-02,  7.14284256e-02,  8.18967298e-02,\n",
              "           -3.64483967e-02,  1.05836964e-03,  9.28679295e-03,\n",
              "           -5.05697588e-03,  4.04904149e-02,  2.32910644e-02,\n",
              "           -6.31329864e-02]],\n",
              " \n",
              "         [[-3.57108340e-02,  6.31360337e-02, -1.99682955e-02,\n",
              "           -1.52989263e-02,  8.85819271e-02, -1.88291855e-02,\n",
              "           -9.43600461e-02,  3.67868319e-02,  6.20306619e-02,\n",
              "            9.74277556e-02,  7.67643228e-02,  1.00584298e-01,\n",
              "            4.48343717e-02, -4.84297499e-02,  1.40386485e-02,\n",
              "            2.51609404e-02, -7.88362622e-02, -9.11418945e-02,\n",
              "            9.04875249e-02,  7.11662276e-03,  2.58706659e-02,\n",
              "           -6.42583892e-02,  4.98587154e-02,  7.88590163e-02,\n",
              "           -1.34506365e-02,  1.90861467e-02, -5.70643647e-03,\n",
              "            4.23382409e-02, -1.00261420e-01, -2.47458220e-02,\n",
              "            6.46571741e-02,  7.68734962e-02,  1.62673742e-02,\n",
              "            1.47620523e-02,  7.78884739e-02,  7.37233311e-02,\n",
              "            6.47344589e-02, -2.12555211e-02,  8.49643722e-02,\n",
              "           -9.22645703e-02,  4.92276996e-02, -8.74086469e-02,\n",
              "           -6.45799041e-02,  8.44383091e-02, -1.83721830e-03,\n",
              "            8.30942858e-03, -9.40640196e-02,  4.07114290e-02,\n",
              "            8.72688144e-02, -6.52347878e-02, -2.59415563e-02,\n",
              "           -4.20758612e-02,  6.38589859e-02, -1.03713721e-02,\n",
              "            7.58250430e-02, -2.19786391e-02,  3.87296826e-02,\n",
              "           -1.37560535e-03, -6.00727759e-02,  2.15079486e-02,\n",
              "            9.56797600e-03,  7.07056280e-03, -7.76384473e-02,\n",
              "           -3.09214443e-02]],\n",
              " \n",
              "         [[-4.01753075e-02,  9.72601175e-02, -7.99432173e-02,\n",
              "            6.90035746e-02, -7.72583671e-03, -7.05776177e-03,\n",
              "           -4.19845097e-02, -4.49923351e-02, -5.46342470e-02,\n",
              "            3.98958614e-03,  7.73116499e-02,  2.58738250e-02,\n",
              "           -7.05344304e-02,  8.90237000e-03,  8.97662714e-03,\n",
              "            5.80997467e-02, -3.49368900e-02,  3.11298035e-02,\n",
              "           -8.06062222e-02,  6.42293990e-02, -9.31846350e-02,\n",
              "            9.96917337e-02, -2.62887646e-02, -5.79073280e-02,\n",
              "           -8.64198357e-02,  7.74218887e-02, -9.42647159e-02,\n",
              "           -4.64591272e-02, -1.82907209e-02,  5.32837063e-02,\n",
              "           -1.43968845e-02,  1.55467587e-02,  5.42716235e-02,\n",
              "            2.74426974e-02, -9.29434225e-02,  2.08673831e-02,\n",
              "            2.10090056e-02,  2.16676276e-02, -4.44388688e-02,\n",
              "           -3.62206250e-02, -5.65448254e-02, -3.25541086e-02,\n",
              "           -8.66857469e-02, -9.89952981e-02, -3.86012122e-02,\n",
              "           -4.02364247e-02,  3.81367505e-02,  7.31703043e-02,\n",
              "            3.05878986e-02,  6.62567019e-02, -1.06854094e-02,\n",
              "           -5.41001223e-02, -3.70243527e-02, -3.91177461e-02,\n",
              "           -7.81508684e-02, -6.34066761e-02,  7.12102950e-02,\n",
              "           -6.20320700e-02, -4.65234555e-02,  8.39881599e-02,\n",
              "           -6.13402016e-02,  2.28318721e-02,  2.07747304e-04,\n",
              "            3.68667766e-02]]],\n",
              " \n",
              " \n",
              "        [[[ 9.79412422e-02,  6.12611473e-02,  8.04541856e-02,\n",
              "            3.80475335e-02,  1.76775195e-02,  2.27916241e-02,\n",
              "            3.37411538e-02,  1.64480768e-02, -7.28632212e-02,\n",
              "           -1.46263363e-02, -7.06066266e-02, -7.22455531e-02,\n",
              "            5.20482138e-02,  5.38890213e-02,  1.33950403e-02,\n",
              "           -6.11772686e-02, -5.33968844e-02,  9.82138664e-02,\n",
              "           -8.12482685e-02, -8.94810408e-02, -6.95943236e-02,\n",
              "            2.91273855e-02, -2.09988356e-02, -4.72223982e-02,\n",
              "            3.28949057e-02, -8.02686512e-02, -7.49850646e-02,\n",
              "            7.41276294e-02, -4.22547571e-02, -5.49735427e-02,\n",
              "            9.97704268e-02,  3.87118310e-02,  5.91809116e-02,\n",
              "            6.17220327e-02, -5.67522980e-02,  2.14183088e-02,\n",
              "            3.82208638e-02,  7.24129230e-02,  8.84061828e-02,\n",
              "           -4.16628383e-02, -7.19465911e-02,  7.92987347e-02,\n",
              "            5.66920936e-02, -2.98799742e-02, -7.16161681e-04,\n",
              "            1.30185494e-02, -2.11150050e-02, -4.57846001e-02,\n",
              "            4.57462035e-02,  6.35964423e-02,  1.02348179e-02,\n",
              "           -1.29317241e-02,  9.06035081e-02,  4.73457389e-03,\n",
              "            2.28557363e-02, -1.00704342e-01,  2.24935766e-02,\n",
              "           -8.79354104e-02, -6.87347446e-03,  6.05561435e-02,\n",
              "            8.10811222e-02, -7.49578327e-02,  7.19473809e-02,\n",
              "           -8.00259635e-02]],\n",
              " \n",
              "         [[ 7.62721375e-02, -5.17909266e-02, -8.50370675e-02,\n",
              "            6.17654771e-02, -6.28001839e-02, -8.89614969e-02,\n",
              "            3.32120955e-02,  5.33806160e-02, -7.08659291e-02,\n",
              "           -4.92408648e-02, -5.49932607e-02,  7.94235989e-03,\n",
              "            4.49478364e-04, -3.39961648e-02,  7.22725987e-02,\n",
              "           -1.34587334e-02,  1.30842021e-02, -4.16060351e-02,\n",
              "            6.72695562e-02,  9.81724709e-02, -8.60808119e-02,\n",
              "           -8.89616683e-02,  7.97255710e-02, -1.79264843e-02,\n",
              "           -5.24888895e-02,  1.71766989e-02, -5.35754443e-05,\n",
              "           -3.41922268e-02,  2.03670226e-02, -6.69841319e-02,\n",
              "           -4.11511809e-02,  6.45571053e-02,  4.24289703e-02,\n",
              "            2.50650886e-02, -9.53279436e-02,  8.78549665e-02,\n",
              "            5.40874433e-03,  2.73810066e-02, -9.61246192e-02,\n",
              "            4.82160747e-02, -6.09401800e-02, -4.82147895e-02,\n",
              "            7.96689615e-02,  3.10067944e-02,  2.43866593e-02,\n",
              "            7.76400864e-02, -1.50045473e-02, -9.38913785e-03,\n",
              "           -7.10073188e-02,  3.42780091e-02,  4.44410220e-02,\n",
              "           -4.63385601e-03, -7.30426535e-02, -5.89665957e-02,\n",
              "           -8.10548365e-02, -2.51990724e-02, -7.31346607e-02,\n",
              "           -4.26229760e-02, -3.53205502e-02, -3.30957100e-02,\n",
              "            1.65273305e-02, -1.98971033e-02, -4.57004756e-02,\n",
              "            7.00602233e-02]],\n",
              " \n",
              "         [[ 8.42796862e-02, -3.83367836e-02, -8.18909705e-02,\n",
              "            6.65565729e-02, -9.31386650e-02, -3.09028197e-02,\n",
              "            7.16352016e-02, -8.55618715e-02, -3.53529537e-03,\n",
              "           -9.68954992e-03,  5.67014068e-02, -6.76260963e-02,\n",
              "            5.88586740e-02,  7.44066834e-02,  5.26470430e-02,\n",
              "            7.91540891e-02,  2.06746999e-02,  3.34340669e-02,\n",
              "            7.91959316e-02, -1.15091112e-02,  5.45580536e-02,\n",
              "           -9.90026146e-02,  1.85261406e-02,  6.74451143e-02,\n",
              "           -9.18186456e-02,  6.17369683e-03,  1.59821529e-02,\n",
              "           -2.25689225e-02,  3.27533856e-03,  7.93946981e-02,\n",
              "           -7.05258623e-02,  9.39058363e-02,  3.51653993e-02,\n",
              "            2.35440824e-02,  7.22159594e-02, -1.92798849e-03,\n",
              "           -6.02400638e-02, -6.57672733e-02,  6.30628243e-02,\n",
              "            8.80131871e-02,  4.68948344e-03,  2.07262337e-02,\n",
              "            2.31966991e-02, -2.31041387e-02, -8.78056958e-02,\n",
              "            7.41811842e-02,  2.76650377e-02, -7.60171711e-02,\n",
              "            9.45776924e-02,  6.99354112e-02,  4.39961664e-02,\n",
              "            3.67061794e-02,  5.01264520e-02, -9.31119546e-02,\n",
              "            8.76457840e-02, -8.93507302e-02, -3.84048522e-02,\n",
              "            6.73783123e-02,  2.02751178e-02, -1.67778656e-02,\n",
              "           -4.26089242e-02, -5.65705299e-02,  7.64972996e-03,\n",
              "           -2.41979593e-04]]],\n",
              " \n",
              " \n",
              "        [[[ 6.21584728e-02, -4.43695905e-03, -6.38363510e-02,\n",
              "           -2.31868532e-02,  2.77463086e-02, -3.61945257e-02,\n",
              "            6.18467033e-02, -4.48906533e-02, -4.56519201e-02,\n",
              "           -5.17603848e-03, -4.49922420e-02,  3.01714391e-02,\n",
              "            8.74537751e-02,  5.96337616e-02, -9.05277953e-02,\n",
              "           -3.76874506e-02, -7.35007152e-02, -6.41573668e-02,\n",
              "            4.13448289e-02,  6.90717101e-02, -2.53568888e-02,\n",
              "            9.99092609e-02, -9.31971222e-02,  4.16176841e-02,\n",
              "            2.44719312e-02, -7.81335831e-02, -9.84042138e-02,\n",
              "            1.25217456e-02,  2.76945829e-02,  2.87145823e-02,\n",
              "            8.40438455e-02, -2.80734487e-02, -5.49276173e-02,\n",
              "            4.66356426e-02,  1.06092831e-02, -6.54029753e-03,\n",
              "            9.67167020e-02,  9.30489600e-03,  9.12097767e-02,\n",
              "           -3.62639055e-02,  8.54862481e-02,  7.67212659e-02,\n",
              "            8.72637928e-02, -6.20015748e-02, -3.13390642e-02,\n",
              "            8.15294832e-02,  8.06220025e-02, -6.57331496e-02,\n",
              "            3.51336115e-04,  8.08117539e-02, -6.00458682e-02,\n",
              "            8.70136321e-02, -5.55744357e-02,  6.37348220e-02,\n",
              "           -7.95061365e-02, -1.00352857e-02, -7.34979883e-02,\n",
              "            8.67481977e-02, -3.79728526e-02, -7.40808398e-02,\n",
              "            8.64777416e-02,  4.47882302e-02,  1.63872913e-02,\n",
              "           -8.80948901e-02]],\n",
              " \n",
              "         [[ 3.42119522e-02, -6.84872270e-02, -1.51467733e-02,\n",
              "           -5.75304627e-02,  2.44795121e-02,  6.70509413e-02,\n",
              "           -3.34099904e-02,  8.01045895e-02,  2.50342581e-02,\n",
              "            7.63979629e-02,  5.62019013e-02, -7.51012117e-02,\n",
              "           -7.73743689e-02, -3.94412465e-02, -1.37953786e-02,\n",
              "            8.99812877e-02,  8.44245255e-02,  4.40258980e-02,\n",
              "           -3.31113450e-02, -5.04691973e-02,  3.95651050e-02,\n",
              "           -3.76852751e-02, -2.78520174e-02, -6.29247278e-02,\n",
              "            4.38543372e-02,  2.05035042e-02, -3.44558060e-02,\n",
              "           -8.46790597e-02, -1.14682363e-03, -9.42084789e-02,\n",
              "           -6.67011365e-02,  5.12288734e-02,  6.33145794e-02,\n",
              "            3.38004082e-02, -1.14721404e-02, -7.43242055e-02,\n",
              "            2.20878385e-02,  3.34647968e-02, -2.62039229e-02,\n",
              "           -9.91708860e-02, -1.55338971e-02,  5.86421490e-02,\n",
              "            7.34147578e-02, -5.28082140e-02, -2.00940669e-03,\n",
              "            7.38022402e-02, -9.74932984e-02, -7.39360377e-02,\n",
              "            3.97424810e-02,  9.56003070e-02, -5.99538088e-02,\n",
              "           -3.39162946e-02,  3.56207341e-02, -8.45395252e-02,\n",
              "           -6.41938001e-02, -6.25063339e-03,  3.37604899e-03,\n",
              "           -1.71926152e-02, -7.20540583e-02, -2.28922125e-02,\n",
              "            1.77585129e-02, -5.53875417e-02,  1.13336304e-02,\n",
              "            9.46245193e-02]],\n",
              " \n",
              "         [[ 6.59071952e-02,  9.11805555e-02,  2.67927889e-02,\n",
              "           -1.35723744e-02,  7.33123124e-02,  9.95069146e-02,\n",
              "           -4.50753681e-02, -5.52114733e-02, -6.10407963e-02,\n",
              "           -7.45644942e-02, -7.09938183e-02, -5.71045093e-02,\n",
              "           -6.57325611e-03,  6.57517137e-03,  1.84764210e-02,\n",
              "            9.05331075e-02, -3.50223407e-02, -3.10122035e-02,\n",
              "            9.19090584e-02, -7.01557100e-02, -9.48712081e-02,\n",
              "           -2.53322292e-02,  4.97659557e-02, -3.83255184e-02,\n",
              "            5.04208170e-02, -9.51948985e-02, -4.74448279e-02,\n",
              "            5.97811900e-02, -9.82202217e-02, -5.69249168e-02,\n",
              "           -5.60742915e-02,  5.61982021e-02,  1.78883150e-02,\n",
              "            2.88141407e-02, -5.19421138e-02,  9.30632800e-02,\n",
              "            1.14058685e-02, -1.61282867e-02,  8.58390331e-02,\n",
              "           -5.24235517e-02, -1.49321016e-02,  5.83337508e-02,\n",
              "            7.86197111e-02, -8.12769979e-02, -6.94558471e-02,\n",
              "            2.34402381e-02, -8.20311606e-02,  7.38086030e-02,\n",
              "           -1.67566480e-03,  2.10927445e-02,  2.06643324e-02,\n",
              "           -7.11581409e-02,  3.04271970e-02, -1.48117514e-02,\n",
              "           -3.44070867e-02,  1.79391839e-02,  1.39274830e-02,\n",
              "           -6.26150221e-02, -7.15333596e-02,  4.19632867e-02,\n",
              "           -9.33751687e-02,  1.76818762e-02,  6.20208010e-02,\n",
              "           -6.78602308e-02]]]], dtype=float32),\n",
              " array([-3.57508034e-05,  1.45697022e-05, -8.80241998e-07, -1.26582772e-05,\n",
              "         3.09260486e-06,  2.72060880e-08,  1.11996460e-05,  8.81896358e-06,\n",
              "        -3.16705450e-06,  1.35034970e-05,  9.56743588e-06,  3.30549574e-06,\n",
              "         6.91315245e-06, -1.15768785e-07, -2.87695930e-05, -2.85489875e-07,\n",
              "         9.51816855e-06,  8.57858140e-06, -1.76015346e-05,  8.60323780e-06,\n",
              "        -8.82241966e-06,  2.48723666e-07, -3.14053832e-05, -1.12129851e-06,\n",
              "         1.13047217e-05,  2.00632303e-06, -7.59653460e-07,  7.28230088e-06,\n",
              "         2.64581729e-07,  8.79035667e-07, -1.57161703e-05,  1.52634784e-05,\n",
              "        -9.05206434e-06, -1.18928465e-05,  2.55681562e-06,  5.41035297e-06,\n",
              "        -2.23052102e-05,  1.11227955e-05, -1.88895665e-05,  1.00157476e-05,\n",
              "         1.45322610e-05, -1.93656797e-05, -1.93187752e-05,  1.83491568e-06,\n",
              "        -2.76779360e-06, -2.93929429e-06,  2.48115907e-06,  1.38471778e-05,\n",
              "        -1.57513277e-05, -8.26304858e-06,  1.21097592e-05,  3.55982274e-06,\n",
              "        -1.26469131e-05, -3.83120414e-06,  5.57709700e-06, -5.54949293e-06,\n",
              "        -1.07208807e-05,  1.08082304e-06, -8.92497326e-07, -3.05104550e-06,\n",
              "         1.34988341e-06,  2.98587082e-07,  9.33996432e-07, -9.07049343e-06],\n",
              "       dtype=float32),\n",
              " array([[[[-2.35524215e-02,  2.41503809e-02, -2.69840620e-02, ...,\n",
              "           -2.47018179e-03,  2.33077724e-02,  2.48358902e-02],\n",
              "          [ 1.57044139e-02, -2.49763671e-02, -1.54019380e-02, ...,\n",
              "           -1.21116145e-02,  1.41901169e-02,  2.52439175e-02],\n",
              "          [-6.30138256e-03,  8.61146860e-03,  5.17564453e-03, ...,\n",
              "           -1.05485581e-02, -2.46372819e-02, -2.69255973e-02],\n",
              "          ...,\n",
              "          [ 6.55216537e-03, -2.81189778e-03,  1.73321310e-02, ...,\n",
              "            2.42056865e-02,  1.55388173e-02,  2.17513833e-02],\n",
              "          [ 2.08198819e-02, -4.53401404e-03, -2.16219518e-02, ...,\n",
              "           -1.79666595e-03,  9.65067931e-03, -1.46272974e-02],\n",
              "          [-1.55243017e-02,  1.96069758e-02,  2.71334257e-02, ...,\n",
              "           -6.49984740e-03, -3.76571366e-03, -6.51839003e-03]],\n",
              " \n",
              "         [[ 1.21883741e-02,  1.02535877e-02, -1.71086043e-02, ...,\n",
              "           -2.10645068e-02, -5.50312409e-03,  2.54899208e-02],\n",
              "          [-1.88475922e-02,  2.50270758e-02, -2.03917662e-04, ...,\n",
              "           -2.31506880e-02, -2.77521405e-02, -2.36568917e-02],\n",
              "          [-1.66553073e-02,  1.02952519e-03,  1.80536043e-02, ...,\n",
              "           -1.72795653e-02, -1.44620853e-05, -1.89077593e-02],\n",
              "          ...,\n",
              "          [-2.71654986e-02, -4.55746986e-03, -2.76762247e-02, ...,\n",
              "            2.50756610e-02,  1.77114885e-02,  2.24500149e-03],\n",
              "          [-6.72191754e-03,  2.68740058e-02,  2.61720959e-02, ...,\n",
              "            2.70928461e-02, -2.02730373e-02, -1.31054651e-02],\n",
              "          [-2.56596133e-02, -2.34786477e-02, -6.24223426e-03, ...,\n",
              "           -2.01000050e-02,  2.69303005e-02, -5.87526895e-03]],\n",
              " \n",
              "         [[-1.83403492e-02, -9.55765136e-03, -5.31977508e-04, ...,\n",
              "           -7.10753957e-03, -1.97995771e-02,  2.31149467e-03],\n",
              "          [-2.68757138e-02,  6.45571901e-03, -1.14818113e-02, ...,\n",
              "            5.07092662e-03, -3.38429096e-03, -2.56019160e-02],\n",
              "          [-7.96169788e-03,  2.26155575e-02,  1.93011295e-02, ...,\n",
              "            1.32567305e-02, -2.42107306e-02,  2.31331643e-02],\n",
              "          ...,\n",
              "          [ 2.81246350e-04,  1.56147163e-02,  7.57953711e-03, ...,\n",
              "            1.90241132e-02,  1.47079248e-02, -1.73229650e-02],\n",
              "          [-1.62321515e-02,  1.31082218e-02, -7.86617678e-03, ...,\n",
              "            3.38859600e-03,  2.31596027e-02,  1.94065589e-02],\n",
              "          [ 1.07279886e-02,  1.64977368e-02, -2.57564448e-02, ...,\n",
              "            2.72414405e-02,  1.53716598e-02, -1.22019779e-02]],\n",
              " \n",
              "         ...,\n",
              " \n",
              "         [[ 2.16734614e-02, -1.67630473e-03,  1.41250622e-03, ...,\n",
              "            2.07046121e-02, -3.17201461e-03,  2.23795678e-02],\n",
              "          [ 2.28957664e-02, -2.24197768e-02, -8.75177234e-03, ...,\n",
              "            1.23243267e-02,  8.69038515e-04, -2.39544120e-02],\n",
              "          [-2.13356744e-02, -8.43937509e-03, -5.84401004e-03, ...,\n",
              "           -4.55310568e-03, -1.38611533e-02, -1.56850684e-02],\n",
              "          ...,\n",
              "          [ 3.16091697e-03, -7.99204223e-03,  2.41480339e-02, ...,\n",
              "            1.89341512e-02,  8.34549032e-03, -1.25031006e-02],\n",
              "          [-7.05746748e-03, -1.12763215e-02, -2.25973018e-02, ...,\n",
              "           -7.83961453e-03, -2.63630878e-02, -3.14953597e-03],\n",
              "          [-2.65234374e-02, -1.40669243e-03, -1.44468285e-02, ...,\n",
              "           -1.54229132e-02, -3.67723219e-03, -2.62414552e-02]],\n",
              " \n",
              "         [[-1.69108564e-03, -2.40876060e-02, -1.89000331e-02, ...,\n",
              "           -1.18491128e-02,  4.98357601e-03, -1.94028788e-03],\n",
              "          [ 2.14092527e-02, -1.02882413e-02, -1.44593129e-02, ...,\n",
              "           -5.64727653e-03,  2.45944727e-02,  1.12626944e-02],\n",
              "          [-1.74048077e-02, -2.26682685e-02,  1.80706177e-02, ...,\n",
              "            1.36262458e-02, -5.86026907e-03,  1.15547571e-02],\n",
              "          ...,\n",
              "          [ 2.09157746e-02, -1.44022203e-03,  6.14779629e-03, ...,\n",
              "            2.59916130e-02,  1.75023545e-02,  1.09927375e-02],\n",
              "          [-8.10005330e-03,  1.84185468e-02,  9.75236110e-03, ...,\n",
              "            8.35212041e-03, -2.47182176e-02,  5.66334417e-03],\n",
              "          [-1.37561625e-02, -9.56564303e-03, -5.50210802e-03, ...,\n",
              "           -4.68211155e-03,  1.32533703e-02,  1.09973233e-02]],\n",
              " \n",
              "         [[ 4.40404704e-03, -1.46474736e-02,  4.32595331e-03, ...,\n",
              "           -1.60077121e-02, -1.01839565e-02, -2.65093092e-02],\n",
              "          [ 1.53911123e-02, -8.72785866e-04, -7.50028156e-03, ...,\n",
              "           -2.52196137e-02,  1.43150110e-02,  4.97848261e-03],\n",
              "          [ 1.24540012e-02, -1.97384488e-02,  2.73540225e-02, ...,\n",
              "           -1.60612334e-02,  2.27011759e-02,  1.14835110e-02],\n",
              "          ...,\n",
              "          [-3.68267950e-03,  1.86041314e-02, -2.28176378e-02, ...,\n",
              "            6.20380882e-03,  2.40225252e-02,  3.40685621e-03],\n",
              "          [-2.27767625e-03, -1.97734237e-02,  1.58313494e-02, ...,\n",
              "            4.93316911e-03,  9.74576361e-03, -4.14885534e-03],\n",
              "          [-9.30439122e-03,  2.56373622e-02,  1.25042805e-02, ...,\n",
              "            1.74945034e-02,  2.72015948e-02, -9.73821431e-03]]],\n",
              " \n",
              " \n",
              "        [[[ 1.03669660e-03, -6.25811005e-03,  1.01101929e-02, ...,\n",
              "           -2.47883629e-02,  1.90297235e-02,  6.49888627e-03],\n",
              "          [ 1.09416042e-02,  1.25067243e-02,  3.54213081e-03, ...,\n",
              "           -1.26074115e-02,  1.28431935e-02,  8.84180609e-03],\n",
              "          [ 1.40990298e-02,  2.03270186e-02, -1.41616333e-02, ...,\n",
              "           -1.41162742e-02,  5.67588024e-03, -7.35841878e-03],\n",
              "          ...,\n",
              "          [-4.96459007e-03,  2.45600659e-02, -2.15851329e-02, ...,\n",
              "           -2.64029298e-02,  1.99817028e-02, -2.66090762e-02],\n",
              "          [-1.07160416e-02,  1.22820940e-02, -1.41872633e-02, ...,\n",
              "           -1.50559656e-02, -6.70383312e-03, -1.92775726e-02],\n",
              "          [-2.65257489e-02,  2.57311184e-02, -1.39434673e-02, ...,\n",
              "            1.00504812e-02, -8.66317749e-03,  7.80039467e-03]],\n",
              " \n",
              "         [[ 9.80081316e-03,  4.37405892e-03, -1.01281386e-02, ...,\n",
              "           -7.69363530e-03, -1.55055309e-02, -1.73382629e-02],\n",
              "          [ 1.40661467e-02,  2.51397900e-02, -1.26854414e-02, ...,\n",
              "           -1.89784914e-02,  2.50154678e-02,  9.54214577e-03],\n",
              "          [ 3.03423405e-03,  1.66309197e-02, -2.50663161e-02, ...,\n",
              "           -2.91674095e-03,  1.75824817e-02, -2.33420394e-02],\n",
              "          ...,\n",
              "          [-1.05015300e-02,  2.19476540e-02, -7.59190321e-03, ...,\n",
              "           -1.77383944e-02,  1.68700088e-02, -1.38475280e-03],\n",
              "          [ 2.22436320e-02, -1.42622367e-02, -1.22084068e-02, ...,\n",
              "           -7.43237650e-03, -9.94936004e-03,  1.11763421e-02],\n",
              "          [-2.66198590e-02, -5.78770367e-03,  8.20553489e-03, ...,\n",
              "            2.65807975e-02, -2.11870000e-02, -2.81144516e-03]],\n",
              " \n",
              "         [[ 4.71953535e-03, -6.21399796e-03,  2.67056786e-02, ...,\n",
              "            1.49588743e-02,  8.26554652e-03, -2.40751710e-02],\n",
              "          [ 5.80446608e-03,  1.43246409e-02, -1.71456803e-02, ...,\n",
              "            2.02221964e-02,  1.40533913e-02, -2.43756771e-02],\n",
              "          [-5.11350855e-03,  2.54328977e-02, -1.64589621e-02, ...,\n",
              "            5.19585051e-03,  9.81808268e-03, -1.92500278e-02],\n",
              "          ...,\n",
              "          [-7.95212016e-03, -1.02820364e-03,  2.34084744e-02, ...,\n",
              "           -1.86797306e-02,  4.88782115e-03, -6.24963269e-03],\n",
              "          [ 1.48740504e-03,  2.46765511e-03, -2.04402562e-02, ...,\n",
              "           -1.69818327e-02, -7.56348483e-03,  4.38970886e-03],\n",
              "          [-5.47527522e-03, -1.24550518e-02, -6.46097632e-03, ...,\n",
              "            1.80502748e-03,  2.02780645e-02, -1.89004801e-02]],\n",
              " \n",
              "         ...,\n",
              " \n",
              "         [[ 2.77079660e-02,  2.01786757e-02, -1.96816493e-02, ...,\n",
              "            1.94683615e-02,  1.41466605e-02,  1.29348999e-02],\n",
              "          [-1.59630105e-02,  8.40549730e-03,  1.58513095e-02, ...,\n",
              "            3.61035485e-03,  1.83644169e-03,  1.64332595e-02],\n",
              "          [-2.32469775e-02, -2.21476294e-02,  3.82618047e-03, ...,\n",
              "            2.67856997e-02,  2.05071252e-02,  2.21412983e-02],\n",
              "          ...,\n",
              "          [ 2.07691584e-02,  5.73449768e-03,  2.56224740e-02, ...,\n",
              "            2.10920367e-02,  6.30875491e-03, -1.54427029e-02],\n",
              "          [-3.13812401e-03,  1.56671628e-02, -2.30720695e-02, ...,\n",
              "            3.69796949e-03, -2.39379015e-02, -7.22304126e-03],\n",
              "          [-1.79096982e-02, -9.92509630e-03, -1.64848529e-02, ...,\n",
              "            3.65097512e-04,  1.13149676e-02, -1.37803024e-02]],\n",
              " \n",
              "         [[-1.94564871e-02, -1.83842797e-02,  1.48415025e-02, ...,\n",
              "            2.49956623e-02,  8.76923464e-03, -2.49359682e-02],\n",
              "          [-2.46473290e-02, -1.67689417e-02,  4.25054599e-03, ...,\n",
              "           -1.41810765e-02, -4.27952409e-03,  2.67355386e-02],\n",
              "          [-1.82078220e-03,  2.00978201e-02, -8.99799750e-04, ...,\n",
              "           -2.08428763e-02, -1.89659595e-02, -1.35903098e-02],\n",
              "          ...,\n",
              "          [ 2.34442148e-02, -1.11143664e-02, -2.73837391e-02, ...,\n",
              "           -9.50584561e-03,  2.45851073e-02, -1.34674972e-02],\n",
              "          [-2.15181634e-02,  2.45718146e-03,  7.33035849e-03, ...,\n",
              "            1.11885527e-02, -1.21428166e-02,  1.81606878e-02],\n",
              "          [-2.39432976e-02,  1.19269025e-02, -1.45986984e-02, ...,\n",
              "           -3.89218982e-03,  9.89670865e-03,  1.63960773e-02]],\n",
              " \n",
              "         [[-2.05162317e-02, -8.13180208e-03,  1.92564335e-02, ...,\n",
              "            1.56314317e-02,  3.29887820e-03, -8.49921070e-03],\n",
              "          [-2.36539058e-02,  1.31288301e-02, -1.60700048e-03, ...,\n",
              "           -2.55411379e-02,  5.75417466e-03, -2.27188729e-02],\n",
              "          [-2.03895103e-02,  1.57322902e-02,  1.73966680e-02, ...,\n",
              "           -6.91397302e-03,  2.28246767e-02, -2.67139468e-02],\n",
              "          ...,\n",
              "          [ 7.25582428e-03, -2.08081603e-02, -9.58839315e-04, ...,\n",
              "           -1.94017030e-02, -5.95316663e-03, -6.62875175e-03],\n",
              "          [-1.86289363e-02,  4.05660691e-03, -1.52783459e-02, ...,\n",
              "           -9.44706332e-03,  1.51852574e-02, -8.92107375e-03],\n",
              "          [ 1.07827727e-02, -1.39843943e-02,  2.53249947e-02, ...,\n",
              "            9.89247020e-03, -1.08051691e-02, -2.62813102e-02]]],\n",
              " \n",
              " \n",
              "        [[[ 2.90961820e-03,  2.06089858e-02,  2.48332764e-03, ...,\n",
              "            8.95288176e-05,  1.14350934e-02, -1.03487205e-02],\n",
              "          [ 2.70312261e-02,  2.42662709e-02, -2.52450574e-02, ...,\n",
              "            2.54463013e-02, -1.92189403e-02, -1.75271416e-03],\n",
              "          [ 1.94943864e-02, -2.09885053e-02, -2.71562878e-02, ...,\n",
              "            2.67869290e-02,  6.77071698e-03, -1.37649309e-02],\n",
              "          ...,\n",
              "          [-1.61831975e-02, -2.45869928e-03,  5.51131612e-04, ...,\n",
              "           -2.76013766e-03,  3.94665636e-03, -1.47806406e-02],\n",
              "          [-7.01453350e-03,  1.80951953e-02,  9.62178595e-03, ...,\n",
              "           -2.31239423e-02, -1.26834782e-02, -1.03993677e-02],\n",
              "          [-2.74314033e-03,  7.43168360e-03,  1.02657396e-02, ...,\n",
              "            9.81163513e-03, -2.10085176e-02, -1.15053188e-02]],\n",
              " \n",
              "         [[ 4.42385877e-04, -1.66356172e-02,  2.29143314e-02, ...,\n",
              "           -1.22543480e-02,  1.62419956e-02, -1.13073131e-02],\n",
              "          [ 2.04660874e-02, -9.24974494e-03,  1.24838958e-02, ...,\n",
              "           -1.14052957e-02,  2.28174720e-02, -2.75100544e-02],\n",
              "          [-2.53044255e-03,  1.73736550e-03, -9.63965990e-03, ...,\n",
              "            2.49897707e-02,  1.77589934e-02, -2.09296010e-02],\n",
              "          ...,\n",
              "          [-5.54258376e-03,  1.89572256e-02, -4.72145795e-04, ...,\n",
              "            1.19243544e-02, -7.78892264e-03,  2.40001362e-02],\n",
              "          [ 2.06398424e-02,  7.19328411e-04, -1.81389898e-02, ...,\n",
              "           -1.26261832e-02, -9.09390114e-03, -1.51082082e-03],\n",
              "          [ 8.00913185e-05,  1.98249426e-02, -2.25130729e-02, ...,\n",
              "            1.46473795e-02, -4.58577648e-03, -8.94882903e-03]],\n",
              " \n",
              "         [[-1.15940571e-02,  9.43105202e-03, -2.72983909e-02, ...,\n",
              "           -1.36104003e-02,  1.81616861e-02, -1.66955069e-02],\n",
              "          [-2.22901292e-02,  2.20589358e-02,  2.46198252e-02, ...,\n",
              "           -6.17016107e-03,  7.40731368e-03, -1.36446692e-02],\n",
              "          [ 2.43696179e-02, -2.26398036e-02,  3.05902003e-03, ...,\n",
              "            1.73915345e-02, -9.10874270e-03, -2.28093863e-02],\n",
              "          ...,\n",
              "          [ 1.10665169e-02,  1.67239625e-02, -1.14699341e-02, ...,\n",
              "            1.48729999e-02, -1.05513539e-02, -2.72120573e-02],\n",
              "          [-1.52258473e-02, -1.83507930e-02,  1.76373851e-02, ...,\n",
              "           -5.34172542e-03,  5.89107908e-03,  2.08649579e-02],\n",
              "          [ 1.38243455e-02, -8.06530099e-03, -1.48498779e-02, ...,\n",
              "            2.46465281e-02, -1.73800848e-02, -3.13132652e-03]],\n",
              " \n",
              "         ...,\n",
              " \n",
              "         [[ 7.15416670e-03,  2.08231062e-02,  4.15117433e-03, ...,\n",
              "           -9.69516579e-03,  1.11349754e-03, -1.86048765e-02],\n",
              "          [ 1.96798127e-02,  1.95191260e-02,  9.34112817e-03, ...,\n",
              "            6.82704709e-03, -9.38466564e-03, -2.69061327e-02],\n",
              "          [-2.35293377e-02,  9.77877714e-03,  2.73142196e-03, ...,\n",
              "           -7.88505189e-03, -1.88189861e-03,  1.42573174e-02],\n",
              "          ...,\n",
              "          [ 2.42530312e-02,  1.78486239e-02, -1.75917409e-02, ...,\n",
              "           -2.26134527e-02, -6.67033531e-03,  3.85152735e-03],\n",
              "          [ 6.28161710e-03, -2.34143306e-02,  2.73174960e-02, ...,\n",
              "            1.88940112e-02, -1.28147341e-02, -2.15250980e-02],\n",
              "          [-5.42118726e-03, -1.29166218e-02,  5.00675943e-03, ...,\n",
              "           -4.06740932e-03,  2.91630276e-03, -2.74745096e-02]],\n",
              " \n",
              "         [[ 1.81159694e-02,  1.30142020e-02, -1.54004432e-04, ...,\n",
              "            7.33279809e-03,  2.06557382e-02, -1.50904022e-02],\n",
              "          [ 2.24735830e-02, -6.59966981e-03,  2.47892551e-02, ...,\n",
              "            2.72801910e-02, -2.44416930e-02, -2.00373344e-02],\n",
              "          [ 1.39752938e-03, -2.11935844e-02, -2.62905359e-02, ...,\n",
              "           -1.56361330e-02, -1.56480204e-02, -1.00160763e-02],\n",
              "          ...,\n",
              "          [-2.09176354e-02, -4.82317805e-03, -1.86045039e-02, ...,\n",
              "           -4.36880300e-03,  2.65485403e-04, -1.16965044e-02],\n",
              "          [-2.62587536e-02,  6.21568412e-03,  1.93271954e-02, ...,\n",
              "           -3.46019515e-03,  6.46035187e-04, -1.12854503e-02],\n",
              "          [-1.59088126e-03,  1.21847158e-02, -2.60481355e-03, ...,\n",
              "            6.57371758e-03, -8.14972259e-03, -2.28681900e-02]],\n",
              " \n",
              "         [[ 4.85822372e-03,  2.47522001e-03,  2.65285429e-02, ...,\n",
              "           -5.41999564e-03, -1.83619186e-02,  1.50130400e-02],\n",
              "          [ 2.47880146e-02, -1.81641169e-02, -5.08669764e-03, ...,\n",
              "            2.70324163e-02, -1.92141195e-03, -1.50783267e-02],\n",
              "          [-1.45169627e-02,  4.23249789e-03,  1.89167801e-02, ...,\n",
              "           -2.30975682e-03,  4.36825864e-03,  1.43330377e-02],\n",
              "          ...,\n",
              "          [ 1.12177748e-02,  2.33253967e-02,  9.59524047e-03, ...,\n",
              "            2.90913810e-03, -1.68488026e-02, -2.13973131e-02],\n",
              "          [ 2.66843643e-02,  1.17515922e-02, -1.67560522e-02, ...,\n",
              "            2.02322826e-02, -1.78332794e-02,  2.05759425e-02],\n",
              "          [ 2.27448028e-02, -1.32375024e-02,  2.40632016e-02, ...,\n",
              "            1.06919277e-02, -1.75717962e-03, -2.27374248e-02]]],\n",
              " \n",
              " \n",
              "        ...,\n",
              " \n",
              " \n",
              "        [[[ 2.42784200e-03, -7.89281446e-03,  2.57100561e-03, ...,\n",
              "            7.60584371e-03,  1.48693928e-02, -2.68035326e-02],\n",
              "          [-8.43282323e-03, -2.10115407e-02,  9.67207830e-03, ...,\n",
              "            1.89303439e-02,  2.56531369e-02,  4.33764188e-03],\n",
              "          [-5.97842503e-03,  2.36167777e-02,  1.95661578e-02, ...,\n",
              "           -9.63637605e-03, -1.64634846e-02,  2.44358499e-02],\n",
              "          ...,\n",
              "          [ 6.24566805e-03, -2.30344143e-02, -1.76133923e-02, ...,\n",
              "            2.11302098e-03, -6.40363805e-03,  2.11056508e-03],\n",
              "          [-5.06272539e-03,  3.81900230e-03, -2.62105614e-02, ...,\n",
              "            2.33299099e-02, -9.26239602e-03, -5.73939877e-03],\n",
              "          [-1.69574954e-02, -2.24366188e-02, -1.35237249e-02, ...,\n",
              "            2.77351239e-03,  1.64328869e-02,  1.27216447e-02]],\n",
              " \n",
              "         [[-1.77599080e-02,  2.44498979e-02, -2.47616917e-02, ...,\n",
              "           -7.46079115e-03, -8.79223109e-04,  2.38589924e-02],\n",
              "          [ 2.05332432e-02,  1.72884278e-02, -2.07301639e-02, ...,\n",
              "           -1.34361126e-02,  8.10683332e-03,  1.70479044e-02],\n",
              "          [ 4.02456010e-03, -9.25201923e-03, -1.69019625e-02, ...,\n",
              "            2.06452813e-02,  1.80540141e-02,  2.57621892e-03],\n",
              "          ...,\n",
              "          [-1.60711817e-02,  4.05910797e-03, -7.77138164e-03, ...,\n",
              "            1.56026194e-03, -2.67982744e-02,  1.85230765e-02],\n",
              "          [ 9.68804769e-03,  1.49180857e-03, -9.10896435e-03, ...,\n",
              "            2.61869896e-02,  5.89753501e-03, -1.34974252e-02],\n",
              "          [-2.48149708e-02, -1.39037864e-02,  2.51338948e-02, ...,\n",
              "           -2.52895094e-02, -2.01585162e-02, -2.59962678e-02]],\n",
              " \n",
              "         [[-1.09769572e-02, -1.52936624e-02,  5.04552014e-03, ...,\n",
              "           -2.49949582e-02,  4.48865211e-03,  4.61537950e-03],\n",
              "          [-2.34422553e-02, -3.61244543e-03,  2.25839802e-04, ...,\n",
              "           -3.63845215e-03,  2.29013036e-03,  2.63104457e-02],\n",
              "          [ 5.72316535e-03,  1.95049774e-02, -1.64702274e-02, ...,\n",
              "            5.53286215e-03, -1.98553062e-05, -2.65111923e-02],\n",
              "          ...,\n",
              "          [ 5.57485409e-03, -2.31012311e-02,  3.55249783e-03, ...,\n",
              "           -2.54226588e-02, -2.29304899e-02,  1.28449928e-02],\n",
              "          [-1.42499870e-02,  9.99560393e-03, -1.98042318e-02, ...,\n",
              "            2.67404560e-02,  1.84503999e-02,  1.20023768e-02],\n",
              "          [-2.00250223e-02,  2.52082739e-02,  2.13307943e-02, ...,\n",
              "            1.31534729e-02, -4.33149002e-03,  1.90042276e-02]],\n",
              " \n",
              "         ...,\n",
              " \n",
              "         [[-2.45687235e-02,  2.33820509e-02, -2.51886994e-02, ...,\n",
              "            1.19954143e-02, -6.35486096e-03,  1.21786911e-02],\n",
              "          [ 1.28147248e-02,  6.04092609e-03, -2.43651643e-02, ...,\n",
              "           -1.09233800e-02,  1.32330963e-02,  1.58387478e-02],\n",
              "          [ 4.14367579e-03,  6.35624491e-03,  1.50995143e-03, ...,\n",
              "            2.10288297e-02, -3.37184221e-03,  2.30595488e-02],\n",
              "          ...,\n",
              "          [-2.00361423e-02, -1.78283639e-02, -1.38709145e-02, ...,\n",
              "            2.53538806e-02, -1.75149646e-03,  9.25582834e-03],\n",
              "          [-1.48672061e-02,  2.03589834e-02,  1.11364154e-02, ...,\n",
              "            2.29501389e-02,  2.01322045e-02,  1.89794842e-02],\n",
              "          [-2.14779451e-02,  2.17894055e-02, -1.09484252e-02, ...,\n",
              "           -2.42597815e-02, -1.68553852e-02, -2.61199549e-02]],\n",
              " \n",
              "         [[-2.30788402e-02,  2.42279600e-02, -6.64451718e-03, ...,\n",
              "            1.01325708e-02, -2.32550111e-02,  2.54127067e-02],\n",
              "          [-2.28495933e-02, -2.65100021e-02, -1.58025026e-02, ...,\n",
              "            2.23058611e-02,  5.73183037e-03,  4.97504417e-03],\n",
              "          [ 2.00140793e-02, -2.64112744e-02,  9.05519910e-03, ...,\n",
              "            2.24649440e-02, -3.67883779e-03,  9.74545814e-03],\n",
              "          ...,\n",
              "          [ 1.70971882e-02, -4.00156155e-03,  6.12389809e-03, ...,\n",
              "           -4.44153044e-03,  1.96277816e-02, -2.61543989e-02],\n",
              "          [-2.59507690e-02,  2.49275547e-02, -2.63948571e-02, ...,\n",
              "           -2.31744908e-02,  7.48084672e-03, -2.01108269e-02],\n",
              "          [ 1.56010780e-02, -2.68350374e-02, -2.52905637e-02, ...,\n",
              "            1.56154986e-02, -1.55298049e-02, -1.95250586e-02]],\n",
              " \n",
              "         [[ 1.82341393e-02, -1.89099927e-02,  2.77509056e-02, ...,\n",
              "            2.67318636e-02,  6.06247969e-03,  2.57395860e-02],\n",
              "          [ 2.76791141e-03, -7.98793789e-03,  1.79009587e-02, ...,\n",
              "           -4.15713759e-03,  6.39915373e-03, -7.83097371e-03],\n",
              "          [-2.14038752e-02, -1.38973128e-02,  1.77101512e-02, ...,\n",
              "            4.69348021e-03, -1.37216318e-02,  8.58208351e-03],\n",
              "          ...,\n",
              "          [-1.46953864e-02,  2.46476475e-02,  4.09408519e-03, ...,\n",
              "           -1.48030147e-02,  1.56434719e-02,  2.34421957e-02],\n",
              "          [-2.70756688e-02, -1.81882326e-02,  3.41648096e-03, ...,\n",
              "           -2.36689281e-02,  2.13875901e-02,  9.55295563e-03],\n",
              "          [ 4.41882620e-03,  1.64811518e-02, -9.09552560e-04, ...,\n",
              "            2.16049943e-02, -6.35180250e-03, -6.06589764e-03]]],\n",
              " \n",
              " \n",
              "        [[[ 1.91110149e-02,  2.56684236e-02, -1.92862544e-02, ...,\n",
              "            1.31616993e-02,  1.53790321e-02, -2.63572279e-02],\n",
              "          [ 2.37768013e-02,  6.89702760e-03,  2.71662716e-02, ...,\n",
              "           -2.46379692e-02, -1.69989876e-02,  2.52944957e-02],\n",
              "          [ 2.34277118e-02,  2.31660996e-02, -1.84063986e-02, ...,\n",
              "           -2.48372760e-02, -1.00242756e-02, -2.28287242e-02],\n",
              "          ...,\n",
              "          [-4.60389629e-03, -9.89363343e-03, -2.25536358e-02, ...,\n",
              "           -1.91082694e-02, -2.03742459e-02,  4.17178206e-04],\n",
              "          [ 2.13234369e-02, -6.35155058e-03,  7.97667913e-03, ...,\n",
              "           -1.83051750e-02, -1.13508366e-02, -9.97416908e-04],\n",
              "          [ 1.54970419e-02, -1.10228648e-02,  8.61158688e-03, ...,\n",
              "           -8.60824250e-03,  1.99339110e-02,  1.63727272e-02]],\n",
              " \n",
              "         [[ 6.01652544e-03, -1.50521174e-02,  1.48777040e-02, ...,\n",
              "           -2.07086597e-02,  6.53358223e-03, -2.05567405e-02],\n",
              "          [ 2.51482744e-02, -2.11085062e-02, -4.07462503e-04, ...,\n",
              "            1.54816266e-02, -1.58868618e-02,  1.16686327e-02],\n",
              "          [ 2.04309244e-02,  7.41502619e-04, -2.15294287e-02, ...,\n",
              "            9.95200314e-03, -2.70059053e-02, -5.76524623e-03],\n",
              "          ...,\n",
              "          [-6.46517053e-03, -2.23410856e-02, -1.99254025e-02, ...,\n",
              "           -4.81537107e-04,  1.87353697e-02,  2.51255427e-02],\n",
              "          [-1.66641513e-03,  1.43262884e-02, -2.67039537e-02, ...,\n",
              "            2.52216104e-02,  1.64411385e-02,  2.06287634e-02],\n",
              "          [-2.41303649e-02,  9.64245200e-03, -2.18850635e-02, ...,\n",
              "            2.74402034e-02,  8.57194769e-04,  2.64951978e-02]],\n",
              " \n",
              "         [[-8.22154433e-03, -2.21655406e-02, -1.43591156e-02, ...,\n",
              "            2.04935409e-02, -2.58713104e-02,  2.48840321e-02],\n",
              "          [ 3.56805581e-03, -5.81177464e-03, -2.60716267e-02, ...,\n",
              "            1.26194826e-03, -1.94141790e-02,  2.16283221e-02],\n",
              "          [-2.49660537e-02,  1.91684086e-02, -1.97444893e-02, ...,\n",
              "            2.67905537e-02,  1.55716930e-02, -5.69809787e-03],\n",
              "          ...,\n",
              "          [-2.02927925e-02,  1.00034941e-02, -9.65645537e-03, ...,\n",
              "            2.35984717e-02,  1.79797728e-02, -2.24676467e-02],\n",
              "          [-2.11040843e-02,  8.15506186e-03, -1.68033913e-02, ...,\n",
              "           -1.62270274e-02, -1.34964185e-02,  2.27208007e-02],\n",
              "          [ 1.87878553e-02,  1.38244061e-02, -1.99598745e-02, ...,\n",
              "           -7.82904681e-03,  1.72079150e-02,  1.54367108e-02]],\n",
              " \n",
              "         ...,\n",
              " \n",
              "         [[-1.44662661e-02, -2.65137721e-02,  7.49304798e-03, ...,\n",
              "            6.27082027e-03,  1.91143807e-02, -3.14952480e-03],\n",
              "          [-2.64983643e-02, -7.92745128e-03,  6.42179046e-03, ...,\n",
              "            8.39084014e-03,  9.62799229e-03, -2.70491489e-03],\n",
              "          [ 2.01019701e-02,  1.26287360e-02, -2.54194532e-02, ...,\n",
              "            1.47158112e-02,  2.06466522e-02, -4.44083445e-04],\n",
              "          ...,\n",
              "          [-7.18693482e-03,  8.70648213e-03, -2.03525089e-02, ...,\n",
              "           -2.05056537e-02, -2.72061955e-02, -2.76221838e-02],\n",
              "          [-4.28028498e-03, -3.91345425e-03,  9.28199012e-03, ...,\n",
              "            6.58991793e-03, -1.90844201e-02,  1.82397645e-02],\n",
              "          [ 3.37919802e-03, -1.29697975e-02,  2.33339611e-03, ...,\n",
              "           -1.70951225e-02,  7.93154351e-03,  1.38254063e-02]],\n",
              " \n",
              "         [[-1.83265302e-02,  2.46592108e-02, -3.24239465e-03, ...,\n",
              "           -1.28893303e-02,  2.57455725e-02, -3.23315198e-03],\n",
              "          [-4.80419397e-03, -1.79563719e-03,  1.01497872e-02, ...,\n",
              "           -2.17969846e-02, -1.44463778e-02, -6.49509206e-03],\n",
              "          [-4.77525219e-03, -1.93626545e-02, -7.04477169e-03, ...,\n",
              "           -1.22402776e-02,  2.42727678e-02,  2.14143526e-02],\n",
              "          ...,\n",
              "          [-2.28448175e-02, -2.13338733e-02, -7.88713805e-03, ...,\n",
              "           -2.27871668e-02,  1.54802855e-02,  1.08017977e-02],\n",
              "          [ 2.24446859e-02, -8.91779270e-03, -1.86695382e-02, ...,\n",
              "            1.73892509e-02,  2.24103127e-02, -2.70046666e-02],\n",
              "          [-1.27392518e-03, -1.58247482e-02, -2.64258124e-02, ...,\n",
              "           -3.38669051e-03,  1.99962384e-03, -1.70617774e-02]],\n",
              " \n",
              "         [[ 1.27057815e-02,  1.31468372e-02,  1.03525585e-02, ...,\n",
              "           -6.27948483e-03, -5.95963560e-03, -5.91538474e-03],\n",
              "          [ 2.22893897e-02,  1.91227049e-02, -1.17724491e-02, ...,\n",
              "            2.25431565e-03, -2.14272141e-02,  8.03363230e-03],\n",
              "          [ 2.10975427e-02,  2.44838316e-02, -2.71012653e-02, ...,\n",
              "            1.89529974e-02, -1.97670870e-02, -2.32522618e-02],\n",
              "          ...,\n",
              "          [ 1.90342534e-02, -1.07084280e-02, -1.27515141e-02, ...,\n",
              "           -2.17790864e-02, -2.17716256e-03,  2.12761629e-02],\n",
              "          [-1.46556562e-02,  5.08238329e-03,  1.56736840e-02, ...,\n",
              "           -1.66238174e-02, -1.53112812e-02,  8.27328768e-04],\n",
              "          [ 9.53874178e-03,  6.95764460e-03, -1.22388666e-02, ...,\n",
              "            1.39199980e-02, -1.79816224e-02,  1.03266295e-02]]],\n",
              " \n",
              " \n",
              "        [[[ 7.29123550e-03, -1.05121201e-02, -2.68883370e-02, ...,\n",
              "           -6.06004568e-03, -1.67997251e-03,  2.57189535e-02],\n",
              "          [-5.01765264e-03,  1.44063784e-02,  9.20775067e-03, ...,\n",
              "            1.79252643e-02, -1.25668980e-02,  2.28268784e-02],\n",
              "          [-2.25702599e-02, -2.03808285e-02, -7.88285397e-03, ...,\n",
              "            2.31311973e-02, -2.76716426e-02, -3.30054760e-03],\n",
              "          ...,\n",
              "          [ 1.39403995e-02,  4.78402253e-05, -7.53670931e-03, ...,\n",
              "            2.39824858e-02, -1.87500636e-03, -7.85585865e-03],\n",
              "          [-1.95044500e-03,  2.09561847e-02, -2.06038393e-02, ...,\n",
              "            2.21007522e-02, -2.31405310e-02,  1.81103144e-02],\n",
              "          [ 2.50007454e-02, -1.47034312e-04, -6.66423887e-03, ...,\n",
              "            1.67089794e-03,  3.53952311e-03, -9.14353132e-03]],\n",
              " \n",
              "         [[ 1.85858540e-03,  1.29722748e-02,  9.88612231e-03, ...,\n",
              "            2.72878278e-02, -1.90336108e-02, -2.21787803e-02],\n",
              "          [ 6.71968842e-03,  2.31820196e-02, -3.00321332e-03, ...,\n",
              "            3.69441253e-03, -1.16731264e-02, -2.45123506e-02],\n",
              "          [-1.22895110e-02,  8.40427540e-03, -2.63672806e-02, ...,\n",
              "           -1.90199614e-02,  8.40694271e-03, -1.76196955e-02],\n",
              "          ...,\n",
              "          [ 1.55596416e-02,  3.15844454e-03,  1.39052290e-02, ...,\n",
              "           -2.65921513e-03, -2.42359769e-02,  1.38452966e-02],\n",
              "          [-8.84287152e-03, -1.73571631e-02,  7.05462554e-03, ...,\n",
              "           -4.74696280e-03,  2.60523427e-02,  5.67083992e-03],\n",
              "          [ 6.47975970e-03, -2.20338367e-02,  1.73428003e-02, ...,\n",
              "            2.05587540e-02,  1.55594666e-02, -1.50706638e-02]],\n",
              " \n",
              "         [[-2.63569821e-02, -5.02246758e-03, -6.02408126e-03, ...,\n",
              "           -7.17505533e-03,  3.42627685e-03,  1.56754870e-02],\n",
              "          [ 4.00271360e-03,  8.10129009e-03, -2.20089238e-02, ...,\n",
              "           -2.90970877e-03,  7.64409965e-03,  1.81279909e-02],\n",
              "          [ 2.15476174e-02, -8.49316455e-03, -4.18445095e-03, ...,\n",
              "           -2.83704512e-03,  2.31065415e-03,  2.58772429e-02],\n",
              "          ...,\n",
              "          [ 1.15511101e-02,  2.41757166e-02,  1.00161638e-02, ...,\n",
              "            8.28879513e-03, -2.50420831e-02, -6.28192537e-03],\n",
              "          [ 8.12474079e-03,  9.58262198e-03,  2.74939630e-02, ...,\n",
              "            7.10554654e-03,  2.10794602e-02,  8.19530152e-03],\n",
              "          [-2.48439051e-02, -5.86211914e-03, -2.11726092e-02, ...,\n",
              "           -2.28525382e-02,  1.41910035e-02,  1.33795943e-02]],\n",
              " \n",
              "         ...,\n",
              " \n",
              "         [[-1.88045688e-02,  2.08906289e-02, -2.39604525e-02, ...,\n",
              "            2.38325726e-02,  7.35813146e-03, -2.13718507e-02],\n",
              "          [ 5.33041824e-03, -3.76190874e-04, -7.69365532e-03, ...,\n",
              "           -1.15011847e-02, -2.58953646e-02,  1.08519215e-02],\n",
              "          [ 3.66481626e-03,  2.14497722e-03, -6.46326877e-03, ...,\n",
              "            2.30847877e-02, -1.20155700e-03, -1.35473013e-02],\n",
              "          ...,\n",
              "          [-7.04492256e-03, -1.91102549e-02,  7.78698782e-03, ...,\n",
              "           -2.74895635e-02,  4.79025953e-03, -9.55286995e-03],\n",
              "          [ 1.48748960e-02,  2.27071624e-02, -2.12923847e-02, ...,\n",
              "           -2.45983787e-02,  2.30037281e-03,  8.11122544e-03],\n",
              "          [ 5.88878803e-03,  7.29288766e-03, -1.65601708e-02, ...,\n",
              "           -1.52188446e-02, -1.05233267e-02,  1.90014038e-02]],\n",
              " \n",
              "         [[-1.38526838e-02,  2.46061683e-02, -1.25854034e-02, ...,\n",
              "           -2.27719117e-02,  1.66766364e-02,  1.06961448e-02],\n",
              "          [ 1.15969377e-02,  1.55776553e-02,  1.09403264e-02, ...,\n",
              "           -1.52209848e-02,  2.13992614e-02, -7.65403174e-03],\n",
              "          [-3.26844119e-03,  4.29541431e-03,  8.21860682e-04, ...,\n",
              "           -4.22974816e-03,  6.74446486e-03, -2.15477347e-02],\n",
              "          ...,\n",
              "          [-2.15571932e-02,  7.78883602e-03, -1.23789180e-02, ...,\n",
              "            1.40617657e-02, -9.01507970e-04,  8.09423043e-04],\n",
              "          [-2.53227223e-02,  2.00340822e-02,  8.02641548e-03, ...,\n",
              "            1.22109512e-02,  2.24553477e-02,  1.99677031e-02],\n",
              "          [ 1.10082086e-02, -5.59330976e-04, -2.54039317e-02, ...,\n",
              "           -2.24271417e-03, -2.32061744e-02, -2.14229040e-02]],\n",
              " \n",
              "         [[-1.89207532e-02,  1.93186942e-02, -5.41492249e-04, ...,\n",
              "            1.60080660e-02,  1.54775660e-02, -6.58843108e-03],\n",
              "          [ 5.64819109e-03, -1.00238770e-02, -2.39433460e-02, ...,\n",
              "           -1.93933640e-02, -2.13500522e-02,  8.44351575e-03],\n",
              "          [-2.56260633e-02,  1.87588613e-02,  2.62091551e-02, ...,\n",
              "            2.09211502e-02,  1.11098657e-03,  8.99683870e-03],\n",
              "          ...,\n",
              "          [ 2.66263429e-02, -1.00993691e-02,  2.75153536e-02, ...,\n",
              "           -4.45054099e-03, -8.64844769e-03, -7.43524171e-03],\n",
              "          [-2.17293240e-02, -1.06148627e-02, -1.05255125e-02, ...,\n",
              "            1.80838536e-02,  1.53790582e-02,  9.81653947e-03],\n",
              "          [ 8.51884298e-03,  2.33881269e-02, -1.03109144e-02, ...,\n",
              "            5.10326633e-03,  1.66670028e-02, -3.19462991e-03]]]],\n",
              "       dtype=float32),\n",
              " array([-1.5797074e-06, -2.8562432e-05, -2.1981137e-05,  8.5903730e-06,\n",
              "         6.6084281e-06,  4.5635829e-06,  2.4934769e-05,  9.6569402e-06,\n",
              "         2.1048689e-05,  1.0480390e-05,  1.9709123e-05,  4.0276424e-07,\n",
              "        -2.5532181e-05, -1.1309941e-05,  1.3398377e-05, -6.8089469e-07,\n",
              "         1.8578858e-05,  1.7656905e-05,  3.0140909e-06, -1.0221904e-05,\n",
              "        -1.6645279e-05,  5.3361250e-06,  8.3123505e-06,  2.0453319e-05,\n",
              "         8.9310734e-06, -8.0193644e-07,  2.4892138e-06,  3.0247802e-06,\n",
              "        -4.7375888e-06, -4.3760352e-05,  1.6532568e-06,  5.1625125e-06],\n",
              "       dtype=float32),\n",
              " array([[[[ 7.00565130e-02],\n",
              "          [ 3.14761773e-02],\n",
              "          [ 7.57341832e-02],\n",
              "          [ 1.39158204e-01],\n",
              "          [ 4.87890057e-02],\n",
              "          [-9.08330530e-02],\n",
              "          [-3.00546885e-02],\n",
              "          [ 1.30117293e-02],\n",
              "          [-8.66806656e-02],\n",
              "          [-1.22991197e-01],\n",
              "          [-1.22789860e-01],\n",
              "          [-5.17178476e-02],\n",
              "          [-1.14601091e-01],\n",
              "          [ 8.60561579e-02],\n",
              "          [-6.44325018e-02],\n",
              "          [ 7.32488781e-02],\n",
              "          [-1.20184526e-01],\n",
              "          [ 8.42683613e-02],\n",
              "          [ 1.23090819e-01],\n",
              "          [-4.23471555e-02],\n",
              "          [ 1.26631126e-01],\n",
              "          [ 4.92230169e-02],\n",
              "          [-1.10230133e-01],\n",
              "          [-1.14970148e-01],\n",
              "          [ 6.56293780e-02],\n",
              "          [ 8.54040384e-02],\n",
              "          [ 2.07787007e-02],\n",
              "          [-1.41984850e-01],\n",
              "          [-1.35252610e-01],\n",
              "          [-1.28197789e-01],\n",
              "          [-5.50367236e-02],\n",
              "          [ 1.16048321e-01]],\n",
              " \n",
              "         [[ 6.43170699e-02],\n",
              "          [ 4.60550897e-02],\n",
              "          [-5.59587516e-02],\n",
              "          [ 1.07154459e-01],\n",
              "          [-2.20002253e-02],\n",
              "          [-1.13888919e-01],\n",
              "          [ 2.36731134e-02],\n",
              "          [ 1.29486665e-01],\n",
              "          [-5.22049218e-02],\n",
              "          [ 3.47550213e-02],\n",
              "          [ 9.72187519e-02],\n",
              "          [-7.69165754e-02],\n",
              "          [-3.34333219e-02],\n",
              "          [-1.20379768e-01],\n",
              "          [ 7.12622628e-02],\n",
              "          [ 2.59574950e-02],\n",
              "          [-4.96847741e-02],\n",
              "          [ 1.27506241e-01],\n",
              "          [ 1.36601832e-02],\n",
              "          [-8.57869536e-02],\n",
              "          [ 1.85889024e-02],\n",
              "          [ 2.39849743e-02],\n",
              "          [ 3.31930369e-02],\n",
              "          [ 1.35104731e-01],\n",
              "          [ 6.37688339e-02],\n",
              "          [ 8.11246037e-02],\n",
              "          [-1.20070346e-01],\n",
              "          [-6.03286177e-02],\n",
              "          [-2.89428923e-02],\n",
              "          [-1.27767026e-01],\n",
              "          [-1.42066836e-01],\n",
              "          [ 1.20646402e-01]],\n",
              " \n",
              "         [[-2.74643786e-02],\n",
              "          [ 3.14467847e-02],\n",
              "          [-9.94412601e-02],\n",
              "          [-4.62873280e-02],\n",
              "          [-1.75663978e-02],\n",
              "          [ 5.27766496e-02],\n",
              "          [ 6.15715757e-02],\n",
              "          [ 6.75930530e-02],\n",
              "          [ 1.13982156e-01],\n",
              "          [ 1.43818241e-02],\n",
              "          [-3.00292447e-02],\n",
              "          [-1.02580339e-01],\n",
              "          [ 1.20845154e-01],\n",
              "          [ 2.68381909e-02],\n",
              "          [-8.16067494e-03],\n",
              "          [ 5.77510148e-02],\n",
              "          [ 1.07776023e-01],\n",
              "          [ 5.60220517e-02],\n",
              "          [-1.14006370e-01],\n",
              "          [ 8.55272710e-02],\n",
              "          [-1.18405595e-01],\n",
              "          [ 4.26434353e-02],\n",
              "          [ 1.74611714e-02],\n",
              "          [ 4.65652719e-02],\n",
              "          [ 6.46484494e-02],\n",
              "          [ 2.51623485e-02],\n",
              "          [-2.94185504e-02],\n",
              "          [-8.91929120e-02],\n",
              "          [ 6.58761859e-02],\n",
              "          [ 1.30193615e-02],\n",
              "          [ 5.16355075e-02],\n",
              "          [-4.90416624e-02]]],\n",
              " \n",
              " \n",
              "        [[[-2.93324273e-02],\n",
              "          [-7.95176551e-02],\n",
              "          [-3.53827626e-02],\n",
              "          [ 3.68173420e-02],\n",
              "          [-1.01683617e-01],\n",
              "          [-1.00932740e-01],\n",
              "          [ 4.45192717e-02],\n",
              "          [ 1.94189530e-02],\n",
              "          [-7.46780541e-03],\n",
              "          [-7.29546025e-02],\n",
              "          [-1.40425563e-01],\n",
              "          [ 2.44022477e-02],\n",
              "          [-9.28218290e-03],\n",
              "          [ 1.37705043e-01],\n",
              "          [ 2.35510096e-02],\n",
              "          [ 2.59945095e-02],\n",
              "          [ 1.26360878e-01],\n",
              "          [ 3.10570188e-02],\n",
              "          [-1.13133810e-01],\n",
              "          [ 5.58599131e-03],\n",
              "          [-4.22806069e-02],\n",
              "          [ 1.26078174e-01],\n",
              "          [-6.83159307e-02],\n",
              "          [ 7.44194686e-02],\n",
              "          [ 1.62908901e-02],\n",
              "          [ 1.13868430e-01],\n",
              "          [ 8.89778584e-02],\n",
              "          [ 6.40446097e-02],\n",
              "          [-1.02940794e-04],\n",
              "          [-1.92939211e-02],\n",
              "          [ 1.90148987e-02],\n",
              "          [-1.08336546e-01]],\n",
              " \n",
              "         [[-8.32003802e-02],\n",
              "          [-1.32891014e-01],\n",
              "          [ 1.29714385e-02],\n",
              "          [ 1.31227180e-01],\n",
              "          [ 5.40625453e-02],\n",
              "          [ 5.91915697e-02],\n",
              "          [ 7.68877715e-02],\n",
              "          [-6.96835220e-02],\n",
              "          [-1.99956931e-02],\n",
              "          [-7.50983804e-02],\n",
              "          [ 1.17081851e-01],\n",
              "          [ 1.36200041e-02],\n",
              "          [-2.68572220e-03],\n",
              "          [ 1.21997848e-01],\n",
              "          [ 5.34710139e-02],\n",
              "          [-6.30334765e-02],\n",
              "          [-1.98132377e-02],\n",
              "          [ 1.24725178e-01],\n",
              "          [-3.18139121e-02],\n",
              "          [-5.81614785e-02],\n",
              "          [ 6.00567721e-02],\n",
              "          [-4.81227860e-02],\n",
              "          [-1.36421502e-01],\n",
              "          [-7.27035254e-02],\n",
              "          [-3.06044077e-03],\n",
              "          [-1.09248355e-01],\n",
              "          [ 4.62492108e-02],\n",
              "          [ 1.33564189e-01],\n",
              "          [-9.71879587e-02],\n",
              "          [ 1.39161348e-01],\n",
              "          [ 1.42000571e-01],\n",
              "          [-1.03829458e-01]],\n",
              " \n",
              "         [[-9.35970768e-02],\n",
              "          [-3.21583785e-02],\n",
              "          [-1.00842290e-01],\n",
              "          [ 5.86189628e-02],\n",
              "          [ 6.85577542e-02],\n",
              "          [-5.38744032e-02],\n",
              "          [ 1.37237117e-01],\n",
              "          [-1.04546994e-01],\n",
              "          [ 1.12911820e-01],\n",
              "          [-1.05134740e-01],\n",
              "          [ 1.23612918e-01],\n",
              "          [-7.15866387e-02],\n",
              "          [-1.21628977e-01],\n",
              "          [-8.11678097e-02],\n",
              "          [-4.89568822e-02],\n",
              "          [ 9.50974226e-03],\n",
              "          [-9.67515931e-02],\n",
              "          [ 1.11242935e-01],\n",
              "          [-8.85645002e-02],\n",
              "          [ 1.93093177e-02],\n",
              "          [ 6.60123816e-03],\n",
              "          [ 4.36422937e-02],\n",
              "          [ 7.07942098e-02],\n",
              "          [ 9.79305059e-02],\n",
              "          [ 1.38764367e-01],\n",
              "          [ 3.81870801e-03],\n",
              "          [-6.64801523e-02],\n",
              "          [ 5.31027168e-02],\n",
              "          [ 8.60488117e-02],\n",
              "          [-1.28611743e-01],\n",
              "          [-1.03594720e-01],\n",
              "          [ 1.05229244e-01]]],\n",
              " \n",
              " \n",
              "        [[[ 1.09137505e-01],\n",
              "          [-1.17976978e-01],\n",
              "          [-1.06622212e-01],\n",
              "          [ 9.72986221e-02],\n",
              "          [ 4.16993583e-03],\n",
              "          [-1.09208405e-01],\n",
              "          [-7.90280923e-02],\n",
              "          [-4.75298334e-03],\n",
              "          [-9.02330130e-02],\n",
              "          [ 4.98465896e-02],\n",
              "          [ 2.11702175e-02],\n",
              "          [-8.58585685e-02],\n",
              "          [ 1.09944701e-01],\n",
              "          [-1.22268843e-02],\n",
              "          [ 3.97272520e-02],\n",
              "          [ 1.04682446e-02],\n",
              "          [ 5.40013164e-02],\n",
              "          [-1.15096256e-01],\n",
              "          [-4.88490891e-03],\n",
              "          [ 5.02772331e-02],\n",
              "          [-1.23735294e-01],\n",
              "          [-1.96425105e-03],\n",
              "          [ 1.19554503e-02],\n",
              "          [-1.24588899e-01],\n",
              "          [ 2.67461464e-02],\n",
              "          [-4.91148904e-02],\n",
              "          [-1.02055088e-01],\n",
              "          [ 1.18889147e-03],\n",
              "          [-9.92218852e-02],\n",
              "          [-9.25684571e-02],\n",
              "          [-6.24903254e-02],\n",
              "          [ 5.41643472e-03]],\n",
              " \n",
              "         [[-5.55687770e-03],\n",
              "          [ 1.20496720e-01],\n",
              "          [-4.13863100e-02],\n",
              "          [-3.39618023e-03],\n",
              "          [ 5.26048839e-02],\n",
              "          [-1.69834197e-02],\n",
              "          [ 8.71910155e-02],\n",
              "          [ 1.06465727e-01],\n",
              "          [ 1.31019726e-02],\n",
              "          [-1.06855810e-01],\n",
              "          [ 4.21996303e-02],\n",
              "          [ 9.96661931e-02],\n",
              "          [-5.96267991e-02],\n",
              "          [-1.09980524e-01],\n",
              "          [-2.03942880e-02],\n",
              "          [-3.17315012e-02],\n",
              "          [ 3.96755747e-02],\n",
              "          [ 3.31623554e-02],\n",
              "          [-2.42922455e-02],\n",
              "          [-1.12267258e-02],\n",
              "          [-9.43560153e-02],\n",
              "          [-1.39748111e-01],\n",
              "          [ 1.67262478e-04],\n",
              "          [ 9.23966467e-02],\n",
              "          [ 4.38510031e-02],\n",
              "          [ 1.05927857e-02],\n",
              "          [ 6.84821904e-02],\n",
              "          [-1.28587723e-01],\n",
              "          [-6.49426579e-02],\n",
              "          [-4.38844785e-02],\n",
              "          [-7.05582963e-04],\n",
              "          [-6.12757392e-02]],\n",
              " \n",
              "         [[ 9.10797864e-02],\n",
              "          [-7.95076787e-02],\n",
              "          [ 8.06102380e-02],\n",
              "          [ 7.48138726e-02],\n",
              "          [ 7.93917999e-02],\n",
              "          [-1.24351501e-01],\n",
              "          [ 4.29754518e-02],\n",
              "          [-1.98819693e-02],\n",
              "          [ 1.33971944e-01],\n",
              "          [-2.28834078e-02],\n",
              "          [ 5.58600724e-02],\n",
              "          [ 1.17334113e-01],\n",
              "          [-1.23063713e-01],\n",
              "          [ 3.77798826e-02],\n",
              "          [ 1.21542290e-01],\n",
              "          [-4.03888971e-02],\n",
              "          [ 1.00236066e-01],\n",
              "          [ 5.57736233e-02],\n",
              "          [-5.20538017e-02],\n",
              "          [-1.41265720e-01],\n",
              "          [-8.29188079e-02],\n",
              "          [ 3.65247834e-03],\n",
              "          [ 9.17732269e-02],\n",
              "          [-2.95182839e-02],\n",
              "          [ 2.18409132e-02],\n",
              "          [-3.22915912e-02],\n",
              "          [-8.49240199e-02],\n",
              "          [ 7.57509470e-02],\n",
              "          [ 7.50005692e-02],\n",
              "          [-7.22142980e-02],\n",
              "          [ 1.35714933e-01],\n",
              "          [ 2.65469700e-02]]]], dtype=float32),\n",
              " array([5.7518144e-05], dtype=float32)]"
            ]
          },
          "metadata": {},
          "execution_count": 70
        }
      ],
      "source": [
        "autoencoder.get_weights()"
      ]
    },
    {
      "cell_type": "code",
      "execution_count": null,
      "metadata": {
        "id": "HTNLKgTN58WC"
      },
      "outputs": [],
      "source": [
        "#autoencoder.predict(x_test_1)"
      ]
    },
    {
      "cell_type": "code",
      "execution_count": 71,
      "metadata": {
        "colab": {
          "base_uri": "https://localhost:8080/"
        },
        "id": "6omtcBn4XbhO",
        "outputId": "2081f1dc-e2ba-4353-d3ca-c09b55a288a0"
      },
      "outputs": [
        {
          "output_type": "stream",
          "name": "stdout",
          "text": [
            "Generate predictions for 3 samples\n",
            "5/5 [==============================] - 23s 4s/step\n"
          ]
        },
        {
          "output_type": "execute_result",
          "data": {
            "text/plain": [
              "(130, 64, 64, 1)"
            ]
          },
          "metadata": {},
          "execution_count": 71
        }
      ],
      "source": [
        "print(\"Generate predictions for 3 samples\")\n",
        "predictions = autoencoder.predict(x_test_1)\n",
        "#print(\"predictions shape:\", predictions.shape)\n",
        "predictions.shape"
      ]
    },
    {
      "cell_type": "code",
      "execution_count": 72,
      "metadata": {
        "colab": {
          "base_uri": "https://localhost:8080/"
        },
        "id": "rSv1lHlPagem",
        "outputId": "74ac84ad-9498-4da7-9ea7-4990226d5cc8"
      },
      "outputs": [
        {
          "output_type": "execute_result",
          "data": {
            "text/plain": [
              "((130, 64, 64, 1), (130, 64, 64))"
            ]
          },
          "metadata": {},
          "execution_count": 72
        }
      ],
      "source": [
        "predictions.shape,x_test_1.shape"
      ]
    },
    {
      "cell_type": "code",
      "execution_count": 73,
      "metadata": {
        "colab": {
          "base_uri": "https://localhost:8080/"
        },
        "id": "7oC0a809bY7J",
        "outputId": "768c8948-e72a-478f-a47f-d20b0590cc10"
      },
      "outputs": [
        {
          "output_type": "execute_result",
          "data": {
            "text/plain": [
              "((64, 64, 1), (64, 64))"
            ]
          },
          "metadata": {},
          "execution_count": 73
        }
      ],
      "source": [
        "predictions[0].shape,x_test_1[0].shape\n"
      ]
    },
    {
      "cell_type": "code",
      "execution_count": 75,
      "metadata": {
        "colab": {
          "base_uri": "https://localhost:8080/"
        },
        "id": "D5jhxEsbc5xs",
        "outputId": "28649019-48af-4727-b8d6-413ce59b916b"
      },
      "outputs": [
        {
          "output_type": "execute_result",
          "data": {
            "text/plain": [
              "(array([[0.06222222, 0.06222222, 0.06222222, ..., 0.06222222, 0.06222222,\n",
              "         0.06222222],\n",
              "        [0.06222222, 0.06222222, 0.06222222, ..., 0.06222222, 0.06222222,\n",
              "         0.06222222],\n",
              "        [0.06222222, 0.06222222, 0.06222222, ..., 0.06222222, 0.06222222,\n",
              "         0.06222222],\n",
              "        ...,\n",
              "        [0.06222222, 0.06222222, 0.06222222, ..., 0.06222222, 0.06222222,\n",
              "         0.06222222],\n",
              "        [0.06222222, 0.06222222, 0.06222222, ..., 0.06222222, 0.06222222,\n",
              "         0.06222222],\n",
              "        [0.06222222, 0.06222222, 0.06222222, ..., 0.06222222, 0.06222222,\n",
              "         0.06222222]], dtype=float32), array([[[0.99999994],\n",
              "         [0.99999994],\n",
              "         [0.99999994],\n",
              "         ...,\n",
              "         [0.99999994],\n",
              "         [0.99999994],\n",
              "         [0.99999994]],\n",
              " \n",
              "        [[0.99999994],\n",
              "         [0.99999994],\n",
              "         [0.99999994],\n",
              "         ...,\n",
              "         [0.99999994],\n",
              "         [0.99999994],\n",
              "         [0.99999994]],\n",
              " \n",
              "        [[0.99999994],\n",
              "         [0.99999994],\n",
              "         [0.99999994],\n",
              "         ...,\n",
              "         [0.99999994],\n",
              "         [0.99999994],\n",
              "         [0.99999994]],\n",
              " \n",
              "        ...,\n",
              " \n",
              "        [[0.99999994],\n",
              "         [0.99999994],\n",
              "         [0.99999994],\n",
              "         ...,\n",
              "         [0.99999994],\n",
              "         [0.99999994],\n",
              "         [0.99999994]],\n",
              " \n",
              "        [[0.99999994],\n",
              "         [0.99999994],\n",
              "         [0.99999994],\n",
              "         ...,\n",
              "         [0.99999994],\n",
              "         [0.99999994],\n",
              "         [0.99999994]],\n",
              " \n",
              "        [[0.99999994],\n",
              "         [0.99999994],\n",
              "         [0.99999994],\n",
              "         ...,\n",
              "         [0.99999994],\n",
              "         [0.99999994],\n",
              "         [0.99999994]]], dtype=float32))"
            ]
          },
          "metadata": {},
          "execution_count": 75
        }
      ],
      "source": [
        "x_test_1[0],predictions[0]"
      ]
    },
    {
      "cell_type": "code",
      "execution_count": 76,
      "metadata": {
        "colab": {
          "base_uri": "https://localhost:8080/",
          "height": 404
        },
        "id": "nhpS2A4rZ2zv",
        "outputId": "aac8d0b3-823b-4cdc-dd59-2164daa9b39b"
      },
      "outputs": [
        {
          "output_type": "execute_result",
          "data": {
            "text/plain": [
              "'# Display the first image in testing data\\nplt.subplot(122)\\ncurr_img = np.reshape(test_data[10], (28,28))\\ncurr_lbl = test_labels[10]\\nplt.imshow(curr_img, cmap=\\'gray\\')\\nplt.title(\"(Label: \" + str(label_dict[curr_lbl]) + \")\")'"
            ],
            "application/vnd.google.colaboratory.intrinsic+json": {
              "type": "string"
            }
          },
          "metadata": {},
          "execution_count": 76
        },
        {
          "output_type": "display_data",
          "data": {
            "text/plain": [
              "<Figure size 864x864 with 2 Axes>"
            ],
            "image/png": "[encoded data removed]"
          },
          "metadata": {
            "needs_background": "light"
          }
        }
      ],
      "source": [
        "plt.figure(figsize=[12,12])\n",
        "\n",
        "plt.subplot(1,2,1)\n",
        "plt.imshow(x_test_1[1], cmap='gray')\n",
        "plt.title(\"Actual Image\")\n",
        "  #curr_img = np.reshape(images_1[i], (64,64))\n",
        "  #curr_lbl = labels_1[i]\n",
        "  #plt.title(\"Label: \" + str(curr_lbl))\n",
        "plt.subplot(1,2,2)\n",
        "plt.imshow(predictions[1], cmap='gray')\n",
        "plt.title(\"Predicted Image\")\n",
        "\n",
        "'''# Display the first image in testing data\n",
        "plt.subplot(122)\n",
        "curr_img = np.reshape(test_data[10], (28,28))\n",
        "curr_lbl = test_labels[10]\n",
        "plt.imshow(curr_img, cmap='gray')\n",
        "plt.title(\"(Label: \" + str(label_dict[curr_lbl]) + \")\")'''\n"
      ]
    },
    {
      "cell_type": "code",
      "execution_count": null,
      "metadata": {
        "id": "Zy1nldjLZ9aT"
      },
      "outputs": [],
      "source": []
    },
    {
      "cell_type": "code",
      "execution_count": null,
      "metadata": {
        "id": "vQ0mG_30Z9hY"
      },
      "outputs": [],
      "source": []
    },
    {
      "cell_type": "markdown",
      "metadata": {
        "id": "y_JoUwKOgr32"
      },
      "source": [
        "# After CAE Training"
      ]
    },
    {
      "cell_type": "markdown",
      "source": [
        "# Way-0"
      ],
      "metadata": {
        "id": "1f_gQURr4y82"
      }
    },
    {
      "cell_type": "code",
      "source": [
        "from keras.utils import to_categorical"
      ],
      "metadata": {
        "id": "6zrCUnWL7tXa"
      },
      "execution_count": 77,
      "outputs": []
    },
    {
      "cell_type": "code",
      "source": [
        "# Change the labels from categorical to one-hot encoding\n",
        "train_Y_one_hot = to_categorical(y_train_1)\n",
        "val_Y_one_hot = to_categorical(y_val_1)\n",
        "test_Y_one_hot = to_categorical(y_test_1)\n",
        "\n",
        "# Display the change for category label using one-hot encoding\n",
        "print('Original label:', y_train_1[0])\n",
        "print('After conversion to one-hot:', train_Y_one_hot[0])\n"
      ],
      "metadata": {
        "colab": {
          "base_uri": "https://localhost:8080/"
        },
        "id": "CS0LgX7S4zll",
        "outputId": "ddfc89ca-1fee-45a7-aeac-4bdc3f190d30"
      },
      "execution_count": 80,
      "outputs": [
        {
          "output_type": "stream",
          "name": "stdout",
          "text": [
            "Original label: 6.0\n",
            "After conversion to one-hot: [0. 0. 0. 0. 0. 0. 1. 0. 0. 0. 0. 0.]\n"
          ]
        }
      ]
    },
    {
      "cell_type": "code",
      "source": [
        "x_train_1,x_val_1,y_train_1,y_val_1 = train_test_split(x_train_1,train_Y_one_hot,test_size=0.2,random_state=42)"
      ],
      "metadata": {
        "id": "XrwM2X6-5FdH"
      },
      "execution_count": 81,
      "outputs": []
    },
    {
      "cell_type": "code",
      "source": [
        "y_test_1=test_Y_one_hot"
      ],
      "metadata": {
        "id": "IzvMI0n-CQEI"
      },
      "execution_count": 100,
      "outputs": []
    },
    {
      "cell_type": "code",
      "source": [
        "x_train_1.shape,x_val_1.shape,y_train_1.shape,y_val_1.shape"
      ],
      "metadata": {
        "colab": {
          "base_uri": "https://localhost:8080/"
        },
        "id": "xDjcxD-Q5mX3",
        "outputId": "610b1507-5566-45ba-8cca-c195c376b006"
      },
      "execution_count": 82,
      "outputs": [
        {
          "output_type": "execute_result",
          "data": {
            "text/plain": [
              "((331, 64, 64), (83, 64, 64), (331, 12), (83, 12))"
            ]
          },
          "metadata": {},
          "execution_count": 82
        }
      ]
    },
    {
      "cell_type": "code",
      "source": [
        "encoded_image=encoder(input_img)\n",
        "model=keras.Model(input_img,encoded_image)\n",
        "x = layers.Flatten()(model.output)\n",
        "x = layers.Dense(128, activation='relu')(x)\n",
        "x = layers.Dense(128, activation='relu')(x)\n",
        "x = layers.Dense(12, activation='softmax')(x)\n",
        "model1=tf.keras.models.Model(model.input,x)\n",
        "model1.summary()"
      ],
      "metadata": {
        "colab": {
          "base_uri": "https://localhost:8080/"
        },
        "id": "CXpEk5C-6fQL",
        "outputId": "353457a2-e02b-4291-e160-434ce2838bbe"
      },
      "execution_count": 89,
      "outputs": [
        {
          "output_type": "stream",
          "name": "stdout",
          "text": [
            "Model: \"model_10\"\n",
            "_________________________________________________________________\n",
            " Layer (type)                Output Shape              Param #   \n",
            "=================================================================\n",
            " input_3 (InputLayer)        [(None, 64, 64, 1)]       0         \n",
            "                                                                 \n",
            " conv2d_21 (Conv2D)          (None, 64, 64, 32)        2624      \n",
            "                                                                 \n",
            " max_pooling2d_12 (MaxPoolin  (None, 32, 32, 32)       0         \n",
            " g2D)                                                            \n",
            "                                                                 \n",
            " conv2d_22 (Conv2D)          (None, 32, 32, 64)        18496     \n",
            "                                                                 \n",
            " max_pooling2d_13 (MaxPoolin  (None, 16, 16, 64)       0         \n",
            " g2D)                                                            \n",
            "                                                                 \n",
            " flatten_8 (Flatten)         (None, 16384)             0         \n",
            "                                                                 \n",
            " dense_16 (Dense)            (None, 512)               8389120   \n",
            "                                                                 \n",
            " flatten_9 (Flatten)         (None, 512)               0         \n",
            "                                                                 \n",
            " dense_17 (Dense)            (None, 128)               65664     \n",
            "                                                                 \n",
            " dense_18 (Dense)            (None, 128)               16512     \n",
            "                                                                 \n",
            " dense_19 (Dense)            (None, 12)                1548      \n",
            "                                                                 \n",
            "=================================================================\n",
            "Total params: 8,493,964\n",
            "Trainable params: 8,493,964\n",
            "Non-trainable params: 0\n",
            "_________________________________________________________________\n"
          ]
        }
      ]
    },
    {
      "cell_type": "code",
      "source": [
        "autoencoder.get_weights()[0][1]"
      ],
      "metadata": {
        "colab": {
          "base_uri": "https://localhost:8080/"
        },
        "id": "4cdELoKo6J1t",
        "outputId": "13f4748d-64d3-4ff4-fe98-408da0ffa23c"
      },
      "execution_count": 90,
      "outputs": [
        {
          "output_type": "execute_result",
          "data": {
            "text/plain": [
              "array([[[ 0.01526983, -0.01603132, -0.01516509, -0.03781804,\n",
              "         -0.04459055,  0.01930685,  0.01095498,  0.01365318,\n",
              "          0.03321155, -0.02885377, -0.02665249, -0.01735714,\n",
              "          0.0298102 ,  0.00455083, -0.04157609, -0.01073729,\n",
              "          0.02941485,  0.01952755,  0.00284321, -0.03062756,\n",
              "         -0.00083271,  0.0206922 ,  0.03730876,  0.03546971,\n",
              "         -0.03239242,  0.00633719, -0.03786968, -0.03495849,\n",
              "         -0.04682499,  0.04327853,  0.01951865,  0.03992534]],\n",
              "\n",
              "       [[ 0.01081281, -0.04272213, -0.02648684, -0.00593243,\n",
              "         -0.01181276, -0.00210684, -0.03973079, -0.03111544,\n",
              "         -0.03284775, -0.02817872,  0.01992537,  0.02974817,\n",
              "          0.0071106 , -0.01011438, -0.01102243, -0.00320383,\n",
              "         -0.03007105, -0.04326398,  0.03104428, -0.0437783 ,\n",
              "          0.01732082, -0.01873642, -0.02595907, -0.03377791,\n",
              "          0.00152243,  0.01409556, -0.01009796, -0.03909367,\n",
              "         -0.01401085,  0.04231958, -0.02962431,  0.03541277]],\n",
              "\n",
              "       [[ 0.01547838, -0.02455159,  0.04329434, -0.01478886,\n",
              "          0.03387745, -0.04259857, -0.0180478 ,  0.00016088,\n",
              "         -0.03558556,  0.02390043, -0.00471966, -0.00506797,\n",
              "         -0.00764575,  0.01520768, -0.00639685,  0.02839518,\n",
              "         -0.01374843, -0.03938108, -0.04312184,  0.03790255,\n",
              "         -0.02241233, -0.01146614,  0.03793144, -0.04730518,\n",
              "         -0.03965795, -0.01213263, -0.01541802,  0.00359477,\n",
              "          0.00588358,  0.00211556,  0.04016341,  0.03591601]],\n",
              "\n",
              "       [[-0.02108913, -0.01892081, -0.0431787 ,  0.0010155 ,\n",
              "          0.03529743, -0.02222006,  0.02555263, -0.01509536,\n",
              "          0.01818421, -0.04501288,  0.03594699, -0.04638976,\n",
              "          0.0339288 , -0.04418892,  0.02126509,  0.02348661,\n",
              "         -0.03782255,  0.02030607, -0.04444002,  0.00504864,\n",
              "          0.03732054, -0.00871426,  0.037322  ,  0.02868012,\n",
              "          0.01085989, -0.01615153, -0.04610025,  0.04620367,\n",
              "          0.04319296,  0.027714  , -0.03083833, -0.02006786]],\n",
              "\n",
              "       [[ 0.00943427,  0.02847189,  0.02606191, -0.01446841,\n",
              "         -0.0053723 , -0.03081198,  0.01541903, -0.04344913,\n",
              "          0.04043978,  0.00116213, -0.03475115, -0.04063503,\n",
              "          0.01372345, -0.03879353,  0.02385805, -0.0017133 ,\n",
              "         -0.04061932, -0.03253701,  0.02907174,  0.01850305,\n",
              "          0.02642081,  0.00720909,  0.03438943,  0.04195707,\n",
              "         -0.04604177, -0.03390561, -0.00272606,  0.0269976 ,\n",
              "         -0.03128407,  0.02034836,  0.03980762, -0.03088637]],\n",
              "\n",
              "       [[-0.00837785, -0.02011656,  0.00436318,  0.00916089,\n",
              "          0.03670514, -0.00865343,  0.01961317, -0.00170126,\n",
              "          0.02257009,  0.03288232, -0.00484757,  0.00310816,\n",
              "          0.02712335,  0.03010391,  0.01462419, -0.00748937,\n",
              "         -0.04034338, -0.00596638,  0.02793197,  0.00377721,\n",
              "         -0.0319742 , -0.01439864, -0.04705508,  0.00924092,\n",
              "         -0.04308481,  0.03401497, -0.0265336 ,  0.04630539,\n",
              "          0.03841018,  0.03572863, -0.02523404, -0.0152254 ]],\n",
              "\n",
              "       [[-0.04719342, -0.01764573,  0.02951124, -0.0445405 ,\n",
              "          0.04272521,  0.03569056,  0.03645089,  0.03351921,\n",
              "          0.0069447 ,  0.04244111, -0.00250837, -0.0339612 ,\n",
              "          0.03160207, -0.02234641, -0.01934045,  0.0309501 ,\n",
              "          0.0317155 ,  0.01048366,  0.02080892, -0.00773346,\n",
              "          0.01983614, -0.04070906,  0.04098333, -0.03818324,\n",
              "          0.01228553,  0.03356725,  0.01612302,  0.01689751,\n",
              "          0.04093476, -0.03810174,  0.04511159,  0.01799154]],\n",
              "\n",
              "       [[ 0.0400719 ,  0.03218012, -0.02472532,  0.03234263,\n",
              "         -0.03851999,  0.006809  ,  0.02845696,  0.01665233,\n",
              "         -0.00096043, -0.02376047, -0.0189994 ,  0.01344722,\n",
              "          0.0433754 ,  0.0451607 , -0.02510544,  0.02177452,\n",
              "         -0.04583518,  0.03007016,  0.02605781, -0.01392635,\n",
              "         -0.02839411, -0.02812901, -0.02081436,  0.03915731,\n",
              "         -0.02701185,  0.02253538,  0.03430548, -0.02113417,\n",
              "          0.00343036, -0.00080871, -0.03017922, -0.02099235]],\n",
              "\n",
              "       [[ 0.04258268,  0.04045792,  0.03557808,  0.04501409,\n",
              "          0.00628988,  0.02443404,  0.03818029, -0.01244368,\n",
              "          0.04737375,  0.01573491,  0.0207372 , -0.04279109,\n",
              "          0.01194394, -0.03263554,  0.02769853, -0.04592196,\n",
              "         -0.00484104, -0.00826799, -0.02699462,  0.00401155,\n",
              "         -0.03683013,  0.04703294,  0.02864852, -0.03792148,\n",
              "          0.04016633,  0.0046469 ,  0.04249683, -0.04161711,\n",
              "          0.04052481, -0.00599181, -0.02236976,  0.03237304]]],\n",
              "      dtype=float32)"
            ]
          },
          "metadata": {},
          "execution_count": 90
        }
      ]
    },
    {
      "cell_type": "code",
      "source": [
        "model1.get_weights()[0][1]\n"
      ],
      "metadata": {
        "colab": {
          "base_uri": "https://localhost:8080/"
        },
        "id": "yzGw7HDv6J9y",
        "outputId": "926b3f1f-a2b0-42b7-b092-4b9eb5c0fa4c"
      },
      "execution_count": 91,
      "outputs": [
        {
          "output_type": "execute_result",
          "data": {
            "text/plain": [
              "array([[[ 0.00673531, -0.02504678,  0.01325622, -0.04087274,\n",
              "          0.02142104, -0.04578341,  0.04242494,  0.02649736,\n",
              "         -0.02060495,  0.01029343, -0.04359655,  0.0250414 ,\n",
              "          0.02135569,  0.01847211,  0.04166747,  0.01175561,\n",
              "         -0.03237121,  0.046933  , -0.01796752, -0.02392904,\n",
              "          0.0108848 ,  0.00105826, -0.00635581, -0.04413763,\n",
              "         -0.00390879,  0.01938201,  0.01074149, -0.02136147,\n",
              "         -0.03431681,  0.04455126,  0.02313828, -0.02768435]],\n",
              "\n",
              "       [[-0.03128467,  0.03116057, -0.0413852 , -0.03268696,\n",
              "          0.04205787, -0.01803422,  0.02833571, -0.04587303,\n",
              "         -0.03640407, -0.01269337, -0.00025957,  0.03312477,\n",
              "         -0.0256851 ,  0.00050611, -0.04314029, -0.03386652,\n",
              "         -0.01619257,  0.02381568,  0.02019668,  0.04433646,\n",
              "         -0.02695324, -0.04314239, -0.01398884, -0.00390286,\n",
              "         -0.01816561,  0.00238315, -0.01680805,  0.00872183,\n",
              "          0.04655826, -0.03129068,  0.01566481, -0.01412916]],\n",
              "\n",
              "       [[-0.00967083,  0.00842386,  0.04189255, -0.04343231,\n",
              "         -0.01984619, -0.01299223,  0.00641605,  0.03769221,\n",
              "         -0.03608558, -0.00697537,  0.0107509 , -0.04014202,\n",
              "          0.04564014, -0.0451875 ,  0.00830919, -0.04696028,\n",
              "          0.02843048, -0.01859468,  0.01253329,  0.04380408,\n",
              "         -0.00187771, -0.00920826, -0.03685151, -0.04001429,\n",
              "         -0.03920713,  0.04142347,  0.01822187,  0.04468638,\n",
              "          0.0293875 ,  0.0008434 , -0.00544187,  0.01533134]],\n",
              "\n",
              "       [[-0.00989235, -0.04048698,  0.00461274, -0.01642841,\n",
              "          0.02967483,  0.02354646,  0.00199599,  0.03450064,\n",
              "          0.00265279,  0.02181245, -0.04119547,  0.01682049,\n",
              "         -0.00954252, -0.03480857, -0.01409218,  0.0037937 ,\n",
              "         -0.01074265,  0.02539115, -0.02942926,  0.03534297,\n",
              "         -0.03152651,  0.02165554, -0.04279542, -0.04408483,\n",
              "          0.04608231,  0.01531946,  0.00162981, -0.00838524,\n",
              "         -0.00464033, -0.03638354,  0.04683056,  0.01454795]],\n",
              "\n",
              "       [[-0.0389939 , -0.01451012, -0.04713342,  0.01067145,\n",
              "          0.03015853,  0.02026419,  0.01005389,  0.01333768,\n",
              "         -0.03799732,  0.01898576,  0.00479094, -0.03836563,\n",
              "         -0.03878751, -0.03530968,  0.03793634,  0.00596799,\n",
              "         -0.03674534,  0.00954752, -0.01680239, -0.02527553,\n",
              "         -0.02617061,  0.0166258 , -0.03713818, -0.03279246,\n",
              "          0.04364285,  0.02063379,  0.01562773,  0.01826106,\n",
              "          0.00600018,  0.03835563, -0.01753014,  0.02338571]],\n",
              "\n",
              "       [[-0.00079964, -0.02504157, -0.00564042,  0.04425295,\n",
              "          0.02071837,  0.01708554,  0.0065929 ,  0.00208849,\n",
              "         -0.01759342,  0.0356475 ,  0.00367417, -0.02044439,\n",
              "         -0.04170496, -0.01318983, -0.03477488, -0.01271216,\n",
              "         -0.01004893,  0.00024092, -0.01572882,  0.00620522,\n",
              "          0.02299571, -0.00160354, -0.0111671 , -0.0241755 ,\n",
              "         -0.00493849,  0.02034148, -0.04686076,  0.03875409,\n",
              "          0.03652342,  0.00455872,  0.00317745, -0.01440527]],\n",
              "\n",
              "       [[ 0.04626238,  0.03067029,  0.03227484,  0.01514059,\n",
              "         -0.01149305, -0.0323564 , -0.04135043,  0.03384733,\n",
              "         -0.01976274,  0.00053535,  0.03798501, -0.04441949,\n",
              "         -0.04439199,  0.00910085,  0.01998401, -0.02930501,\n",
              "          0.00341101, -0.03452656, -0.00406359, -0.03122481,\n",
              "          0.02271391, -0.02203072,  0.02488116,  0.01082806,\n",
              "          0.00790516, -0.02242785, -0.03595036,  0.04005229,\n",
              "         -0.00738162, -0.03327615, -0.03538596, -0.03697551]],\n",
              "\n",
              "       [[-0.0228303 , -0.04213615, -0.01295468,  0.03461566,\n",
              "          0.01742459,  0.02095351, -0.02655499,  0.04101422,\n",
              "         -0.03849252,  0.0017947 ,  0.03779132,  0.02801739,\n",
              "         -0.02825868,  0.01927991, -0.02083585,  0.03016353,\n",
              "          0.04436739,  0.0231299 , -0.00100285, -0.01300829,\n",
              "          0.0410758 ,  0.01887902, -0.01628953, -0.01437167,\n",
              "         -0.03573271,  0.0146182 ,  0.04178288, -0.0337814 ,\n",
              "          0.0166162 ,  0.03379923, -0.030862  , -0.02606711]],\n",
              "\n",
              "       [[-0.03598839, -0.00096964, -0.01381982, -0.01860636,\n",
              "          0.00883459, -0.01362312,  0.00926019,  0.03225624,\n",
              "          0.00874628,  0.01211607,  0.0329504 , -0.03487877,\n",
              "          0.00102787,  0.02508736,  0.00791658,  0.03423292,\n",
              "         -0.00038046,  0.00062111,  0.00104984, -0.02365932,\n",
              "          0.03888807, -0.0462528 ,  0.01736227,  0.02223758,\n",
              "          0.00881175, -0.00587665,  0.03546236,  0.00835809,\n",
              "         -0.01075531,  0.01349212, -0.01776024,  0.01342421]]],\n",
              "      dtype=float32)"
            ]
          },
          "metadata": {},
          "execution_count": 91
        }
      ]
    },
    {
      "cell_type": "code",
      "source": [
        "for layer in model1.layers[0:7]:#6=no. of layers in encoder\n",
        "    layer.trainable = False\n"
      ],
      "metadata": {
        "id": "YoMp64rO6KI9"
      },
      "execution_count": 92,
      "outputs": []
    },
    {
      "cell_type": "code",
      "source": [
        "model1.compile(loss=keras.losses.categorical_crossentropy, optimizer=keras.optimizers.Adam(),metrics=['accuracy'])\n",
        "model1.summary()"
      ],
      "metadata": {
        "colab": {
          "base_uri": "https://localhost:8080/"
        },
        "id": "BLwzqtIi6xkH",
        "outputId": "b9708eb8-492c-4931-a28f-cb07ba26b3c3"
      },
      "execution_count": 93,
      "outputs": [
        {
          "output_type": "stream",
          "name": "stdout",
          "text": [
            "Model: \"model_10\"\n",
            "_________________________________________________________________\n",
            " Layer (type)                Output Shape              Param #   \n",
            "=================================================================\n",
            " input_3 (InputLayer)        [(None, 64, 64, 1)]       0         \n",
            "                                                                 \n",
            " conv2d_21 (Conv2D)          (None, 64, 64, 32)        2624      \n",
            "                                                                 \n",
            " max_pooling2d_12 (MaxPoolin  (None, 32, 32, 32)       0         \n",
            " g2D)                                                            \n",
            "                                                                 \n",
            " conv2d_22 (Conv2D)          (None, 32, 32, 64)        18496     \n",
            "                                                                 \n",
            " max_pooling2d_13 (MaxPoolin  (None, 16, 16, 64)       0         \n",
            " g2D)                                                            \n",
            "                                                                 \n",
            " flatten_8 (Flatten)         (None, 16384)             0         \n",
            "                                                                 \n",
            " dense_16 (Dense)            (None, 512)               8389120   \n",
            "                                                                 \n",
            " flatten_9 (Flatten)         (None, 512)               0         \n",
            "                                                                 \n",
            " dense_17 (Dense)            (None, 128)               65664     \n",
            "                                                                 \n",
            " dense_18 (Dense)            (None, 128)               16512     \n",
            "                                                                 \n",
            " dense_19 (Dense)            (None, 12)                1548      \n",
            "                                                                 \n",
            "=================================================================\n",
            "Total params: 8,493,964\n",
            "Trainable params: 83,724\n",
            "Non-trainable params: 8,410,240\n",
            "_________________________________________________________________\n"
          ]
        }
      ]
    },
    {
      "cell_type": "code",
      "source": [
        "classify_train = model1.fit(x_train_1, y_train_1, batch_size=64,epochs=100,verbose=1,validation_data=(x_val_1, y_val_1))\n"
      ],
      "metadata": {
        "colab": {
          "base_uri": "https://localhost:8080/"
        },
        "id": "0ahrx_Q_6xpi",
        "outputId": "58df3dba-8b56-4f64-b88f-20762c39b314"
      },
      "execution_count": 94,
      "outputs": [
        {
          "output_type": "stream",
          "name": "stdout",
          "text": [
            "Epoch 1/100\n",
            "6/6 [==============================] - 5s 888ms/step - loss: 2.4723 - accuracy: 0.1420 - val_loss: 2.4177 - val_accuracy: 0.2048\n",
            "Epoch 2/100\n",
            "6/6 [==============================] - 7s 1s/step - loss: 2.4037 - accuracy: 0.1964 - val_loss: 2.3617 - val_accuracy: 0.3253\n",
            "Epoch 3/100\n",
            "6/6 [==============================] - 5s 848ms/step - loss: 2.3310 - accuracy: 0.3202 - val_loss: 2.2766 - val_accuracy: 0.3253\n",
            "Epoch 4/100\n",
            "6/6 [==============================] - 5s 821ms/step - loss: 2.2374 - accuracy: 0.3686 - val_loss: 2.1770 - val_accuracy: 0.3976\n",
            "Epoch 5/100\n",
            "6/6 [==============================] - 7s 1s/step - loss: 2.1257 - accuracy: 0.4804 - val_loss: 2.0331 - val_accuracy: 0.4578\n",
            "Epoch 6/100\n",
            "6/6 [==============================] - 5s 887ms/step - loss: 1.9951 - accuracy: 0.4683 - val_loss: 1.8803 - val_accuracy: 0.4578\n",
            "Epoch 7/100\n",
            "6/6 [==============================] - 7s 1s/step - loss: 1.8523 - accuracy: 0.4773 - val_loss: 1.7366 - val_accuracy: 0.4699\n",
            "Epoch 8/100\n",
            "6/6 [==============================] - 7s 1s/step - loss: 1.7116 - accuracy: 0.5106 - val_loss: 1.6016 - val_accuracy: 0.4699\n",
            "Epoch 9/100\n",
            "6/6 [==============================] - 5s 820ms/step - loss: 1.5674 - accuracy: 0.5196 - val_loss: 1.4682 - val_accuracy: 0.4699\n",
            "Epoch 10/100\n",
            "6/6 [==============================] - 7s 1s/step - loss: 1.4357 - accuracy: 0.5287 - val_loss: 1.3288 - val_accuracy: 0.4940\n",
            "Epoch 11/100\n",
            "6/6 [==============================] - 5s 790ms/step - loss: 1.3301 - accuracy: 0.5529 - val_loss: 1.2389 - val_accuracy: 0.5301\n",
            "Epoch 12/100\n",
            "6/6 [==============================] - 5s 878ms/step - loss: 1.2394 - accuracy: 0.5498 - val_loss: 1.1770 - val_accuracy: 0.5542\n",
            "Epoch 13/100\n",
            "6/6 [==============================] - 7s 1s/step - loss: 1.1673 - accuracy: 0.5891 - val_loss: 1.0990 - val_accuracy: 0.5904\n",
            "Epoch 14/100\n",
            "6/6 [==============================] - 5s 856ms/step - loss: 1.1040 - accuracy: 0.6042 - val_loss: 1.0281 - val_accuracy: 0.6386\n",
            "Epoch 15/100\n",
            "6/6 [==============================] - 7s 1s/step - loss: 1.0542 - accuracy: 0.6284 - val_loss: 0.9679 - val_accuracy: 0.6506\n",
            "Epoch 16/100\n",
            "6/6 [==============================] - 6s 1s/step - loss: 1.0257 - accuracy: 0.6344 - val_loss: 0.9185 - val_accuracy: 0.6747\n",
            "Epoch 17/100\n",
            "6/6 [==============================] - 8s 1s/step - loss: 0.9803 - accuracy: 0.6828 - val_loss: 0.9001 - val_accuracy: 0.6265\n",
            "Epoch 18/100\n",
            "6/6 [==============================] - 5s 835ms/step - loss: 0.9439 - accuracy: 0.6707 - val_loss: 0.8945 - val_accuracy: 0.6386\n",
            "Epoch 19/100\n",
            "6/6 [==============================] - 5s 832ms/step - loss: 0.9147 - accuracy: 0.6767 - val_loss: 0.8721 - val_accuracy: 0.6747\n",
            "Epoch 20/100\n",
            "6/6 [==============================] - 7s 1s/step - loss: 0.9095 - accuracy: 0.6798 - val_loss: 0.8556 - val_accuracy: 0.6506\n",
            "Epoch 21/100\n",
            "6/6 [==============================] - 5s 860ms/step - loss: 0.8676 - accuracy: 0.6828 - val_loss: 0.8083 - val_accuracy: 0.6386\n",
            "Epoch 22/100\n",
            "6/6 [==============================] - 7s 1s/step - loss: 0.8603 - accuracy: 0.6767 - val_loss: 0.7974 - val_accuracy: 0.6867\n",
            "Epoch 23/100\n",
            "6/6 [==============================] - 5s 793ms/step - loss: 0.8379 - accuracy: 0.7069 - val_loss: 0.8057 - val_accuracy: 0.6506\n",
            "Epoch 24/100\n",
            "6/6 [==============================] - 5s 806ms/step - loss: 0.8120 - accuracy: 0.6918 - val_loss: 0.7784 - val_accuracy: 0.6627\n",
            "Epoch 25/100\n",
            "6/6 [==============================] - 9s 1s/step - loss: 0.8154 - accuracy: 0.6798 - val_loss: 0.7688 - val_accuracy: 0.7349\n",
            "Epoch 26/100\n",
            "6/6 [==============================] - 5s 834ms/step - loss: 0.7889 - accuracy: 0.7160 - val_loss: 0.7568 - val_accuracy: 0.7229\n",
            "Epoch 27/100\n",
            "6/6 [==============================] - 7s 1s/step - loss: 0.7683 - accuracy: 0.7311 - val_loss: 0.7443 - val_accuracy: 0.6988\n",
            "Epoch 28/100\n",
            "6/6 [==============================] - 5s 790ms/step - loss: 0.7540 - accuracy: 0.7341 - val_loss: 0.7343 - val_accuracy: 0.6627\n",
            "Epoch 29/100\n",
            "6/6 [==============================] - 6s 1s/step - loss: 0.7319 - accuracy: 0.7492 - val_loss: 0.7157 - val_accuracy: 0.7229\n",
            "Epoch 30/100\n",
            "6/6 [==============================] - 6s 919ms/step - loss: 0.7208 - accuracy: 0.7523 - val_loss: 0.6989 - val_accuracy: 0.7470\n",
            "Epoch 31/100\n",
            "6/6 [==============================] - 5s 880ms/step - loss: 0.7004 - accuracy: 0.7492 - val_loss: 0.6855 - val_accuracy: 0.7590\n",
            "Epoch 32/100\n",
            "6/6 [==============================] - 7s 1s/step - loss: 0.7111 - accuracy: 0.7281 - val_loss: 0.6911 - val_accuracy: 0.6988\n",
            "Epoch 33/100\n",
            "6/6 [==============================] - 5s 873ms/step - loss: 0.6818 - accuracy: 0.7553 - val_loss: 0.6752 - val_accuracy: 0.7590\n",
            "Epoch 34/100\n",
            "6/6 [==============================] - 6s 1s/step - loss: 0.6699 - accuracy: 0.7704 - val_loss: 0.6609 - val_accuracy: 0.7108\n",
            "Epoch 35/100\n",
            "6/6 [==============================] - 8s 1s/step - loss: 0.6557 - accuracy: 0.7795 - val_loss: 0.6613 - val_accuracy: 0.7831\n",
            "Epoch 36/100\n",
            "6/6 [==============================] - 5s 855ms/step - loss: 0.6517 - accuracy: 0.7795 - val_loss: 0.6634 - val_accuracy: 0.7831\n",
            "Epoch 37/100\n",
            "6/6 [==============================] - 7s 1s/step - loss: 0.6402 - accuracy: 0.7704 - val_loss: 0.6590 - val_accuracy: 0.6988\n",
            "Epoch 38/100\n",
            "6/6 [==============================] - 5s 784ms/step - loss: 0.6248 - accuracy: 0.7734 - val_loss: 0.6414 - val_accuracy: 0.7229\n",
            "Epoch 39/100\n",
            "6/6 [==============================] - 5s 866ms/step - loss: 0.6232 - accuracy: 0.7855 - val_loss: 0.6282 - val_accuracy: 0.7590\n",
            "Epoch 40/100\n",
            "6/6 [==============================] - 7s 1s/step - loss: 0.6012 - accuracy: 0.7976 - val_loss: 0.6517 - val_accuracy: 0.6867\n",
            "Epoch 41/100\n",
            "6/6 [==============================] - 5s 791ms/step - loss: 0.5947 - accuracy: 0.8036 - val_loss: 0.6117 - val_accuracy: 0.8072\n",
            "Epoch 42/100\n",
            "6/6 [==============================] - 7s 1s/step - loss: 0.5807 - accuracy: 0.7946 - val_loss: 0.6135 - val_accuracy: 0.7711\n",
            "Epoch 43/100\n",
            "6/6 [==============================] - 7s 1s/step - loss: 0.5869 - accuracy: 0.8127 - val_loss: 0.6505 - val_accuracy: 0.7229\n",
            "Epoch 44/100\n",
            "6/6 [==============================] - 7s 1s/step - loss: 0.5752 - accuracy: 0.8036 - val_loss: 0.6400 - val_accuracy: 0.7470\n",
            "Epoch 45/100\n",
            "6/6 [==============================] - 6s 969ms/step - loss: 0.5559 - accuracy: 0.8127 - val_loss: 0.6096 - val_accuracy: 0.7590\n",
            "Epoch 46/100\n",
            "6/6 [==============================] - 5s 882ms/step - loss: 0.5297 - accuracy: 0.8248 - val_loss: 0.5997 - val_accuracy: 0.8072\n",
            "Epoch 47/100\n",
            "6/6 [==============================] - 7s 1s/step - loss: 0.5270 - accuracy: 0.8338 - val_loss: 0.6027 - val_accuracy: 0.7711\n",
            "Epoch 48/100\n",
            "6/6 [==============================] - 5s 863ms/step - loss: 0.5307 - accuracy: 0.8097 - val_loss: 0.6245 - val_accuracy: 0.7831\n",
            "Epoch 49/100\n",
            "6/6 [==============================] - 7s 1s/step - loss: 0.5232 - accuracy: 0.8097 - val_loss: 0.5766 - val_accuracy: 0.7831\n",
            "Epoch 50/100\n",
            "6/6 [==============================] - 6s 864ms/step - loss: 0.4970 - accuracy: 0.8459 - val_loss: 0.5922 - val_accuracy: 0.7831\n",
            "Epoch 51/100\n",
            "6/6 [==============================] - 5s 815ms/step - loss: 0.4883 - accuracy: 0.8489 - val_loss: 0.6049 - val_accuracy: 0.7831\n",
            "Epoch 52/100\n",
            "6/6 [==============================] - 9s 1s/step - loss: 0.4865 - accuracy: 0.8308 - val_loss: 0.5770 - val_accuracy: 0.7831\n",
            "Epoch 53/100\n",
            "6/6 [==============================] - 6s 846ms/step - loss: 0.4709 - accuracy: 0.8550 - val_loss: 0.5653 - val_accuracy: 0.7711\n",
            "Epoch 54/100\n",
            "6/6 [==============================] - 7s 1s/step - loss: 0.4680 - accuracy: 0.8429 - val_loss: 0.5762 - val_accuracy: 0.7711\n",
            "Epoch 55/100\n",
            "6/6 [==============================] - 5s 864ms/step - loss: 0.4512 - accuracy: 0.8671 - val_loss: 0.5786 - val_accuracy: 0.7711\n",
            "Epoch 56/100\n",
            "6/6 [==============================] - 6s 1s/step - loss: 0.4630 - accuracy: 0.8459 - val_loss: 0.5789 - val_accuracy: 0.7711\n",
            "Epoch 57/100\n",
            "6/6 [==============================] - 6s 938ms/step - loss: 0.4393 - accuracy: 0.8731 - val_loss: 0.5437 - val_accuracy: 0.8072\n",
            "Epoch 58/100\n",
            "6/6 [==============================] - 5s 780ms/step - loss: 0.4355 - accuracy: 0.8610 - val_loss: 0.5557 - val_accuracy: 0.7952\n",
            "Epoch 59/100\n",
            "6/6 [==============================] - 7s 1s/step - loss: 0.4227 - accuracy: 0.8761 - val_loss: 0.5569 - val_accuracy: 0.7952\n",
            "Epoch 60/100\n",
            "6/6 [==============================] - 6s 969ms/step - loss: 0.4183 - accuracy: 0.8701 - val_loss: 0.5496 - val_accuracy: 0.7831\n",
            "Epoch 61/100\n",
            "6/6 [==============================] - 16s 3s/step - loss: 0.4211 - accuracy: 0.8580 - val_loss: 0.5433 - val_accuracy: 0.7831\n",
            "Epoch 62/100\n",
            "6/6 [==============================] - 9s 2s/step - loss: 0.3960 - accuracy: 0.8701 - val_loss: 0.5572 - val_accuracy: 0.7831\n",
            "Epoch 63/100\n",
            "6/6 [==============================] - 9s 1s/step - loss: 0.3933 - accuracy: 0.8761 - val_loss: 0.5511 - val_accuracy: 0.8193\n",
            "Epoch 64/100\n",
            "6/6 [==============================] - 8s 1s/step - loss: 0.3951 - accuracy: 0.8640 - val_loss: 0.5507 - val_accuracy: 0.7831\n",
            "Epoch 65/100\n",
            "6/6 [==============================] - 5s 864ms/step - loss: 0.3885 - accuracy: 0.8882 - val_loss: 0.5547 - val_accuracy: 0.7831\n",
            "Epoch 66/100\n",
            "6/6 [==============================] - 5s 846ms/step - loss: 0.3689 - accuracy: 0.9003 - val_loss: 0.5542 - val_accuracy: 0.7711\n",
            "Epoch 67/100\n",
            "6/6 [==============================] - 9s 1s/step - loss: 0.3710 - accuracy: 0.8943 - val_loss: 0.5221 - val_accuracy: 0.8072\n",
            "Epoch 68/100\n",
            "6/6 [==============================] - 6s 815ms/step - loss: 0.3806 - accuracy: 0.8640 - val_loss: 0.5370 - val_accuracy: 0.7952\n",
            "Epoch 69/100\n",
            "6/6 [==============================] - 7s 1s/step - loss: 0.3515 - accuracy: 0.9094 - val_loss: 0.5563 - val_accuracy: 0.7711\n",
            "Epoch 70/100\n",
            "6/6 [==============================] - 5s 903ms/step - loss: 0.3623 - accuracy: 0.8943 - val_loss: 0.5430 - val_accuracy: 0.7590\n",
            "Epoch 71/100\n",
            "6/6 [==============================] - 7s 1s/step - loss: 0.3424 - accuracy: 0.8943 - val_loss: 0.5321 - val_accuracy: 0.8072\n",
            "Epoch 72/100\n",
            "6/6 [==============================] - 6s 865ms/step - loss: 0.3441 - accuracy: 0.9124 - val_loss: 0.5345 - val_accuracy: 0.7952\n",
            "Epoch 73/100\n",
            "6/6 [==============================] - 5s 785ms/step - loss: 0.3159 - accuracy: 0.9275 - val_loss: 0.5381 - val_accuracy: 0.8072\n",
            "Epoch 74/100\n",
            "6/6 [==============================] - 7s 1s/step - loss: 0.3337 - accuracy: 0.8943 - val_loss: 0.5520 - val_accuracy: 0.7590\n",
            "Epoch 75/100\n",
            "6/6 [==============================] - 5s 891ms/step - loss: 0.3116 - accuracy: 0.9305 - val_loss: 0.5344 - val_accuracy: 0.7952\n",
            "Epoch 76/100\n",
            "6/6 [==============================] - 8s 1s/step - loss: 0.3161 - accuracy: 0.9063 - val_loss: 0.5228 - val_accuracy: 0.7952\n",
            "Epoch 77/100\n",
            "6/6 [==============================] - 7s 1s/step - loss: 0.2947 - accuracy: 0.9335 - val_loss: 0.5288 - val_accuracy: 0.7952\n",
            "Epoch 78/100\n",
            "6/6 [==============================] - 5s 851ms/step - loss: 0.2934 - accuracy: 0.9366 - val_loss: 0.5394 - val_accuracy: 0.7831\n",
            "Epoch 79/100\n",
            "6/6 [==============================] - 7s 1s/step - loss: 0.2922 - accuracy: 0.9215 - val_loss: 0.5360 - val_accuracy: 0.7952\n",
            "Epoch 80/100\n",
            "6/6 [==============================] - 5s 850ms/step - loss: 0.2873 - accuracy: 0.9215 - val_loss: 0.5334 - val_accuracy: 0.7952\n",
            "Epoch 81/100\n",
            "6/6 [==============================] - 6s 1s/step - loss: 0.2818 - accuracy: 0.9245 - val_loss: 0.5571 - val_accuracy: 0.7590\n",
            "Epoch 82/100\n",
            "6/6 [==============================] - 6s 932ms/step - loss: 0.2706 - accuracy: 0.9366 - val_loss: 0.5194 - val_accuracy: 0.8072\n",
            "Epoch 83/100\n",
            "6/6 [==============================] - 5s 783ms/step - loss: 0.2617 - accuracy: 0.9456 - val_loss: 0.5272 - val_accuracy: 0.8072\n",
            "Epoch 84/100\n",
            "6/6 [==============================] - 7s 1s/step - loss: 0.2586 - accuracy: 0.9426 - val_loss: 0.5210 - val_accuracy: 0.8072\n",
            "Epoch 85/100\n",
            "6/6 [==============================] - 7s 1s/step - loss: 0.2512 - accuracy: 0.9517 - val_loss: 0.5234 - val_accuracy: 0.8072\n",
            "Epoch 86/100\n",
            "6/6 [==============================] - 7s 1s/step - loss: 0.2530 - accuracy: 0.9517 - val_loss: 0.5352 - val_accuracy: 0.8193\n",
            "Epoch 87/100\n",
            "6/6 [==============================] - 5s 877ms/step - loss: 0.2405 - accuracy: 0.9577 - val_loss: 0.5292 - val_accuracy: 0.7952\n",
            "Epoch 88/100\n",
            "6/6 [==============================] - 6s 934ms/step - loss: 0.2315 - accuracy: 0.9517 - val_loss: 0.5180 - val_accuracy: 0.7952\n",
            "Epoch 89/100\n",
            "6/6 [==============================] - 7s 990ms/step - loss: 0.2470 - accuracy: 0.9426 - val_loss: 0.5357 - val_accuracy: 0.7952\n",
            "Epoch 90/100\n",
            "6/6 [==============================] - 5s 860ms/step - loss: 0.2509 - accuracy: 0.9215 - val_loss: 0.5871 - val_accuracy: 0.7590\n",
            "Epoch 91/100\n",
            "6/6 [==============================] - 7s 1s/step - loss: 0.2323 - accuracy: 0.9486 - val_loss: 0.5151 - val_accuracy: 0.8193\n",
            "Epoch 92/100\n",
            "6/6 [==============================] - 5s 881ms/step - loss: 0.2331 - accuracy: 0.9456 - val_loss: 0.5281 - val_accuracy: 0.8193\n",
            "Epoch 93/100\n",
            "6/6 [==============================] - 6s 971ms/step - loss: 0.2176 - accuracy: 0.9577 - val_loss: 0.5338 - val_accuracy: 0.8072\n",
            "Epoch 94/100\n",
            "6/6 [==============================] - 9s 1s/step - loss: 0.2181 - accuracy: 0.9607 - val_loss: 0.5150 - val_accuracy: 0.8193\n",
            "Epoch 95/100\n",
            "6/6 [==============================] - 5s 860ms/step - loss: 0.2057 - accuracy: 0.9607 - val_loss: 0.5445 - val_accuracy: 0.7831\n",
            "Epoch 96/100\n",
            "6/6 [==============================] - 7s 1s/step - loss: 0.2023 - accuracy: 0.9577 - val_loss: 0.5165 - val_accuracy: 0.7952\n",
            "Epoch 97/100\n",
            "6/6 [==============================] - 5s 854ms/step - loss: 0.1905 - accuracy: 0.9607 - val_loss: 0.5319 - val_accuracy: 0.7952\n",
            "Epoch 98/100\n",
            "6/6 [==============================] - 7s 1s/step - loss: 0.1866 - accuracy: 0.9637 - val_loss: 0.5169 - val_accuracy: 0.8193\n",
            "Epoch 99/100\n",
            "6/6 [==============================] - 5s 854ms/step - loss: 0.1871 - accuracy: 0.9607 - val_loss: 0.5333 - val_accuracy: 0.8072\n",
            "Epoch 100/100\n",
            "6/6 [==============================] - 5s 841ms/step - loss: 0.1848 - accuracy: 0.9668 - val_loss: 0.5374 - val_accuracy: 0.7831\n"
          ]
        }
      ]
    },
    {
      "cell_type": "code",
      "source": [
        "model1.save_weights('classification_complete.h5')\n"
      ],
      "metadata": {
        "id": "fXXwA8IK7VxS"
      },
      "execution_count": 95,
      "outputs": []
    },
    {
      "cell_type": "code",
      "source": [
        "val_eval=model1.evaluate(x_val_1, y_val_1, verbose=0)"
      ],
      "metadata": {
        "colab": {
          "base_uri": "https://localhost:8080/"
        },
        "id": "W3HRbF1uAhcs",
        "outputId": "1f85c89e-3e10-49cd-81ef-e777b0b2df9e"
      },
      "execution_count": 96,
      "outputs": [
        {
          "output_type": "stream",
          "name": "stderr",
          "text": [
            "/usr/local/lib/python3.9/dist-packages/tensorflow/python/data/ops/structured_function.py:256: UserWarning: Even though the `tf.config.experimental_run_functions_eagerly` option is set, this option does not apply to tf.data functions. To force eager execution of tf.data functions, please use `tf.data.experimental.enable_debug_mode()`.\n",
            "  warnings.warn(\n"
          ]
        }
      ]
    },
    {
      "cell_type": "code",
      "source": [
        "print('Test loss:', val_eval[0])\n",
        "print('Test accuracy:', val_eval[1])\n"
      ],
      "metadata": {
        "colab": {
          "base_uri": "https://localhost:8080/"
        },
        "id": "gDtxA8leAhoz",
        "outputId": "3a43983a-42c3-4a0b-a354-2a529557b27a"
      },
      "execution_count": 97,
      "outputs": [
        {
          "output_type": "stream",
          "name": "stdout",
          "text": [
            "Test loss: 0.5373963117599487\n",
            "Test accuracy: 0.7831325531005859\n"
          ]
        }
      ]
    },
    {
      "cell_type": "code",
      "source": [
        "test_eval = model1.evaluate(x_test_1, y_test_1, verbose=0)\n"
      ],
      "metadata": {
        "colab": {
          "base_uri": "https://localhost:8080/"
        },
        "id": "SL35zsMI7V3h",
        "outputId": "69d7e090-cecc-41e2-ebd5-0740383fa080"
      },
      "execution_count": 101,
      "outputs": [
        {
          "output_type": "stream",
          "name": "stderr",
          "text": [
            "/usr/local/lib/python3.9/dist-packages/tensorflow/python/data/ops/structured_function.py:256: UserWarning: Even though the `tf.config.experimental_run_functions_eagerly` option is set, this option does not apply to tf.data functions. To force eager execution of tf.data functions, please use `tf.data.experimental.enable_debug_mode()`.\n",
            "  warnings.warn(\n"
          ]
        }
      ]
    },
    {
      "cell_type": "code",
      "source": [
        "print('Test loss:', test_eval[0])\n",
        "print('Test accuracy:', test_eval[1])\n"
      ],
      "metadata": {
        "colab": {
          "base_uri": "https://localhost:8080/"
        },
        "id": "LNqRIxrs7mEC",
        "outputId": "1b047346-5a7f-4c20-89dc-d578ba8f9fa2"
      },
      "execution_count": 102,
      "outputs": [
        {
          "output_type": "stream",
          "name": "stdout",
          "text": [
            "Test loss: 0.5875991582870483\n",
            "Test accuracy: 0.7846153974533081\n"
          ]
        }
      ]
    },
    {
      "cell_type": "code",
      "source": [],
      "metadata": {
        "id": "8rMiEda27mJ0"
      },
      "execution_count": null,
      "outputs": []
    },
    {
      "cell_type": "markdown",
      "metadata": {
        "id": "x3dV6mX8Lszb"
      },
      "source": [
        "# Way-1"
      ]
    },
    {
      "cell_type": "code",
      "execution_count": 54,
      "metadata": {
        "colab": {
          "base_uri": "https://localhost:8080/"
        },
        "id": "SXH8eZjkgrEz",
        "outputId": "85d5c012-365e-4c70-8f5d-9a4cf72d2e04"
      },
      "outputs": [
        {
          "output_type": "stream",
          "name": "stdout",
          "text": [
            "Model: \"model_5\"\n",
            "_________________________________________________________________\n",
            " Layer (type)                Output Shape              Param #   \n",
            "=================================================================\n",
            " input_2 (InputLayer)        [(None, 64, 64, 1)]       0         \n",
            "                                                                 \n",
            " conv2d_12 (Conv2D)          (None, 64, 64, 32)        2624      \n",
            "                                                                 \n",
            " max_pooling2d_6 (MaxPooling  (None, 32, 32, 32)       0         \n",
            " 2D)                                                             \n",
            "                                                                 \n",
            " conv2d_13 (Conv2D)          (None, 32, 32, 64)        18496     \n",
            "                                                                 \n",
            " max_pooling2d_7 (MaxPooling  (None, 16, 16, 64)       0         \n",
            " 2D)                                                             \n",
            "                                                                 \n",
            " flatten_3 (Flatten)         (None, 16384)             0         \n",
            "                                                                 \n",
            " dense_6 (Dense)             (None, 512)               8389120   \n",
            "                                                                 \n",
            " flatten_4 (Flatten)         (None, 512)               0         \n",
            "                                                                 \n",
            " dense_7 (Dense)             (None, 128)               65664     \n",
            "                                                                 \n",
            " dense_8 (Dense)             (None, 128)               16512     \n",
            "                                                                 \n",
            " dense_9 (Dense)             (None, 1)                 129       \n",
            "                                                                 \n",
            "=================================================================\n",
            "Total params: 8,492,545\n",
            "Trainable params: 8,492,545\n",
            "Non-trainable params: 0\n",
            "_________________________________________________________________\n"
          ]
        }
      ],
      "source": [
        "encoded_image=encoder(input_img)\n",
        "model=keras.Model(input_img,encoded_image)\n",
        "x = layers.Flatten()(model.output)\n",
        "x = layers.Dense(128, activation='relu')(x)\n",
        "x = layers.Dense(128, activation='relu')(x)\n",
        "x = layers.Dense(11, activation='softmax')(x)\n",
        "model1=tf.keras.models.Model(model.input,x)\n",
        "model1.summary()"
      ]
    },
    {
      "cell_type": "code",
      "execution_count": 55,
      "metadata": {
        "id": "sAD1T67IMUMq"
      },
      "outputs": [],
      "source": [
        "model1.compile(optimizer=tf.keras.optimizers.Adam(learning_rate=0.001), loss = 'categorical_crossentropy',metrics = ['accuracy'])\n",
        "#model1.compile(optimizer=tf.keras.optimizers.Adam(learning_rate=0.001), loss = tf.keras.losses.SparseCategoricalCrossentropy(from_logits=True),metrics = ['acc'])\n",
        "#model1.compile(optimizer=tf.keras.optimizers.Adam(learning_rate=0.001), metrics = ['acc'])"
      ]
    },
    {
      "cell_type": "code",
      "source": [
        "x_train_1.shape,y_train_1.shape"
      ],
      "metadata": {
        "colab": {
          "base_uri": "https://localhost:8080/"
        },
        "id": "0bK038ub3omI",
        "outputId": "274f2d69-a9a1-4c16-c7e3-95425dcc3457"
      },
      "execution_count": 56,
      "outputs": [
        {
          "output_type": "execute_result",
          "data": {
            "text/plain": [
              "((414, 64, 64, 1), (414,))"
            ]
          },
          "metadata": {},
          "execution_count": 56
        }
      ]
    },
    {
      "cell_type": "code",
      "execution_count": 57,
      "metadata": {
        "colab": {
          "base_uri": "https://localhost:8080/",
          "height": 521
        },
        "id": "Ue_xfF7MMJ_u",
        "outputId": "01880744-c1dc-4cb1-846d-32d532c0daf9"
      },
      "outputs": [
        {
          "output_type": "stream",
          "name": "stdout",
          "text": [
            "Epoch 1/100\n"
          ]
        },
        {
          "output_type": "stream",
          "name": "stderr",
          "text": [
            "/usr/local/lib/python3.9/dist-packages/tensorflow/python/data/ops/structured_function.py:256: UserWarning: Even though the `tf.config.experimental_run_functions_eagerly` option is set, this option does not apply to tf.data functions. To force eager execution of tf.data functions, please use `tf.data.experimental.enable_debug_mode()`.\n",
            "  warnings.warn(\n"
          ]
        },
        {
          "output_type": "stream",
          "name": "stdout",
          "text": [
            "13/13 [==============================] - 10s 692ms/step - loss: 0.0000e+00 - accuracy: 0.0942 - val_loss: 0.0000e+00 - val_accuracy: 0.0769\n",
            "Epoch 2/100\n",
            "13/13 [==============================] - 13s 999ms/step - loss: 0.0000e+00 - accuracy: 0.0942 - val_loss: 0.0000e+00 - val_accuracy: 0.0769\n",
            "Epoch 3/100\n",
            "13/13 [==============================] - 10s 815ms/step - loss: 0.0000e+00 - accuracy: 0.0942 - val_loss: 0.0000e+00 - val_accuracy: 0.0769\n",
            "Epoch 4/100\n",
            " 9/13 [===================>..........] - ETA: 2s - loss: 0.0000e+00 - accuracy: 0.0972"
          ]
        },
        {
          "output_type": "error",
          "ename": "KeyboardInterrupt",
          "evalue": "ignored",
          "traceback": [
            "\u001b[0;31m---------------------------------------------------------------------------\u001b[0m",
            "\u001b[0;31mKeyboardInterrupt\u001b[0m                         Traceback (most recent call last)",
            "\u001b[0;32m<ipython-input-57-1192b98f7c2c>\u001b[0m in \u001b[0;36m<module>\u001b[0;34m\u001b[0m\n\u001b[0;32m----> 1\u001b[0;31m \u001b[0mmodel1\u001b[0m\u001b[0;34m.\u001b[0m\u001b[0mfit\u001b[0m\u001b[0;34m(\u001b[0m\u001b[0mx_train_1\u001b[0m\u001b[0;34m,\u001b[0m\u001b[0my_train_1\u001b[0m\u001b[0;34m,\u001b[0m \u001b[0mvalidation_data\u001b[0m \u001b[0;34m=\u001b[0m \u001b[0;34m(\u001b[0m\u001b[0mx_val_1\u001b[0m\u001b[0;34m,\u001b[0m\u001b[0my_val_1\u001b[0m\u001b[0;34m)\u001b[0m\u001b[0;34m,\u001b[0m \u001b[0mepochs\u001b[0m \u001b[0;34m=\u001b[0m \u001b[0;36m100\u001b[0m\u001b[0;34m)\u001b[0m\u001b[0;34m\u001b[0m\u001b[0;34m\u001b[0m\u001b[0m\n\u001b[0m",
            "\u001b[0;32m/usr/local/lib/python3.9/dist-packages/keras/utils/traceback_utils.py\u001b[0m in \u001b[0;36merror_handler\u001b[0;34m(*args, **kwargs)\u001b[0m\n\u001b[1;32m     63\u001b[0m         \u001b[0mfiltered_tb\u001b[0m \u001b[0;34m=\u001b[0m \u001b[0;32mNone\u001b[0m\u001b[0;34m\u001b[0m\u001b[0;34m\u001b[0m\u001b[0m\n\u001b[1;32m     64\u001b[0m         \u001b[0;32mtry\u001b[0m\u001b[0;34m:\u001b[0m\u001b[0;34m\u001b[0m\u001b[0;34m\u001b[0m\u001b[0m\n\u001b[0;32m---> 65\u001b[0;31m             \u001b[0;32mreturn\u001b[0m \u001b[0mfn\u001b[0m\u001b[0;34m(\u001b[0m\u001b[0;34m*\u001b[0m\u001b[0margs\u001b[0m\u001b[0;34m,\u001b[0m \u001b[0;34m**\u001b[0m\u001b[0mkwargs\u001b[0m\u001b[0;34m)\u001b[0m\u001b[0;34m\u001b[0m\u001b[0;34m\u001b[0m\u001b[0m\n\u001b[0m\u001b[1;32m     66\u001b[0m         \u001b[0;32mexcept\u001b[0m \u001b[0mException\u001b[0m \u001b[0;32mas\u001b[0m \u001b[0me\u001b[0m\u001b[0;34m:\u001b[0m\u001b[0;34m\u001b[0m\u001b[0;34m\u001b[0m\u001b[0m\n\u001b[1;32m     67\u001b[0m             \u001b[0mfiltered_tb\u001b[0m \u001b[0;34m=\u001b[0m \u001b[0m_process_traceback_frames\u001b[0m\u001b[0;34m(\u001b[0m\u001b[0me\u001b[0m\u001b[0;34m.\u001b[0m\u001b[0m__traceback__\u001b[0m\u001b[0;34m)\u001b[0m\u001b[0;34m\u001b[0m\u001b[0;34m\u001b[0m\u001b[0m\n",
            "\u001b[0;32m/usr/local/lib/python3.9/dist-packages/keras/engine/training.py\u001b[0m in \u001b[0;36mfit\u001b[0;34m(self, x, y, batch_size, epochs, verbose, callbacks, validation_split, validation_data, shuffle, class_weight, sample_weight, initial_epoch, steps_per_epoch, validation_steps, validation_batch_size, validation_freq, max_queue_size, workers, use_multiprocessing)\u001b[0m\n\u001b[1;32m   1648\u001b[0m                         ):\n\u001b[1;32m   1649\u001b[0m                             \u001b[0mcallbacks\u001b[0m\u001b[0;34m.\u001b[0m\u001b[0mon_train_batch_begin\u001b[0m\u001b[0;34m(\u001b[0m\u001b[0mstep\u001b[0m\u001b[0;34m)\u001b[0m\u001b[0;34m\u001b[0m\u001b[0;34m\u001b[0m\u001b[0m\n\u001b[0;32m-> 1650\u001b[0;31m                             \u001b[0mtmp_logs\u001b[0m \u001b[0;34m=\u001b[0m \u001b[0mself\u001b[0m\u001b[0;34m.\u001b[0m\u001b[0mtrain_function\u001b[0m\u001b[0;34m(\u001b[0m\u001b[0miterator\u001b[0m\u001b[0;34m)\u001b[0m\u001b[0;34m\u001b[0m\u001b[0;34m\u001b[0m\u001b[0m\n\u001b[0m\u001b[1;32m   1651\u001b[0m                             \u001b[0;32mif\u001b[0m \u001b[0mdata_handler\u001b[0m\u001b[0;34m.\u001b[0m\u001b[0mshould_sync\u001b[0m\u001b[0;34m:\u001b[0m\u001b[0;34m\u001b[0m\u001b[0;34m\u001b[0m\u001b[0m\n\u001b[1;32m   1652\u001b[0m                                 \u001b[0mcontext\u001b[0m\u001b[0;34m.\u001b[0m\u001b[0masync_wait\u001b[0m\u001b[0;34m(\u001b[0m\u001b[0;34m)\u001b[0m\u001b[0;34m\u001b[0m\u001b[0;34m\u001b[0m\u001b[0m\n",
            "\u001b[0;32m/usr/local/lib/python3.9/dist-packages/keras/engine/training.py\u001b[0m in \u001b[0;36mtrain_function\u001b[0;34m(iterator)\u001b[0m\n\u001b[1;32m   1247\u001b[0m             \u001b[0;32mdef\u001b[0m \u001b[0mtrain_function\u001b[0m\u001b[0;34m(\u001b[0m\u001b[0miterator\u001b[0m\u001b[0;34m)\u001b[0m\u001b[0;34m:\u001b[0m\u001b[0;34m\u001b[0m\u001b[0;34m\u001b[0m\u001b[0m\n\u001b[1;32m   1248\u001b[0m                 \u001b[0;34m\"\"\"Runs a training execution with a single step.\"\"\"\u001b[0m\u001b[0;34m\u001b[0m\u001b[0;34m\u001b[0m\u001b[0m\n\u001b[0;32m-> 1249\u001b[0;31m                 \u001b[0;32mreturn\u001b[0m \u001b[0mstep_function\u001b[0m\u001b[0;34m(\u001b[0m\u001b[0mself\u001b[0m\u001b[0;34m,\u001b[0m \u001b[0miterator\u001b[0m\u001b[0;34m)\u001b[0m\u001b[0;34m\u001b[0m\u001b[0;34m\u001b[0m\u001b[0m\n\u001b[0m\u001b[1;32m   1250\u001b[0m \u001b[0;34m\u001b[0m\u001b[0m\n\u001b[1;32m   1251\u001b[0m             \u001b[0;32mif\u001b[0m \u001b[0;32mnot\u001b[0m \u001b[0mself\u001b[0m\u001b[0;34m.\u001b[0m\u001b[0mrun_eagerly\u001b[0m\u001b[0;34m:\u001b[0m\u001b[0;34m\u001b[0m\u001b[0;34m\u001b[0m\u001b[0m\n",
            "\u001b[0;32m/usr/local/lib/python3.9/dist-packages/keras/engine/training.py\u001b[0m in \u001b[0;36mstep_function\u001b[0;34m(model, iterator)\u001b[0m\n\u001b[1;32m   1231\u001b[0m                 )\n\u001b[1;32m   1232\u001b[0m             \u001b[0mdata\u001b[0m \u001b[0;34m=\u001b[0m \u001b[0mnext\u001b[0m\u001b[0;34m(\u001b[0m\u001b[0miterator\u001b[0m\u001b[0;34m)\u001b[0m\u001b[0;34m\u001b[0m\u001b[0;34m\u001b[0m\u001b[0m\n\u001b[0;32m-> 1233\u001b[0;31m             \u001b[0moutputs\u001b[0m \u001b[0;34m=\u001b[0m \u001b[0mmodel\u001b[0m\u001b[0;34m.\u001b[0m\u001b[0mdistribute_strategy\u001b[0m\u001b[0;34m.\u001b[0m\u001b[0mrun\u001b[0m\u001b[0;34m(\u001b[0m\u001b[0mrun_step\u001b[0m\u001b[0;34m,\u001b[0m \u001b[0margs\u001b[0m\u001b[0;34m=\u001b[0m\u001b[0;34m(\u001b[0m\u001b[0mdata\u001b[0m\u001b[0;34m,\u001b[0m\u001b[0;34m)\u001b[0m\u001b[0;34m)\u001b[0m\u001b[0;34m\u001b[0m\u001b[0;34m\u001b[0m\u001b[0m\n\u001b[0m\u001b[1;32m   1234\u001b[0m             outputs = reduce_per_replica(\n\u001b[1;32m   1235\u001b[0m                 \u001b[0moutputs\u001b[0m\u001b[0;34m,\u001b[0m\u001b[0;34m\u001b[0m\u001b[0;34m\u001b[0m\u001b[0m\n",
            "\u001b[0;32m/usr/local/lib/python3.9/dist-packages/tensorflow/python/distribute/distribute_lib.py\u001b[0m in \u001b[0;36mrun\u001b[0;34m(***failed resolving arguments***)\u001b[0m\n\u001b[1;32m   1314\u001b[0m       fn = autograph.tf_convert(\n\u001b[1;32m   1315\u001b[0m           fn, autograph_ctx.control_status_ctx(), convert_by_default=False)\n\u001b[0;32m-> 1316\u001b[0;31m       \u001b[0;32mreturn\u001b[0m \u001b[0mself\u001b[0m\u001b[0;34m.\u001b[0m\u001b[0m_extended\u001b[0m\u001b[0;34m.\u001b[0m\u001b[0mcall_for_each_replica\u001b[0m\u001b[0;34m(\u001b[0m\u001b[0mfn\u001b[0m\u001b[0;34m,\u001b[0m \u001b[0margs\u001b[0m\u001b[0;34m=\u001b[0m\u001b[0margs\u001b[0m\u001b[0;34m,\u001b[0m \u001b[0mkwargs\u001b[0m\u001b[0;34m=\u001b[0m\u001b[0mkwargs\u001b[0m\u001b[0;34m)\u001b[0m\u001b[0;34m\u001b[0m\u001b[0;34m\u001b[0m\u001b[0m\n\u001b[0m\u001b[1;32m   1317\u001b[0m \u001b[0;34m\u001b[0m\u001b[0m\n\u001b[1;32m   1318\u001b[0m   \u001b[0;32mdef\u001b[0m \u001b[0mreduce\u001b[0m\u001b[0;34m(\u001b[0m\u001b[0mself\u001b[0m\u001b[0;34m,\u001b[0m \u001b[0mreduce_op\u001b[0m\u001b[0;34m,\u001b[0m \u001b[0mvalue\u001b[0m\u001b[0;34m,\u001b[0m \u001b[0maxis\u001b[0m\u001b[0;34m)\u001b[0m\u001b[0;34m:\u001b[0m\u001b[0;34m\u001b[0m\u001b[0;34m\u001b[0m\u001b[0m\n",
            "\u001b[0;32m/usr/local/lib/python3.9/dist-packages/tensorflow/python/distribute/distribute_lib.py\u001b[0m in \u001b[0;36mcall_for_each_replica\u001b[0;34m(self, fn, args, kwargs)\u001b[0m\n\u001b[1;32m   2893\u001b[0m       \u001b[0mkwargs\u001b[0m \u001b[0;34m=\u001b[0m \u001b[0;34m{\u001b[0m\u001b[0;34m}\u001b[0m\u001b[0;34m\u001b[0m\u001b[0;34m\u001b[0m\u001b[0m\n\u001b[1;32m   2894\u001b[0m     \u001b[0;32mwith\u001b[0m \u001b[0mself\u001b[0m\u001b[0;34m.\u001b[0m\u001b[0m_container_strategy\u001b[0m\u001b[0;34m(\u001b[0m\u001b[0;34m)\u001b[0m\u001b[0;34m.\u001b[0m\u001b[0mscope\u001b[0m\u001b[0;34m(\u001b[0m\u001b[0;34m)\u001b[0m\u001b[0;34m:\u001b[0m\u001b[0;34m\u001b[0m\u001b[0;34m\u001b[0m\u001b[0m\n\u001b[0;32m-> 2895\u001b[0;31m       \u001b[0;32mreturn\u001b[0m \u001b[0mself\u001b[0m\u001b[0;34m.\u001b[0m\u001b[0m_call_for_each_replica\u001b[0m\u001b[0;34m(\u001b[0m\u001b[0mfn\u001b[0m\u001b[0;34m,\u001b[0m \u001b[0margs\u001b[0m\u001b[0;34m,\u001b[0m \u001b[0mkwargs\u001b[0m\u001b[0;34m)\u001b[0m\u001b[0;34m\u001b[0m\u001b[0;34m\u001b[0m\u001b[0m\n\u001b[0m\u001b[1;32m   2896\u001b[0m \u001b[0;34m\u001b[0m\u001b[0m\n\u001b[1;32m   2897\u001b[0m   \u001b[0;32mdef\u001b[0m \u001b[0m_call_for_each_replica\u001b[0m\u001b[0;34m(\u001b[0m\u001b[0mself\u001b[0m\u001b[0;34m,\u001b[0m \u001b[0mfn\u001b[0m\u001b[0;34m,\u001b[0m \u001b[0margs\u001b[0m\u001b[0;34m,\u001b[0m \u001b[0mkwargs\u001b[0m\u001b[0;34m)\u001b[0m\u001b[0;34m:\u001b[0m\u001b[0;34m\u001b[0m\u001b[0;34m\u001b[0m\u001b[0m\n",
            "\u001b[0;32m/usr/local/lib/python3.9/dist-packages/tensorflow/python/distribute/distribute_lib.py\u001b[0m in \u001b[0;36m_call_for_each_replica\u001b[0;34m(self, fn, args, kwargs)\u001b[0m\n\u001b[1;32m   3694\u001b[0m   \u001b[0;32mdef\u001b[0m \u001b[0m_call_for_each_replica\u001b[0m\u001b[0;34m(\u001b[0m\u001b[0mself\u001b[0m\u001b[0;34m,\u001b[0m \u001b[0mfn\u001b[0m\u001b[0;34m,\u001b[0m \u001b[0margs\u001b[0m\u001b[0;34m,\u001b[0m \u001b[0mkwargs\u001b[0m\u001b[0;34m)\u001b[0m\u001b[0;34m:\u001b[0m\u001b[0;34m\u001b[0m\u001b[0;34m\u001b[0m\u001b[0m\n\u001b[1;32m   3695\u001b[0m     \u001b[0;32mwith\u001b[0m \u001b[0mReplicaContext\u001b[0m\u001b[0;34m(\u001b[0m\u001b[0mself\u001b[0m\u001b[0;34m.\u001b[0m\u001b[0m_container_strategy\u001b[0m\u001b[0;34m(\u001b[0m\u001b[0;34m)\u001b[0m\u001b[0;34m,\u001b[0m \u001b[0mreplica_id_in_sync_group\u001b[0m\u001b[0;34m=\u001b[0m\u001b[0;36m0\u001b[0m\u001b[0;34m)\u001b[0m\u001b[0;34m:\u001b[0m\u001b[0;34m\u001b[0m\u001b[0;34m\u001b[0m\u001b[0m\n\u001b[0;32m-> 3696\u001b[0;31m       \u001b[0;32mreturn\u001b[0m \u001b[0mfn\u001b[0m\u001b[0;34m(\u001b[0m\u001b[0;34m*\u001b[0m\u001b[0margs\u001b[0m\u001b[0;34m,\u001b[0m \u001b[0;34m**\u001b[0m\u001b[0mkwargs\u001b[0m\u001b[0;34m)\u001b[0m\u001b[0;34m\u001b[0m\u001b[0;34m\u001b[0m\u001b[0m\n\u001b[0m\u001b[1;32m   3697\u001b[0m \u001b[0;34m\u001b[0m\u001b[0m\n\u001b[1;32m   3698\u001b[0m   \u001b[0;32mdef\u001b[0m \u001b[0m_reduce_to\u001b[0m\u001b[0;34m(\u001b[0m\u001b[0mself\u001b[0m\u001b[0;34m,\u001b[0m \u001b[0mreduce_op\u001b[0m\u001b[0;34m,\u001b[0m \u001b[0mvalue\u001b[0m\u001b[0;34m,\u001b[0m \u001b[0mdestinations\u001b[0m\u001b[0;34m,\u001b[0m \u001b[0moptions\u001b[0m\u001b[0;34m)\u001b[0m\u001b[0;34m:\u001b[0m\u001b[0;34m\u001b[0m\u001b[0;34m\u001b[0m\u001b[0m\n",
            "\u001b[0;32m/usr/local/lib/python3.9/dist-packages/tensorflow/python/autograph/impl/api.py\u001b[0m in \u001b[0;36mwrapper\u001b[0;34m(*args, **kwargs)\u001b[0m\n\u001b[1;32m    593\u001b[0m   \u001b[0;32mdef\u001b[0m \u001b[0mwrapper\u001b[0m\u001b[0;34m(\u001b[0m\u001b[0;34m*\u001b[0m\u001b[0margs\u001b[0m\u001b[0;34m,\u001b[0m \u001b[0;34m**\u001b[0m\u001b[0mkwargs\u001b[0m\u001b[0;34m)\u001b[0m\u001b[0;34m:\u001b[0m\u001b[0;34m\u001b[0m\u001b[0;34m\u001b[0m\u001b[0m\n\u001b[1;32m    594\u001b[0m     \u001b[0;32mwith\u001b[0m \u001b[0mag_ctx\u001b[0m\u001b[0;34m.\u001b[0m\u001b[0mControlStatusCtx\u001b[0m\u001b[0;34m(\u001b[0m\u001b[0mstatus\u001b[0m\u001b[0;34m=\u001b[0m\u001b[0mag_ctx\u001b[0m\u001b[0;34m.\u001b[0m\u001b[0mStatus\u001b[0m\u001b[0;34m.\u001b[0m\u001b[0mUNSPECIFIED\u001b[0m\u001b[0;34m)\u001b[0m\u001b[0;34m:\u001b[0m\u001b[0;34m\u001b[0m\u001b[0;34m\u001b[0m\u001b[0m\n\u001b[0;32m--> 595\u001b[0;31m       \u001b[0;32mreturn\u001b[0m \u001b[0mfunc\u001b[0m\u001b[0;34m(\u001b[0m\u001b[0;34m*\u001b[0m\u001b[0margs\u001b[0m\u001b[0;34m,\u001b[0m \u001b[0;34m**\u001b[0m\u001b[0mkwargs\u001b[0m\u001b[0;34m)\u001b[0m\u001b[0;34m\u001b[0m\u001b[0;34m\u001b[0m\u001b[0m\n\u001b[0m\u001b[1;32m    596\u001b[0m \u001b[0;34m\u001b[0m\u001b[0m\n\u001b[1;32m    597\u001b[0m   \u001b[0;32mif\u001b[0m \u001b[0minspect\u001b[0m\u001b[0;34m.\u001b[0m\u001b[0misfunction\u001b[0m\u001b[0;34m(\u001b[0m\u001b[0mfunc\u001b[0m\u001b[0;34m)\u001b[0m \u001b[0;32mor\u001b[0m \u001b[0minspect\u001b[0m\u001b[0;34m.\u001b[0m\u001b[0mismethod\u001b[0m\u001b[0;34m(\u001b[0m\u001b[0mfunc\u001b[0m\u001b[0;34m)\u001b[0m\u001b[0;34m:\u001b[0m\u001b[0;34m\u001b[0m\u001b[0;34m\u001b[0m\u001b[0m\n",
            "\u001b[0;32m/usr/local/lib/python3.9/dist-packages/keras/engine/training.py\u001b[0m in \u001b[0;36mrun_step\u001b[0;34m(data)\u001b[0m\n\u001b[1;32m   1220\u001b[0m \u001b[0;34m\u001b[0m\u001b[0m\n\u001b[1;32m   1221\u001b[0m             \u001b[0;32mdef\u001b[0m \u001b[0mrun_step\u001b[0m\u001b[0;34m(\u001b[0m\u001b[0mdata\u001b[0m\u001b[0;34m)\u001b[0m\u001b[0;34m:\u001b[0m\u001b[0;34m\u001b[0m\u001b[0;34m\u001b[0m\u001b[0m\n\u001b[0;32m-> 1222\u001b[0;31m                 \u001b[0moutputs\u001b[0m \u001b[0;34m=\u001b[0m \u001b[0mmodel\u001b[0m\u001b[0;34m.\u001b[0m\u001b[0mtrain_step\u001b[0m\u001b[0;34m(\u001b[0m\u001b[0mdata\u001b[0m\u001b[0;34m)\u001b[0m\u001b[0;34m\u001b[0m\u001b[0;34m\u001b[0m\u001b[0m\n\u001b[0m\u001b[1;32m   1223\u001b[0m                 \u001b[0;31m# Ensure counter is updated only if `train_step` succeeds.\u001b[0m\u001b[0;34m\u001b[0m\u001b[0;34m\u001b[0m\u001b[0m\n\u001b[1;32m   1224\u001b[0m                 \u001b[0;32mwith\u001b[0m \u001b[0mtf\u001b[0m\u001b[0;34m.\u001b[0m\u001b[0mcontrol_dependencies\u001b[0m\u001b[0;34m(\u001b[0m\u001b[0m_minimum_control_deps\u001b[0m\u001b[0;34m(\u001b[0m\u001b[0moutputs\u001b[0m\u001b[0;34m)\u001b[0m\u001b[0;34m)\u001b[0m\u001b[0;34m:\u001b[0m\u001b[0;34m\u001b[0m\u001b[0;34m\u001b[0m\u001b[0m\n",
            "\u001b[0;32m/usr/local/lib/python3.9/dist-packages/keras/engine/training.py\u001b[0m in \u001b[0;36mtrain_step\u001b[0;34m(self, data)\u001b[0m\n\u001b[1;32m   1025\u001b[0m         \u001b[0mself\u001b[0m\u001b[0;34m.\u001b[0m\u001b[0m_validate_target_and_loss\u001b[0m\u001b[0;34m(\u001b[0m\u001b[0my\u001b[0m\u001b[0;34m,\u001b[0m \u001b[0mloss\u001b[0m\u001b[0;34m)\u001b[0m\u001b[0;34m\u001b[0m\u001b[0;34m\u001b[0m\u001b[0m\n\u001b[1;32m   1026\u001b[0m         \u001b[0;31m# Run backwards pass.\u001b[0m\u001b[0;34m\u001b[0m\u001b[0;34m\u001b[0m\u001b[0m\n\u001b[0;32m-> 1027\u001b[0;31m         \u001b[0mself\u001b[0m\u001b[0;34m.\u001b[0m\u001b[0moptimizer\u001b[0m\u001b[0;34m.\u001b[0m\u001b[0mminimize\u001b[0m\u001b[0;34m(\u001b[0m\u001b[0mloss\u001b[0m\u001b[0;34m,\u001b[0m \u001b[0mself\u001b[0m\u001b[0;34m.\u001b[0m\u001b[0mtrainable_variables\u001b[0m\u001b[0;34m,\u001b[0m \u001b[0mtape\u001b[0m\u001b[0;34m=\u001b[0m\u001b[0mtape\u001b[0m\u001b[0;34m)\u001b[0m\u001b[0;34m\u001b[0m\u001b[0;34m\u001b[0m\u001b[0m\n\u001b[0m\u001b[1;32m   1028\u001b[0m         \u001b[0;32mreturn\u001b[0m \u001b[0mself\u001b[0m\u001b[0;34m.\u001b[0m\u001b[0mcompute_metrics\u001b[0m\u001b[0;34m(\u001b[0m\u001b[0mx\u001b[0m\u001b[0;34m,\u001b[0m \u001b[0my\u001b[0m\u001b[0;34m,\u001b[0m \u001b[0my_pred\u001b[0m\u001b[0;34m,\u001b[0m \u001b[0msample_weight\u001b[0m\u001b[0;34m)\u001b[0m\u001b[0;34m\u001b[0m\u001b[0;34m\u001b[0m\u001b[0m\n\u001b[1;32m   1029\u001b[0m \u001b[0;34m\u001b[0m\u001b[0m\n",
            "\u001b[0;32m/usr/local/lib/python3.9/dist-packages/keras/optimizers/optimizer_experimental/optimizer.py\u001b[0m in \u001b[0;36mminimize\u001b[0;34m(self, loss, var_list, tape)\u001b[0m\n\u001b[1;32m    524\u001b[0m           \u001b[0;32mNone\u001b[0m\u001b[0;34m\u001b[0m\u001b[0;34m\u001b[0m\u001b[0m\n\u001b[1;32m    525\u001b[0m         \"\"\"\n\u001b[0;32m--> 526\u001b[0;31m         \u001b[0mgrads_and_vars\u001b[0m \u001b[0;34m=\u001b[0m \u001b[0mself\u001b[0m\u001b[0;34m.\u001b[0m\u001b[0mcompute_gradients\u001b[0m\u001b[0;34m(\u001b[0m\u001b[0mloss\u001b[0m\u001b[0;34m,\u001b[0m \u001b[0mvar_list\u001b[0m\u001b[0;34m,\u001b[0m \u001b[0mtape\u001b[0m\u001b[0;34m)\u001b[0m\u001b[0;34m\u001b[0m\u001b[0;34m\u001b[0m\u001b[0m\n\u001b[0m\u001b[1;32m    527\u001b[0m         \u001b[0mself\u001b[0m\u001b[0;34m.\u001b[0m\u001b[0mapply_gradients\u001b[0m\u001b[0;34m(\u001b[0m\u001b[0mgrads_and_vars\u001b[0m\u001b[0;34m)\u001b[0m\u001b[0;34m\u001b[0m\u001b[0;34m\u001b[0m\u001b[0m\n\u001b[1;32m    528\u001b[0m \u001b[0;34m\u001b[0m\u001b[0m\n",
            "\u001b[0;32m/usr/local/lib/python3.9/dist-packages/keras/optimizers/optimizer_experimental/optimizer.py\u001b[0m in \u001b[0;36mcompute_gradients\u001b[0;34m(self, loss, var_list, tape)\u001b[0m\n\u001b[1;32m    257\u001b[0m                     \u001b[0mvar_list\u001b[0m \u001b[0;34m=\u001b[0m \u001b[0mvar_list\u001b[0m\u001b[0;34m(\u001b[0m\u001b[0;34m)\u001b[0m\u001b[0;34m\u001b[0m\u001b[0;34m\u001b[0m\u001b[0m\n\u001b[1;32m    258\u001b[0m \u001b[0;34m\u001b[0m\u001b[0m\n\u001b[0;32m--> 259\u001b[0;31m         \u001b[0mgrads\u001b[0m \u001b[0;34m=\u001b[0m \u001b[0mtape\u001b[0m\u001b[0;34m.\u001b[0m\u001b[0mgradient\u001b[0m\u001b[0;34m(\u001b[0m\u001b[0mloss\u001b[0m\u001b[0;34m,\u001b[0m \u001b[0mvar_list\u001b[0m\u001b[0;34m)\u001b[0m\u001b[0;34m\u001b[0m\u001b[0;34m\u001b[0m\u001b[0m\n\u001b[0m\u001b[1;32m    260\u001b[0m         \u001b[0;32mreturn\u001b[0m \u001b[0mlist\u001b[0m\u001b[0;34m(\u001b[0m\u001b[0mzip\u001b[0m\u001b[0;34m(\u001b[0m\u001b[0mgrads\u001b[0m\u001b[0;34m,\u001b[0m \u001b[0mvar_list\u001b[0m\u001b[0;34m)\u001b[0m\u001b[0;34m)\u001b[0m\u001b[0;34m\u001b[0m\u001b[0;34m\u001b[0m\u001b[0m\n\u001b[1;32m    261\u001b[0m \u001b[0;34m\u001b[0m\u001b[0m\n",
            "\u001b[0;32m/usr/local/lib/python3.9/dist-packages/tensorflow/python/eager/backprop.py\u001b[0m in \u001b[0;36mgradient\u001b[0;34m(self, target, sources, output_gradients, unconnected_gradients)\u001b[0m\n\u001b[1;32m   1110\u001b[0m                           for x in output_gradients]\n\u001b[1;32m   1111\u001b[0m \u001b[0;34m\u001b[0m\u001b[0m\n\u001b[0;32m-> 1112\u001b[0;31m     flat_grad = imperative_grad.imperative_grad(\n\u001b[0m\u001b[1;32m   1113\u001b[0m         \u001b[0mself\u001b[0m\u001b[0;34m.\u001b[0m\u001b[0m_tape\u001b[0m\u001b[0;34m,\u001b[0m\u001b[0;34m\u001b[0m\u001b[0;34m\u001b[0m\u001b[0m\n\u001b[1;32m   1114\u001b[0m         \u001b[0mflat_targets\u001b[0m\u001b[0;34m,\u001b[0m\u001b[0;34m\u001b[0m\u001b[0;34m\u001b[0m\u001b[0m\n",
            "\u001b[0;32m/usr/local/lib/python3.9/dist-packages/tensorflow/python/eager/imperative_grad.py\u001b[0m in \u001b[0;36mimperative_grad\u001b[0;34m(tape, target, sources, output_gradients, sources_raw, unconnected_gradients)\u001b[0m\n\u001b[1;32m     65\u001b[0m         \"Unknown value for unconnected_gradients: %r\" % unconnected_gradients)\n\u001b[1;32m     66\u001b[0m \u001b[0;34m\u001b[0m\u001b[0m\n\u001b[0;32m---> 67\u001b[0;31m   return pywrap_tfe.TFE_Py_TapeGradient(\n\u001b[0m\u001b[1;32m     68\u001b[0m       \u001b[0mtape\u001b[0m\u001b[0;34m.\u001b[0m\u001b[0m_tape\u001b[0m\u001b[0;34m,\u001b[0m  \u001b[0;31m# pylint: disable=protected-access\u001b[0m\u001b[0;34m\u001b[0m\u001b[0;34m\u001b[0m\u001b[0m\n\u001b[1;32m     69\u001b[0m       \u001b[0mtarget\u001b[0m\u001b[0;34m,\u001b[0m\u001b[0;34m\u001b[0m\u001b[0;34m\u001b[0m\u001b[0m\n",
            "\u001b[0;32m/usr/local/lib/python3.9/dist-packages/tensorflow/python/eager/backprop.py\u001b[0m in \u001b[0;36m_gradient_function\u001b[0;34m(op_name, attr_tuple, num_inputs, inputs, outputs, out_grads, skip_input_indices, forward_pass_name_scope)\u001b[0m\n\u001b[1;32m    155\u001b[0m       \u001b[0mgradient_name_scope\u001b[0m \u001b[0;34m+=\u001b[0m \u001b[0mforward_pass_name_scope\u001b[0m \u001b[0;34m+\u001b[0m \u001b[0;34m\"/\"\u001b[0m\u001b[0;34m\u001b[0m\u001b[0;34m\u001b[0m\u001b[0m\n\u001b[1;32m    156\u001b[0m     \u001b[0;32mwith\u001b[0m \u001b[0mops\u001b[0m\u001b[0;34m.\u001b[0m\u001b[0mname_scope\u001b[0m\u001b[0;34m(\u001b[0m\u001b[0mgradient_name_scope\u001b[0m\u001b[0;34m)\u001b[0m\u001b[0;34m:\u001b[0m\u001b[0;34m\u001b[0m\u001b[0;34m\u001b[0m\u001b[0m\n\u001b[0;32m--> 157\u001b[0;31m       \u001b[0;32mreturn\u001b[0m \u001b[0mgrad_fn\u001b[0m\u001b[0;34m(\u001b[0m\u001b[0mmock_op\u001b[0m\u001b[0;34m,\u001b[0m \u001b[0;34m*\u001b[0m\u001b[0mout_grads\u001b[0m\u001b[0;34m)\u001b[0m\u001b[0;34m\u001b[0m\u001b[0;34m\u001b[0m\u001b[0m\n\u001b[0m\u001b[1;32m    158\u001b[0m   \u001b[0;32melse\u001b[0m\u001b[0;34m:\u001b[0m\u001b[0;34m\u001b[0m\u001b[0;34m\u001b[0m\u001b[0m\n\u001b[1;32m    159\u001b[0m     \u001b[0;32mreturn\u001b[0m \u001b[0mgrad_fn\u001b[0m\u001b[0;34m(\u001b[0m\u001b[0mmock_op\u001b[0m\u001b[0;34m,\u001b[0m \u001b[0;34m*\u001b[0m\u001b[0mout_grads\u001b[0m\u001b[0;34m)\u001b[0m\u001b[0;34m\u001b[0m\u001b[0;34m\u001b[0m\u001b[0m\n",
            "\u001b[0;32m/usr/local/lib/python3.9/dist-packages/tensorflow/python/ops/nn_grad.py\u001b[0m in \u001b[0;36m_Conv2DGrad\u001b[0;34m(op, grad)\u001b[0m\n\u001b[1;32m    589\u001b[0m           \u001b[0muse_cudnn_on_gpu\u001b[0m\u001b[0;34m=\u001b[0m\u001b[0muse_cudnn_on_gpu\u001b[0m\u001b[0;34m,\u001b[0m\u001b[0;34m\u001b[0m\u001b[0;34m\u001b[0m\u001b[0m\n\u001b[1;32m    590\u001b[0m           data_format=data_format),\n\u001b[0;32m--> 591\u001b[0;31m       gen_nn_ops.conv2d_backprop_filter(\n\u001b[0m\u001b[1;32m    592\u001b[0m           \u001b[0mop\u001b[0m\u001b[0;34m.\u001b[0m\u001b[0minputs\u001b[0m\u001b[0;34m[\u001b[0m\u001b[0;36m0\u001b[0m\u001b[0;34m]\u001b[0m\u001b[0;34m,\u001b[0m\u001b[0;34m\u001b[0m\u001b[0;34m\u001b[0m\u001b[0m\n\u001b[1;32m    593\u001b[0m           \u001b[0mshape_1\u001b[0m\u001b[0;34m,\u001b[0m\u001b[0;34m\u001b[0m\u001b[0;34m\u001b[0m\u001b[0m\n",
            "\u001b[0;32m/usr/local/lib/python3.9/dist-packages/tensorflow/python/ops/gen_nn_ops.py\u001b[0m in \u001b[0;36mconv2d_backprop_filter\u001b[0;34m(input, filter_sizes, out_backprop, strides, padding, use_cudnn_on_gpu, explicit_paddings, data_format, dilations, name)\u001b[0m\n\u001b[1;32m   1254\u001b[0m   \u001b[0;32mif\u001b[0m \u001b[0mtld\u001b[0m\u001b[0;34m.\u001b[0m\u001b[0mis_eager\u001b[0m\u001b[0;34m:\u001b[0m\u001b[0;34m\u001b[0m\u001b[0;34m\u001b[0m\u001b[0m\n\u001b[1;32m   1255\u001b[0m     \u001b[0;32mtry\u001b[0m\u001b[0;34m:\u001b[0m\u001b[0;34m\u001b[0m\u001b[0;34m\u001b[0m\u001b[0m\n\u001b[0;32m-> 1256\u001b[0;31m       _result = pywrap_tfe.TFE_Py_FastPathExecute(\n\u001b[0m\u001b[1;32m   1257\u001b[0m         \u001b[0m_ctx\u001b[0m\u001b[0;34m,\u001b[0m \u001b[0;34m\"Conv2DBackpropFilter\"\u001b[0m\u001b[0;34m,\u001b[0m \u001b[0mname\u001b[0m\u001b[0;34m,\u001b[0m \u001b[0minput\u001b[0m\u001b[0;34m,\u001b[0m \u001b[0mfilter_sizes\u001b[0m\u001b[0;34m,\u001b[0m \u001b[0mout_backprop\u001b[0m\u001b[0;34m,\u001b[0m\u001b[0;34m\u001b[0m\u001b[0;34m\u001b[0m\u001b[0m\n\u001b[1;32m   1258\u001b[0m         \u001b[0;34m\"strides\"\u001b[0m\u001b[0;34m,\u001b[0m \u001b[0mstrides\u001b[0m\u001b[0;34m,\u001b[0m \u001b[0;34m\"use_cudnn_on_gpu\"\u001b[0m\u001b[0;34m,\u001b[0m \u001b[0muse_cudnn_on_gpu\u001b[0m\u001b[0;34m,\u001b[0m \u001b[0;34m\"padding\"\u001b[0m\u001b[0;34m,\u001b[0m\u001b[0;34m\u001b[0m\u001b[0;34m\u001b[0m\u001b[0m\n",
            "\u001b[0;31mKeyboardInterrupt\u001b[0m: "
          ]
        }
      ],
      "source": [
        "model1.fit(x_train_1,y_train_1, validation_data = (x_val_1,y_val_1), epochs = 100)"
      ]
    },
    {
      "cell_type": "code",
      "execution_count": null,
      "metadata": {
        "colab": {
          "base_uri": "https://localhost:8080/",
          "height": 380
        },
        "id": "BXSVx_ztMQdS",
        "outputId": "e0925774-0237-4a6f-bcf2-b37cbbb7e38e"
      },
      "outputs": [
        {
          "name": "stdout",
          "output_type": "stream",
          "text": [
            "Evaluate on test data\n"
          ]
        },
        {
          "ename": "ValueError",
          "evalue": "ignored",
          "output_type": "error",
          "traceback": [
            "\u001b[0;31m---------------------------------------------------------------------------\u001b[0m",
            "\u001b[0;31mValueError\u001b[0m                                Traceback (most recent call last)",
            "\u001b[0;32m<ipython-input-76-d11160ea2059>\u001b[0m in \u001b[0;36m<module>\u001b[0;34m\u001b[0m\n\u001b[1;32m      1\u001b[0m \u001b[0;31m# Evaluate the model on the test data using `evaluate`\u001b[0m\u001b[0;34m\u001b[0m\u001b[0;34m\u001b[0m\u001b[0m\n\u001b[1;32m      2\u001b[0m \u001b[0mprint\u001b[0m\u001b[0;34m(\u001b[0m\u001b[0;34m\"Evaluate on test data\"\u001b[0m\u001b[0;34m)\u001b[0m\u001b[0;34m\u001b[0m\u001b[0;34m\u001b[0m\u001b[0m\n\u001b[0;32m----> 3\u001b[0;31m \u001b[0mresults\u001b[0m \u001b[0;34m=\u001b[0m \u001b[0mmodel1\u001b[0m\u001b[0;34m.\u001b[0m\u001b[0mevaluate\u001b[0m\u001b[0;34m(\u001b[0m\u001b[0mx_test_1\u001b[0m\u001b[0;34m,\u001b[0m \u001b[0my_test_1\u001b[0m\u001b[0;34m)\u001b[0m\u001b[0;34m\u001b[0m\u001b[0;34m\u001b[0m\u001b[0m\n\u001b[0m\u001b[1;32m      4\u001b[0m \u001b[0mprint\u001b[0m\u001b[0;34m(\u001b[0m\u001b[0;34m\"test loss, test acc:\"\u001b[0m\u001b[0;34m,\u001b[0m \u001b[0mresults\u001b[0m\u001b[0;34m)\u001b[0m\u001b[0;34m\u001b[0m\u001b[0;34m\u001b[0m\u001b[0m\n",
            "\u001b[0;32m/usr/local/lib/python3.9/dist-packages/keras/utils/traceback_utils.py\u001b[0m in \u001b[0;36merror_handler\u001b[0;34m(*args, **kwargs)\u001b[0m\n\u001b[1;32m     68\u001b[0m             \u001b[0;31m# To get the full stack trace, call:\u001b[0m\u001b[0;34m\u001b[0m\u001b[0;34m\u001b[0m\u001b[0m\n\u001b[1;32m     69\u001b[0m             \u001b[0;31m# `tf.debugging.disable_traceback_filtering()`\u001b[0m\u001b[0;34m\u001b[0m\u001b[0;34m\u001b[0m\u001b[0m\n\u001b[0;32m---> 70\u001b[0;31m             \u001b[0;32mraise\u001b[0m \u001b[0me\u001b[0m\u001b[0;34m.\u001b[0m\u001b[0mwith_traceback\u001b[0m\u001b[0;34m(\u001b[0m\u001b[0mfiltered_tb\u001b[0m\u001b[0;34m)\u001b[0m \u001b[0;32mfrom\u001b[0m \u001b[0;32mNone\u001b[0m\u001b[0;34m\u001b[0m\u001b[0;34m\u001b[0m\u001b[0m\n\u001b[0m\u001b[1;32m     71\u001b[0m         \u001b[0;32mfinally\u001b[0m\u001b[0;34m:\u001b[0m\u001b[0;34m\u001b[0m\u001b[0;34m\u001b[0m\u001b[0m\n\u001b[1;32m     72\u001b[0m             \u001b[0;32mdel\u001b[0m \u001b[0mfiltered_tb\u001b[0m\u001b[0;34m\u001b[0m\u001b[0;34m\u001b[0m\u001b[0m\n",
            "\u001b[0;32m/usr/local/lib/python3.9/dist-packages/keras/backend.py\u001b[0m in \u001b[0;36mcategorical_crossentropy\u001b[0;34m(target, output, from_logits, axis)\u001b[0m\n\u001b[1;32m   5530\u001b[0m     \u001b[0mtarget\u001b[0m \u001b[0;34m=\u001b[0m \u001b[0mtf\u001b[0m\u001b[0;34m.\u001b[0m\u001b[0mconvert_to_tensor\u001b[0m\u001b[0;34m(\u001b[0m\u001b[0mtarget\u001b[0m\u001b[0;34m)\u001b[0m\u001b[0;34m\u001b[0m\u001b[0;34m\u001b[0m\u001b[0m\n\u001b[1;32m   5531\u001b[0m     \u001b[0moutput\u001b[0m \u001b[0;34m=\u001b[0m \u001b[0mtf\u001b[0m\u001b[0;34m.\u001b[0m\u001b[0mconvert_to_tensor\u001b[0m\u001b[0;34m(\u001b[0m\u001b[0moutput\u001b[0m\u001b[0;34m)\u001b[0m\u001b[0;34m\u001b[0m\u001b[0;34m\u001b[0m\u001b[0m\n\u001b[0;32m-> 5532\u001b[0;31m     \u001b[0mtarget\u001b[0m\u001b[0;34m.\u001b[0m\u001b[0mshape\u001b[0m\u001b[0;34m.\u001b[0m\u001b[0massert_is_compatible_with\u001b[0m\u001b[0;34m(\u001b[0m\u001b[0moutput\u001b[0m\u001b[0;34m.\u001b[0m\u001b[0mshape\u001b[0m\u001b[0;34m)\u001b[0m\u001b[0;34m\u001b[0m\u001b[0;34m\u001b[0m\u001b[0m\n\u001b[0m\u001b[1;32m   5533\u001b[0m \u001b[0;34m\u001b[0m\u001b[0m\n\u001b[1;32m   5534\u001b[0m     output, from_logits = _get_logits(\n",
            "\u001b[0;31mValueError\u001b[0m: Shapes (32, 1) and (32, 11) are incompatible"
          ]
        }
      ],
      "source": [
        "# Evaluate the model on the test data using `evaluate`\n",
        "print(\"Evaluate on test data\")\n",
        "results = model1.evaluate(x_test_1, y_test_1)\n",
        "print(\"test loss, test acc:\", results)"
      ]
    },
    {
      "cell_type": "code",
      "execution_count": null,
      "metadata": {
        "id": "BErfyvK5WP9P"
      },
      "outputs": [],
      "source": []
    },
    {
      "cell_type": "markdown",
      "metadata": {
        "id": "VbNVuAJOWQOl"
      },
      "source": [
        "# Way-2 Datacamp"
      ]
    },
    {
      "cell_type": "code",
      "execution_count": null,
      "metadata": {
        "id": "XnStx4mXWStk"
      },
      "outputs": [],
      "source": []
    },
    {
      "cell_type": "code",
      "execution_count": null,
      "metadata": {
        "id": "yCLW0dKmWSzy"
      },
      "outputs": [],
      "source": []
    },
    {
      "cell_type": "markdown",
      "metadata": {
        "id": "Gg3y5kyeWTml"
      },
      "source": [
        "# Rough-2"
      ]
    },
    {
      "cell_type": "code",
      "execution_count": null,
      "metadata": {
        "id": "pn_a7rIt_tyI"
      },
      "outputs": [],
      "source": [
        "'''\n",
        "encoder = keras.Model(input_img, encoded)\n",
        "x = layers.Flatten()(encoder.output)\n",
        "x = layers.Dense(128, activation='relu')(x)\n",
        "x = layers.Dense(128, activation='relu')(x)\n",
        "x = layers.Dense(11, activation='softmax')(x)\n",
        "model1=tf.keras.models.Model(encoder.input,x)\n",
        "model1.summary()\n",
        "#encoded_imgs=encoder.predict()\n",
        "'''"
      ]
    },
    {
      "cell_type": "code",
      "execution_count": null,
      "metadata": {
        "id": "VRILETc8_tzq"
      },
      "outputs": [],
      "source": [
        "model1.compile(optimizer=tf.keras.optimizers.Adam(learning_rate=0.001), loss = 'categorical_crossentropy',metrics = ['acc'])\n",
        "#model1.compile(optimizer=tf.keras.optimizers.Adam(learning_rate=0.001), loss = tf.keras.losses.SparseCategoricalCrossentropy(from_logits=True),metrics = ['acc'])\n",
        "#model1.compile(optimizer=tf.keras.optimizers.Adam(learning_rate=0.001), metrics = ['acc'])"
      ]
    },
    {
      "cell_type": "code",
      "execution_count": null,
      "metadata": {
        "colab": {
          "base_uri": "https://localhost:8080/",
          "height": 796
        },
        "id": "_ci-S3Kn_t4R",
        "outputId": "bd9a6b98-7ab6-4253-eb93-fc605a4c1850"
      },
      "outputs": [
        {
          "name": "stdout",
          "output_type": "stream",
          "text": [
            "Epoch 1/100\n"
          ]
        },
        {
          "ename": "ValueError",
          "evalue": "ignored",
          "output_type": "error",
          "traceback": [
            "\u001b[0;31m---------------------------------------------------------------------------\u001b[0m",
            "\u001b[0;31mValueError\u001b[0m                                Traceback (most recent call last)",
            "\u001b[0;32m<ipython-input-138-a25149385ae2>\u001b[0m in \u001b[0;36m<module>\u001b[0;34m\u001b[0m\n\u001b[0;32m----> 1\u001b[0;31m \u001b[0mmodel1\u001b[0m\u001b[0;34m.\u001b[0m\u001b[0mfit\u001b[0m\u001b[0;34m(\u001b[0m\u001b[0mx_train_1\u001b[0m\u001b[0;34m,\u001b[0m\u001b[0my_train_1\u001b[0m\u001b[0;34m,\u001b[0m \u001b[0mvalidation_data\u001b[0m \u001b[0;34m=\u001b[0m \u001b[0;34m(\u001b[0m\u001b[0mx_val_1\u001b[0m\u001b[0;34m,\u001b[0m\u001b[0my_val_1\u001b[0m\u001b[0;34m)\u001b[0m\u001b[0;34m,\u001b[0m \u001b[0mepochs\u001b[0m \u001b[0;34m=\u001b[0m \u001b[0;36m100\u001b[0m\u001b[0;34m)\u001b[0m\u001b[0;34m\u001b[0m\u001b[0;34m\u001b[0m\u001b[0m\n\u001b[0m\u001b[1;32m      2\u001b[0m '''\n\u001b[1;32m      3\u001b[0m autoencoder.fit(train_images_1,\n\u001b[1;32m      4\u001b[0m           \u001b[0mepochs\u001b[0m\u001b[0;34m=\u001b[0m\u001b[0;36m100\u001b[0m\u001b[0;34m,\u001b[0m\u001b[0;34m\u001b[0m\u001b[0;34m\u001b[0m\u001b[0m\n\u001b[1;32m      5\u001b[0m           \u001b[0mbatch_size\u001b[0m\u001b[0;34m=\u001b[0m\u001b[0;36m16\u001b[0m\u001b[0;34m,\u001b[0m\u001b[0;34m\u001b[0m\u001b[0;34m\u001b[0m\u001b[0m\n",
            "\u001b[0;32m/usr/local/lib/python3.8/dist-packages/keras/utils/traceback_utils.py\u001b[0m in \u001b[0;36merror_handler\u001b[0;34m(*args, **kwargs)\u001b[0m\n\u001b[1;32m     68\u001b[0m             \u001b[0;31m# To get the full stack trace, call:\u001b[0m\u001b[0;34m\u001b[0m\u001b[0;34m\u001b[0m\u001b[0;34m\u001b[0m\u001b[0m\n\u001b[1;32m     69\u001b[0m             \u001b[0;31m# `tf.debugging.disable_traceback_filtering()`\u001b[0m\u001b[0;34m\u001b[0m\u001b[0;34m\u001b[0m\u001b[0;34m\u001b[0m\u001b[0m\n\u001b[0;32m---> 70\u001b[0;31m             \u001b[0;32mraise\u001b[0m \u001b[0me\u001b[0m\u001b[0;34m.\u001b[0m\u001b[0mwith_traceback\u001b[0m\u001b[0;34m(\u001b[0m\u001b[0mfiltered_tb\u001b[0m\u001b[0;34m)\u001b[0m \u001b[0;32mfrom\u001b[0m \u001b[0;32mNone\u001b[0m\u001b[0;34m\u001b[0m\u001b[0;34m\u001b[0m\u001b[0m\n\u001b[0m\u001b[1;32m     71\u001b[0m         \u001b[0;32mfinally\u001b[0m\u001b[0;34m:\u001b[0m\u001b[0;34m\u001b[0m\u001b[0;34m\u001b[0m\u001b[0m\n\u001b[1;32m     72\u001b[0m             \u001b[0;32mdel\u001b[0m \u001b[0mfiltered_tb\u001b[0m\u001b[0;34m\u001b[0m\u001b[0;34m\u001b[0m\u001b[0m\n",
            "\u001b[0;32m/usr/local/lib/python3.8/dist-packages/keras/engine/training.py\u001b[0m in \u001b[0;36mtf__train_function\u001b[0;34m(iterator)\u001b[0m\n\u001b[1;32m     13\u001b[0m                 \u001b[0;32mtry\u001b[0m\u001b[0;34m:\u001b[0m\u001b[0;34m\u001b[0m\u001b[0;34m\u001b[0m\u001b[0m\n\u001b[1;32m     14\u001b[0m                     \u001b[0mdo_return\u001b[0m \u001b[0;34m=\u001b[0m \u001b[0;32mTrue\u001b[0m\u001b[0;34m\u001b[0m\u001b[0;34m\u001b[0m\u001b[0m\n\u001b[0;32m---> 15\u001b[0;31m                     \u001b[0mretval_\u001b[0m \u001b[0;34m=\u001b[0m \u001b[0mag__\u001b[0m\u001b[0;34m.\u001b[0m\u001b[0mconverted_call\u001b[0m\u001b[0;34m(\u001b[0m\u001b[0mag__\u001b[0m\u001b[0;34m.\u001b[0m\u001b[0mld\u001b[0m\u001b[0;34m(\u001b[0m\u001b[0mstep_function\u001b[0m\u001b[0;34m)\u001b[0m\u001b[0;34m,\u001b[0m \u001b[0;34m(\u001b[0m\u001b[0mag__\u001b[0m\u001b[0;34m.\u001b[0m\u001b[0mld\u001b[0m\u001b[0;34m(\u001b[0m\u001b[0mself\u001b[0m\u001b[0;34m)\u001b[0m\u001b[0;34m,\u001b[0m \u001b[0mag__\u001b[0m\u001b[0;34m.\u001b[0m\u001b[0mld\u001b[0m\u001b[0;34m(\u001b[0m\u001b[0miterator\u001b[0m\u001b[0;34m)\u001b[0m\u001b[0;34m)\u001b[0m\u001b[0;34m,\u001b[0m \u001b[0;32mNone\u001b[0m\u001b[0;34m,\u001b[0m \u001b[0mfscope\u001b[0m\u001b[0;34m)\u001b[0m\u001b[0;34m\u001b[0m\u001b[0;34m\u001b[0m\u001b[0m\n\u001b[0m\u001b[1;32m     16\u001b[0m                 \u001b[0;32mexcept\u001b[0m\u001b[0;34m:\u001b[0m\u001b[0;34m\u001b[0m\u001b[0;34m\u001b[0m\u001b[0m\n\u001b[1;32m     17\u001b[0m                     \u001b[0mdo_return\u001b[0m \u001b[0;34m=\u001b[0m \u001b[0;32mFalse\u001b[0m\u001b[0;34m\u001b[0m\u001b[0;34m\u001b[0m\u001b[0m\n",
            "\u001b[0;31mValueError\u001b[0m: in user code:\n\n    File \"/usr/local/lib/python3.8/dist-packages/keras/engine/training.py\", line 1249, in train_function  *\n        return step_function(self, iterator)\n    File \"/usr/local/lib/python3.8/dist-packages/keras/engine/training.py\", line 1233, in step_function  **\n        outputs = model.distribute_strategy.run(run_step, args=(data,))\n    File \"/usr/local/lib/python3.8/dist-packages/keras/engine/training.py\", line 1222, in run_step  **\n        outputs = model.train_step(data)\n    File \"/usr/local/lib/python3.8/dist-packages/keras/engine/training.py\", line 1024, in train_step\n        loss = self.compute_loss(x, y, y_pred, sample_weight)\n    File \"/usr/local/lib/python3.8/dist-packages/keras/engine/training.py\", line 1082, in compute_loss\n        return self.compiled_loss(\n    File \"/usr/local/lib/python3.8/dist-packages/keras/engine/compile_utils.py\", line 265, in __call__\n        loss_value = loss_obj(y_t, y_p, sample_weight=sw)\n    File \"/usr/local/lib/python3.8/dist-packages/keras/losses.py\", line 152, in __call__\n        losses = call_fn(y_true, y_pred)\n    File \"/usr/local/lib/python3.8/dist-packages/keras/losses.py\", line 284, in call  **\n        return ag_fn(y_true, y_pred, **self._fn_kwargs)\n    File \"/usr/local/lib/python3.8/dist-packages/keras/losses.py\", line 2004, in categorical_crossentropy\n        return backend.categorical_crossentropy(\n    File \"/usr/local/lib/python3.8/dist-packages/keras/backend.py\", line 5532, in categorical_crossentropy\n        target.shape.assert_is_compatible_with(output.shape)\n\n    ValueError: Shapes (None, 1) and (None, 11) are incompatible\n"
          ]
        }
      ],
      "source": [
        "model1.fit(x_train_1,y_train_1, validation_data = (x_val_1,y_val_1), epochs = 100)\n",
        "'''\n",
        "autoencoder.fit(train_images_1,\n",
        "          epochs=100, \n",
        "          batch_size=16,\n",
        "          validation_data=val_images_1)\n",
        "'''"
      ]
    },
    {
      "cell_type": "code",
      "execution_count": null,
      "metadata": {
        "colab": {
          "base_uri": "https://localhost:8080/"
        },
        "id": "otcnxNuhWKtV",
        "outputId": "152aefa2-8e6b-42b4-d70b-678523edcfe1"
      },
      "outputs": [
        {
          "name": "stdout",
          "output_type": "stream",
          "text": [
            "11 1\n",
            "11 1\n"
          ]
        }
      ],
      "source": [
        "print(max(labels_1),min(labels_1))\n",
        "print(max(y_train_1),min(y_train_1))"
      ]
    },
    {
      "cell_type": "code",
      "execution_count": null,
      "metadata": {
        "id": "sRo0DeQcWQRm"
      },
      "outputs": [],
      "source": []
    },
    {
      "cell_type": "markdown",
      "metadata": {
        "id": "5QhhBzCZWWcs"
      },
      "source": [
        "# End"
      ]
    },
    {
      "cell_type": "code",
      "execution_count": null,
      "metadata": {
        "id": "2mf-fw3oWXVi"
      },
      "outputs": [],
      "source": []
    }
  ],
  "metadata": {
    "colab": {
      "provenance": [],
      "authorship_tag": "ABX9TyNeMVMA4DN3t39XbEyGo4ED",
      "include_colab_link": true
    },
    "kernelspec": {
      "display_name": "Python 3",
      "name": "python3"
    },
    "language_info": {
      "name": "python"
    }
  },
  "nbformat": 4,
  "nbformat_minor": 0
}