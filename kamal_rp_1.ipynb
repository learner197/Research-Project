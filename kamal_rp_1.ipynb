{
  "cells": [
    {
      "cell_type": "markdown",
      "metadata": {
        "id": "view-in-github",
        "colab_type": "text"
      },
      "source": [
        "<a href=\"https://colab.research.google.com/github/learner197/Research-Project/blob/RP-Transfer-Learning/kamal_rp_1.ipynb\" target=\"_parent\"><img src=\"https://colab.research.google.com/assets/colab-badge.svg\" alt=\"Open In Colab\"/></a>"
      ]
    },
    {
      "cell_type": "code",
      "execution_count": null,
      "metadata": {
        "id": "OgzVEpTQlSSd"
      },
      "outputs": [],
      "source": [
        "import numpy as np\n",
        "import pandas as pd\n",
        "from pathlib import Path\n",
        "import os.path\n",
        "import os\n",
        "\n",
        "import matplotlib.pyplot as plt\n",
        "import seaborn as sns\n",
        "import matplotlib.image as mpimg\n",
        "from PIL import Image as im\n",
        "#import cv2\n",
        "import plotly.express as px\n",
        "\n",
        "from sklearn.model_selection import train_test_split\n",
        "\n",
        "import tensorflow as tf\n",
        "from tensorflow import keras\n",
        "from tensorflow.keras import layers\n",
        "from tensorflow.keras.models import Sequential\n",
        "\n",
        "from sklearn.metrics import confusion_matrix, classification_report"
      ]
    },
    {
      "cell_type": "code",
      "execution_count": null,
      "metadata": {
        "colab": {
          "base_uri": "https://localhost:8080/"
        },
        "id": "r_5zpsIyZdhm",
        "outputId": "011230d7-601d-43a7-b8a7-ec6aa3c319a1"
      },
      "outputs": [
        {
          "output_type": "execute_result",
          "data": {
            "text/plain": [
              "<module 'tensorflow' from '/usr/local/lib/python3.8/dist-packages/tensorflow/__init__.py'>"
            ]
          },
          "metadata": {},
          "execution_count": 2
        }
      ],
      "source": [
        "tf"
      ]
    },
    {
      "cell_type": "code",
      "execution_count": null,
      "metadata": {
        "id": "Ftu7oZTWl0CF"
      },
      "outputs": [],
      "source": [
        "image_dir_1 = Path('/content/drive/MyDrive/RP_DATA/Spectograms_77_24_Xethrue_dataset/activity_spectogram_77GHz')\n",
        "image_dir_2 = Path('/content/drive/MyDrive/RP_DATA/Spectograms_77_24_Xethrue_dataset/spectogram_Xethru')\n",
        "image_dir_3 = Path('/content/drive/MyDrive/RP_DATA/Spectograms_77_24_Xethrue_dataset/Spectrograms_24GHz')\n"
      ]
    },
    {
      "cell_type": "code",
      "execution_count": null,
      "metadata": {
        "id": "Qmgx2H29S2hO"
      },
      "outputs": [],
      "source": []
    },
    {
      "cell_type": "code",
      "execution_count": null,
      "metadata": {
        "id": "ULBnysVZJ_t2"
      },
      "outputs": [],
      "source": []
    },
    {
      "cell_type": "code",
      "execution_count": null,
      "metadata": {
        "colab": {
          "base_uri": "https://localhost:8080/"
        },
        "id": "wf3AuUUtKB6r",
        "outputId": "df2f4929-b2ae-4105-e36c-afaaad5b66bc"
      },
      "outputs": [
        {
          "output_type": "stream",
          "name": "stdout",
          "text": [
            "Mounted at /content/drive\n"
          ]
        }
      ],
      "source": [
        "from google.colab import drive\n",
        "drive.mount('/content/drive')"
      ]
    },
    {
      "cell_type": "code",
      "execution_count": null,
      "metadata": {
        "id": "TpMn5HdXmAh6"
      },
      "outputs": [],
      "source": [
        "Filepath_1=[]\n",
        "Label_1=[]\n",
        "\n",
        "for file in os.listdir(image_dir_1):\n",
        "    file_dir = r\"/content/drive/MyDrive/RP_DATA/Spectograms_77_24_Xethrue_dataset/activity_spectogram_77GHz/{}\".format(file)\n",
        "    for file_name in os.listdir(file_dir):\n",
        "        path = r\"/content/drive/MyDrive/RP_DATA/Spectograms_77_24_Xethrue_dataset/activity_spectogram_77GHz/{}/{}\".format(file,file_name)\n",
        "        Filepath_1.append(path)\n",
        "        Label_1.append(file)\n",
        "        \n",
        "Filepath_2=[]\n",
        "Label_2=[]\n",
        "\n",
        "for file in os.listdir(image_dir_2):\n",
        "    file_dir = r\"/content/drive/MyDrive/RP_DATA/Spectograms_77_24_Xethrue_dataset/spectogram_Xethru/{}\".format(file)\n",
        "    for file_name in os.listdir(file_dir):\n",
        "        path = r\"/content/drive/MyDrive/RP_DATA/Spectograms_77_24_Xethrue_dataset/spectogram_Xethru/{}/{}\".format(file,file_name)\n",
        "        Filepath_2.append(path)\n",
        "        Label_2.append(file)\n",
        "        \n",
        "Filepath_3=[]\n",
        "Label_3=[]\n",
        "\n",
        "for file in os.listdir(image_dir_3):\n",
        "    file_dir = r\"/content/drive/MyDrive/RP_DATA/Spectograms_77_24_Xethrue_dataset/Spectrograms_24GHz/{}\".format(file)\n",
        "    for file_name in os.listdir(file_dir):\n",
        "        path = r\"/content/drive/MyDrive/RP_DATA/Spectograms_77_24_Xethrue_dataset/Spectrograms_24GHz/{}/{}\".format(file,file_name)\n",
        "        Filepath_3.append(path)\n",
        "        Label_3.append(file)"
      ]
    },
    {
      "cell_type": "code",
      "execution_count": null,
      "metadata": {
        "colab": {
          "base_uri": "https://localhost:8080/"
        },
        "id": "GtI1PiOjmAkx",
        "outputId": "cd3d2ee5-52a7-48b5-c5b7-fc003d1bce9d",
        "scrolled": false
      },
      "outputs": [
        {
          "output_type": "stream",
          "name": "stdout",
          "text": [
            "(649, 2)\n",
            "(735, 2)\n",
            "(1926, 2)\n"
          ]
        }
      ],
      "source": [
        "image_df_1 = pd.DataFrame(\n",
        "    {'Filepath': Filepath_1,\n",
        "     'Label': Label_1\n",
        "    })\n",
        "image_df_1\n",
        "\n",
        "image_df_2 = pd.DataFrame(\n",
        "    {'Filepath': Filepath_2,\n",
        "     'Label': Label_2\n",
        "    })\n",
        "image_df_2\n",
        "\n",
        "image_df_3 = pd.DataFrame(\n",
        "    {'Filepath': Filepath_3,\n",
        "     'Label': Label_3\n",
        "    })\n",
        "\n",
        "print(image_df_1.shape)\n",
        "print(image_df_2.shape)\n",
        "print(image_df_3.shape)"
      ]
    },
    {
      "cell_type": "code",
      "execution_count": null,
      "metadata": {
        "colab": {
          "base_uri": "https://localhost:8080/",
          "height": 424
        },
        "id": "B8UtUzrdJmE_",
        "outputId": "708a51c3-2fc4-4d88-edd3-1f2c8f245b9f"
      },
      "outputs": [
        {
          "output_type": "execute_result",
          "data": {
            "text/plain": [
              "                                              Filepath  \\\n",
              "0    /content/drive/MyDrive/RP_DATA/Spectograms_77_...   \n",
              "1    /content/drive/MyDrive/RP_DATA/Spectograms_77_...   \n",
              "2    /content/drive/MyDrive/RP_DATA/Spectograms_77_...   \n",
              "3    /content/drive/MyDrive/RP_DATA/Spectograms_77_...   \n",
              "4    /content/drive/MyDrive/RP_DATA/Spectograms_77_...   \n",
              "..                                                 ...   \n",
              "644  /content/drive/MyDrive/RP_DATA/Spectograms_77_...   \n",
              "645  /content/drive/MyDrive/RP_DATA/Spectograms_77_...   \n",
              "646  /content/drive/MyDrive/RP_DATA/Spectograms_77_...   \n",
              "647  /content/drive/MyDrive/RP_DATA/Spectograms_77_...   \n",
              "648  /content/drive/MyDrive/RP_DATA/Spectograms_77_...   \n",
              "\n",
              "                       Label  \n",
              "0    16_Walking_on_both_toes  \n",
              "1    16_Walking_on_both_toes  \n",
              "2    16_Walking_on_both_toes  \n",
              "3    16_Walking_on_both_toes  \n",
              "4    16_Walking_on_both_toes  \n",
              "..                       ...  \n",
              "644  07_picking_up_an_object  \n",
              "645  07_picking_up_an_object  \n",
              "646  07_picking_up_an_object  \n",
              "647  07_picking_up_an_object  \n",
              "648  07_picking_up_an_object  \n",
              "\n",
              "[649 rows x 2 columns]"
            ],
            "text/html": [
              "\n",
              "  <div id=\"df-6e2027ba-093b-4598-a449-57356d8f79f9\">\n",
              "    <div class=\"colab-df-container\">\n",
              "      <div>\n",
              "<style scoped>\n",
              "    .dataframe tbody tr th:only-of-type {\n",
              "        vertical-align: middle;\n",
              "    }\n",
              "\n",
              "    .dataframe tbody tr th {\n",
              "        vertical-align: top;\n",
              "    }\n",
              "\n",
              "    .dataframe thead th {\n",
              "        text-align: right;\n",
              "    }\n",
              "</style>\n",
              "<table border=\"1\" class=\"dataframe\">\n",
              "  <thead>\n",
              "    <tr style=\"text-align: right;\">\n",
              "      <th></th>\n",
              "      <th>Filepath</th>\n",
              "      <th>Label</th>\n",
              "    </tr>\n",
              "  </thead>\n",
              "  <tbody>\n",
              "    <tr>\n",
              "      <th>0</th>\n",
              "      <td>/content/drive/MyDrive/RP_DATA/Spectograms_77_...</td>\n",
              "      <td>16_Walking_on_both_toes</td>\n",
              "    </tr>\n",
              "    <tr>\n",
              "      <th>1</th>\n",
              "      <td>/content/drive/MyDrive/RP_DATA/Spectograms_77_...</td>\n",
              "      <td>16_Walking_on_both_toes</td>\n",
              "    </tr>\n",
              "    <tr>\n",
              "      <th>2</th>\n",
              "      <td>/content/drive/MyDrive/RP_DATA/Spectograms_77_...</td>\n",
              "      <td>16_Walking_on_both_toes</td>\n",
              "    </tr>\n",
              "    <tr>\n",
              "      <th>3</th>\n",
              "      <td>/content/drive/MyDrive/RP_DATA/Spectograms_77_...</td>\n",
              "      <td>16_Walking_on_both_toes</td>\n",
              "    </tr>\n",
              "    <tr>\n",
              "      <th>4</th>\n",
              "      <td>/content/drive/MyDrive/RP_DATA/Spectograms_77_...</td>\n",
              "      <td>16_Walking_on_both_toes</td>\n",
              "    </tr>\n",
              "    <tr>\n",
              "      <th>...</th>\n",
              "      <td>...</td>\n",
              "      <td>...</td>\n",
              "    </tr>\n",
              "    <tr>\n",
              "      <th>644</th>\n",
              "      <td>/content/drive/MyDrive/RP_DATA/Spectograms_77_...</td>\n",
              "      <td>07_picking_up_an_object</td>\n",
              "    </tr>\n",
              "    <tr>\n",
              "      <th>645</th>\n",
              "      <td>/content/drive/MyDrive/RP_DATA/Spectograms_77_...</td>\n",
              "      <td>07_picking_up_an_object</td>\n",
              "    </tr>\n",
              "    <tr>\n",
              "      <th>646</th>\n",
              "      <td>/content/drive/MyDrive/RP_DATA/Spectograms_77_...</td>\n",
              "      <td>07_picking_up_an_object</td>\n",
              "    </tr>\n",
              "    <tr>\n",
              "      <th>647</th>\n",
              "      <td>/content/drive/MyDrive/RP_DATA/Spectograms_77_...</td>\n",
              "      <td>07_picking_up_an_object</td>\n",
              "    </tr>\n",
              "    <tr>\n",
              "      <th>648</th>\n",
              "      <td>/content/drive/MyDrive/RP_DATA/Spectograms_77_...</td>\n",
              "      <td>07_picking_up_an_object</td>\n",
              "    </tr>\n",
              "  </tbody>\n",
              "</table>\n",
              "<p>649 rows × 2 columns</p>\n",
              "</div>\n",
              "      <button class=\"colab-df-convert\" onclick=\"convertToInteractive('df-6e2027ba-093b-4598-a449-57356d8f79f9')\"\n",
              "              title=\"Convert this dataframe to an interactive table.\"\n",
              "              style=\"display:none;\">\n",
              "        \n",
              "  <svg xmlns=\"http://www.w3.org/2000/svg\" height=\"24px\"viewBox=\"0 0 24 24\"\n",
              "       width=\"24px\">\n",
              "    <path d=\"M0 0h24v24H0V0z\" fill=\"none\"/>\n",
              "    <path d=\"M18.56 5.44l.94 2.06.94-2.06 2.06-.94-2.06-.94-.94-2.06-.94 2.06-2.06.94zm-11 1L8.5 8.5l.94-2.06 2.06-.94-2.06-.94L8.5 2.5l-.94 2.06-2.06.94zm10 10l.94 2.06.94-2.06 2.06-.94-2.06-.94-.94-2.06-.94 2.06-2.06.94z\"/><path d=\"M17.41 7.96l-1.37-1.37c-.4-.4-.92-.59-1.43-.59-.52 0-1.04.2-1.43.59L10.3 9.45l-7.72 7.72c-.78.78-.78 2.05 0 2.83L4 21.41c.39.39.9.59 1.41.59.51 0 1.02-.2 1.41-.59l7.78-7.78 2.81-2.81c.8-.78.8-2.07 0-2.86zM5.41 20L4 18.59l7.72-7.72 1.47 1.35L5.41 20z\"/>\n",
              "  </svg>\n",
              "      </button>\n",
              "      \n",
              "  <style>\n",
              "    .colab-df-container {\n",
              "      display:flex;\n",
              "      flex-wrap:wrap;\n",
              "      gap: 12px;\n",
              "    }\n",
              "\n",
              "    .colab-df-convert {\n",
              "      background-color: #E8F0FE;\n",
              "      border: none;\n",
              "      border-radius: 50%;\n",
              "      cursor: pointer;\n",
              "      display: none;\n",
              "      fill: #1967D2;\n",
              "      height: 32px;\n",
              "      padding: 0 0 0 0;\n",
              "      width: 32px;\n",
              "    }\n",
              "\n",
              "    .colab-df-convert:hover {\n",
              "      background-color: #E2EBFA;\n",
              "      box-shadow: 0px 1px 2px rgba(60, 64, 67, 0.3), 0px 1px 3px 1px rgba(60, 64, 67, 0.15);\n",
              "      fill: #174EA6;\n",
              "    }\n",
              "\n",
              "    [theme=dark] .colab-df-convert {\n",
              "      background-color: #3B4455;\n",
              "      fill: #D2E3FC;\n",
              "    }\n",
              "\n",
              "    [theme=dark] .colab-df-convert:hover {\n",
              "      background-color: #434B5C;\n",
              "      box-shadow: 0px 1px 3px 1px rgba(0, 0, 0, 0.15);\n",
              "      filter: drop-shadow(0px 1px 2px rgba(0, 0, 0, 0.3));\n",
              "      fill: #FFFFFF;\n",
              "    }\n",
              "  </style>\n",
              "\n",
              "      <script>\n",
              "        const buttonEl =\n",
              "          document.querySelector('#df-6e2027ba-093b-4598-a449-57356d8f79f9 button.colab-df-convert');\n",
              "        buttonEl.style.display =\n",
              "          google.colab.kernel.accessAllowed ? 'block' : 'none';\n",
              "\n",
              "        async function convertToInteractive(key) {\n",
              "          const element = document.querySelector('#df-6e2027ba-093b-4598-a449-57356d8f79f9');\n",
              "          const dataTable =\n",
              "            await google.colab.kernel.invokeFunction('convertToInteractive',\n",
              "                                                     [key], {});\n",
              "          if (!dataTable) return;\n",
              "\n",
              "          const docLinkHtml = 'Like what you see? Visit the ' +\n",
              "            '<a target=\"_blank\" href=https://colab.research.google.com/notebooks/data_table.ipynb>data table notebook</a>'\n",
              "            + ' to learn more about interactive tables.';\n",
              "          element.innerHTML = '';\n",
              "          dataTable['output_type'] = 'display_data';\n",
              "          await google.colab.output.renderOutput(dataTable, element);\n",
              "          const docLink = document.createElement('div');\n",
              "          docLink.innerHTML = docLinkHtml;\n",
              "          element.appendChild(docLink);\n",
              "        }\n",
              "      </script>\n",
              "    </div>\n",
              "  </div>\n",
              "  "
            ]
          },
          "metadata": {},
          "execution_count": 7
        }
      ],
      "source": [
        "image_df_1"
      ]
    },
    {
      "cell_type": "code",
      "execution_count": null,
      "metadata": {
        "colab": {
          "base_uri": "https://localhost:8080/",
          "height": 424
        },
        "id": "qlAXubq1JmE_",
        "outputId": "67d9e3f2-70be-4b2b-f947-b54946ba05a1"
      },
      "outputs": [
        {
          "output_type": "execute_result",
          "data": {
            "text/plain": [
              "                                              Filepath  \\\n",
              "0    /content/drive/MyDrive/RP_DATA/Spectograms_77_...   \n",
              "1    /content/drive/MyDrive/RP_DATA/Spectograms_77_...   \n",
              "2    /content/drive/MyDrive/RP_DATA/Spectograms_77_...   \n",
              "3    /content/drive/MyDrive/RP_DATA/Spectograms_77_...   \n",
              "4    /content/drive/MyDrive/RP_DATA/Spectograms_77_...   \n",
              "..                                                 ...   \n",
              "730  /content/drive/MyDrive/RP_DATA/Spectograms_77_...   \n",
              "731  /content/drive/MyDrive/RP_DATA/Spectograms_77_...   \n",
              "732  /content/drive/MyDrive/RP_DATA/Spectograms_77_...   \n",
              "733  /content/drive/MyDrive/RP_DATA/Spectograms_77_...   \n",
              "734  /content/drive/MyDrive/RP_DATA/Spectograms_77_...   \n",
              "\n",
              "                          Label  \n",
              "0                   11_crawling  \n",
              "1                   11_crawling  \n",
              "2                   11_crawling  \n",
              "3                   11_crawling  \n",
              "4                   11_crawling  \n",
              "..                          ...  \n",
              "730  06_walking_away_from_Radar  \n",
              "731  06_walking_away_from_Radar  \n",
              "732  06_walking_away_from_Radar  \n",
              "733  06_walking_away_from_Radar  \n",
              "734  06_walking_away_from_Radar  \n",
              "\n",
              "[735 rows x 2 columns]"
            ],
            "text/html": [
              "\n",
              "  <div id=\"df-a9c0446a-f203-4ef7-b317-296e019fd1f4\">\n",
              "    <div class=\"colab-df-container\">\n",
              "      <div>\n",
              "<style scoped>\n",
              "    .dataframe tbody tr th:only-of-type {\n",
              "        vertical-align: middle;\n",
              "    }\n",
              "\n",
              "    .dataframe tbody tr th {\n",
              "        vertical-align: top;\n",
              "    }\n",
              "\n",
              "    .dataframe thead th {\n",
              "        text-align: right;\n",
              "    }\n",
              "</style>\n",
              "<table border=\"1\" class=\"dataframe\">\n",
              "  <thead>\n",
              "    <tr style=\"text-align: right;\">\n",
              "      <th></th>\n",
              "      <th>Filepath</th>\n",
              "      <th>Label</th>\n",
              "    </tr>\n",
              "  </thead>\n",
              "  <tbody>\n",
              "    <tr>\n",
              "      <th>0</th>\n",
              "      <td>/content/drive/MyDrive/RP_DATA/Spectograms_77_...</td>\n",
              "      <td>11_crawling</td>\n",
              "    </tr>\n",
              "    <tr>\n",
              "      <th>1</th>\n",
              "      <td>/content/drive/MyDrive/RP_DATA/Spectograms_77_...</td>\n",
              "      <td>11_crawling</td>\n",
              "    </tr>\n",
              "    <tr>\n",
              "      <th>2</th>\n",
              "      <td>/content/drive/MyDrive/RP_DATA/Spectograms_77_...</td>\n",
              "      <td>11_crawling</td>\n",
              "    </tr>\n",
              "    <tr>\n",
              "      <th>3</th>\n",
              "      <td>/content/drive/MyDrive/RP_DATA/Spectograms_77_...</td>\n",
              "      <td>11_crawling</td>\n",
              "    </tr>\n",
              "    <tr>\n",
              "      <th>4</th>\n",
              "      <td>/content/drive/MyDrive/RP_DATA/Spectograms_77_...</td>\n",
              "      <td>11_crawling</td>\n",
              "    </tr>\n",
              "    <tr>\n",
              "      <th>...</th>\n",
              "      <td>...</td>\n",
              "      <td>...</td>\n",
              "    </tr>\n",
              "    <tr>\n",
              "      <th>730</th>\n",
              "      <td>/content/drive/MyDrive/RP_DATA/Spectograms_77_...</td>\n",
              "      <td>06_walking_away_from_Radar</td>\n",
              "    </tr>\n",
              "    <tr>\n",
              "      <th>731</th>\n",
              "      <td>/content/drive/MyDrive/RP_DATA/Spectograms_77_...</td>\n",
              "      <td>06_walking_away_from_Radar</td>\n",
              "    </tr>\n",
              "    <tr>\n",
              "      <th>732</th>\n",
              "      <td>/content/drive/MyDrive/RP_DATA/Spectograms_77_...</td>\n",
              "      <td>06_walking_away_from_Radar</td>\n",
              "    </tr>\n",
              "    <tr>\n",
              "      <th>733</th>\n",
              "      <td>/content/drive/MyDrive/RP_DATA/Spectograms_77_...</td>\n",
              "      <td>06_walking_away_from_Radar</td>\n",
              "    </tr>\n",
              "    <tr>\n",
              "      <th>734</th>\n",
              "      <td>/content/drive/MyDrive/RP_DATA/Spectograms_77_...</td>\n",
              "      <td>06_walking_away_from_Radar</td>\n",
              "    </tr>\n",
              "  </tbody>\n",
              "</table>\n",
              "<p>735 rows × 2 columns</p>\n",
              "</div>\n",
              "      <button class=\"colab-df-convert\" onclick=\"convertToInteractive('df-a9c0446a-f203-4ef7-b317-296e019fd1f4')\"\n",
              "              title=\"Convert this dataframe to an interactive table.\"\n",
              "              style=\"display:none;\">\n",
              "        \n",
              "  <svg xmlns=\"http://www.w3.org/2000/svg\" height=\"24px\"viewBox=\"0 0 24 24\"\n",
              "       width=\"24px\">\n",
              "    <path d=\"M0 0h24v24H0V0z\" fill=\"none\"/>\n",
              "    <path d=\"M18.56 5.44l.94 2.06.94-2.06 2.06-.94-2.06-.94-.94-2.06-.94 2.06-2.06.94zm-11 1L8.5 8.5l.94-2.06 2.06-.94-2.06-.94L8.5 2.5l-.94 2.06-2.06.94zm10 10l.94 2.06.94-2.06 2.06-.94-2.06-.94-.94-2.06-.94 2.06-2.06.94z\"/><path d=\"M17.41 7.96l-1.37-1.37c-.4-.4-.92-.59-1.43-.59-.52 0-1.04.2-1.43.59L10.3 9.45l-7.72 7.72c-.78.78-.78 2.05 0 2.83L4 21.41c.39.39.9.59 1.41.59.51 0 1.02-.2 1.41-.59l7.78-7.78 2.81-2.81c.8-.78.8-2.07 0-2.86zM5.41 20L4 18.59l7.72-7.72 1.47 1.35L5.41 20z\"/>\n",
              "  </svg>\n",
              "      </button>\n",
              "      \n",
              "  <style>\n",
              "    .colab-df-container {\n",
              "      display:flex;\n",
              "      flex-wrap:wrap;\n",
              "      gap: 12px;\n",
              "    }\n",
              "\n",
              "    .colab-df-convert {\n",
              "      background-color: #E8F0FE;\n",
              "      border: none;\n",
              "      border-radius: 50%;\n",
              "      cursor: pointer;\n",
              "      display: none;\n",
              "      fill: #1967D2;\n",
              "      height: 32px;\n",
              "      padding: 0 0 0 0;\n",
              "      width: 32px;\n",
              "    }\n",
              "\n",
              "    .colab-df-convert:hover {\n",
              "      background-color: #E2EBFA;\n",
              "      box-shadow: 0px 1px 2px rgba(60, 64, 67, 0.3), 0px 1px 3px 1px rgba(60, 64, 67, 0.15);\n",
              "      fill: #174EA6;\n",
              "    }\n",
              "\n",
              "    [theme=dark] .colab-df-convert {\n",
              "      background-color: #3B4455;\n",
              "      fill: #D2E3FC;\n",
              "    }\n",
              "\n",
              "    [theme=dark] .colab-df-convert:hover {\n",
              "      background-color: #434B5C;\n",
              "      box-shadow: 0px 1px 3px 1px rgba(0, 0, 0, 0.15);\n",
              "      filter: drop-shadow(0px 1px 2px rgba(0, 0, 0, 0.3));\n",
              "      fill: #FFFFFF;\n",
              "    }\n",
              "  </style>\n",
              "\n",
              "      <script>\n",
              "        const buttonEl =\n",
              "          document.querySelector('#df-a9c0446a-f203-4ef7-b317-296e019fd1f4 button.colab-df-convert');\n",
              "        buttonEl.style.display =\n",
              "          google.colab.kernel.accessAllowed ? 'block' : 'none';\n",
              "\n",
              "        async function convertToInteractive(key) {\n",
              "          const element = document.querySelector('#df-a9c0446a-f203-4ef7-b317-296e019fd1f4');\n",
              "          const dataTable =\n",
              "            await google.colab.kernel.invokeFunction('convertToInteractive',\n",
              "                                                     [key], {});\n",
              "          if (!dataTable) return;\n",
              "\n",
              "          const docLinkHtml = 'Like what you see? Visit the ' +\n",
              "            '<a target=\"_blank\" href=https://colab.research.google.com/notebooks/data_table.ipynb>data table notebook</a>'\n",
              "            + ' to learn more about interactive tables.';\n",
              "          element.innerHTML = '';\n",
              "          dataTable['output_type'] = 'display_data';\n",
              "          await google.colab.output.renderOutput(dataTable, element);\n",
              "          const docLink = document.createElement('div');\n",
              "          docLink.innerHTML = docLinkHtml;\n",
              "          element.appendChild(docLink);\n",
              "        }\n",
              "      </script>\n",
              "    </div>\n",
              "  </div>\n",
              "  "
            ]
          },
          "metadata": {},
          "execution_count": 8
        }
      ],
      "source": [
        "image_df_2"
      ]
    },
    {
      "cell_type": "code",
      "execution_count": null,
      "metadata": {
        "colab": {
          "base_uri": "https://localhost:8080/",
          "height": 424
        },
        "id": "p7VAf283JmFA",
        "outputId": "31aea167-9eb3-4054-dc17-8c7882b9d6d5"
      },
      "outputs": [
        {
          "output_type": "execute_result",
          "data": {
            "text/plain": [
              "                                               Filepath  \\\n",
              "0     /content/drive/MyDrive/RP_DATA/Spectograms_77_...   \n",
              "1     /content/drive/MyDrive/RP_DATA/Spectograms_77_...   \n",
              "2     /content/drive/MyDrive/RP_DATA/Spectograms_77_...   \n",
              "3     /content/drive/MyDrive/RP_DATA/Spectograms_77_...   \n",
              "4     /content/drive/MyDrive/RP_DATA/Spectograms_77_...   \n",
              "...                                                 ...   \n",
              "1921  /content/drive/MyDrive/RP_DATA/Spectograms_77_...   \n",
              "1922  /content/drive/MyDrive/RP_DATA/Spectograms_77_...   \n",
              "1923  /content/drive/MyDrive/RP_DATA/Spectograms_77_...   \n",
              "1924  /content/drive/MyDrive/RP_DATA/Spectograms_77_...   \n",
              "1925  /content/drive/MyDrive/RP_DATA/Spectograms_77_...   \n",
              "\n",
              "                                Label  \n",
              "0     17_limping_with_right_leg_stiff  \n",
              "1     17_limping_with_right_leg_stiff  \n",
              "2     17_limping_with_right_leg_stiff  \n",
              "3     17_limping_with_right_leg_stiff  \n",
              "4     17_limping_with_right_leg_stiff  \n",
              "...                               ...  \n",
              "1921         05_Walking_towards_radar  \n",
              "1922         05_Walking_towards_radar  \n",
              "1923         05_Walking_towards_radar  \n",
              "1924         05_Walking_towards_radar  \n",
              "1925         05_Walking_towards_radar  \n",
              "\n",
              "[1926 rows x 2 columns]"
            ],
            "text/html": [
              "\n",
              "  <div id=\"df-5e45b4bd-397a-413d-8ca3-f02a94dddff9\">\n",
              "    <div class=\"colab-df-container\">\n",
              "      <div>\n",
              "<style scoped>\n",
              "    .dataframe tbody tr th:only-of-type {\n",
              "        vertical-align: middle;\n",
              "    }\n",
              "\n",
              "    .dataframe tbody tr th {\n",
              "        vertical-align: top;\n",
              "    }\n",
              "\n",
              "    .dataframe thead th {\n",
              "        text-align: right;\n",
              "    }\n",
              "</style>\n",
              "<table border=\"1\" class=\"dataframe\">\n",
              "  <thead>\n",
              "    <tr style=\"text-align: right;\">\n",
              "      <th></th>\n",
              "      <th>Filepath</th>\n",
              "      <th>Label</th>\n",
              "    </tr>\n",
              "  </thead>\n",
              "  <tbody>\n",
              "    <tr>\n",
              "      <th>0</th>\n",
              "      <td>/content/drive/MyDrive/RP_DATA/Spectograms_77_...</td>\n",
              "      <td>17_limping_with_right_leg_stiff</td>\n",
              "    </tr>\n",
              "    <tr>\n",
              "      <th>1</th>\n",
              "      <td>/content/drive/MyDrive/RP_DATA/Spectograms_77_...</td>\n",
              "      <td>17_limping_with_right_leg_stiff</td>\n",
              "    </tr>\n",
              "    <tr>\n",
              "      <th>2</th>\n",
              "      <td>/content/drive/MyDrive/RP_DATA/Spectograms_77_...</td>\n",
              "      <td>17_limping_with_right_leg_stiff</td>\n",
              "    </tr>\n",
              "    <tr>\n",
              "      <th>3</th>\n",
              "      <td>/content/drive/MyDrive/RP_DATA/Spectograms_77_...</td>\n",
              "      <td>17_limping_with_right_leg_stiff</td>\n",
              "    </tr>\n",
              "    <tr>\n",
              "      <th>4</th>\n",
              "      <td>/content/drive/MyDrive/RP_DATA/Spectograms_77_...</td>\n",
              "      <td>17_limping_with_right_leg_stiff</td>\n",
              "    </tr>\n",
              "    <tr>\n",
              "      <th>...</th>\n",
              "      <td>...</td>\n",
              "      <td>...</td>\n",
              "    </tr>\n",
              "    <tr>\n",
              "      <th>1921</th>\n",
              "      <td>/content/drive/MyDrive/RP_DATA/Spectograms_77_...</td>\n",
              "      <td>05_Walking_towards_radar</td>\n",
              "    </tr>\n",
              "    <tr>\n",
              "      <th>1922</th>\n",
              "      <td>/content/drive/MyDrive/RP_DATA/Spectograms_77_...</td>\n",
              "      <td>05_Walking_towards_radar</td>\n",
              "    </tr>\n",
              "    <tr>\n",
              "      <th>1923</th>\n",
              "      <td>/content/drive/MyDrive/RP_DATA/Spectograms_77_...</td>\n",
              "      <td>05_Walking_towards_radar</td>\n",
              "    </tr>\n",
              "    <tr>\n",
              "      <th>1924</th>\n",
              "      <td>/content/drive/MyDrive/RP_DATA/Spectograms_77_...</td>\n",
              "      <td>05_Walking_towards_radar</td>\n",
              "    </tr>\n",
              "    <tr>\n",
              "      <th>1925</th>\n",
              "      <td>/content/drive/MyDrive/RP_DATA/Spectograms_77_...</td>\n",
              "      <td>05_Walking_towards_radar</td>\n",
              "    </tr>\n",
              "  </tbody>\n",
              "</table>\n",
              "<p>1926 rows × 2 columns</p>\n",
              "</div>\n",
              "      <button class=\"colab-df-convert\" onclick=\"convertToInteractive('df-5e45b4bd-397a-413d-8ca3-f02a94dddff9')\"\n",
              "              title=\"Convert this dataframe to an interactive table.\"\n",
              "              style=\"display:none;\">\n",
              "        \n",
              "  <svg xmlns=\"http://www.w3.org/2000/svg\" height=\"24px\"viewBox=\"0 0 24 24\"\n",
              "       width=\"24px\">\n",
              "    <path d=\"M0 0h24v24H0V0z\" fill=\"none\"/>\n",
              "    <path d=\"M18.56 5.44l.94 2.06.94-2.06 2.06-.94-2.06-.94-.94-2.06-.94 2.06-2.06.94zm-11 1L8.5 8.5l.94-2.06 2.06-.94-2.06-.94L8.5 2.5l-.94 2.06-2.06.94zm10 10l.94 2.06.94-2.06 2.06-.94-2.06-.94-.94-2.06-.94 2.06-2.06.94z\"/><path d=\"M17.41 7.96l-1.37-1.37c-.4-.4-.92-.59-1.43-.59-.52 0-1.04.2-1.43.59L10.3 9.45l-7.72 7.72c-.78.78-.78 2.05 0 2.83L4 21.41c.39.39.9.59 1.41.59.51 0 1.02-.2 1.41-.59l7.78-7.78 2.81-2.81c.8-.78.8-2.07 0-2.86zM5.41 20L4 18.59l7.72-7.72 1.47 1.35L5.41 20z\"/>\n",
              "  </svg>\n",
              "      </button>\n",
              "      \n",
              "  <style>\n",
              "    .colab-df-container {\n",
              "      display:flex;\n",
              "      flex-wrap:wrap;\n",
              "      gap: 12px;\n",
              "    }\n",
              "\n",
              "    .colab-df-convert {\n",
              "      background-color: #E8F0FE;\n",
              "      border: none;\n",
              "      border-radius: 50%;\n",
              "      cursor: pointer;\n",
              "      display: none;\n",
              "      fill: #1967D2;\n",
              "      height: 32px;\n",
              "      padding: 0 0 0 0;\n",
              "      width: 32px;\n",
              "    }\n",
              "\n",
              "    .colab-df-convert:hover {\n",
              "      background-color: #E2EBFA;\n",
              "      box-shadow: 0px 1px 2px rgba(60, 64, 67, 0.3), 0px 1px 3px 1px rgba(60, 64, 67, 0.15);\n",
              "      fill: #174EA6;\n",
              "    }\n",
              "\n",
              "    [theme=dark] .colab-df-convert {\n",
              "      background-color: #3B4455;\n",
              "      fill: #D2E3FC;\n",
              "    }\n",
              "\n",
              "    [theme=dark] .colab-df-convert:hover {\n",
              "      background-color: #434B5C;\n",
              "      box-shadow: 0px 1px 3px 1px rgba(0, 0, 0, 0.15);\n",
              "      filter: drop-shadow(0px 1px 2px rgba(0, 0, 0, 0.3));\n",
              "      fill: #FFFFFF;\n",
              "    }\n",
              "  </style>\n",
              "\n",
              "      <script>\n",
              "        const buttonEl =\n",
              "          document.querySelector('#df-5e45b4bd-397a-413d-8ca3-f02a94dddff9 button.colab-df-convert');\n",
              "        buttonEl.style.display =\n",
              "          google.colab.kernel.accessAllowed ? 'block' : 'none';\n",
              "\n",
              "        async function convertToInteractive(key) {\n",
              "          const element = document.querySelector('#df-5e45b4bd-397a-413d-8ca3-f02a94dddff9');\n",
              "          const dataTable =\n",
              "            await google.colab.kernel.invokeFunction('convertToInteractive',\n",
              "                                                     [key], {});\n",
              "          if (!dataTable) return;\n",
              "\n",
              "          const docLinkHtml = 'Like what you see? Visit the ' +\n",
              "            '<a target=\"_blank\" href=https://colab.research.google.com/notebooks/data_table.ipynb>data table notebook</a>'\n",
              "            + ' to learn more about interactive tables.';\n",
              "          element.innerHTML = '';\n",
              "          dataTable['output_type'] = 'display_data';\n",
              "          await google.colab.output.renderOutput(dataTable, element);\n",
              "          const docLink = document.createElement('div');\n",
              "          docLink.innerHTML = docLinkHtml;\n",
              "          element.appendChild(docLink);\n",
              "        }\n",
              "      </script>\n",
              "    </div>\n",
              "  </div>\n",
              "  "
            ]
          },
          "metadata": {},
          "execution_count": 9
        }
      ],
      "source": [
        "image_df_3"
      ]
    },
    {
      "cell_type": "code",
      "execution_count": null,
      "metadata": {
        "colab": {
          "base_uri": "https://localhost:8080/",
          "height": 299
        },
        "id": "t_mW-gHGJmFB",
        "outputId": "e5d3a235-20c0-4c0d-d833-4496a07ec858",
        "scrolled": true
      },
      "outputs": [
        {
          "output_type": "execute_result",
          "data": {
            "text/plain": [
              "Text(0.5, 1.0, 'Frequency of each class in 77GHZ-data')"
            ]
          },
          "metadata": {},
          "execution_count": 10
        },
        {
          "output_type": "display_data",
          "data": {
            "text/plain": [
              "<Figure size 432x288 with 1 Axes>"
            ],
            "image/png": "[encoded data removed]"
          },
          "metadata": {
            "needs_background": "light"
          }
        }
      ],
      "source": [
        "d=dict()\n",
        "for i in set(Label_1):\n",
        "    d[i]=0\n",
        "for i in Label_1:\n",
        "    d[i]=d[i]+1\n",
        "d\n",
        "y_graph=[]\n",
        "x_graph=[]\n",
        "j=0\n",
        "for i in set(Label_1):\n",
        "    x_graph.append(i)\n",
        "    y_graph.append(d[i])\n",
        "plt.barh(x_graph,y_graph)\n",
        "plt.title(\"Frequency of each class in 77GHZ-data\")"
      ]
    },
    {
      "cell_type": "code",
      "execution_count": null,
      "metadata": {
        "colab": {
          "base_uri": "https://localhost:8080/",
          "height": 299
        },
        "id": "8RM_9soXJmFC",
        "outputId": "3b98e82d-0d69-4a55-fb70-90b0af69b583"
      },
      "outputs": [
        {
          "output_type": "execute_result",
          "data": {
            "text/plain": [
              "Text(0.5, 1.0, 'Frequency of each class in Xethru-data')"
            ]
          },
          "metadata": {},
          "execution_count": 11
        },
        {
          "output_type": "display_data",
          "data": {
            "text/plain": [
              "<Figure size 432x288 with 1 Axes>"
            ],
            "image/png": "[encoded data removed]"
          },
          "metadata": {
            "needs_background": "light"
          }
        }
      ],
      "source": [
        "d=dict()\n",
        "for i in set(Label_2):\n",
        "    d[i]=0\n",
        "for i in Label_2:\n",
        "    d[i]=d[i]+1\n",
        "d\n",
        "y_graph=[]\n",
        "x_graph=[]\n",
        "j=0\n",
        "for i in set(Label_2):\n",
        "    x_graph.append(i)\n",
        "    y_graph.append(d[i])\n",
        "plt.barh(x_graph,y_graph)\n",
        "plt.title(\"Frequency of each class in Xethru-data\")"
      ]
    },
    {
      "cell_type": "code",
      "execution_count": null,
      "metadata": {
        "colab": {
          "base_uri": "https://localhost:8080/",
          "height": 299
        },
        "id": "2dN-9KuPJmFC",
        "outputId": "ca0c336c-f050-4c87-bde2-c61d7c2e0fd7"
      },
      "outputs": [
        {
          "output_type": "execute_result",
          "data": {
            "text/plain": [
              "Text(0.5, 1.0, 'Frequency of each class in 24GHZ-data')"
            ]
          },
          "metadata": {},
          "execution_count": 12
        },
        {
          "output_type": "display_data",
          "data": {
            "text/plain": [
              "<Figure size 432x288 with 1 Axes>"
            ],
            "image/png": "[encoded data removed]"
          },
          "metadata": {
            "needs_background": "light"
          }
        }
      ],
      "source": [
        "d=dict()\n",
        "for i in set(Label_3):\n",
        "    d[i]=0\n",
        "for i in Label_3:\n",
        "    d[i]=d[i]+1\n",
        "d\n",
        "y_graph=[]\n",
        "x_graph=[]\n",
        "j=0\n",
        "for i in set(Label_3):\n",
        "    x_graph.append(i)\n",
        "    y_graph.append(d[i])\n",
        "plt.barh(x_graph,y_graph)\n",
        "plt.title(\"Frequency of each class in 24GHZ-data\")"
      ]
    },
    {
      "cell_type": "code",
      "execution_count": null,
      "metadata": {
        "id": "AhiTn-rpJmFD"
      },
      "outputs": [],
      "source": [
        "plt.bar??"
      ]
    },
    {
      "cell_type": "code",
      "execution_count": null,
      "metadata": {
        "id": "Cwi341FomAnc"
      },
      "outputs": [],
      "source": [
        "train_df_1, test_df_1 = train_test_split(image_df_1, train_size=0.7, shuffle=True, random_state=1)\n",
        "train_df_2, test_df_2 = train_test_split(image_df_2, train_size=0.7, shuffle=True, random_state=1)\n",
        "train_df_3, test_df_3 = train_test_split(image_df_3, train_size=0.7, shuffle=True, random_state=1)"
      ]
    },
    {
      "cell_type": "code",
      "execution_count": null,
      "metadata": {
        "id": "0EIpwqRRmAr6"
      },
      "outputs": [],
      "source": [
        "train_generator_1 = tf.keras.preprocessing.image.ImageDataGenerator(\n",
        "    preprocessing_function=tf.keras.applications.mobilenet_v2.preprocess_input,\n",
        "    validation_split=0.2\n",
        ")\n",
        "\n",
        "test_generator_1 = tf.keras.preprocessing.image.ImageDataGenerator(\n",
        "    preprocessing_function=tf.keras.applications.mobilenet_v2.preprocess_input\n",
        ")\n",
        "\n",
        "train_generator_2 = tf.keras.preprocessing.image.ImageDataGenerator(\n",
        "    preprocessing_function=tf.keras.applications.mobilenet_v2.preprocess_input,\n",
        "    validation_split=0.2\n",
        ")\n",
        "\n",
        "test_generator_2 = tf.keras.preprocessing.image.ImageDataGenerator(\n",
        "    preprocessing_function=tf.keras.applications.mobilenet_v2.preprocess_input\n",
        ")\n",
        "\n",
        "train_generator_3 = tf.keras.preprocessing.image.ImageDataGenerator(\n",
        "    preprocessing_function=tf.keras.applications.mobilenet_v2.preprocess_input,\n",
        "    validation_split=0.2\n",
        ")\n",
        "\n",
        "test_generator_3 = tf.keras.preprocessing.image.ImageDataGenerator(\n",
        "    preprocessing_function=tf.keras.applications.mobilenet_v2.preprocess_input\n",
        ")"
      ]
    },
    {
      "cell_type": "code",
      "execution_count": null,
      "metadata": {
        "colab": {
          "base_uri": "https://localhost:8080/"
        },
        "id": "DUtCZOSkJmFE",
        "outputId": "39b31af6-c38c-4072-b0d2-2cd6a53b85f1"
      },
      "outputs": [
        {
          "output_type": "execute_result",
          "data": {
            "text/plain": [
              "keras.preprocessing.image.ImageDataGenerator"
            ]
          },
          "metadata": {},
          "execution_count": 16
        }
      ],
      "source": [
        "type(train_generator_1)"
      ]
    },
    {
      "cell_type": "code",
      "execution_count": null,
      "metadata": {
        "colab": {
          "base_uri": "https://localhost:8080/"
        },
        "id": "o9YY7UHImAv-",
        "outputId": "6b8a7a1d-8f59-415d-e63e-f3d9baf1543f",
        "scrolled": true
      },
      "outputs": [
        {
          "output_type": "stream",
          "name": "stderr",
          "text": [
            "/usr/local/lib/python3.8/dist-packages/keras/preprocessing/image.py:989: UserWarning: Found 1 invalid image filename(s) in x_col=\"Filepath\". These filename(s) will be ignored.\n",
            "  warnings.warn('Found {} invalid image filename(s) in x_col=\"{}\". '\n"
          ]
        },
        {
          "output_type": "stream",
          "name": "stdout",
          "text": [
            "Found 363 validated image filenames belonging to 11 classes.\n",
            "Found 90 validated image filenames belonging to 11 classes.\n",
            "Found 195 validated image filenames belonging to 11 classes.\n",
            "Found 412 validated image filenames belonging to 11 classes.\n",
            "Found 102 validated image filenames belonging to 11 classes.\n",
            "Found 221 validated image filenames belonging to 11 classes.\n"
          ]
        },
        {
          "output_type": "stream",
          "name": "stderr",
          "text": [
            "/usr/local/lib/python3.8/dist-packages/keras/preprocessing/image.py:989: UserWarning: Found 7 invalid image filename(s) in x_col=\"Filepath\". These filename(s) will be ignored.\n",
            "  warnings.warn('Found {} invalid image filename(s) in x_col=\"{}\". '\n"
          ]
        },
        {
          "output_type": "stream",
          "name": "stdout",
          "text": [
            "Found 1073 validated image filenames belonging to 11 classes.\n",
            "Found 268 validated image filenames belonging to 11 classes.\n",
            "Found 574 validated image filenames belonging to 11 classes.\n"
          ]
        },
        {
          "output_type": "stream",
          "name": "stderr",
          "text": [
            "/usr/local/lib/python3.8/dist-packages/keras/preprocessing/image.py:989: UserWarning: Found 4 invalid image filename(s) in x_col=\"Filepath\". These filename(s) will be ignored.\n",
            "  warnings.warn('Found {} invalid image filename(s) in x_col=\"{}\". '\n"
          ]
        }
      ],
      "source": [
        "train_images_1 = train_generator_1.flow_from_dataframe(\n",
        "    dataframe=train_df_1,\n",
        "    x_col='Filepath',\n",
        "    y_col='Label',\n",
        "    target_size=(224,224),\n",
        "    color_mode='rgb',\n",
        "    class_mode='categorical',\n",
        "    batch_size=32,\n",
        "    shuffle=True,\n",
        "    seed=42,\n",
        "    subset='training'\n",
        ")\n",
        "\n",
        "val_images_1 = train_generator_1.flow_from_dataframe(\n",
        "    dataframe=train_df_1,\n",
        "    x_col='Filepath',\n",
        "    y_col='Label',\n",
        "    target_size=(224,224),\n",
        "    color_mode='rgb',\n",
        "    class_mode='categorical',\n",
        "    batch_size=32,\n",
        "    shuffle=True,\n",
        "    seed=42,\n",
        "    subset='validation'\n",
        ")\n",
        "\n",
        "test_images_1 = test_generator_1.flow_from_dataframe(\n",
        "    dataframe=test_df_1,\n",
        "    x_col='Filepath',\n",
        "    y_col='Label',\n",
        "    target_size=(224,224),\n",
        "    color_mode='rgb',\n",
        "    class_mode='categorical',\n",
        "    batch_size=32,\n",
        "    shuffle=False\n",
        ")\n",
        "\n",
        "\n",
        "train_images_2 = train_generator_2.flow_from_dataframe(\n",
        "    dataframe=train_df_2,\n",
        "    x_col='Filepath',\n",
        "    y_col='Label',\n",
        "    target_size=(224,224),\n",
        "    color_mode='rgb',\n",
        "    class_mode='categorical',\n",
        "    batch_size=32,\n",
        "    shuffle=True,\n",
        "    seed=42,\n",
        "    subset='training'\n",
        ")\n",
        "\n",
        "val_images_2 = train_generator_2.flow_from_dataframe(\n",
        "    dataframe=train_df_2,\n",
        "    x_col='Filepath',\n",
        "    y_col='Label',\n",
        "    target_size=(224,224),\n",
        "    color_mode='rgb',\n",
        "    class_mode='categorical',\n",
        "    batch_size=32,\n",
        "    shuffle=True,\n",
        "    seed=42,\n",
        "    subset='validation'\n",
        ")\n",
        "\n",
        "test_images_2 = test_generator_2.flow_from_dataframe(\n",
        "    dataframe=test_df_2,\n",
        "    x_col='Filepath',\n",
        "    y_col='Label',\n",
        "    target_size=(224,224),\n",
        "    color_mode='rgb',\n",
        "    class_mode='categorical',\n",
        "    batch_size=32,\n",
        "    shuffle=False\n",
        ")\n",
        "\n",
        "\n",
        "train_images_3 = train_generator_3.flow_from_dataframe(\n",
        "    dataframe=train_df_3,\n",
        "    x_col='Filepath',\n",
        "    y_col='Label',\n",
        "    target_size=(224,224),\n",
        "    color_mode='rgb',\n",
        "    class_mode='categorical',\n",
        "    batch_size=32,\n",
        "    shuffle=True,\n",
        "    seed=42,\n",
        "    subset='training'\n",
        ")\n",
        "\n",
        "val_images_3 = train_generator_3.flow_from_dataframe(\n",
        "    dataframe=train_df_3,\n",
        "    x_col='Filepath',\n",
        "    y_col='Label',\n",
        "    target_size=(224,224),\n",
        "    color_mode='rgb',\n",
        "    class_mode='categorical',\n",
        "    batch_size=32,\n",
        "    shuffle=True,\n",
        "    seed=42,\n",
        "    subset='validation'\n",
        ")\n",
        "\n",
        "test_images_3 = test_generator_3.flow_from_dataframe(\n",
        "    dataframe=test_df_3,\n",
        "    x_col='Filepath',\n",
        "    y_col='Label',\n",
        "    target_size=(224,224),\n",
        "    color_mode='rgb',\n",
        "    class_mode='categorical',\n",
        "    batch_size=32,\n",
        "    shuffle=False\n",
        ")"
      ]
    },
    {
      "cell_type": "code",
      "execution_count": null,
      "metadata": {
        "colab": {
          "base_uri": "https://localhost:8080/"
        },
        "id": "7ZG3NWjYVYOr",
        "outputId": "785bdc41-5216-4631-9322-797e619b1fd4"
      },
      "outputs": [
        {
          "output_type": "execute_result",
          "data": {
            "text/plain": [
              "keras.preprocessing.image.DataFrameIterator"
            ]
          },
          "metadata": {},
          "execution_count": 18
        }
      ],
      "source": [
        "type(train_images_1)"
      ]
    },
    {
      "cell_type": "code",
      "execution_count": null,
      "metadata": {
        "colab": {
          "base_uri": "https://localhost:8080/"
        },
        "id": "oEekjndKJmFF",
        "outputId": "a679a8f2-9f44-4dc2-c507-9351e2d8e122"
      },
      "outputs": [
        {
          "output_type": "execute_result",
          "data": {
            "text/plain": [
              "578"
            ]
          },
          "metadata": {},
          "execution_count": 19
        }
      ],
      "source": [
        "test_df_3.shape[0]"
      ]
    },
    {
      "cell_type": "code",
      "execution_count": null,
      "metadata": {
        "colab": {
          "base_uri": "https://localhost:8080/",
          "height": 112
        },
        "id": "Bp9l4U7xJmFF",
        "outputId": "e515d2d8-6790-4eeb-9bcc-129f1b18e82d",
        "scrolled": true
      },
      "outputs": [
        {
          "output_type": "execute_result",
          "data": {
            "text/plain": [
              "                 77GHZ  Xethru  24GHZ\n",
              "training_images    454     514   1348\n",
              "testing_images     195     221    578"
            ],
            "text/html": [
              "\n",
              "  <div id=\"df-c67ef4ed-b2fb-46b0-b8e9-39c85af9d281\">\n",
              "    <div class=\"colab-df-container\">\n",
              "      <div>\n",
              "<style scoped>\n",
              "    .dataframe tbody tr th:only-of-type {\n",
              "        vertical-align: middle;\n",
              "    }\n",
              "\n",
              "    .dataframe tbody tr th {\n",
              "        vertical-align: top;\n",
              "    }\n",
              "\n",
              "    .dataframe thead th {\n",
              "        text-align: right;\n",
              "    }\n",
              "</style>\n",
              "<table border=\"1\" class=\"dataframe\">\n",
              "  <thead>\n",
              "    <tr style=\"text-align: right;\">\n",
              "      <th></th>\n",
              "      <th>77GHZ</th>\n",
              "      <th>Xethru</th>\n",
              "      <th>24GHZ</th>\n",
              "    </tr>\n",
              "  </thead>\n",
              "  <tbody>\n",
              "    <tr>\n",
              "      <th>training_images</th>\n",
              "      <td>454</td>\n",
              "      <td>514</td>\n",
              "      <td>1348</td>\n",
              "    </tr>\n",
              "    <tr>\n",
              "      <th>testing_images</th>\n",
              "      <td>195</td>\n",
              "      <td>221</td>\n",
              "      <td>578</td>\n",
              "    </tr>\n",
              "  </tbody>\n",
              "</table>\n",
              "</div>\n",
              "      <button class=\"colab-df-convert\" onclick=\"convertToInteractive('df-c67ef4ed-b2fb-46b0-b8e9-39c85af9d281')\"\n",
              "              title=\"Convert this dataframe to an interactive table.\"\n",
              "              style=\"display:none;\">\n",
              "        \n",
              "  <svg xmlns=\"http://www.w3.org/2000/svg\" height=\"24px\"viewBox=\"0 0 24 24\"\n",
              "       width=\"24px\">\n",
              "    <path d=\"M0 0h24v24H0V0z\" fill=\"none\"/>\n",
              "    <path d=\"M18.56 5.44l.94 2.06.94-2.06 2.06-.94-2.06-.94-.94-2.06-.94 2.06-2.06.94zm-11 1L8.5 8.5l.94-2.06 2.06-.94-2.06-.94L8.5 2.5l-.94 2.06-2.06.94zm10 10l.94 2.06.94-2.06 2.06-.94-2.06-.94-.94-2.06-.94 2.06-2.06.94z\"/><path d=\"M17.41 7.96l-1.37-1.37c-.4-.4-.92-.59-1.43-.59-.52 0-1.04.2-1.43.59L10.3 9.45l-7.72 7.72c-.78.78-.78 2.05 0 2.83L4 21.41c.39.39.9.59 1.41.59.51 0 1.02-.2 1.41-.59l7.78-7.78 2.81-2.81c.8-.78.8-2.07 0-2.86zM5.41 20L4 18.59l7.72-7.72 1.47 1.35L5.41 20z\"/>\n",
              "  </svg>\n",
              "      </button>\n",
              "      \n",
              "  <style>\n",
              "    .colab-df-container {\n",
              "      display:flex;\n",
              "      flex-wrap:wrap;\n",
              "      gap: 12px;\n",
              "    }\n",
              "\n",
              "    .colab-df-convert {\n",
              "      background-color: #E8F0FE;\n",
              "      border: none;\n",
              "      border-radius: 50%;\n",
              "      cursor: pointer;\n",
              "      display: none;\n",
              "      fill: #1967D2;\n",
              "      height: 32px;\n",
              "      padding: 0 0 0 0;\n",
              "      width: 32px;\n",
              "    }\n",
              "\n",
              "    .colab-df-convert:hover {\n",
              "      background-color: #E2EBFA;\n",
              "      box-shadow: 0px 1px 2px rgba(60, 64, 67, 0.3), 0px 1px 3px 1px rgba(60, 64, 67, 0.15);\n",
              "      fill: #174EA6;\n",
              "    }\n",
              "\n",
              "    [theme=dark] .colab-df-convert {\n",
              "      background-color: #3B4455;\n",
              "      fill: #D2E3FC;\n",
              "    }\n",
              "\n",
              "    [theme=dark] .colab-df-convert:hover {\n",
              "      background-color: #434B5C;\n",
              "      box-shadow: 0px 1px 3px 1px rgba(0, 0, 0, 0.15);\n",
              "      filter: drop-shadow(0px 1px 2px rgba(0, 0, 0, 0.3));\n",
              "      fill: #FFFFFF;\n",
              "    }\n",
              "  </style>\n",
              "\n",
              "      <script>\n",
              "        const buttonEl =\n",
              "          document.querySelector('#df-c67ef4ed-b2fb-46b0-b8e9-39c85af9d281 button.colab-df-convert');\n",
              "        buttonEl.style.display =\n",
              "          google.colab.kernel.accessAllowed ? 'block' : 'none';\n",
              "\n",
              "        async function convertToInteractive(key) {\n",
              "          const element = document.querySelector('#df-c67ef4ed-b2fb-46b0-b8e9-39c85af9d281');\n",
              "          const dataTable =\n",
              "            await google.colab.kernel.invokeFunction('convertToInteractive',\n",
              "                                                     [key], {});\n",
              "          if (!dataTable) return;\n",
              "\n",
              "          const docLinkHtml = 'Like what you see? Visit the ' +\n",
              "            '<a target=\"_blank\" href=https://colab.research.google.com/notebooks/data_table.ipynb>data table notebook</a>'\n",
              "            + ' to learn more about interactive tables.';\n",
              "          element.innerHTML = '';\n",
              "          dataTable['output_type'] = 'display_data';\n",
              "          await google.colab.output.renderOutput(dataTable, element);\n",
              "          const docLink = document.createElement('div');\n",
              "          docLink.innerHTML = docLinkHtml;\n",
              "          element.appendChild(docLink);\n",
              "        }\n",
              "      </script>\n",
              "    </div>\n",
              "  </div>\n",
              "  "
            ]
          },
          "metadata": {},
          "execution_count": 20
        }
      ],
      "source": [
        "col_names=['77GHZ','Xethru','24GHZ']\n",
        "#col_vals=[],[train_df_2.shape[0],test_df_2.shape[0]],[train_df_3.shape[0],test_df_3.shape[0]]]\n",
        "d={'77GHZ':[train_df_1.shape[0],test_df_1.shape[0]],\n",
        "   'Xethru':[train_df_2.shape[0],test_df_2.shape[0]],\n",
        "   '24GHZ':[train_df_3.shape[0],test_df_3.shape[0]]\n",
        "}\n",
        "images_summary = pd.DataFrame(d)\n",
        "images_summary.index=['training_images','testing_images']\n",
        "images_summary"
      ]
    },
    {
      "cell_type": "code",
      "execution_count": null,
      "metadata": {
        "colab": {
          "base_uri": "https://localhost:8080/"
        },
        "id": "RUm381QAmAzo",
        "outputId": "336afe3c-f13a-4228-d2fe-0467536a66ae"
      },
      "outputs": [
        {
          "output_type": "execute_result",
          "data": {
            "text/plain": [
              "{'05_Walking_towards_radar': 0,\n",
              " '06_walking_away_from_Radar': 1,\n",
              " '07_picking_up_an_object': 2,\n",
              " '08_bending': 3,\n",
              " '09_sitting': 4,\n",
              " '10_kneeling': 5,\n",
              " '11_crawling': 6,\n",
              " '16_Walking_on_both_toes': 7,\n",
              " '17_limping_with_right_leg_stiff': 8,\n",
              " '18_short_steps': 9,\n",
              " '19_scissors_gait': 10}"
            ]
          },
          "metadata": {},
          "execution_count": 21
        }
      ],
      "source": [
        "classes = train_images_1.class_indices\n",
        "classes"
      ]
    },
    {
      "cell_type": "code",
      "execution_count": null,
      "metadata": {
        "colab": {
          "base_uri": "https://localhost:8080/"
        },
        "id": "FB0Ha1MmmA2O",
        "outputId": "c3567455-da7f-4286-9ad4-5a915e864138"
      },
      "outputs": [
        {
          "output_type": "stream",
          "name": "stdout",
          "text": [
            "12 (224, 224, 3)\n",
            "3 (224, 224, 3)\n",
            "7 (224, 224, 3)\n"
          ]
        }
      ],
      "source": [
        "print(len(train_images_1),train_images_1.image_shape)\n",
        "print(len(val_images_1),val_images_1.image_shape)\n",
        "print(len(test_images_1),test_images_1.image_shape)"
      ]
    },
    {
      "cell_type": "markdown",
      "metadata": {
        "id": "OVWrgq5omA49"
      },
      "source": [
        "# loading the base model"
      ]
    },
    {
      "cell_type": "code",
      "execution_count": null,
      "metadata": {
        "colab": {
          "base_uri": "https://localhost:8080/",
          "height": 54
        },
        "id": "ZAFXUQCAJmFH",
        "outputId": "f1ceab7b-e4b7-4ec6-e9ac-b90d9a680d80"
      },
      "outputs": [
        {
          "output_type": "execute_result",
          "data": {
            "text/plain": [
              "\"from tensorflow.keras.applications.vgg16 import VGG16\\n\\nbase_model = VGG16(input_shape = (224, 224, 3), # Shape of our images\\ninclude_top = False, # Leave out the last fully connected layer\\nweights = 'imagenet')\""
            ],
            "application/vnd.google.colaboratory.intrinsic+json": {
              "type": "string"
            }
          },
          "metadata": {},
          "execution_count": 23
        }
      ],
      "source": [
        "'''from tensorflow.keras.applications.vgg16 import VGG16\n",
        "\n",
        "base_model = VGG16(input_shape = (224, 224, 3), # Shape of our images\n",
        "include_top = False, # Leave out the last fully connected layer\n",
        "weights = 'imagenet')'''"
      ]
    },
    {
      "cell_type": "code",
      "execution_count": null,
      "metadata": {
        "colab": {
          "base_uri": "https://localhost:8080/",
          "height": 54
        },
        "id": "e3qzvVEmJmFI",
        "outputId": "ccbd9572-270c-4da1-d349-e52e2e0fc5fb"
      },
      "outputs": [
        {
          "output_type": "execute_result",
          "data": {
            "text/plain": [
              "\"# since we don't want vgg16 architecture to be trained on our data instead we want the pre-build vgg16 weights so we make\\n# training of all layers weights = false\\nfor layer in base_model.layers:\\n    layer.trainable = False\""
            ],
            "application/vnd.google.colaboratory.intrinsic+json": {
              "type": "string"
            }
          },
          "metadata": {},
          "execution_count": 24
        }
      ],
      "source": [
        "'''# since we don't want vgg16 architecture to be trained on our data instead we want the pre-build vgg16 weights so we make\n",
        "# training of all layers weights = false\n",
        "for layer in base_model.layers:\n",
        "    layer.trainable = False'''"
      ]
    },
    {
      "cell_type": "code",
      "execution_count": null,
      "metadata": {
        "colab": {
          "base_uri": "https://localhost:8080/",
          "height": 91
        },
        "id": "bgisR2nhJmFJ",
        "outputId": "591187e6-3e5e-44e4-dce3-18d88be42b9a"
      },
      "outputs": [
        {
          "output_type": "execute_result",
          "data": {
            "text/plain": [
              "\"x=  layers.MaxPooling2D()(x)\\n\\n# Flatten the output layer to 1 dimension\\nx = layers.Flatten()(base_model.output)\\n\\n\\n# Add a fully connected layer with 512 hidden units and ReLU activation\\nx = layers.Dense(512, activation='relu')(x)\\n\\n# Add a dropout rate of 0.5\\nx = layers.Dropout(0.5)(x)\\n\\n# Add a fully connected layer with 512 hidden units and ReLU activation\\nx = layers.Dense(512, activation='relu')(x)\\n\\n# Add a dropout rate of 0.5\\nx = layers.Dropout(0.5)(x)\\n\\n# Add a final sigmoid layer with 1 node for classification output\\nx = layers.Dense(1, activation='softmax')(x)\\n\\nmodel = tf.keras.models.Model(base_model.input, x)\\n\\nmodel.summary()\\n\""
            ],
            "application/vnd.google.colaboratory.intrinsic+json": {
              "type": "string"
            }
          },
          "metadata": {},
          "execution_count": 25
        }
      ],
      "source": [
        "'''x=  layers.MaxPooling2D()(x)\n",
        "\n",
        "# Flatten the output layer to 1 dimension\n",
        "x = layers.Flatten()(base_model.output)\n",
        "\n",
        "\n",
        "# Add a fully connected layer with 512 hidden units and ReLU activation\n",
        "x = layers.Dense(512, activation='relu')(x)\n",
        "\n",
        "# Add a dropout rate of 0.5\n",
        "x = layers.Dropout(0.5)(x)\n",
        "\n",
        "# Add a fully connected layer with 512 hidden units and ReLU activation\n",
        "x = layers.Dense(512, activation='relu')(x)\n",
        "\n",
        "# Add a dropout rate of 0.5\n",
        "x = layers.Dropout(0.5)(x)\n",
        "\n",
        "# Add a final sigmoid layer with 1 node for classification output\n",
        "x = layers.Dense(1, activation='softmax')(x)\n",
        "\n",
        "model = tf.keras.models.Model(base_model.input, x)\n",
        "\n",
        "model.summary()\n",
        "'''"
      ]
    },
    {
      "cell_type": "code",
      "execution_count": null,
      "metadata": {
        "colab": {
          "base_uri": "https://localhost:8080/",
          "height": 1129
        },
        "id": "kENP-a3eVuTX",
        "outputId": "ec79cff5-7c86-4e9d-e05d-efb1aea47ba0"
      },
      "outputs": [
        {
          "output_type": "display_data",
          "data": {
            "text/plain": [
              "<IPython.core.display.Javascript object>"
            ],
            "application/javascript": [
              "google.colab.output.setIframeHeight(0, true, {maxHeight: 5000})"
            ]
          },
          "metadata": {}
        },
        {
          "output_type": "stream",
          "name": "stdout",
          "text": [
            "Downloading data from https://storage.googleapis.com/tensorflow/keras-applications/vgg16/vgg16_weights_tf_dim_ordering_tf_kernels_notop.h5\n",
            "58889256/58889256 [==============================] - 0s 0us/step\n",
            "Model: \"model\"\n",
            "_________________________________________________________________\n",
            " Layer (type)                Output Shape              Param #   \n",
            "=================================================================\n",
            " input_1 (InputLayer)        [(None, 224, 224, 3)]     0         \n",
            "                                                                 \n",
            " block1_conv1 (Conv2D)       (None, 224, 224, 64)      1792      \n",
            "                                                                 \n",
            " block1_conv2 (Conv2D)       (None, 224, 224, 64)      36928     \n",
            "                                                                 \n",
            " block1_pool (MaxPooling2D)  (None, 112, 112, 64)      0         \n",
            "                                                                 \n",
            " block2_conv1 (Conv2D)       (None, 112, 112, 128)     73856     \n",
            "                                                                 \n",
            " block2_conv2 (Conv2D)       (None, 112, 112, 128)     147584    \n",
            "                                                                 \n",
            " block2_pool (MaxPooling2D)  (None, 56, 56, 128)       0         \n",
            "                                                                 \n",
            " block3_conv1 (Conv2D)       (None, 56, 56, 256)       295168    \n",
            "                                                                 \n",
            " block3_conv2 (Conv2D)       (None, 56, 56, 256)       590080    \n",
            "                                                                 \n",
            " block3_conv3 (Conv2D)       (None, 56, 56, 256)       590080    \n",
            "                                                                 \n",
            " block3_pool (MaxPooling2D)  (None, 28, 28, 256)       0         \n",
            "                                                                 \n",
            " block4_conv1 (Conv2D)       (None, 28, 28, 512)       1180160   \n",
            "                                                                 \n",
            " block4_conv2 (Conv2D)       (None, 28, 28, 512)       2359808   \n",
            "                                                                 \n",
            " block4_conv3 (Conv2D)       (None, 28, 28, 512)       2359808   \n",
            "                                                                 \n",
            " block4_pool (MaxPooling2D)  (None, 14, 14, 512)       0         \n",
            "                                                                 \n",
            " block5_conv1 (Conv2D)       (None, 14, 14, 512)       2359808   \n",
            "                                                                 \n",
            " block5_conv2 (Conv2D)       (None, 14, 14, 512)       2359808   \n",
            "                                                                 \n",
            " block5_conv3 (Conv2D)       (None, 14, 14, 512)       2359808   \n",
            "                                                                 \n",
            " block5_pool (MaxPooling2D)  (None, 7, 7, 512)         0         \n",
            "                                                                 \n",
            " flatten (Flatten)           (None, 25088)             0         \n",
            "                                                                 \n",
            " dense (Dense)               (None, 512)               12845568  \n",
            "                                                                 \n",
            " dropout (Dropout)           (None, 512)               0         \n",
            "                                                                 \n",
            " dense_1 (Dense)             (None, 512)               262656    \n",
            "                                                                 \n",
            " dropout_1 (Dropout)         (None, 512)               0         \n",
            "                                                                 \n",
            " dense_2 (Dense)             (None, 11)                5643      \n",
            "                                                                 \n",
            "=================================================================\n",
            "Total params: 27,828,555\n",
            "Trainable params: 13,113,867\n",
            "Non-trainable params: 14,714,688\n",
            "_________________________________________________________________\n"
          ]
        }
      ],
      "source": [
        "from IPython.display import Javascript\n",
        "display(Javascript('''google.colab.output.setIframeHeight(0, true, {maxHeight: 5000})'''))\n",
        "\n",
        "from tensorflow.keras.applications.vgg16 import VGG16\n",
        "\n",
        "base_model = VGG16(input_shape = (224, 224, 3), # Shape of our images\n",
        "include_top = False, # Leave out the last fully connected layer\n",
        "weights = 'imagenet')\n",
        "\n",
        "# since we don't want vgg16 architecture to be trained on our data instead we want the pre-build vgg16 weights so we make\n",
        "# training of all layers weights = false\n",
        "for layer in base_model.layers:\n",
        "    layer.trainable = False\n",
        "\n",
        "x=  layers.GlobalAveragePooling2D()\n",
        "\n",
        "# Flatten the output layer to 1 dimension\n",
        "x = layers.Flatten()(base_model.output)\n",
        "\n",
        "\n",
        "# Add a fully connected layer with 512 hidden units and ReLU activation\n",
        "x = layers.Dense(512, activation='relu')(x)\n",
        "\n",
        "# Add a dropout rate of 0.5\n",
        "x = layers.Dropout(0.5)(x)\n",
        "\n",
        "# Add a fully connected layer with 512 hidden units and ReLU activation\n",
        "x = layers.Dense(512, activation='relu')(x)\n",
        "\n",
        "# Add a dropout rate of 0.5\n",
        "x = layers.Dropout(0.5)(x)\n",
        "\n",
        "# Add a final sigmoid layer with 1 node for classification output\n",
        "x = layers.Dense(11, activation='softmax')(x)\n",
        "\n",
        "model1 = tf.keras.models.Model(base_model.input, x)\n",
        "model2 = tf.keras.models.Model(base_model.input, x)\n",
        "model3 = tf.keras.models.Model(base_model.input, x)\n",
        "\n",
        "model1.summary()\n"
      ]
    },
    {
      "cell_type": "code",
      "execution_count": null,
      "metadata": {
        "colab": {
          "base_uri": "https://localhost:8080/",
          "height": 91
        },
        "id": "8jQKEvJZJmFJ",
        "outputId": "1ab9ffbb-564c-461b-d614-9b00b7d2e143",
        "scrolled": true
      },
      "outputs": [
        {
          "output_type": "execute_result",
          "data": {
            "text/plain": [
              "\"from tensorflow.keras.applications.vgg16 import VGG16\\n\\nbase_model = VGG16(input_shape = (224, 224, 3), # Shape of our images\\ninclude_top = False, # Leave out the last fully connected layer\\nweights = 'imagenet')\\nmodel = Sequential()\\n\\nfor layer in base_model.layers[:]:\\n    model.add(layer)\\n\\n# Freeze the layers\\nfor layer in model.layers:\\n    layer.trainable = False\\n\\nmodel.add(layers.GlobalAveragePooling2D())\\nmodel.add(layers.Flatten())\\nmodel.add(layers.Dense(512, activation='relu'))\\nmodel.add(layers.Dropout(0.5))\\nmodel.add(layers.Dense(512, activation='relu'))\\nmodel.add(layers.Dropout(0.5))\\nmodel.add(layers.Dense(11, activation='softmax'))\\n\\nmodel.summary()\""
            ],
            "application/vnd.google.colaboratory.intrinsic+json": {
              "type": "string"
            }
          },
          "metadata": {},
          "execution_count": 25
        }
      ],
      "source": [
        "'''from tensorflow.keras.applications.vgg16 import VGG16\n",
        "\n",
        "base_model = VGG16(input_shape = (224, 224, 3), # Shape of our images\n",
        "include_top = False, # Leave out the last fully connected layer\n",
        "weights = 'imagenet')\n",
        "model = Sequential()\n",
        "\n",
        "for layer in base_model.layers[:]:\n",
        "    model.add(layer)\n",
        "\n",
        "# Freeze the layers\n",
        "for layer in model.layers:\n",
        "    layer.trainable = False\n",
        "\n",
        "model.add(layers.GlobalAveragePooling2D())\n",
        "model.add(layers.Flatten())\n",
        "model.add(layers.Dense(512, activation='relu'))\n",
        "model.add(layers.Dropout(0.5))\n",
        "model.add(layers.Dense(512, activation='relu'))\n",
        "model.add(layers.Dropout(0.5))\n",
        "model.add(layers.Dense(11, activation='softmax'))\n",
        "\n",
        "model.summary()'''"
      ]
    },
    {
      "cell_type": "code",
      "execution_count": null,
      "metadata": {
        "colab": {
          "base_uri": "https://localhost:8080/",
          "height": 1000
        },
        "id": "yEspTbsMaWQb",
        "outputId": "aa7afaf0-407f-464f-8885-f46789606291"
      },
      "outputs": [
        {
          "output_type": "stream",
          "name": "stdout",
          "text": [
            "Model: \"model\"\n",
            "_________________________________________________________________\n",
            " Layer (type)                Output Shape              Param #   \n",
            "=================================================================\n",
            " input_1 (InputLayer)        [(None, 224, 224, 3)]     0         \n",
            "                                                                 \n",
            " block1_conv1 (Conv2D)       (None, 224, 224, 64)      1792      \n",
            "                                                                 \n",
            " block1_conv2 (Conv2D)       (None, 224, 224, 64)      36928     \n",
            "                                                                 \n",
            " block1_pool (MaxPooling2D)  (None, 112, 112, 64)      0         \n",
            "                                                                 \n",
            " block2_conv1 (Conv2D)       (None, 112, 112, 128)     73856     \n",
            "                                                                 \n",
            " block2_conv2 (Conv2D)       (None, 112, 112, 128)     147584    \n",
            "                                                                 \n",
            " block2_pool (MaxPooling2D)  (None, 56, 56, 128)       0         \n",
            "                                                                 \n",
            " block3_conv1 (Conv2D)       (None, 56, 56, 256)       295168    \n",
            "                                                                 \n",
            " block3_conv2 (Conv2D)       (None, 56, 56, 256)       590080    \n",
            "                                                                 \n",
            " block3_conv3 (Conv2D)       (None, 56, 56, 256)       590080    \n",
            "                                                                 \n",
            " block3_pool (MaxPooling2D)  (None, 28, 28, 256)       0         \n",
            "                                                                 \n",
            " block4_conv1 (Conv2D)       (None, 28, 28, 512)       1180160   \n",
            "                                                                 \n",
            " block4_conv2 (Conv2D)       (None, 28, 28, 512)       2359808   \n",
            "                                                                 \n",
            " block4_conv3 (Conv2D)       (None, 28, 28, 512)       2359808   \n",
            "                                                                 \n",
            " block4_pool (MaxPooling2D)  (None, 14, 14, 512)       0         \n",
            "                                                                 \n",
            " block5_conv1 (Conv2D)       (None, 14, 14, 512)       2359808   \n",
            "                                                                 \n",
            " block5_conv2 (Conv2D)       (None, 14, 14, 512)       2359808   \n",
            "                                                                 \n",
            " block5_conv3 (Conv2D)       (None, 14, 14, 512)       2359808   \n",
            "                                                                 \n",
            " block5_pool (MaxPooling2D)  (None, 7, 7, 512)         0         \n",
            "                                                                 \n",
            " flatten (Flatten)           (None, 25088)             0         \n",
            "                                                                 \n",
            " dense (Dense)               (None, 512)               12845568  \n",
            "                                                                 \n",
            " dropout (Dropout)           (None, 512)               0         \n",
            "                                                                 \n",
            " dense_1 (Dense)             (None, 512)               262656    \n",
            "                                                                 \n",
            " dropout_1 (Dropout)         (None, 512)               0         \n",
            "                                                                 \n",
            " dense_2 (Dense)             (None, 11)                5643      \n",
            "                                                                 \n",
            "=================================================================\n",
            "Total params: 27,828,555\n",
            "Trainable params: 13,113,867\n",
            "Non-trainable params: 14,714,688\n",
            "_________________________________________________________________\n"
          ]
        },
        {
          "output_type": "execute_result",
          "data": {
            "text/plain": [
              "Text(0.5, 1.0, 'Architecture of CNN')"
            ]
          },
          "metadata": {},
          "execution_count": 26
        },
        {
          "output_type": "display_data",
          "data": {
            "text/plain": [
              "<Figure size 432x288 with 1 Axes>"
            ],
            "image/png": "[encoded data removed]"
          },
          "metadata": {
            "needs_background": "light"
          }
        }
      ],
      "source": [
        "model1.summary()\n"
      ]
    },
    {
      "cell_type": "markdown",
      "metadata": {
        "id": "UTMXwphXgSU1"
      },
      "source": [
        "model.compile(optimizer=tf.keras.optimizers.Adam(learning_rate=0.0001,use_ema=True,ema_momentum=0.9), loss = 'categorical_crossentropy',metrics = ['acc'])"
      ]
    },
    {
      "cell_type": "code",
      "execution_count": null,
      "metadata": {
        "id": "OM29KWvgJmFJ"
      },
      "outputs": [],
      "source": [
        "model1.compile(optimizer=tf.keras.optimizers.Adam(learning_rate=0.0001), loss = 'categorical_crossentropy',metrics = ['acc'])"
      ]
    },
    {
      "cell_type": "code",
      "execution_count": null,
      "metadata": {
        "id": "vzCXnLCgsjeH"
      },
      "outputs": [],
      "source": [
        "model2.compile(optimizer=tf.keras.optimizers.Adam(learning_rate=0.0001), loss = 'categorical_crossentropy',metrics = ['acc'])"
      ]
    },
    {
      "cell_type": "code",
      "execution_count": null,
      "metadata": {
        "id": "n0RlHjE6sk8p"
      },
      "outputs": [],
      "source": [
        "model3.compile(optimizer=tf.keras.optimizers.Adam(learning_rate=0.0001), loss = 'categorical_crossentropy',metrics = ['acc'])"
      ]
    },
    {
      "cell_type": "code",
      "execution_count": null,
      "metadata": {
        "id": "cvv0sLnJJmFK"
      },
      "outputs": [],
      "source": [
        "## fiting the model using train_images_1 & val_images_1"
      ]
    },
    {
      "cell_type": "markdown",
      "metadata": {
        "id": "dpB0y4-VCDZ9"
      },
      "source": [
        "# New Section"
      ]
    },
    {
      "cell_type": "markdown",
      "metadata": {
        "id": "1bzZVnzJCD8W"
      },
      "source": [
        "# New Section"
      ]
    },
    {
      "cell_type": "code",
      "execution_count": null,
      "metadata": {
        "colab": {
          "base_uri": "https://localhost:8080/"
        },
        "id": "fUkRaPSFJmFK",
        "outputId": "8a58c264-3029-4448-c5c4-040edf9ad154"
      },
      "outputs": [
        {
          "output_type": "stream",
          "name": "stdout",
          "text": [
            "Epoch 1/40\n",
            "12/12 [==============================] - 142s 12s/step - loss: 2.6187 - acc: 0.1185 - val_loss: 2.0814 - val_acc: 0.3111\n",
            "Epoch 2/40\n",
            "12/12 [==============================] - 12s 1s/step - loss: 2.2245 - acc: 0.2259 - val_loss: 1.8302 - val_acc: 0.4778\n",
            "Epoch 3/40\n",
            "12/12 [==============================] - 12s 1s/step - loss: 1.8979 - acc: 0.3664 - val_loss: 1.5989 - val_acc: 0.5444\n",
            "Epoch 4/40\n",
            "12/12 [==============================] - 12s 1s/step - loss: 1.5178 - acc: 0.5152 - val_loss: 1.3926 - val_acc: 0.5444\n",
            "Epoch 5/40\n",
            "12/12 [==============================] - 12s 1s/step - loss: 1.4362 - acc: 0.4876 - val_loss: 1.3103 - val_acc: 0.5111\n",
            "Epoch 6/40\n",
            "12/12 [==============================] - 12s 1s/step - loss: 1.3275 - acc: 0.5069 - val_loss: 1.1787 - val_acc: 0.5667\n",
            "Epoch 7/40\n",
            "12/12 [==============================] - 12s 1s/step - loss: 1.1457 - acc: 0.6116 - val_loss: 1.1184 - val_acc: 0.5444\n",
            "Epoch 8/40\n",
            "12/12 [==============================] - 13s 1s/step - loss: 1.1912 - acc: 0.5730 - val_loss: 1.0582 - val_acc: 0.5667\n",
            "Epoch 9/40\n",
            "12/12 [==============================] - 12s 1s/step - loss: 1.1052 - acc: 0.5978 - val_loss: 1.0155 - val_acc: 0.6111\n",
            "Epoch 10/40\n",
            "12/12 [==============================] - 12s 1s/step - loss: 1.0714 - acc: 0.6116 - val_loss: 0.9965 - val_acc: 0.6111\n",
            "Epoch 11/40\n",
            "12/12 [==============================] - 12s 1s/step - loss: 0.9659 - acc: 0.6198 - val_loss: 0.9726 - val_acc: 0.5778\n",
            "Epoch 12/40\n",
            "12/12 [==============================] - 12s 1s/step - loss: 0.9527 - acc: 0.6419 - val_loss: 0.9499 - val_acc: 0.6111\n",
            "Epoch 13/40\n",
            "12/12 [==============================] - 12s 1s/step - loss: 0.8902 - acc: 0.6667 - val_loss: 0.9014 - val_acc: 0.6444\n",
            "Epoch 14/40\n",
            "12/12 [==============================] - 12s 1s/step - loss: 0.8372 - acc: 0.6942 - val_loss: 0.9037 - val_acc: 0.5889\n",
            "Epoch 15/40\n",
            "12/12 [==============================] - 12s 1s/step - loss: 0.8063 - acc: 0.6915 - val_loss: 0.8910 - val_acc: 0.6667\n",
            "Epoch 16/40\n",
            "12/12 [==============================] - 12s 1s/step - loss: 0.8472 - acc: 0.6915 - val_loss: 0.9221 - val_acc: 0.5889\n",
            "Epoch 17/40\n",
            "12/12 [==============================] - 12s 1s/step - loss: 0.8034 - acc: 0.6860 - val_loss: 0.8796 - val_acc: 0.6000\n",
            "Epoch 18/40\n",
            "12/12 [==============================] - 12s 1s/step - loss: 0.7575 - acc: 0.7273 - val_loss: 0.8450 - val_acc: 0.6667\n",
            "Epoch 19/40\n",
            "12/12 [==============================] - 12s 1s/step - loss: 0.7199 - acc: 0.7355 - val_loss: 0.8554 - val_acc: 0.6556\n",
            "Epoch 20/40\n",
            "12/12 [==============================] - 12s 1s/step - loss: 0.6246 - acc: 0.7796 - val_loss: 0.8357 - val_acc: 0.6667\n",
            "Epoch 21/40\n",
            "12/12 [==============================] - 12s 1s/step - loss: 0.6064 - acc: 0.7713 - val_loss: 0.8382 - val_acc: 0.6556\n",
            "Epoch 22/40\n",
            "12/12 [==============================] - 13s 1s/step - loss: 0.5994 - acc: 0.7961 - val_loss: 0.7875 - val_acc: 0.6667\n",
            "Epoch 23/40\n",
            "12/12 [==============================] - 13s 1s/step - loss: 0.5735 - acc: 0.7769 - val_loss: 0.8284 - val_acc: 0.6333\n",
            "Epoch 24/40\n",
            "12/12 [==============================] - 12s 1s/step - loss: 0.5120 - acc: 0.8154 - val_loss: 0.8248 - val_acc: 0.6444\n",
            "Epoch 25/40\n",
            "12/12 [==============================] - 12s 1s/step - loss: 0.5322 - acc: 0.8182 - val_loss: 0.8347 - val_acc: 0.6556\n",
            "Epoch 26/40\n",
            "12/12 [==============================] - 12s 1s/step - loss: 0.5276 - acc: 0.8320 - val_loss: 0.8270 - val_acc: 0.6667\n",
            "Epoch 27/40\n",
            "12/12 [==============================] - 12s 1s/step - loss: 0.5438 - acc: 0.8017 - val_loss: 0.7802 - val_acc: 0.6778\n",
            "Epoch 28/40\n",
            "12/12 [==============================] - 12s 1s/step - loss: 0.4649 - acc: 0.8430 - val_loss: 0.8059 - val_acc: 0.7000\n",
            "Epoch 29/40\n",
            "12/12 [==============================] - 12s 1s/step - loss: 0.4644 - acc: 0.8347 - val_loss: 0.7731 - val_acc: 0.6889\n",
            "Epoch 30/40\n",
            "12/12 [==============================] - 12s 1s/step - loss: 0.4344 - acc: 0.8485 - val_loss: 0.8186 - val_acc: 0.6778\n",
            "Epoch 31/40\n",
            "12/12 [==============================] - 12s 1s/step - loss: 0.4009 - acc: 0.8733 - val_loss: 0.7677 - val_acc: 0.7000\n",
            "Epoch 32/40\n",
            "12/12 [==============================] - 12s 1s/step - loss: 0.3931 - acc: 0.8815 - val_loss: 0.8236 - val_acc: 0.6667\n",
            "Epoch 33/40\n",
            "12/12 [==============================] - 12s 1s/step - loss: 0.3716 - acc: 0.8788 - val_loss: 0.7446 - val_acc: 0.7000\n",
            "Epoch 34/40\n",
            "12/12 [==============================] - 12s 1s/step - loss: 0.3353 - acc: 0.8898 - val_loss: 0.8520 - val_acc: 0.6556\n",
            "Epoch 35/40\n",
            "12/12 [==============================] - 12s 1s/step - loss: 0.3386 - acc: 0.8926 - val_loss: 0.7988 - val_acc: 0.6889\n",
            "Epoch 36/40\n",
            "12/12 [==============================] - 12s 1s/step - loss: 0.3177 - acc: 0.8981 - val_loss: 0.7492 - val_acc: 0.7000\n",
            "Epoch 37/40\n",
            "12/12 [==============================] - 12s 1s/step - loss: 0.3307 - acc: 0.9008 - val_loss: 0.7820 - val_acc: 0.6889\n",
            "Epoch 38/40\n",
            "12/12 [==============================] - 12s 1s/step - loss: 0.2987 - acc: 0.9229 - val_loss: 0.7700 - val_acc: 0.7222\n",
            "Epoch 39/40\n",
            "12/12 [==============================] - 12s 1s/step - loss: 0.2644 - acc: 0.9284 - val_loss: 0.8345 - val_acc: 0.6889\n",
            "Epoch 40/40\n",
            "12/12 [==============================] - 12s 1s/step - loss: 0.2539 - acc: 0.9201 - val_loss: 0.7950 - val_acc: 0.7333\n"
          ]
        }
      ],
      "source": [
        "vgg1 = model1.fit(train_images_1, validation_data = val_images_1, epochs = 40)"
      ]
    },
    {
      "cell_type": "code",
      "execution_count": null,
      "metadata": {
        "colab": {
          "base_uri": "https://localhost:8080/"
        },
        "id": "MmJOW4YLJmFK",
        "outputId": "96963cba-0343-4549-c9a8-81388df40170"
      },
      "outputs": [
        {
          "output_type": "stream",
          "name": "stdout",
          "text": [
            "Epoch 1/40\n",
            "13/13 [==============================] - 79s 6s/step - loss: 1.9760 - acc: 0.3277 - val_loss: 1.5044 - val_acc: 0.5784\n",
            "Epoch 2/40\n",
            "13/13 [==============================] - 8s 592ms/step - loss: 1.6369 - acc: 0.4199 - val_loss: 1.2541 - val_acc: 0.6176\n",
            "Epoch 3/40\n",
            "13/13 [==============================] - 7s 563ms/step - loss: 1.4244 - acc: 0.4757 - val_loss: 1.1280 - val_acc: 0.5980\n",
            "Epoch 4/40\n",
            "13/13 [==============================] - 7s 560ms/step - loss: 1.2351 - acc: 0.5534 - val_loss: 1.0553 - val_acc: 0.6863\n",
            "Epoch 5/40\n",
            "13/13 [==============================] - 7s 554ms/step - loss: 1.1995 - acc: 0.5655 - val_loss: 0.9903 - val_acc: 0.6765\n",
            "Epoch 6/40\n",
            "13/13 [==============================] - 7s 543ms/step - loss: 1.0440 - acc: 0.6311 - val_loss: 0.9736 - val_acc: 0.6569\n",
            "Epoch 7/40\n",
            "13/13 [==============================] - 7s 549ms/step - loss: 1.0368 - acc: 0.6238 - val_loss: 0.8862 - val_acc: 0.7353\n",
            "Epoch 8/40\n",
            "13/13 [==============================] - 7s 551ms/step - loss: 0.8821 - acc: 0.6796 - val_loss: 0.8913 - val_acc: 0.6765\n",
            "Epoch 9/40\n",
            "13/13 [==============================] - 7s 552ms/step - loss: 0.8916 - acc: 0.6626 - val_loss: 0.8331 - val_acc: 0.7157\n",
            "Epoch 10/40\n",
            "13/13 [==============================] - 7s 550ms/step - loss: 0.8743 - acc: 0.6626 - val_loss: 0.8334 - val_acc: 0.7255\n",
            "Epoch 11/40\n",
            "13/13 [==============================] - 7s 560ms/step - loss: 0.8006 - acc: 0.7136 - val_loss: 0.8349 - val_acc: 0.7157\n",
            "Epoch 12/40\n",
            "13/13 [==============================] - 7s 557ms/step - loss: 0.7996 - acc: 0.7209 - val_loss: 0.8121 - val_acc: 0.6765\n",
            "Epoch 13/40\n",
            "13/13 [==============================] - 7s 558ms/step - loss: 0.7215 - acc: 0.7670 - val_loss: 0.7631 - val_acc: 0.7451\n",
            "Epoch 14/40\n",
            "13/13 [==============================] - 7s 552ms/step - loss: 0.6527 - acc: 0.7670 - val_loss: 0.7577 - val_acc: 0.7255\n",
            "Epoch 15/40\n",
            "13/13 [==============================] - 7s 546ms/step - loss: 0.6520 - acc: 0.7840 - val_loss: 0.7449 - val_acc: 0.7157\n",
            "Epoch 16/40\n",
            "13/13 [==============================] - 7s 553ms/step - loss: 0.6208 - acc: 0.7767 - val_loss: 0.7317 - val_acc: 0.7451\n",
            "Epoch 17/40\n",
            "13/13 [==============================] - 7s 548ms/step - loss: 0.5938 - acc: 0.7985 - val_loss: 0.7057 - val_acc: 0.7941\n",
            "Epoch 18/40\n",
            "13/13 [==============================] - 7s 546ms/step - loss: 0.5648 - acc: 0.8180 - val_loss: 0.6992 - val_acc: 0.7549\n",
            "Epoch 19/40\n",
            "13/13 [==============================] - 7s 553ms/step - loss: 0.5109 - acc: 0.8350 - val_loss: 0.6761 - val_acc: 0.7157\n",
            "Epoch 20/40\n",
            "13/13 [==============================] - 7s 550ms/step - loss: 0.5330 - acc: 0.8204 - val_loss: 0.7016 - val_acc: 0.7549\n",
            "Epoch 21/40\n",
            "13/13 [==============================] - 7s 549ms/step - loss: 0.4749 - acc: 0.8277 - val_loss: 0.6905 - val_acc: 0.7451\n",
            "Epoch 22/40\n",
            "13/13 [==============================] - 7s 550ms/step - loss: 0.4486 - acc: 0.8568 - val_loss: 0.6844 - val_acc: 0.7059\n",
            "Epoch 23/40\n",
            "13/13 [==============================] - 7s 551ms/step - loss: 0.4881 - acc: 0.8325 - val_loss: 0.6623 - val_acc: 0.7549\n",
            "Epoch 24/40\n",
            "13/13 [==============================] - 7s 549ms/step - loss: 0.4601 - acc: 0.8544 - val_loss: 0.6722 - val_acc: 0.7255\n",
            "Epoch 25/40\n",
            "13/13 [==============================] - 7s 550ms/step - loss: 0.4366 - acc: 0.8544 - val_loss: 0.6417 - val_acc: 0.7255\n",
            "Epoch 26/40\n",
            "13/13 [==============================] - 7s 550ms/step - loss: 0.3741 - acc: 0.8883 - val_loss: 0.6400 - val_acc: 0.7451\n",
            "Epoch 27/40\n",
            "13/13 [==============================] - 7s 552ms/step - loss: 0.3633 - acc: 0.8883 - val_loss: 0.6028 - val_acc: 0.7353\n",
            "Epoch 28/40\n",
            "13/13 [==============================] - 7s 550ms/step - loss: 0.3766 - acc: 0.8786 - val_loss: 0.5959 - val_acc: 0.7843\n",
            "Epoch 29/40\n",
            "13/13 [==============================] - 8s 626ms/step - loss: 0.3159 - acc: 0.9175 - val_loss: 0.6175 - val_acc: 0.7451\n",
            "Epoch 30/40\n",
            "13/13 [==============================] - 7s 556ms/step - loss: 0.3036 - acc: 0.9296 - val_loss: 0.5682 - val_acc: 0.7647\n",
            "Epoch 31/40\n",
            "13/13 [==============================] - 7s 546ms/step - loss: 0.3104 - acc: 0.9005 - val_loss: 0.5998 - val_acc: 0.7647\n",
            "Epoch 32/40\n",
            "13/13 [==============================] - 7s 542ms/step - loss: 0.2884 - acc: 0.9248 - val_loss: 0.6013 - val_acc: 0.8431\n",
            "Epoch 33/40\n",
            "13/13 [==============================] - 8s 641ms/step - loss: 0.2756 - acc: 0.9223 - val_loss: 0.5806 - val_acc: 0.7549\n",
            "Epoch 34/40\n",
            "13/13 [==============================] - 7s 550ms/step - loss: 0.2579 - acc: 0.9417 - val_loss: 0.6447 - val_acc: 0.7549\n",
            "Epoch 35/40\n",
            "13/13 [==============================] - 7s 549ms/step - loss: 0.2656 - acc: 0.9102 - val_loss: 0.5825 - val_acc: 0.7745\n",
            "Epoch 36/40\n",
            "13/13 [==============================] - 7s 546ms/step - loss: 0.2525 - acc: 0.9345 - val_loss: 0.5881 - val_acc: 0.7745\n",
            "Epoch 37/40\n",
            "13/13 [==============================] - 7s 546ms/step - loss: 0.2130 - acc: 0.9442 - val_loss: 0.5830 - val_acc: 0.7647\n",
            "Epoch 38/40\n",
            "13/13 [==============================] - 7s 546ms/step - loss: 0.2054 - acc: 0.9539 - val_loss: 0.5957 - val_acc: 0.7647\n",
            "Epoch 39/40\n",
            "13/13 [==============================] - 7s 557ms/step - loss: 0.2073 - acc: 0.9539 - val_loss: 0.5443 - val_acc: 0.7941\n",
            "Epoch 40/40\n",
            "13/13 [==============================] - 7s 548ms/step - loss: 0.1834 - acc: 0.9660 - val_loss: 0.5933 - val_acc: 0.7451\n"
          ]
        }
      ],
      "source": [
        "vgg2 = model2.fit(train_images_2, validation_data = val_images_2, epochs = 40)"
      ]
    },
    {
      "cell_type": "code",
      "execution_count": null,
      "metadata": {
        "colab": {
          "base_uri": "https://localhost:8080/"
        },
        "id": "vSwqFdU5JmFL",
        "outputId": "73c23eef-c49a-4f0e-e6a1-5545b260def7"
      },
      "outputs": [
        {
          "output_type": "stream",
          "name": "stdout",
          "text": [
            "Epoch 1/40\n",
            "34/34 [==============================] - 406s 12s/step - loss: 2.1291 - acc: 0.2880 - val_loss: 1.5275 - val_acc: 0.4179\n",
            "Epoch 2/40\n",
            "34/34 [==============================] - 7s 190ms/step - loss: 1.5886 - acc: 0.3914 - val_loss: 1.2785 - val_acc: 0.5224\n",
            "Epoch 3/40\n",
            "34/34 [==============================] - 7s 191ms/step - loss: 1.3978 - acc: 0.4697 - val_loss: 1.1740 - val_acc: 0.5784\n",
            "Epoch 4/40\n",
            "34/34 [==============================] - 7s 192ms/step - loss: 1.2631 - acc: 0.5322 - val_loss: 1.0591 - val_acc: 0.6157\n",
            "Epoch 5/40\n",
            "34/34 [==============================] - 7s 194ms/step - loss: 1.1537 - acc: 0.5573 - val_loss: 0.9674 - val_acc: 0.6940\n",
            "Epoch 6/40\n",
            "34/34 [==============================] - 7s 195ms/step - loss: 1.0523 - acc: 0.5778 - val_loss: 0.9163 - val_acc: 0.7127\n",
            "Epoch 7/40\n",
            "34/34 [==============================] - 7s 196ms/step - loss: 0.9656 - acc: 0.6505 - val_loss: 0.8569 - val_acc: 0.7276\n",
            "Epoch 8/40\n",
            "34/34 [==============================] - 7s 197ms/step - loss: 0.9141 - acc: 0.6403 - val_loss: 0.8219 - val_acc: 0.7425\n",
            "Epoch 9/40\n",
            "34/34 [==============================] - 7s 199ms/step - loss: 0.8136 - acc: 0.6990 - val_loss: 0.7876 - val_acc: 0.7276\n",
            "Epoch 10/40\n",
            "34/34 [==============================] - 7s 200ms/step - loss: 0.8256 - acc: 0.7102 - val_loss: 0.7196 - val_acc: 0.7836\n",
            "Epoch 11/40\n",
            "34/34 [==============================] - 7s 201ms/step - loss: 0.7719 - acc: 0.7111 - val_loss: 0.6826 - val_acc: 0.7724\n",
            "Epoch 12/40\n",
            "34/34 [==============================] - 7s 201ms/step - loss: 0.6896 - acc: 0.7540 - val_loss: 0.6816 - val_acc: 0.7612\n",
            "Epoch 13/40\n",
            "34/34 [==============================] - 7s 203ms/step - loss: 0.6586 - acc: 0.7735 - val_loss: 0.6511 - val_acc: 0.7761\n",
            "Epoch 14/40\n",
            "34/34 [==============================] - 7s 204ms/step - loss: 0.6201 - acc: 0.7745 - val_loss: 0.5967 - val_acc: 0.7910\n",
            "Epoch 15/40\n",
            "34/34 [==============================] - 7s 205ms/step - loss: 0.5738 - acc: 0.7987 - val_loss: 0.5778 - val_acc: 0.8172\n",
            "Epoch 16/40\n",
            "34/34 [==============================] - 7s 207ms/step - loss: 0.5559 - acc: 0.7996 - val_loss: 0.5857 - val_acc: 0.7910\n",
            "Epoch 17/40\n",
            "34/34 [==============================] - 7s 207ms/step - loss: 0.4998 - acc: 0.8388 - val_loss: 0.5771 - val_acc: 0.7985\n",
            "Epoch 18/40\n",
            "34/34 [==============================] - 7s 207ms/step - loss: 0.4645 - acc: 0.8397 - val_loss: 0.5351 - val_acc: 0.8134\n",
            "Epoch 19/40\n",
            "34/34 [==============================] - 7s 206ms/step - loss: 0.4530 - acc: 0.8518 - val_loss: 0.5137 - val_acc: 0.8209\n",
            "Epoch 20/40\n",
            "34/34 [==============================] - 7s 205ms/step - loss: 0.3871 - acc: 0.8760 - val_loss: 0.5292 - val_acc: 0.8060\n",
            "Epoch 21/40\n",
            "34/34 [==============================] - 7s 205ms/step - loss: 0.3794 - acc: 0.8658 - val_loss: 0.5357 - val_acc: 0.8209\n",
            "Epoch 22/40\n",
            "34/34 [==============================] - 7s 203ms/step - loss: 0.3642 - acc: 0.8854 - val_loss: 0.4938 - val_acc: 0.8134\n",
            "Epoch 23/40\n",
            "34/34 [==============================] - 7s 205ms/step - loss: 0.3542 - acc: 0.8882 - val_loss: 0.4968 - val_acc: 0.8321\n",
            "Epoch 24/40\n",
            "34/34 [==============================] - 7s 206ms/step - loss: 0.3384 - acc: 0.9012 - val_loss: 0.4824 - val_acc: 0.8172\n",
            "Epoch 25/40\n",
            "34/34 [==============================] - 7s 204ms/step - loss: 0.3003 - acc: 0.9021 - val_loss: 0.4737 - val_acc: 0.8396\n",
            "Epoch 26/40\n",
            "34/34 [==============================] - 7s 205ms/step - loss: 0.3163 - acc: 0.8956 - val_loss: 0.4613 - val_acc: 0.8321\n",
            "Epoch 27/40\n",
            "34/34 [==============================] - 7s 205ms/step - loss: 0.2583 - acc: 0.9292 - val_loss: 0.4694 - val_acc: 0.8507\n",
            "Epoch 28/40\n",
            "34/34 [==============================] - 7s 206ms/step - loss: 0.2523 - acc: 0.9208 - val_loss: 0.4749 - val_acc: 0.8433\n",
            "Epoch 29/40\n",
            "34/34 [==============================] - 7s 205ms/step - loss: 0.2405 - acc: 0.9273 - val_loss: 0.4844 - val_acc: 0.8358\n",
            "Epoch 30/40\n",
            "34/34 [==============================] - 7s 206ms/step - loss: 0.2300 - acc: 0.9348 - val_loss: 0.4626 - val_acc: 0.8321\n",
            "Epoch 31/40\n",
            "34/34 [==============================] - 7s 205ms/step - loss: 0.2162 - acc: 0.9301 - val_loss: 0.4992 - val_acc: 0.8134\n",
            "Epoch 32/40\n",
            "34/34 [==============================] - 7s 205ms/step - loss: 0.2361 - acc: 0.9236 - val_loss: 0.4708 - val_acc: 0.8470\n",
            "Epoch 33/40\n",
            "34/34 [==============================] - 7s 205ms/step - loss: 0.2174 - acc: 0.9404 - val_loss: 0.4595 - val_acc: 0.8470\n",
            "Epoch 34/40\n",
            "34/34 [==============================] - 7s 205ms/step - loss: 0.1820 - acc: 0.9487 - val_loss: 0.4335 - val_acc: 0.8806\n",
            "Epoch 35/40\n",
            "34/34 [==============================] - 7s 205ms/step - loss: 0.1908 - acc: 0.9413 - val_loss: 0.4498 - val_acc: 0.8507\n",
            "Epoch 36/40\n",
            "34/34 [==============================] - 7s 204ms/step - loss: 0.1723 - acc: 0.9515 - val_loss: 0.4471 - val_acc: 0.8396\n",
            "Epoch 37/40\n",
            "34/34 [==============================] - 7s 205ms/step - loss: 0.1751 - acc: 0.9459 - val_loss: 0.4645 - val_acc: 0.8284\n",
            "Epoch 38/40\n",
            "34/34 [==============================] - 7s 206ms/step - loss: 0.1694 - acc: 0.9459 - val_loss: 0.4869 - val_acc: 0.8358\n",
            "Epoch 39/40\n",
            "34/34 [==============================] - 7s 206ms/step - loss: 0.1733 - acc: 0.9506 - val_loss: 0.4677 - val_acc: 0.8284\n",
            "Epoch 40/40\n",
            "34/34 [==============================] - 7s 205ms/step - loss: 0.1440 - acc: 0.9637 - val_loss: 0.4230 - val_acc: 0.8731\n"
          ]
        }
      ],
      "source": [
        "vgg3 = model3.fit(train_images_3, validation_data = val_images_3, epochs = 40)"
      ]
    },
    {
      "cell_type": "code",
      "execution_count": null,
      "metadata": {
        "colab": {
          "base_uri": "https://localhost:8080/"
        },
        "id": "FD6-x5dAJmFL",
        "outputId": "673849af-9419-451e-8fec-93eefe83c123",
        "scrolled": true
      },
      "outputs": [
        {
          "name": "stdout",
          "output_type": "stream",
          "text": [
            "Model: \"model_3\"\n",
            "_________________________________________________________________\n",
            " Layer (type)                Output Shape              Param #   \n",
            "=================================================================\n",
            " input_5 (InputLayer)        [(None, 224, 224, 3)]     0         \n",
            "                                                                 \n",
            " block1_conv1 (Conv2D)       (None, 224, 224, 64)      1792      \n",
            "                                                                 \n",
            " block1_conv2 (Conv2D)       (None, 224, 224, 64)      36928     \n",
            "                                                                 \n",
            " block1_pool (MaxPooling2D)  (None, 112, 112, 64)      0         \n",
            "                                                                 \n",
            " block2_conv1 (Conv2D)       (None, 112, 112, 128)     73856     \n",
            "                                                                 \n",
            " block2_conv2 (Conv2D)       (None, 112, 112, 128)     147584    \n",
            "                                                                 \n",
            " block2_pool (MaxPooling2D)  (None, 56, 56, 128)       0         \n",
            "                                                                 \n",
            " block3_conv1 (Conv2D)       (None, 56, 56, 256)       295168    \n",
            "                                                                 \n",
            " block3_conv2 (Conv2D)       (None, 56, 56, 256)       590080    \n",
            "                                                                 \n",
            " block3_conv3 (Conv2D)       (None, 56, 56, 256)       590080    \n",
            "                                                                 \n",
            " block3_pool (MaxPooling2D)  (None, 28, 28, 256)       0         \n",
            "                                                                 \n",
            " block4_conv1 (Conv2D)       (None, 28, 28, 512)       1180160   \n",
            "                                                                 \n",
            " block4_conv2 (Conv2D)       (None, 28, 28, 512)       2359808   \n",
            "                                                                 \n",
            " block4_conv3 (Conv2D)       (None, 28, 28, 512)       2359808   \n",
            "                                                                 \n",
            " block4_pool (MaxPooling2D)  (None, 14, 14, 512)       0         \n",
            "                                                                 \n",
            " block5_conv1 (Conv2D)       (None, 14, 14, 512)       2359808   \n",
            "                                                                 \n",
            " block5_conv2 (Conv2D)       (None, 14, 14, 512)       2359808   \n",
            "                                                                 \n",
            " block5_conv3 (Conv2D)       (None, 14, 14, 512)       2359808   \n",
            "                                                                 \n",
            " block5_pool (MaxPooling2D)  (None, 7, 7, 512)         0         \n",
            "                                                                 \n",
            " flatten_3 (Flatten)         (None, 25088)             0         \n",
            "                                                                 \n",
            " dense_9 (Dense)             (None, 512)               12845568  \n",
            "                                                                 \n",
            " dropout_6 (Dropout)         (None, 512)               0         \n",
            "                                                                 \n",
            " dense_10 (Dense)            (None, 512)               262656    \n",
            "                                                                 \n",
            " dropout_7 (Dropout)         (None, 512)               0         \n",
            "                                                                 \n",
            " dense_11 (Dense)            (None, 11)                5643      \n",
            "                                                                 \n",
            "=================================================================\n",
            "Total params: 27,828,555\n",
            "Trainable params: 13,113,867\n",
            "Non-trainable params: 14,714,688\n",
            "_________________________________________________________________\n"
          ]
        }
      ],
      "source": [
        "model2.summary()"
      ]
    },
    {
      "cell_type": "code",
      "execution_count": null,
      "metadata": {
        "id": "nwWhz3dqrGWb"
      },
      "outputs": [],
      "source": [
        "model1.evaluate(test_images_1,batch_size=32)"
      ]
    },
    {
      "cell_type": "code",
      "execution_count": null,
      "metadata": {
        "colab": {
          "base_uri": "https://localhost:8080/"
        },
        "id": "qTpwUH6DJmFL",
        "outputId": "e969010a-531d-4b9c-ab5e-d8250bb9d5f3"
      },
      "outputs": [
        {
          "output_type": "stream",
          "name": "stdout",
          "text": [
            "7/7 [==============================] - 54s 9s/step - loss: 0.5357 - acc: 0.8103\n",
            "7/7 [==============================] - 64s 11s/step - loss: 4.1873 - acc: 0.1086\n",
            "18/18 [==============================] - 169s 10s/step - loss: 4.1769 - acc: 0.2178\n",
            "Test Accuracy: 81.03%\n",
            "Test Accuracy: 10.86%\n",
            "Test Accuracy: 21.78%\n"
          ]
        }
      ],
      "source": [
        "results_1_1 = model1.evaluate(test_images_1,batch_size=32)\n",
        "results_1_2 = model1.evaluate(test_images_2,batch_size=32)\n",
        "results_1_3 = model1.evaluate(test_images_3,batch_size=32)\n",
        "\n",
        "print(\"Test Accuracy: {:.2f}%\".format(results_1_1[1] * 100))\n",
        "print(\"Test Accuracy: {:.2f}%\".format(results_1_2[1] * 100))\n",
        "print(\"Test Accuracy: {:.2f}%\".format(results_1_3[1] * 100))"
      ]
    },
    {
      "cell_type": "code",
      "source": [
        "import numpy\n",
        "from sklearn import metrics"
      ],
      "metadata": {
        "id": "hR3wvATPlppV"
      },
      "execution_count": null,
      "outputs": []
    },
    {
      "cell_type": "markdown",
      "source": [
        "test_steps_per_epoch = numpy.math.ceil(test_images_3.samples / test_images_3.batch_size)\n",
        "\n",
        "predictions = model1.predict_generator(test_images_3, steps=test_steps_per_epoch)\n",
        "# Get most likely class\n",
        "predicted_classes = numpy.argmax(predictions, axis=1)\n",
        "\n",
        "true_classes = test_images_3.classes\n",
        "class_labels = list(test_images_3.class_indices.keys())\n",
        "report = metrics.classification_report(true_classes, predicted_classes, target_names=class_labels)\n",
        "print('Classification_report when Test_images_3 is tested on model-1')\n",
        "print(report)    "
      ],
      "metadata": {
        "id": "YCdIeC1SllBE"
      }
    },
    {
      "cell_type": "code",
      "execution_count": null,
      "metadata": {
        "colab": {
          "base_uri": "https://localhost:8080/"
        },
        "id": "jpdIiLW6JmFM",
        "outputId": "b5deddf0-3a55-4d52-d42b-f02a1c9aed48"
      },
      "outputs": [
        {
          "output_type": "execute_result",
          "data": {
            "text/plain": [
              "([0.5356640815734863, 0.8102564215660095],\n",
              " [4.187345504760742, 0.1085972860455513],\n",
              " [4.176936626434326, 0.2177700400352478])"
            ]
          },
          "metadata": {},
          "execution_count": 43
        }
      ],
      "source": [
        "results_1_1,results_1_2,results_1_3"
      ]
    },
    {
      "cell_type": "code",
      "execution_count": null,
      "metadata": {
        "colab": {
          "base_uri": "https://localhost:8080/"
        },
        "id": "1hIEYtgYJmFM",
        "outputId": "f6db2866-50b7-475f-db67-af5ba3811861"
      },
      "outputs": [
        {
          "output_type": "stream",
          "name": "stdout",
          "text": [
            "7/7 [==============================] - 5s 717ms/step - loss: 1.5407 - acc: 0.5744\n",
            "7/7 [==============================] - 3s 428ms/step - loss: 0.5392 - acc: 0.8235\n",
            "18/18 [==============================] - 3s 161ms/step - loss: 3.8547 - acc: 0.2317\n",
            "Test Accuracy: 57.44%\n",
            "Test Accuracy: 82.35%\n",
            "Test Accuracy: 23.17%\n"
          ]
        }
      ],
      "source": [
        "results_2_1 = model1.evaluate(test_images_1,batch_size=32)\n",
        "results_2_2 = model1.evaluate(test_images_2,batch_size=32)\n",
        "results_2_3 = model1.evaluate(test_images_3,batch_size=32)\n",
        "\n",
        "print(\"Test Accuracy: {:.2f}%\".format(results_2_1[1] * 100))\n",
        "print(\"Test Accuracy: {:.2f}%\".format(results_2_2[1] * 100))\n",
        "print(\"Test Accuracy: {:.2f}%\".format(results_2_3[1] * 100))"
      ]
    },
    {
      "cell_type": "code",
      "execution_count": null,
      "metadata": {
        "colab": {
          "base_uri": "https://localhost:8080/"
        },
        "id": "QTxzXq_xLkF_",
        "outputId": "53d1786e-b0b1-4792-fac4-94ff53866777"
      },
      "outputs": [
        {
          "name": "stdout",
          "output_type": "stream",
          "text": [
            "7/7 [==============================] - 4s 454ms/step\n"
          ]
        },
        {
          "data": {
            "text/plain": [
              "numpy.ndarray"
            ]
          },
          "execution_count": 50,
          "metadata": {},
          "output_type": "execute_result"
        }
      ],
      "source": [
        "y=model2.predict(test_images_2)\n",
        "type(y)"
      ]
    },
    {
      "cell_type": "code",
      "execution_count": null,
      "metadata": {
        "id": "g_tDNb5dL7z4"
      },
      "outputs": [],
      "source": [
        "from sklearn import metrics"
      ]
    },
    {
      "cell_type": "code",
      "execution_count": null,
      "metadata": {
        "id": "KaiFcIkdMEcN",
        "outputId": "d44f6dfd-ab05-40b3-a63f-ec1638c2e1c7",
        "colab": {
          "base_uri": "https://localhost:8080/",
          "height": 171
        }
      },
      "outputs": [
        {
          "output_type": "error",
          "ename": "NameError",
          "evalue": "ignored",
          "traceback": [
            "\u001b[0;31m---------------------------------------------------------------------------\u001b[0m",
            "\u001b[0;31mNameError\u001b[0m                                 Traceback (most recent call last)",
            "\u001b[0;32m<ipython-input-1-c351579dacbc>\u001b[0m in \u001b[0;36m<module>\u001b[0;34m\u001b[0m\n\u001b[0;32m----> 1\u001b[0;31m \u001b[0mmetrics\u001b[0m\u001b[0;34m.\u001b[0m\u001b[0mconfusion_matrix\u001b[0m\u001b[0;34m(\u001b[0m\u001b[0mtf\u001b[0m\u001b[0;34m.\u001b[0m\u001b[0mkeras\u001b[0m\u001b[0;34m.\u001b[0m\u001b[0mutils\u001b[0m\u001b[0;34m.\u001b[0m\u001b[0mimg_to_array\u001b[0m\u001b[0;34m(\u001b[0m\u001b[0mtest_images_1\u001b[0m\u001b[0;34m,\u001b[0m \u001b[0mdata_format\u001b[0m\u001b[0;34m=\u001b[0m\u001b[0;32mNone\u001b[0m\u001b[0;34m,\u001b[0m \u001b[0mdtype\u001b[0m\u001b[0;34m=\u001b[0m\u001b[0;32mNone\u001b[0m\u001b[0;34m)\u001b[0m\u001b[0;34m.\u001b[0m\u001b[0margmax\u001b[0m\u001b[0;34m(\u001b[0m\u001b[0maxis\u001b[0m\u001b[0;34m=\u001b[0m\u001b[0;36m1\u001b[0m\u001b[0;34m)\u001b[0m\u001b[0;34m,\u001b[0m\u001b[0my\u001b[0m\u001b[0;34m.\u001b[0m\u001b[0margmax\u001b[0m\u001b[0;34m(\u001b[0m\u001b[0maxis\u001b[0m\u001b[0;34m=\u001b[0m\u001b[0;36m1\u001b[0m\u001b[0;34m)\u001b[0m\u001b[0;34m)\u001b[0m\u001b[0;34m\u001b[0m\u001b[0;34m\u001b[0m\u001b[0m\n\u001b[0m",
            "\u001b[0;31mNameError\u001b[0m: name 'metrics' is not defined"
          ]
        }
      ],
      "source": [
        "metrics.confusion_matrix(tf.keras.utils.img_to_array(test_images_1, data_format=None, dtype=None).argmax(axis=1),y.argmax(axis=1))"
      ]
    },
    {
      "cell_type": "code",
      "execution_count": null,
      "metadata": {
        "id": "kzoJS7GvMEd7"
      },
      "outputs": [],
      "source": []
    },
    {
      "cell_type": "code",
      "execution_count": null,
      "metadata": {
        "id": "Wu3bs20qMEiP"
      },
      "outputs": [],
      "source": []
    },
    {
      "cell_type": "code",
      "execution_count": null,
      "metadata": {
        "colab": {
          "base_uri": "https://localhost:8080/"
        },
        "id": "3vqtRzUdJmFM",
        "outputId": "87c42f53-f17e-42d9-e749-e2e7e50cf31b"
      },
      "outputs": [
        {
          "output_type": "stream",
          "name": "stdout",
          "text": [
            "7/7 [==============================] - 5s 693ms/step - loss: 1.5772 - acc: 0.4923\n",
            "7/7 [==============================] - 3s 416ms/step - loss: 2.3017 - acc: 0.5249\n",
            "18/18 [==============================] - 3s 159ms/step - loss: 0.5105 - acc: 0.8258\n",
            "Test Accuracy: 49.23%\n",
            "Test Accuracy: 52.49%\n",
            "Test Accuracy: 82.58%\n"
          ]
        }
      ],
      "source": [
        "\n",
        "results_3_1 = model3.evaluate(test_images_1)\n",
        "results_3_2 = model3.evaluate(test_images_2)\n",
        "results_3_3 = model3.evaluate(test_images_3)\n",
        "\n",
        "print(\"Test Accuracy: {:.2f}%\".format(results_3_1[1] * 100))\n",
        "print(\"Test Accuracy: {:.2f}%\".format(results_3_2[1] * 100))\n",
        "print(\"Test Accuracy: {:.2f}%\".format(results_3_3[1] * 100))"
      ]
    },
    {
      "cell_type": "code",
      "execution_count": null,
      "metadata": {
        "id": "Sswr5Nsygohl"
      },
      "outputs": [],
      "source": []
    },
    {
      "cell_type": "code",
      "execution_count": null,
      "metadata": {
        "id": "EuN-1JG2gpjM"
      },
      "outputs": [],
      "source": [
        "col_names=['77GHZ','Xethru','24GHZ']\n",
        "#col_vals=[],[train_df_2.shape[0],test_df_2.shape[0]],[train_df_3.shape[0],test_df_3.shape[0]]]\n",
        "d={'77GHZ':[train_df_1.shape[0],test_df_1.shape[0]],\n",
        "   'Xethru':[train_df_2.shape[0],test_df_2.shape[0]],\n",
        "   '24GHZ':[train_df_3.shape[0],test_df_3.shape[0]]\n",
        "}\n",
        "images_summary = pd.DataFrame(d)\n",
        "images_summary.index=['77GHZ','Xethru','24GHZ']\n",
        "images_summary"
      ]
    },
    {
      "cell_type": "code",
      "source": [
        "col_names=['77GHZ','Xethru','24GHZ']\n",
        "#col_vals=[],[train_df_2.shape[0],test_df_2.shape[0]],[train_df_3.shape[0],test_df_3.shape[0]]]\n",
        "d={'Model-1':[results_1_1[1] * 100,results_1_2[1] * 100,results_1_3[1] * 100],\n",
        "   'Model-2':[results_2_1[1] * 100,results_2_2[1] * 100,results_2_3[1] * 100],\n",
        "   'Model-3':[results_3_1[1] * 100,results_3_2[1] * 100,results_3_3[1] * 100]\n",
        "}\n",
        "images_summary = pd.DataFrame(d)\n",
        "images_summary.index=['77GHZ','Xethru','24GHZ']\n",
        "images_summary=images_summary.style.set_caption('Testing Accuracy')\n",
        "images_summary"
      ],
      "metadata": {
        "colab": {
          "base_uri": "https://localhost:8080/",
          "height": 161
        },
        "id": "dfiOcwTww3WK",
        "outputId": "6f8a1450-ddf7-44bf-a23f-69fea2b94220"
      },
      "execution_count": null,
      "outputs": [
        {
          "output_type": "execute_result",
          "data": {
            "text/plain": [
              "<pandas.io.formats.style.Styler at 0x7fbd843c9580>"
            ],
            "text/html": [
              "<style type=\"text/css\">\n",
              "</style>\n",
              "<table id=\"T_58cc5_\" class=\"dataframe\">\n",
              "  <caption>Testing Accuracy</caption>\n",
              "  <thead>\n",
              "    <tr>\n",
              "      <th class=\"blank level0\" >&nbsp;</th>\n",
              "      <th class=\"col_heading level0 col0\" >Model-1</th>\n",
              "      <th class=\"col_heading level0 col1\" >Model-2</th>\n",
              "      <th class=\"col_heading level0 col2\" >Model-3</th>\n",
              "    </tr>\n",
              "  </thead>\n",
              "  <tbody>\n",
              "    <tr>\n",
              "      <th id=\"T_58cc5_level0_row0\" class=\"row_heading level0 row0\" >77GHZ</th>\n",
              "      <td id=\"T_58cc5_row0_col0\" class=\"data row0 col0\" >81.025642</td>\n",
              "      <td id=\"T_58cc5_row0_col1\" class=\"data row0 col1\" >57.435900</td>\n",
              "      <td id=\"T_58cc5_row0_col2\" class=\"data row0 col2\" >49.230769</td>\n",
              "    </tr>\n",
              "    <tr>\n",
              "      <th id=\"T_58cc5_level0_row1\" class=\"row_heading level0 row1\" >Xethru</th>\n",
              "      <td id=\"T_58cc5_row1_col0\" class=\"data row1 col0\" >10.859729</td>\n",
              "      <td id=\"T_58cc5_row1_col1\" class=\"data row1 col1\" >82.352942</td>\n",
              "      <td id=\"T_58cc5_row1_col2\" class=\"data row1 col2\" >52.488691</td>\n",
              "    </tr>\n",
              "    <tr>\n",
              "      <th id=\"T_58cc5_level0_row2\" class=\"row_heading level0 row2\" >24GHZ</th>\n",
              "      <td id=\"T_58cc5_row2_col0\" class=\"data row2 col0\" >21.777004</td>\n",
              "      <td id=\"T_58cc5_row2_col1\" class=\"data row2 col1\" >23.170732</td>\n",
              "      <td id=\"T_58cc5_row2_col2\" class=\"data row2 col2\" >82.578397</td>\n",
              "    </tr>\n",
              "  </tbody>\n",
              "</table>\n"
            ]
          },
          "metadata": {},
          "execution_count": 78
        }
      ]
    },
    {
      "cell_type": "code",
      "source": [
        "results_3_1"
      ],
      "metadata": {
        "colab": {
          "base_uri": "https://localhost:8080/"
        },
        "id": "6NwneDu2x3Hk",
        "outputId": "44de10a2-6cab-4a62-b299-78c820464192"
      },
      "execution_count": null,
      "outputs": [
        {
          "output_type": "execute_result",
          "data": {
            "text/plain": [
              "[1.5771629810333252, 0.4923076927661896]"
            ]
          },
          "metadata": {},
          "execution_count": 74
        }
      ]
    },
    {
      "cell_type": "code",
      "source": [],
      "metadata": {
        "id": "gZidjdPMsxv1"
      },
      "execution_count": null,
      "outputs": []
    },
    {
      "cell_type": "markdown",
      "source": [
        "# Code for classification report"
      ],
      "metadata": {
        "id": "lUjJO2OIs0YB"
      }
    },
    {
      "cell_type": "code",
      "source": [
        "test_steps_per_epoch = numpy.math.ceil(test_images_3.samples / test_images_3.batch_size)\n",
        "\n",
        "predictions = model3.predict_generator(test_images_3, steps=test_steps_per_epoch)\n",
        "# Get most likely class\n",
        "predicted_classes = numpy.argmax(predictions, axis=1)\n",
        "\n",
        "true_classes = test_images_3.classes\n",
        "class_labels = list(test_images_3.class_indices.keys())\n",
        "report = metrics.classification_report(true_classes, predicted_classes, target_names=class_labels)\n",
        "print('Classification_report when Test_images_3 is tested on model-3')\n",
        "print(report)    "
      ],
      "metadata": {
        "colab": {
          "base_uri": "https://localhost:8080/"
        },
        "id": "ZCVC8VkEqzDR",
        "outputId": "3cad8d01-970c-4eb0-e0c1-ef6ea3700f73"
      },
      "execution_count": null,
      "outputs": [
        {
          "output_type": "stream",
          "name": "stderr",
          "text": [
            "<ipython-input-70-c379038ffa4b>:3: UserWarning: `Model.predict_generator` is deprecated and will be removed in a future version. Please use `Model.predict`, which supports generators.\n",
            "  predictions = model3.predict_generator(test_images_3, steps=test_steps_per_epoch)\n"
          ]
        },
        {
          "output_type": "stream",
          "name": "stdout",
          "text": [
            "Classification_report when Test_images_3 is tested on model-3\n",
            "                                 precision    recall  f1-score   support\n",
            "\n",
            "       05_Walking_towards_radar       0.96      0.88      0.92        26\n",
            "     06_walking_away_from_Radar       1.00      1.00      1.00        63\n",
            "        07_picking_up_an_object       0.72      0.58      0.64        65\n",
            "                     08_bending       0.76      0.69      0.73        59\n",
            "                     09_sitting       0.89      0.94      0.92        54\n",
            "                    10_kneeling       0.71      0.86      0.78        57\n",
            "                    11_crawling       0.92      0.98      0.95        49\n",
            "        16_Walking_on_both_toes       0.71      0.71      0.71        21\n",
            "17_limping_with_right_leg_stiff       0.74      0.83      0.78        63\n",
            "                 18_short_steps       0.85      0.92      0.88        65\n",
            "               19_scissors_gait       0.85      0.65      0.74        52\n",
            "\n",
            "                       accuracy                           0.83       574\n",
            "                      macro avg       0.83      0.82      0.82       574\n",
            "                   weighted avg       0.83      0.83      0.82       574\n",
            "\n"
          ]
        }
      ]
    },
    {
      "cell_type": "markdown",
      "source": [
        "# Code for confusion matrix"
      ],
      "metadata": {
        "id": "L7BZWWrRs_pa"
      }
    },
    {
      "cell_type": "code",
      "source": [
        "test_steps_per_epoch = numpy.math.ceil(test_images_3.samples / test_images_3.batch_size)\n",
        "\n",
        "predictions = model3.predict_generator(test_images_3, steps=test_steps_per_epoch)\n",
        "# Get most likely class\n",
        "predicted_classes = numpy.argmax(predictions, axis=1)\n",
        "\n",
        "true_classes = test_images_3.classes\n",
        "class_labels = list(test_images_3.class_indices.keys())\n",
        "\n",
        "confusion_matrix = metrics.confusion_matrix(y_true=true_classes, y_pred=predicted_classes)\n",
        "\n",
        "\n",
        "sns.heatmap(confusion_matrix,annot=True,linewidth=0.5,xticklabels=classes,yticklabels=classes).set(xlabel=\"Predicted Values\", ylabel=\"True Values\")\n",
        "plt.title(\"Heatmap when testing_images_3 is tested on model-3\")"
      ],
      "metadata": {
        "colab": {
          "base_uri": "https://localhost:8080/",
          "height": 495
        },
        "id": "ZGoZSnGumonn",
        "outputId": "bbe6720f-dfb0-45b0-c907-82817b9b87d9"
      },
      "execution_count": null,
      "outputs": [
        {
          "output_type": "stream",
          "name": "stderr",
          "text": [
            "<ipython-input-72-8cfeef2b34e2>:3: UserWarning: `Model.predict_generator` is deprecated and will be removed in a future version. Please use `Model.predict`, which supports generators.\n",
            "  predictions = model3.predict_generator(test_images_3, steps=test_steps_per_epoch)\n"
          ]
        },
        {
          "output_type": "execute_result",
          "data": {
            "text/plain": [
              "Text(0.5, 1.0, 'Heatmap when testing_images_3 is tested on model-3')"
            ]
          },
          "metadata": {},
          "execution_count": 72
        },
        {
          "output_type": "display_data",
          "data": {
            "text/plain": [
              "<Figure size 432x288 with 2 Axes>"
            ],
            "image/png": "[encoded data removed]"
          },
          "metadata": {
            "needs_background": "light"
          }
        }
      ]
    },
    {
      "cell_type": "markdown",
      "metadata": {
        "id": "AtiWD2dktCQ2"
      },
      "source": [
        "Confusion matrix"
      ]
    },
    {
      "cell_type": "code",
      "execution_count": null,
      "metadata": {
        "id": "RAjprfYdtMQf"
      },
      "outputs": [],
      "source": [
        "#test_images_1\n",
        "import numpy\n",
        "from sklearn import metrics"
      ]
    },
    {
      "cell_type": "code",
      "execution_count": null,
      "metadata": {
        "id": "UP9ZND4MtLbw"
      },
      "outputs": [],
      "source": [
        "test_steps_per_epoch = numpy.math.ceil(test_images_1.samples / test_images_1.batch_size)\n",
        "\n",
        "predictions = model1.predict_generator(test_images_1, steps=test_steps_per_epoch)\n",
        "# Get most likely class\n",
        "predicted_classes = numpy.argmax(predictions, axis=1)"
      ]
    },
    {
      "cell_type": "code",
      "execution_count": null,
      "metadata": {
        "id": "g-jtITULtK5e"
      },
      "outputs": [],
      "source": [
        "true_classes = test_images_1.classes\n",
        "class_labels = list(test_images_1.class_indices.keys())"
      ]
    },
    {
      "cell_type": "code",
      "execution_count": null,
      "metadata": {
        "id": "3ARvid6mtKby"
      },
      "outputs": [],
      "source": [
        "report = metrics.classification_report(true_classes, predicted_classes, target_names=class_labels)\n",
        "print(report)    "
      ]
    },
    {
      "cell_type": "code",
      "execution_count": null,
      "metadata": {
        "id": "b2oL6JPGtJsv"
      },
      "outputs": [],
      "source": [
        "confusion_matrix = metrics.confusion_matrix(y_true=true_classes, y_pred=predicted_classes)\n",
        "print(confusion_matrix)"
      ]
    },
    {
      "cell_type": "code",
      "execution_count": null,
      "metadata": {
        "id": "qP9BSaTatH3n"
      },
      "outputs": [],
      "source": []
    },
    {
      "cell_type": "code",
      "execution_count": null,
      "metadata": {
        "id": "pRzLf-YlJmFN"
      },
      "outputs": [],
      "source": []
    },
    {
      "cell_type": "code",
      "execution_count": null,
      "metadata": {
        "id": "U2m5cUA2JmFO"
      },
      "outputs": [],
      "source": []
    },
    {
      "cell_type": "code",
      "execution_count": null,
      "metadata": {
        "id": "9Vy13MJEJmFO"
      },
      "outputs": [],
      "source": []
    },
    {
      "cell_type": "code",
      "execution_count": null,
      "metadata": {
        "id": "nO971WC3JmFO"
      },
      "outputs": [],
      "source": []
    },
    {
      "cell_type": "code",
      "execution_count": null,
      "metadata": {
        "id": "Aw3SbxVMJmFO"
      },
      "outputs": [],
      "source": []
    },
    {
      "cell_type": "code",
      "execution_count": null,
      "metadata": {
        "id": "ysf3ASEiJmFO"
      },
      "outputs": [],
      "source": []
    },
    {
      "cell_type": "code",
      "execution_count": null,
      "metadata": {
        "id": "zTivbhwlJmFO"
      },
      "outputs": [],
      "source": []
    },
    {
      "cell_type": "code",
      "execution_count": null,
      "metadata": {
        "id": "-bht3N6dJmFO"
      },
      "outputs": [],
      "source": []
    },
    {
      "cell_type": "code",
      "execution_count": null,
      "metadata": {
        "id": "FjUZIgsHJmFP"
      },
      "outputs": [],
      "source": []
    },
    {
      "cell_type": "code",
      "execution_count": null,
      "metadata": {
        "id": "9CwPN3a6JmFP"
      },
      "outputs": [],
      "source": []
    },
    {
      "cell_type": "code",
      "execution_count": null,
      "metadata": {
        "id": "Ucsn0HOA49Pd"
      },
      "outputs": [],
      "source": [
        "model.save('/content/drive/MyDrive')"
      ]
    },
    {
      "cell_type": "markdown",
      "metadata": {
        "id": "A2ZgNvaspJeP"
      },
      "source": [
        "# epochs = 20\n",
        "history = model.fit(\n",
        "train_images,\n",
        "validation_data=val_images,\n",
        "epochs=epochs)\n",
        "# batch_size= 13"
      ]
    },
    {
      "cell_type": "markdown",
      "metadata": {
        "id": "DVqmgF32JmFR"
      },
      "source": [
        "model1.save('')"
      ]
    },
    {
      "cell_type": "markdown",
      "metadata": {
        "id": "2bKMNmGnKv2R"
      },
      "source": [
        "# New Section"
      ]
    }
  ],
  "metadata": {
    "accelerator": "GPU",
    "colab": {
      "collapsed_sections": [
        "2bKMNmGnKv2R"
      ],
      "provenance": [],
      "toc_visible": true,
      "include_colab_link": true
    },
    "gpuClass": "standard",
    "kernelspec": {
      "display_name": "Python 3 (ipykernel)",
      "language": "python",
      "name": "python3"
    },
    "language_info": {
      "codemirror_mode": {
        "name": "ipython",
        "version": 3
      },
      "file_extension": ".py",
      "mimetype": "text/x-python",
      "name": "python",
      "nbconvert_exporter": "python",
      "pygments_lexer": "ipython3",
      "version": "3.9.13"
    }
  },
  "nbformat": 4,
  "nbformat_minor": 0
}